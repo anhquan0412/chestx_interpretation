{
 "cells": [
  {
   "cell_type": "markdown",
   "metadata": {},
   "source": [
    "# Weight Decay Investigation\n",
    "In this notebook, I'm going to attempt to run some experiments to find out why the weight decay parameter needs to be so different between BCE and AUCM losses. "
   ]
  },
  {
   "cell_type": "code",
   "execution_count": 1,
   "metadata": {},
   "outputs": [],
   "source": [
    "# imports\n",
    "import numpy as np\n",
    "import pandas as pd\n",
    "import matplotlib.pyplot as plt\n",
    "\n",
    "%load_ext autoreload\n",
    "%autoreload 2\n",
    "\n",
    "import torch\n",
    "import torch.nn as nn\n",
    "device = torch.device(\"cuda:0\" if torch.cuda.is_available() else \"cpu\")\n",
    "\n",
    "from torchvision.transforms import RandomHorizontalFlip, RandomResizedCrop, ToTensor, Normalize\n",
    "from torchvision.transforms.functional import InterpolationMode\n",
    "\n",
    "from dataloader import ChexpertDensenetDataloader, COMPETITION_TASKS\n",
    "\n",
    "from sklearn.model_selection import train_test_split\n",
    "\n",
    "from libauc.losses import AUCM_MultiLabel\n",
    "from libauc.optimizers import PESG\n",
    "\n",
    "import pickle"
   ]
  },
  {
   "cell_type": "code",
   "execution_count": 2,
   "metadata": {},
   "outputs": [],
   "source": [
    "from weight_decay_eval import WeightDecayEvalTrainer"
   ]
  },
  {
   "cell_type": "code",
   "execution_count": 3,
   "metadata": {},
   "outputs": [],
   "source": [
    "TRAIN_SPLIT = 0.8\n",
    "BATCH_SIZE = 48\n",
    "LEARNING_RATE = 1.5e-3\n",
    "LR_SCHEDULER_TYPE = \"cosine\"\n",
    "HIGH_WEIGHT_DECAY = 0.05\n",
    "LOW_WEIGHT_DECAY = 1e-5\n",
    "WARMUP_RATIO = 0.05\n",
    "LOGGING_STRATEGY = \"steps\"\n",
    "LOGGING_STEPS = 10\n",
    "FP16 = True\n",
    "EPOCHS = 1\n",
    "EVALUATION_STRATEGY = \"epoch\"\n",
    "EVAL_STEPS = 200\n",
    "OUTPUT_DIR = './dense-net-weight-decay-1'\n",
    "REMOVE_UNUSED_COLUMNS = False\n",
    "GRAD_ACCUM_STEPS = 5\n",
    "DATALOADER_NUM_WORKERS = 4\n",
    "SAVE_TOTAL_LIMIT = 3\n",
    "IMAGE_SIZE = 224"
   ]
  },
  {
   "cell_type": "code",
   "execution_count": 4,
   "metadata": {},
   "outputs": [],
   "source": [
    "transforms = [\n",
    "    RandomResizedCrop(IMAGE_SIZE, scale=(0.2, 1.0), interpolation=InterpolationMode.BICUBIC),\n",
    "    RandomHorizontalFlip(),\n",
    "    ToTensor(),\n",
    "    Normalize(mean=[0.485, 0.456, 0.406], std=[0.229, 0.224, 0.225])\n",
    "]"
   ]
  },
  {
   "cell_type": "code",
   "execution_count": 5,
   "metadata": {},
   "outputs": [],
   "source": [
    "np.random.seed(42)\n",
    "train_df = pd.read_csv(\"ChexPert/train.csv\")\n",
    "train_df, eval_df = train_test_split(train_df, train_size=TRAIN_SPLIT)\n",
    "\n",
    "train_dataset_loader = ChexpertDensenetDataloader(\"ChexPert/data\", train_df, transforms=transforms, classes=COMPETITION_TASKS,\n",
    "    uncertainty_method=\"smooth\", smoothing_lower_bound=0.55, smoothing_upper_bound=0.85)\n",
    "eval_dataset_loader = ChexpertDensenetDataloader(\"ChexPert/data\", eval_df, classes=COMPETITION_TASKS,\n",
    "    uncertainty_method=\"smooth\", smoothing_lower_bound=0.55, smoothing_upper_bound=0.85)"
   ]
  },
  {
   "cell_type": "code",
   "execution_count": 6,
   "metadata": {},
   "outputs": [],
   "source": [
    "MAX_TRAINING_STEPS = 2500"
   ]
  },
  {
   "cell_type": "code",
   "execution_count": 8,
   "metadata": {},
   "outputs": [
    {
     "name": "stderr",
     "output_type": "stream",
     "text": [
      "Using cache found in /home/computernerdforlife49/.cache/torch/hub/pytorch_vision_v0.10.0\n"
     ]
    },
    {
     "data": {
      "text/plain": [
       "Conv2d(3, 64, kernel_size=(7, 7), stride=(2, 2), padding=(3, 3), bias=False)"
      ]
     },
     "execution_count": 8,
     "metadata": {},
     "output_type": "execute_result"
    }
   ],
   "source": [
    "model = torch.hub.load('pytorch/vision:v0.10.0', 'densenet121', pretrained=True)\n",
    "model.features.conv0"
   ]
  },
  {
   "cell_type": "code",
   "execution_count": 9,
   "metadata": {},
   "outputs": [
    {
     "name": "stderr",
     "output_type": "stream",
     "text": [
      "Using cache found in /home/computernerdforlife49/.cache/torch/hub/pytorch_vision_v0.10.0\n",
      "Epoch 0:   2%|▏         | 2500/152878 [03:18<3:19:20, 12.57batch/s, loss=0.58] \n"
     ]
    }
   ],
   "source": [
    "model = torch.hub.load('pytorch/vision:v0.10.0', 'densenet121', pretrained=True)\n",
    "model.classifier = nn.Linear(1024, len(COMPETITION_TASKS))\n",
    "model = model.to(device)\n",
    "\n",
    "# set up for BCE weight decay\n",
    "high_wd_bce_trainer = WeightDecayEvalTrainer()\n",
    "\n",
    "criterion = nn.BCEWithLogitsLoss()\n",
    "optimizer = torch.optim.AdamW(model.parameters(), lr=LEARNING_RATE, weight_decay=HIGH_WEIGHT_DECAY)\n",
    "\n",
    "high_wd_bce_trainer.train(\n",
    "    model,\n",
    "    model.features.conv0,\n",
    "    criterion,\n",
    "    optimizer,\n",
    "    train_dataset_loader,\n",
    "    max_training_steps=MAX_TRAINING_STEPS,\n",
    ")\n",
    "\n",
    "with open(\"high_wd_bce.pickle\", \"wb\") as f:\n",
    "    pickle.dump(high_wd_bce_trainer.gradient_tracking, f)"
   ]
  },
  {
   "cell_type": "code",
   "execution_count": 16,
   "metadata": {},
   "outputs": [
    {
     "name": "stderr",
     "output_type": "stream",
     "text": [
      "Using cache found in /home/computernerdforlife49/.cache/torch/hub/pytorch_vision_v0.10.0\n",
      "Epoch 0:   2%|▏         | 2500/152878 [03:28<3:28:43, 12.01batch/s, loss=1.37]   \n"
     ]
    }
   ],
   "source": [
    "auc_model = torch.hub.load('pytorch/vision:v0.10.0', 'densenet121', pretrained=True)\n",
    "auc_model.classifier = nn.Linear(1024, len(COMPETITION_TASKS))\n",
    "auc_model = auc_model.to(device)\n",
    "\n",
    "high_wd_auc_trainer = WeightDecayEvalTrainer()\n",
    "\n",
    "imratio = [\n",
    "    0.1497333982353369,\n",
    "    0.12095831165270714,\n",
    "    0.0663119436471569,\n",
    "    0.2344081328924473,\n",
    "    0.3860606162333339\n",
    "]\n",
    "margin=1.0\n",
    "gamma = 500\n",
    "\n",
    "criterion = AUCM_MultiLabel(imratio=imratio, num_classes=len(imratio), margin=margin)\n",
    "optimizer =  PESG(\n",
    "    auc_model,\n",
    "    a=criterion.a,\n",
    "    b=criterion.b,\n",
    "    alpha=criterion.alpha,\n",
    "    lr=1.5e-2,\n",
    "    gamma=gamma,\n",
    "    margin=margin,\n",
    "    weight_decay=HIGH_WEIGHT_DECAY\n",
    ")\n",
    "\n",
    "high_wd_auc_trainer.train(\n",
    "    auc_model,\n",
    "    auc_model.features.conv0,\n",
    "    criterion,\n",
    "    optimizer,\n",
    "    train_dataset_loader,\n",
    "    max_training_steps=MAX_TRAINING_STEPS,\n",
    ")\n",
    "\n",
    "with open(\"high_wd_auc.pickle\", \"wb\") as f:\n",
    "    pickle.dump(high_wd_auc_trainer.gradient_tracking, f)"
   ]
  },
  {
   "cell_type": "code",
   "execution_count": 12,
   "metadata": {},
   "outputs": [
    {
     "name": "stderr",
     "output_type": "stream",
     "text": [
      "Using cache found in /home/computernerdforlife49/.cache/torch/hub/pytorch_vision_v0.10.0\n",
      "Epoch 0:   2%|▏         | 2500/152878 [03:14<3:15:25, 12.83batch/s, loss=0.591]\n"
     ]
    }
   ],
   "source": [
    "model = torch.hub.load('pytorch/vision:v0.10.0', 'densenet121', pretrained=True)\n",
    "model.classifier = nn.Linear(1024, len(COMPETITION_TASKS))\n",
    "model = model.to(device)\n",
    "\n",
    "low_wd_bce_trainer = WeightDecayEvalTrainer()\n",
    "\n",
    "weight_decay = 1\n",
    "\n",
    "criterion = nn.BCEWithLogitsLoss()\n",
    "optimizer = torch.optim.AdamW(model.parameters(), lr=LEARNING_RATE, weight_decay=LOW_WEIGHT_DECAY)\n",
    "\n",
    "low_wd_bce_trainer.train(\n",
    "    model,\n",
    "    model.features.conv0,\n",
    "    criterion,\n",
    "    optimizer,\n",
    "    train_dataset_loader,\n",
    "    max_training_steps=MAX_TRAINING_STEPS,\n",
    ")\n",
    "\n",
    "with open(\"low_wd_bce.pickle\", \"wb\") as f:\n",
    "    pickle.dump(low_wd_bce_trainer.gradient_tracking, f)"
   ]
  },
  {
   "cell_type": "code",
   "execution_count": 17,
   "metadata": {},
   "outputs": [
    {
     "name": "stderr",
     "output_type": "stream",
     "text": [
      "Using cache found in /home/computernerdforlife49/.cache/torch/hub/pytorch_vision_v0.10.0\n",
      "Epoch 0:   2%|▏         | 2500/152878 [03:18<3:19:15, 12.58batch/s, loss=3.17]  \n"
     ]
    }
   ],
   "source": [
    "auc_model = torch.hub.load('pytorch/vision:v0.10.0', 'densenet121', pretrained=True)\n",
    "auc_model.classifier = nn.Linear(1024, len(COMPETITION_TASKS))\n",
    "auc_model = auc_model.to(device)\n",
    "\n",
    "low_wd_auc_trainer = WeightDecayEvalTrainer()\n",
    "\n",
    "imratio = [\n",
    "    0.1497333982353369,\n",
    "    0.12095831165270714,\n",
    "    0.0663119436471569,\n",
    "    0.2344081328924473,\n",
    "    0.3860606162333339\n",
    "]\n",
    "margin=1.0\n",
    "gamma = 500\n",
    "\n",
    "criterion = AUCM_MultiLabel(imratio=imratio, num_classes=len(imratio), margin=margin)\n",
    "optimizer =  PESG(\n",
    "    auc_model,\n",
    "    a=criterion.a,\n",
    "    b=criterion.b,\n",
    "    alpha=criterion.alpha,\n",
    "    lr=1.5e-2,\n",
    "    gamma=gamma,\n",
    "    margin=margin,\n",
    "    weight_decay=LOW_WEIGHT_DECAY\n",
    ")\n",
    "\n",
    "low_wd_auc_trainer.train(\n",
    "    auc_model,\n",
    "    auc_model.features.conv0,\n",
    "    criterion,\n",
    "    optimizer,\n",
    "    train_dataset_loader,\n",
    "    max_training_steps=MAX_TRAINING_STEPS,\n",
    ")\n",
    "\n",
    "with open(\"low_wd_auc.pickle\", \"wb\") as f:\n",
    "    pickle.dump(low_wd_auc_trainer.gradient_tracking, f)"
   ]
  },
  {
   "cell_type": "code",
   "execution_count": 18,
   "metadata": {},
   "outputs": [
    {
     "data": {
      "text/plain": [
       "<matplotlib.legend.Legend at 0x7fe714528410>"
      ]
     },
     "execution_count": 18,
     "metadata": {},
     "output_type": "execute_result"
    },
    {
     "data": {
      "image/png": "[encoded data removed]",
      "text/plain": [
       "<Figure size 504x360 with 1 Axes>"
      ]
     },
     "metadata": {},
     "output_type": "display_data"
    }
   ],
   "source": [
    "fig = plt.figure(figsize=(7,5))\n",
    "fig.patch.set_facecolor(\"white\")\n",
    "\n",
    "with open(\"high_wd_bce.pickle\", \"rb\") as f:\n",
    "    high_wd_bce = pickle.load(f)\n",
    "\n",
    "with open(\"high_wd_auc.pickle\", \"rb\") as f:\n",
    "    high_wd_auc = pickle.load(f)\n",
    "\n",
    "with open(\"low_wd_bce.pickle\", \"rb\") as f:\n",
    "    low_wd_bce = pickle.load(f)\n",
    "\n",
    "with open(\"low_wd_auc.pickle\", \"rb\") as f:\n",
    "    low_wd_auc = pickle.load(f)\n",
    "\n",
    "plt.plot(list(range(len(high_wd_bce))), high_wd_bce, label=\"High WD, BCE\")\n",
    "plt.plot(list(range(len(low_wd_bce))), low_wd_bce, label=\"Low WD, BCE\")\n",
    "plt.plot(list(range(len(high_wd_auc))), high_wd_auc, label=\"High WD, AUCM\")\n",
    "plt.plot(list(range(len(low_wd_auc))), low_wd_auc, label=\"Low WD, AUCM\")\n",
    "plt.legend()"
   ]
  },
  {
   "cell_type": "code",
   "execution_count": null,
   "metadata": {},
   "outputs": [],
   "source": []
  }
 ],
 "metadata": {
  "interpreter": {
   "hash": "e074c076b93983c67b0af1c746f3e6f6f1b7be7d64e3d1f6abea4edae919787d"
  },
  "kernelspec": {
   "display_name": "Python 3.7.12 ('chexpert')",
   "language": "python",
   "name": "python3"
  },
  "language_info": {
   "codemirror_mode": {
    "name": "ipython",
    "version": 3
   },
   "file_extension": ".py",
   "mimetype": "text/x-python",
   "name": "python",
   "nbconvert_exporter": "python",
   "pygments_lexer": "ipython3",
   "version": "3.7.12"
  },
  "orig_nbformat": 4
 },
 "nbformat": 4,
 "nbformat_minor": 2
}

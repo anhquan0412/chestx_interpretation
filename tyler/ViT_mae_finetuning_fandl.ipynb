{
 "cells": [
  {
   "cell_type": "markdown",
   "metadata": {},
   "source": [
    "# ViT 2: Electric Transformaroo\n",
    "We learned a few lessons from the previous experiment. First, and primarily, a larger model doesn't always mean better. We used the large imageNet transformer model, but that didn't actually lead to good predictions. Also, I think I screwed up a bunch of stuff, and the large model is taking way too long to train for me to iterate at all. We are going to switch to a smaller model. We are going to follow the ViTMAE method, use masked auto encodings for pretraining in a self-supervised manner on the entire training set, then fine tune on the prediction task. Guide found here: https://github.com/huggingface/transformers/blob/main/examples/pytorch/image-pretraining/run_mae.py \n",
    "\n",
    "This notebook has the fine-tuning process, fine tuning on Binary CE Loss."
   ]
  },
  {
   "cell_type": "code",
   "execution_count": 1,
   "metadata": {},
   "outputs": [
    {
     "name": "stdout",
     "output_type": "stream",
     "text": [
      "True\n"
     ]
    }
   ],
   "source": [
    "# imports\n",
    "import numpy as np\n",
    "import pandas as pd\n",
    "\n",
    "%load_ext autoreload\n",
    "%autoreload 2\n",
    "\n",
    "import torch\n",
    "print(torch.cuda.is_available())\n",
    "\n",
    "from transformers import ViTFeatureExtractor, ViTForImageClassification, ViTMAEForPreTraining, ViTMAEConfig\n",
    "from transformers import TrainingArguments, Trainer\n",
    "from torchvision.transforms import RandomHorizontalFlip, RandomResizedCrop\n",
    "from torchvision.transforms.functional import InterpolationMode\n",
    "\n",
    "from sklearn.model_selection import train_test_split"
   ]
  },
  {
   "cell_type": "code",
   "execution_count": 2,
   "metadata": {},
   "outputs": [],
   "source": [
    "from dataloader import *\n",
    "from utils import *\n",
    "from trainer import *"
   ]
  },
  {
   "cell_type": "code",
   "execution_count": 12,
   "metadata": {},
   "outputs": [],
   "source": [
    "# CONSTANTS\n",
    "FEATURE_EXTRACTOR_NAME = 'facebook/vit-mae-base'\n",
    "VIT_MODEL_NAME = 'vit-mae-chexpert-fandl-pretrain/'\n",
    "TRAIN_SPLIT = 0.8\n",
    "BATCH_SIZE = 48\n",
    "LEARNING_RATE = 1.5e-3\n",
    "LR_SCHEDULER_TYPE = \"cosine\"\n",
    "WEIGHT_DECAY = 0.05\n",
    "WARMUP_RATIO = 0.05\n",
    "LOGGING_STRATEGY = \"steps\"\n",
    "LOGGING_STEPS = 10\n",
    "FP16 = True\n",
    "EPOCHS = 13\n",
    "EVALUATION_STRATEGY = \"epoch\"\n",
    "EVAL_STEPS = 200\n",
    "OUTPUT_DIR = './vit-mae-chexpert-fine-tuned-fandl'\n",
    "REMOVE_UNUSED_COLUMNS = False\n",
    "GRAD_ACCUM_STEPS = 5\n",
    "DATALOADER_NUM_WORKERS = 4\n",
    "SAVE_TOTAL_LIMIT = 3"
   ]
  },
  {
   "cell_type": "code",
   "execution_count": 4,
   "metadata": {},
   "outputs": [],
   "source": [
    "feature_extractor = ViTFeatureExtractor.from_pretrained(FEATURE_EXTRACTOR_NAME, image_mean=[0.485, 0.456, 0.406], image_std=[0.229, 0.224, 0.225])"
   ]
  },
  {
   "cell_type": "code",
   "execution_count": 5,
   "metadata": {},
   "outputs": [],
   "source": [
    "# set up our transforms\n",
    "transforms = [\n",
    "    RandomResizedCrop(feature_extractor.size, scale=(0.2, 1.0), interpolation=InterpolationMode.BICUBIC),\n",
    "    RandomHorizontalFlip(),\n",
    "]"
   ]
  },
  {
   "cell_type": "code",
   "execution_count": 6,
   "metadata": {},
   "outputs": [],
   "source": [
    "np.random.seed(42)\n",
    "train_df = pd.read_csv(\"ChexPert/train.csv\")\n",
    "train_df, eval_df = train_test_split(train_df, train_size=TRAIN_SPLIT)\n",
    "\n",
    "train_dataset = ChexpertViTDataset(\"ChexPert/data\", train_df, feature_extractor, use_frontal=False, transforms=transforms, classes=COMPETITION_TASKS,\n",
    "    uncertainty_method=\"smooth\", smoothing_lower_bound=0.55, smoothing_upper_bound=0.85)\n",
    "eval_dataset = ChexpertViTDataset(\"ChexPert/data\", eval_df, feature_extractor, use_frontal=False, classes=COMPETITION_TASKS,\n",
    "    uncertainty_method=\"smooth\", smoothing_lower_bound=0.55, smoothing_upper_bound=0.85)"
   ]
  },
  {
   "cell_type": "code",
   "execution_count": 7,
   "metadata": {},
   "outputs": [
    {
     "name": "stderr",
     "output_type": "stream",
     "text": [
      "You are using a model of type vit_mae to instantiate a model of type vit. This is not supported for all configurations of models and can yield errors.\n",
      "Some weights of the model checkpoint at vit-mae-chexpert-fandl-pretrain/ were not used when initializing ViTForImageClassification: ['decoder.decoder_layers.0.attention.output.dense.weight', 'decoder.decoder_layers.3.output.dense.bias', 'decoder.decoder_layers.4.layernorm_after.bias', 'decoder.decoder_pos_embed', 'decoder.decoder_layers.3.layernorm_before.weight', 'decoder.decoder_layers.2.attention.output.dense.bias', 'decoder.decoder_layers.0.attention.attention.value.weight', 'decoder.decoder_layers.1.output.dense.bias', 'decoder.decoder_layers.3.attention.attention.value.weight', 'decoder.decoder_layers.5.layernorm_after.bias', 'decoder.decoder_layers.4.intermediate.dense.weight', 'decoder.decoder_layers.5.attention.attention.query.bias', 'decoder.decoder_layers.2.attention.attention.query.bias', 'decoder.decoder_layers.6.attention.attention.query.weight', 'decoder.decoder_layers.3.intermediate.dense.weight', 'decoder.decoder_layers.0.layernorm_after.bias', 'decoder.decoder_layers.0.layernorm_after.weight', 'decoder.decoder_layers.2.attention.attention.key.weight', 'decoder.decoder_layers.6.intermediate.dense.bias', 'decoder.decoder_layers.4.attention.attention.key.weight', 'decoder.decoder_layers.0.attention.output.dense.bias', 'decoder.decoder_layers.5.layernorm_after.weight', 'decoder.decoder_layers.5.attention.attention.key.weight', 'decoder.decoder_layers.2.attention.attention.key.bias', 'decoder.decoder_layers.0.output.dense.bias', 'decoder.decoder_layers.4.attention.output.dense.weight', 'decoder.decoder_layers.6.attention.attention.key.weight', 'decoder.decoder_layers.7.intermediate.dense.bias', 'decoder.decoder_layers.1.layernorm_after.bias', 'decoder.decoder_layers.5.attention.output.dense.weight', 'decoder.decoder_layers.5.intermediate.dense.weight', 'decoder.decoder_layers.1.attention.attention.key.weight', 'decoder.decoder_layers.2.output.dense.weight', 'decoder.decoder_layers.2.layernorm_before.bias', 'decoder.decoder_layers.7.attention.output.dense.weight', 'decoder.decoder_norm.bias', 'decoder.decoder_layers.4.layernorm_before.bias', 'decoder.decoder_layers.6.attention.attention.key.bias', 'decoder.decoder_layers.4.attention.attention.value.bias', 'decoder.decoder_layers.2.layernorm_before.weight', 'decoder.decoder_layers.3.attention.attention.key.bias', 'decoder.decoder_layers.3.layernorm_after.weight', 'decoder.decoder_layers.7.attention.attention.value.weight', 'decoder.decoder_layers.4.layernorm_after.weight', 'decoder.decoder_pred.bias', 'decoder.decoder_layers.0.intermediate.dense.bias', 'decoder.decoder_layers.1.attention.attention.key.bias', 'decoder.decoder_layers.7.layernorm_after.bias', 'decoder.decoder_layers.3.attention.attention.query.bias', 'decoder.decoder_layers.4.layernorm_before.weight', 'decoder.decoder_layers.1.attention.attention.query.bias', 'decoder.decoder_layers.3.layernorm_after.bias', 'decoder.decoder_layers.1.attention.output.dense.bias', 'decoder.decoder_norm.weight', 'decoder.decoder_layers.7.attention.attention.value.bias', 'decoder.decoder_layers.7.layernorm_before.weight', 'decoder.decoder_layers.3.attention.attention.key.weight', 'decoder.decoder_layers.3.intermediate.dense.bias', 'decoder.decoder_layers.6.attention.attention.value.weight', 'decoder.decoder_layers.7.attention.attention.key.weight', 'decoder.decoder_layers.7.attention.attention.query.bias', 'decoder.decoder_layers.5.output.dense.weight', 'decoder.decoder_layers.3.attention.output.dense.bias', 'decoder.decoder_pred.weight', 'decoder.decoder_layers.0.layernorm_before.weight', 'decoder.decoder_layers.5.intermediate.dense.bias', 'decoder.decoder_layers.4.intermediate.dense.bias', 'decoder.decoder_layers.3.output.dense.weight', 'decoder.decoder_layers.5.attention.output.dense.bias', 'decoder.decoder_layers.6.attention.output.dense.bias', 'decoder.decoder_layers.0.attention.attention.query.bias', 'decoder.decoder_embed.bias', 'decoder.decoder_layers.5.layernorm_before.bias', 'decoder.decoder_layers.7.layernorm_after.weight', 'decoder.decoder_layers.7.layernorm_before.bias', 'decoder.decoder_layers.2.attention.attention.value.bias', 'decoder.decoder_layers.1.layernorm_after.weight', 'decoder.decoder_layers.1.attention.output.dense.weight', 'decoder.decoder_layers.3.attention.attention.query.weight', 'decoder.decoder_layers.6.output.dense.weight', 'decoder.decoder_layers.2.layernorm_after.weight', 'decoder.decoder_layers.1.layernorm_before.weight', 'decoder.decoder_layers.0.attention.attention.value.bias', 'decoder.decoder_layers.2.layernorm_after.bias', 'decoder.decoder_layers.5.attention.attention.value.bias', 'decoder.decoder_layers.0.layernorm_before.bias', 'decoder.decoder_layers.3.attention.attention.value.bias', 'decoder.decoder_layers.1.attention.attention.value.bias', 'decoder.decoder_layers.6.attention.attention.query.bias', 'decoder.decoder_layers.7.attention.output.dense.bias', 'decoder.decoder_layers.5.output.dense.bias', 'decoder.decoder_layers.6.layernorm_after.bias', 'decoder.decoder_layers.2.intermediate.dense.weight', 'decoder.decoder_layers.0.attention.attention.key.bias', 'decoder.decoder_layers.4.attention.attention.query.bias', 'decoder.decoder_layers.3.attention.output.dense.weight', 'decoder.decoder_layers.0.intermediate.dense.weight', 'decoder.decoder_layers.0.attention.attention.key.weight', 'decoder.decoder_layers.7.output.dense.bias', 'decoder.decoder_layers.2.attention.attention.value.weight', 'decoder.decoder_layers.6.attention.output.dense.weight', 'decoder.decoder_layers.2.attention.attention.query.weight', 'decoder.decoder_layers.1.output.dense.weight', 'decoder.decoder_layers.6.layernorm_before.bias', 'decoder.decoder_layers.7.attention.attention.key.bias', 'decoder.decoder_layers.4.output.dense.bias', 'decoder.decoder_layers.6.attention.attention.value.bias', 'decoder.decoder_layers.7.output.dense.weight', 'decoder.decoder_layers.0.attention.attention.query.weight', 'decoder.decoder_layers.6.output.dense.bias', 'decoder.decoder_layers.2.intermediate.dense.bias', 'decoder.decoder_layers.4.output.dense.weight', 'decoder.decoder_layers.1.attention.attention.value.weight', 'decoder.decoder_layers.5.attention.attention.query.weight', 'decoder.decoder_layers.4.attention.output.dense.bias', 'decoder.decoder_layers.4.attention.attention.query.weight', 'decoder.decoder_layers.2.output.dense.bias', 'decoder.decoder_embed.weight', 'decoder.decoder_layers.1.attention.attention.query.weight', 'decoder.decoder_layers.3.layernorm_before.bias', 'decoder.decoder_layers.5.attention.attention.key.bias', 'decoder.decoder_layers.7.attention.attention.query.weight', 'decoder.decoder_layers.6.intermediate.dense.weight', 'decoder.decoder_layers.1.intermediate.dense.weight', 'decoder.decoder_layers.0.output.dense.weight', 'decoder.decoder_layers.1.layernorm_before.bias', 'decoder.mask_token', 'decoder.decoder_layers.6.layernorm_after.weight', 'decoder.decoder_layers.2.attention.output.dense.weight', 'decoder.decoder_layers.5.layernorm_before.weight', 'decoder.decoder_layers.1.intermediate.dense.bias', 'decoder.decoder_layers.5.attention.attention.value.weight', 'decoder.decoder_layers.6.layernorm_before.weight', 'decoder.decoder_layers.7.intermediate.dense.weight', 'decoder.decoder_layers.4.attention.attention.value.weight', 'decoder.decoder_layers.4.attention.attention.key.bias']\n",
      "- This IS expected if you are initializing ViTForImageClassification from the checkpoint of a model trained on another task or with another architecture (e.g. initializing a BertForSequenceClassification model from a BertForPreTraining model).\n",
      "- This IS NOT expected if you are initializing ViTForImageClassification from the checkpoint of a model that you expect to be exactly identical (initializing a BertForSequenceClassification model from a BertForSequenceClassification model).\n",
      "Some weights of ViTForImageClassification were not initialized from the model checkpoint at vit-mae-chexpert-fandl-pretrain/ and are newly initialized: ['classifier.bias', 'classifier.weight']\n",
      "You should probably TRAIN this model on a down-stream task to be able to use it for predictions and inference.\n"
     ]
    }
   ],
   "source": [
    "model = ViTForImageClassification.from_pretrained(\n",
    "    VIT_MODEL_NAME,\n",
    "    num_labels=len(train_dataset.labels)\n",
    ").to(\"cuda\")"
   ]
  },
  {
   "cell_type": "code",
   "execution_count": 13,
   "metadata": {},
   "outputs": [
    {
     "name": "stderr",
     "output_type": "stream",
     "text": [
      "PyTorch: setting up devices\n"
     ]
    }
   ],
   "source": [
    "# set up training arguments\n",
    "training_args = TrainingArguments(\n",
    "    output_dir=OUTPUT_DIR,\n",
    "    per_device_train_batch_size=BATCH_SIZE,\n",
    "    per_device_eval_batch_size=BATCH_SIZE,\n",
    "    evaluation_strategy=EVALUATION_STRATEGY,\n",
    "    num_train_epochs=EPOCHS,\n",
    "    fp16=FP16,\n",
    "    eval_steps = EVAL_STEPS,\n",
    "    learning_rate=LEARNING_RATE,\n",
    "    remove_unused_columns=REMOVE_UNUSED_COLUMNS,\n",
    "    report_to=\"tensorboard\",\n",
    "    gradient_accumulation_steps=GRAD_ACCUM_STEPS,\n",
    "    lr_scheduler_type=LR_SCHEDULER_TYPE,\n",
    "    weight_decay=WEIGHT_DECAY,\n",
    "    warmup_ratio=WARMUP_RATIO,\n",
    "    logging_strategy=LOGGING_STRATEGY,\n",
    "    logging_steps=LOGGING_STEPS,\n",
    "    dataloader_num_workers=DATALOADER_NUM_WORKERS,\n",
    "    save_total_limit=SAVE_TOTAL_LIMIT\n",
    ")"
   ]
  },
  {
   "cell_type": "code",
   "execution_count": 14,
   "metadata": {},
   "outputs": [
    {
     "name": "stderr",
     "output_type": "stream",
     "text": [
      "Using amp half precision backend\n"
     ]
    }
   ],
   "source": [
    "trainer = MultiLabelTrainer(\n",
    "    model=model,\n",
    "    args=training_args,\n",
    "    compute_metrics=compute_metrics,\n",
    "    data_collator=collate_fn,\n",
    "    train_dataset=train_dataset,\n",
    "    eval_dataset=eval_dataset,\n",
    ")"
   ]
  },
  {
   "cell_type": "code",
   "execution_count": 15,
   "metadata": {},
   "outputs": [
    {
     "name": "stderr",
     "output_type": "stream",
     "text": [
      "***** Running training *****\n",
      "  Num examples = 178731\n",
      "  Num Epochs = 13\n",
      "  Instantaneous batch size per device = 48\n",
      "  Total train batch size (w. parallel, distributed & accumulation) = 240\n",
      "  Gradient Accumulation steps = 5\n",
      "  Total optimization steps = 9672\n"
     ]
    },
    {
     "data": {
      "text/html": [
       "\n",
       "    <div>\n",
       "      \n",
       "      <progress value='9672' max='9672' style='width:300px; height:20px; vertical-align: middle;'></progress>\n",
       "      [9672/9672 9:37:00, Epoch 12/13]\n",
       "    </div>\n",
       "    <table border=\"1\" class=\"dataframe\">\n",
       "  <thead>\n",
       " <tr style=\"text-align: left;\">\n",
       "      <th>Epoch</th>\n",
       "      <th>Training Loss</th>\n",
       "      <th>Validation Loss</th>\n",
       "      <th>Accuracy</th>\n",
       "      <th>F1</th>\n",
       "      <th>Auc Atelectasis</th>\n",
       "      <th>Auc Cardiomegaly</th>\n",
       "      <th>Auc Consolidation</th>\n",
       "      <th>Auc Edema</th>\n",
       "      <th>Auc Pleural effusion</th>\n",
       "      <th>Average Auc</th>\n",
       "    </tr>\n",
       "  </thead>\n",
       "  <tbody>\n",
       "    <tr>\n",
       "      <td>0</td>\n",
       "      <td>0.480200</td>\n",
       "      <td>0.473182</td>\n",
       "      <td>0.310856</td>\n",
       "      <td>0.335015</td>\n",
       "      <td>0.651195</td>\n",
       "      <td>0.736482</td>\n",
       "      <td>0.643851</td>\n",
       "      <td>0.785461</td>\n",
       "      <td>0.800699</td>\n",
       "      <td>0.723538</td>\n",
       "    </tr>\n",
       "    <tr>\n",
       "      <td>1</td>\n",
       "      <td>0.476100</td>\n",
       "      <td>0.459946</td>\n",
       "      <td>0.325515</td>\n",
       "      <td>0.399850</td>\n",
       "      <td>0.661748</td>\n",
       "      <td>0.775297</td>\n",
       "      <td>0.648997</td>\n",
       "      <td>0.792817</td>\n",
       "      <td>0.807409</td>\n",
       "      <td>0.737254</td>\n",
       "    </tr>\n",
       "    <tr>\n",
       "      <td>2</td>\n",
       "      <td>0.463200</td>\n",
       "      <td>0.456023</td>\n",
       "      <td>0.327350</td>\n",
       "      <td>0.393696</td>\n",
       "      <td>0.664241</td>\n",
       "      <td>0.781878</td>\n",
       "      <td>0.654788</td>\n",
       "      <td>0.800859</td>\n",
       "      <td>0.813588</td>\n",
       "      <td>0.743071</td>\n",
       "    </tr>\n",
       "    <tr>\n",
       "      <td>3</td>\n",
       "      <td>0.466200</td>\n",
       "      <td>0.448977</td>\n",
       "      <td>0.339189</td>\n",
       "      <td>0.442814</td>\n",
       "      <td>0.674543</td>\n",
       "      <td>0.795346</td>\n",
       "      <td>0.659463</td>\n",
       "      <td>0.807377</td>\n",
       "      <td>0.826896</td>\n",
       "      <td>0.752725</td>\n",
       "    </tr>\n",
       "    <tr>\n",
       "      <td>4</td>\n",
       "      <td>0.459200</td>\n",
       "      <td>0.450398</td>\n",
       "      <td>0.330775</td>\n",
       "      <td>0.401034</td>\n",
       "      <td>0.670294</td>\n",
       "      <td>0.794120</td>\n",
       "      <td>0.658249</td>\n",
       "      <td>0.810207</td>\n",
       "      <td>0.822499</td>\n",
       "      <td>0.751074</td>\n",
       "    </tr>\n",
       "    <tr>\n",
       "      <td>5</td>\n",
       "      <td>0.451400</td>\n",
       "      <td>0.444509</td>\n",
       "      <td>0.341405</td>\n",
       "      <td>0.457183</td>\n",
       "      <td>0.682360</td>\n",
       "      <td>0.799366</td>\n",
       "      <td>0.668505</td>\n",
       "      <td>0.816394</td>\n",
       "      <td>0.833415</td>\n",
       "      <td>0.760008</td>\n",
       "    </tr>\n",
       "    <tr>\n",
       "      <td>6</td>\n",
       "      <td>0.461700</td>\n",
       "      <td>0.444326</td>\n",
       "      <td>0.343330</td>\n",
       "      <td>0.450961</td>\n",
       "      <td>0.681936</td>\n",
       "      <td>0.807355</td>\n",
       "      <td>0.667294</td>\n",
       "      <td>0.817460</td>\n",
       "      <td>0.839051</td>\n",
       "      <td>0.762619</td>\n",
       "    </tr>\n",
       "    <tr>\n",
       "      <td>7</td>\n",
       "      <td>0.449300</td>\n",
       "      <td>0.433599</td>\n",
       "      <td>0.353222</td>\n",
       "      <td>0.485566</td>\n",
       "      <td>0.687598</td>\n",
       "      <td>0.817566</td>\n",
       "      <td>0.675750</td>\n",
       "      <td>0.824565</td>\n",
       "      <td>0.848907</td>\n",
       "      <td>0.770877</td>\n",
       "    </tr>\n",
       "    <tr>\n",
       "      <td>8</td>\n",
       "      <td>0.430800</td>\n",
       "      <td>0.431541</td>\n",
       "      <td>0.355101</td>\n",
       "      <td>0.483373</td>\n",
       "      <td>0.691355</td>\n",
       "      <td>0.821330</td>\n",
       "      <td>0.676633</td>\n",
       "      <td>0.827070</td>\n",
       "      <td>0.852204</td>\n",
       "      <td>0.773718</td>\n",
       "    </tr>\n",
       "    <tr>\n",
       "      <td>9</td>\n",
       "      <td>0.441100</td>\n",
       "      <td>0.429071</td>\n",
       "      <td>0.353356</td>\n",
       "      <td>0.478546</td>\n",
       "      <td>0.692798</td>\n",
       "      <td>0.826629</td>\n",
       "      <td>0.680027</td>\n",
       "      <td>0.832358</td>\n",
       "      <td>0.852328</td>\n",
       "      <td>0.776828</td>\n",
       "    </tr>\n",
       "    <tr>\n",
       "      <td>10</td>\n",
       "      <td>0.432700</td>\n",
       "      <td>0.426142</td>\n",
       "      <td>0.359846</td>\n",
       "      <td>0.490531</td>\n",
       "      <td>0.697758</td>\n",
       "      <td>0.829755</td>\n",
       "      <td>0.682204</td>\n",
       "      <td>0.834762</td>\n",
       "      <td>0.857455</td>\n",
       "      <td>0.780387</td>\n",
       "    </tr>\n",
       "    <tr>\n",
       "      <td>11</td>\n",
       "      <td>0.418400</td>\n",
       "      <td>0.424251</td>\n",
       "      <td>0.362666</td>\n",
       "      <td>0.502438</td>\n",
       "      <td>0.698082</td>\n",
       "      <td>0.832023</td>\n",
       "      <td>0.685193</td>\n",
       "      <td>0.836233</td>\n",
       "      <td>0.859341</td>\n",
       "      <td>0.782174</td>\n",
       "    </tr>\n",
       "    <tr>\n",
       "      <td>12</td>\n",
       "      <td>0.430300</td>\n",
       "      <td>0.423791</td>\n",
       "      <td>0.362644</td>\n",
       "      <td>0.500257</td>\n",
       "      <td>0.698425</td>\n",
       "      <td>0.832451</td>\n",
       "      <td>0.685823</td>\n",
       "      <td>0.836559</td>\n",
       "      <td>0.859769</td>\n",
       "      <td>0.782606</td>\n",
       "    </tr>\n",
       "  </tbody>\n",
       "</table><p>"
      ],
      "text/plain": [
       "<IPython.core.display.HTML object>"
      ]
     },
     "metadata": {},
     "output_type": "display_data"
    },
    {
     "name": "stderr",
     "output_type": "stream",
     "text": [
      "Saving model checkpoint to ./vit-mae-chexpert-fine-tuned-fandl/checkpoint-500\n",
      "Configuration saved in ./vit-mae-chexpert-fine-tuned-fandl/checkpoint-500/config.json\n",
      "Model weights saved in ./vit-mae-chexpert-fine-tuned-fandl/checkpoint-500/pytorch_model.bin\n",
      "***** Running Evaluation *****\n",
      "  Num examples = 44683\n",
      "  Batch size = 48\n",
      "Saving model checkpoint to ./vit-mae-chexpert-fine-tuned-fandl/checkpoint-1000\n",
      "Configuration saved in ./vit-mae-chexpert-fine-tuned-fandl/checkpoint-1000/config.json\n",
      "Model weights saved in ./vit-mae-chexpert-fine-tuned-fandl/checkpoint-1000/pytorch_model.bin\n",
      "***** Running Evaluation *****\n",
      "  Num examples = 44683\n",
      "  Batch size = 48\n",
      "Saving model checkpoint to ./vit-mae-chexpert-fine-tuned-fandl/checkpoint-1500\n",
      "Configuration saved in ./vit-mae-chexpert-fine-tuned-fandl/checkpoint-1500/config.json\n",
      "Model weights saved in ./vit-mae-chexpert-fine-tuned-fandl/checkpoint-1500/pytorch_model.bin\n",
      "Saving model checkpoint to ./vit-mae-chexpert-fine-tuned-fandl/checkpoint-2000\n",
      "Configuration saved in ./vit-mae-chexpert-fine-tuned-fandl/checkpoint-2000/config.json\n",
      "Model weights saved in ./vit-mae-chexpert-fine-tuned-fandl/checkpoint-2000/pytorch_model.bin\n",
      "Deleting older checkpoint [vit-mae-chexpert-fine-tuned-fandl/checkpoint-500] due to args.save_total_limit\n",
      "***** Running Evaluation *****\n",
      "  Num examples = 44683\n",
      "  Batch size = 48\n",
      "Saving model checkpoint to ./vit-mae-chexpert-fine-tuned-fandl/checkpoint-2500\n",
      "Configuration saved in ./vit-mae-chexpert-fine-tuned-fandl/checkpoint-2500/config.json\n",
      "Model weights saved in ./vit-mae-chexpert-fine-tuned-fandl/checkpoint-2500/pytorch_model.bin\n",
      "Deleting older checkpoint [vit-mae-chexpert-fine-tuned-fandl/checkpoint-1000] due to args.save_total_limit\n",
      "***** Running Evaluation *****\n",
      "  Num examples = 44683\n",
      "  Batch size = 48\n",
      "Saving model checkpoint to ./vit-mae-chexpert-fine-tuned-fandl/checkpoint-3000\n",
      "Configuration saved in ./vit-mae-chexpert-fine-tuned-fandl/checkpoint-3000/config.json\n",
      "Model weights saved in ./vit-mae-chexpert-fine-tuned-fandl/checkpoint-3000/pytorch_model.bin\n",
      "Deleting older checkpoint [vit-mae-chexpert-fine-tuned-fandl/checkpoint-1500] due to args.save_total_limit\n",
      "Saving model checkpoint to ./vit-mae-chexpert-fine-tuned-fandl/checkpoint-3500\n",
      "Configuration saved in ./vit-mae-chexpert-fine-tuned-fandl/checkpoint-3500/config.json\n",
      "Model weights saved in ./vit-mae-chexpert-fine-tuned-fandl/checkpoint-3500/pytorch_model.bin\n",
      "Deleting older checkpoint [vit-mae-chexpert-fine-tuned-fandl/checkpoint-2000] due to args.save_total_limit\n",
      "***** Running Evaluation *****\n",
      "  Num examples = 44683\n",
      "  Batch size = 48\n",
      "Saving model checkpoint to ./vit-mae-chexpert-fine-tuned-fandl/checkpoint-4000\n",
      "Configuration saved in ./vit-mae-chexpert-fine-tuned-fandl/checkpoint-4000/config.json\n",
      "Model weights saved in ./vit-mae-chexpert-fine-tuned-fandl/checkpoint-4000/pytorch_model.bin\n",
      "Deleting older checkpoint [vit-mae-chexpert-fine-tuned-fandl/checkpoint-2500] due to args.save_total_limit\n",
      "***** Running Evaluation *****\n",
      "  Num examples = 44683\n",
      "  Batch size = 48\n",
      "Saving model checkpoint to ./vit-mae-chexpert-fine-tuned-fandl/checkpoint-4500\n",
      "Configuration saved in ./vit-mae-chexpert-fine-tuned-fandl/checkpoint-4500/config.json\n",
      "Model weights saved in ./vit-mae-chexpert-fine-tuned-fandl/checkpoint-4500/pytorch_model.bin\n",
      "Deleting older checkpoint [vit-mae-chexpert-fine-tuned-fandl/checkpoint-3000] due to args.save_total_limit\n",
      "Saving model checkpoint to ./vit-mae-chexpert-fine-tuned-fandl/checkpoint-5000\n",
      "Configuration saved in ./vit-mae-chexpert-fine-tuned-fandl/checkpoint-5000/config.json\n",
      "Model weights saved in ./vit-mae-chexpert-fine-tuned-fandl/checkpoint-5000/pytorch_model.bin\n",
      "Deleting older checkpoint [vit-mae-chexpert-fine-tuned-fandl/checkpoint-3500] due to args.save_total_limit\n",
      "***** Running Evaluation *****\n",
      "  Num examples = 44683\n",
      "  Batch size = 48\n",
      "Saving model checkpoint to ./vit-mae-chexpert-fine-tuned-fandl/checkpoint-5500\n",
      "Configuration saved in ./vit-mae-chexpert-fine-tuned-fandl/checkpoint-5500/config.json\n",
      "Model weights saved in ./vit-mae-chexpert-fine-tuned-fandl/checkpoint-5500/pytorch_model.bin\n",
      "Deleting older checkpoint [vit-mae-chexpert-fine-tuned-fandl/checkpoint-4000] due to args.save_total_limit\n",
      "***** Running Evaluation *****\n",
      "  Num examples = 44683\n",
      "  Batch size = 48\n",
      "Saving model checkpoint to ./vit-mae-chexpert-fine-tuned-fandl/checkpoint-6000\n",
      "Configuration saved in ./vit-mae-chexpert-fine-tuned-fandl/checkpoint-6000/config.json\n",
      "Model weights saved in ./vit-mae-chexpert-fine-tuned-fandl/checkpoint-6000/pytorch_model.bin\n",
      "Deleting older checkpoint [vit-mae-chexpert-fine-tuned-fandl/checkpoint-4500] due to args.save_total_limit\n",
      "Saving model checkpoint to ./vit-mae-chexpert-fine-tuned-fandl/checkpoint-6500\n",
      "Configuration saved in ./vit-mae-chexpert-fine-tuned-fandl/checkpoint-6500/config.json\n",
      "Model weights saved in ./vit-mae-chexpert-fine-tuned-fandl/checkpoint-6500/pytorch_model.bin\n",
      "Deleting older checkpoint [vit-mae-chexpert-fine-tuned-fandl/checkpoint-5000] due to args.save_total_limit\n",
      "***** Running Evaluation *****\n",
      "  Num examples = 44683\n",
      "  Batch size = 48\n",
      "Saving model checkpoint to ./vit-mae-chexpert-fine-tuned-fandl/checkpoint-7000\n",
      "Configuration saved in ./vit-mae-chexpert-fine-tuned-fandl/checkpoint-7000/config.json\n",
      "Model weights saved in ./vit-mae-chexpert-fine-tuned-fandl/checkpoint-7000/pytorch_model.bin\n",
      "Deleting older checkpoint [vit-mae-chexpert-fine-tuned-fandl/checkpoint-5500] due to args.save_total_limit\n",
      "***** Running Evaluation *****\n",
      "  Num examples = 44683\n",
      "  Batch size = 48\n",
      "Saving model checkpoint to ./vit-mae-chexpert-fine-tuned-fandl/checkpoint-7500\n",
      "Configuration saved in ./vit-mae-chexpert-fine-tuned-fandl/checkpoint-7500/config.json\n",
      "Model weights saved in ./vit-mae-chexpert-fine-tuned-fandl/checkpoint-7500/pytorch_model.bin\n",
      "Deleting older checkpoint [vit-mae-chexpert-fine-tuned-fandl/checkpoint-6000] due to args.save_total_limit\n",
      "Saving model checkpoint to ./vit-mae-chexpert-fine-tuned-fandl/checkpoint-8000\n",
      "Configuration saved in ./vit-mae-chexpert-fine-tuned-fandl/checkpoint-8000/config.json\n",
      "Model weights saved in ./vit-mae-chexpert-fine-tuned-fandl/checkpoint-8000/pytorch_model.bin\n",
      "Deleting older checkpoint [vit-mae-chexpert-fine-tuned-fandl/checkpoint-6500] due to args.save_total_limit\n",
      "***** Running Evaluation *****\n",
      "  Num examples = 44683\n",
      "  Batch size = 48\n",
      "Saving model checkpoint to ./vit-mae-chexpert-fine-tuned-fandl/checkpoint-8500\n",
      "Configuration saved in ./vit-mae-chexpert-fine-tuned-fandl/checkpoint-8500/config.json\n",
      "Model weights saved in ./vit-mae-chexpert-fine-tuned-fandl/checkpoint-8500/pytorch_model.bin\n",
      "Deleting older checkpoint [vit-mae-chexpert-fine-tuned-fandl/checkpoint-7000] due to args.save_total_limit\n",
      "***** Running Evaluation *****\n",
      "  Num examples = 44683\n",
      "  Batch size = 48\n",
      "Saving model checkpoint to ./vit-mae-chexpert-fine-tuned-fandl/checkpoint-9000\n",
      "Configuration saved in ./vit-mae-chexpert-fine-tuned-fandl/checkpoint-9000/config.json\n",
      "Model weights saved in ./vit-mae-chexpert-fine-tuned-fandl/checkpoint-9000/pytorch_model.bin\n",
      "Deleting older checkpoint [vit-mae-chexpert-fine-tuned-fandl/checkpoint-7500] due to args.save_total_limit\n",
      "Saving model checkpoint to ./vit-mae-chexpert-fine-tuned-fandl/checkpoint-9500\n",
      "Configuration saved in ./vit-mae-chexpert-fine-tuned-fandl/checkpoint-9500/config.json\n",
      "Model weights saved in ./vit-mae-chexpert-fine-tuned-fandl/checkpoint-9500/pytorch_model.bin\n",
      "Deleting older checkpoint [vit-mae-chexpert-fine-tuned-fandl/checkpoint-8000] due to args.save_total_limit\n",
      "***** Running Evaluation *****\n",
      "  Num examples = 44683\n",
      "  Batch size = 48\n",
      "\n",
      "\n",
      "Training completed. Do not forget to share your model on huggingface.co/models =)\n",
      "\n",
      "\n"
     ]
    },
    {
     "data": {
      "text/plain": [
       "TrainOutput(global_step=9672, training_loss=0.45264704008428785, metrics={'train_runtime': 34625.23, 'train_samples_per_second': 67.104, 'train_steps_per_second': 0.279, 'total_flos': 1.8004446012972938e+20, 'train_loss': 0.45264704008428785, 'epoch': 13.0})"
      ]
     },
     "execution_count": 15,
     "metadata": {},
     "output_type": "execute_result"
    }
   ],
   "source": [
    "trainer.train()"
   ]
  },
  {
   "cell_type": "code",
   "execution_count": 16,
   "metadata": {},
   "outputs": [
    {
     "name": "stderr",
     "output_type": "stream",
     "text": [
      "***** Running Evaluation *****\n",
      "  Num examples = 44683\n",
      "  Batch size = 48\n"
     ]
    },
    {
     "data": {
      "text/html": [
       "\n",
       "    <div>\n",
       "      \n",
       "      <progress value='936' max='931' style='width:300px; height:20px; vertical-align: middle;'></progress>\n",
       "      [931/931 04:32]\n",
       "    </div>\n",
       "    "
      ],
      "text/plain": [
       "<IPython.core.display.HTML object>"
      ]
     },
     "metadata": {},
     "output_type": "display_data"
    },
    {
     "data": {
      "text/plain": [
       "{'eval_loss': 0.42379119992256165,\n",
       " 'eval_accuracy': 0.3626435109549493,\n",
       " 'eval_f1': 0.5002567833604381,\n",
       " 'eval_AUC_Atelectasis': 0.6984251795789835,\n",
       " 'eval_AUC_Cardiomegaly': 0.8324510381556287,\n",
       " 'eval_AUC_Consolidation': 0.6858232633242294,\n",
       " 'eval_AUC_Edema': 0.8365593918018425,\n",
       " 'eval_AUC_Pleural Effusion': 0.8597687737102451,\n",
       " 'eval_average_auc': 0.7826055293141858,\n",
       " 'eval_runtime': 217.7972,\n",
       " 'eval_samples_per_second': 205.159,\n",
       " 'eval_steps_per_second': 4.275,\n",
       " 'epoch': 13.0}"
      ]
     },
     "execution_count": 16,
     "metadata": {},
     "output_type": "execute_result"
    }
   ],
   "source": [
    "trainer.evaluate()"
   ]
  },
  {
   "cell_type": "code",
   "execution_count": null,
   "metadata": {},
   "outputs": [],
   "source": [
    "trainer.save_state()"
   ]
  },
  {
   "cell_type": "code",
   "execution_count": 17,
   "metadata": {},
   "outputs": [
    {
     "name": "stderr",
     "output_type": "stream",
     "text": [
      "Saving model checkpoint to ./vit-mae-chexpert-fine-tuned-fandl\n",
      "Configuration saved in ./vit-mae-chexpert-fine-tuned-fandl/config.json\n",
      "Model weights saved in ./vit-mae-chexpert-fine-tuned-fandl/pytorch_model.bin\n"
     ]
    }
   ],
   "source": [
    "trainer.save_model()"
   ]
  },
  {
   "cell_type": "code",
   "execution_count": 7,
   "metadata": {},
   "outputs": [
    {
     "name": "stderr",
     "output_type": "stream",
     "text": [
      "Using amp half precision backend\n"
     ]
    }
   ],
   "source": [
    "trainer = MultiLabelTrainer(\n",
    "    model=ViTForImageClassification.from_pretrained(OUTPUT_DIR).to(\"cuda\"),\n",
    "    args=training_args,\n",
    "    compute_metrics=compute_metrics,\n",
    "    data_collator=collate_fn,\n",
    ")"
   ]
  },
  {
   "cell_type": "code",
   "execution_count": 18,
   "metadata": {},
   "outputs": [],
   "source": [
    "validation_df = pd.read_csv(\"ChexPert/valid.csv\")\n",
    "valid_dataset = ChexpertViTDataset(\"ChexPert/data\", validation_df, feature_extractor, use_frontal=False, classes=COMPETITION_TASKS,\n",
    "    uncertainty_method=\"smooth\", smoothing_lower_bound=0.55, smoothing_upper_bound=0.85)"
   ]
  },
  {
   "cell_type": "code",
   "execution_count": 19,
   "metadata": {},
   "outputs": [
    {
     "name": "stderr",
     "output_type": "stream",
     "text": [
      "***** Running Evaluation *****\n",
      "  Num examples = 234\n",
      "  Batch size = 48\n"
     ]
    },
    {
     "data": {
      "text/plain": [
       "{'eval_loss': 0.4152001142501831,\n",
       " 'eval_accuracy': 0.44871794871794873,\n",
       " 'eval_f1': 0.4117647058823529,\n",
       " 'eval_AUC_Atelectasis': 0.7994318181818182,\n",
       " 'eval_AUC_Cardiomegaly': 0.8184798015591779,\n",
       " 'eval_AUC_Consolidation': 0.9042665460575908,\n",
       " 'eval_AUC_Edema': 0.8994708994708995,\n",
       " 'eval_AUC_Pleural Effusion': 0.9272499776566271,\n",
       " 'eval_average_auc': 0.8697798085852227,\n",
       " 'eval_runtime': 2.1056,\n",
       " 'eval_samples_per_second': 111.13,\n",
       " 'eval_steps_per_second': 2.375,\n",
       " 'epoch': 13.0}"
      ]
     },
     "execution_count": 19,
     "metadata": {},
     "output_type": "execute_result"
    }
   ],
   "source": [
    "trainer.evaluate(eval_dataset=valid_dataset)"
   ]
  },
  {
   "cell_type": "code",
   "execution_count": 18,
   "metadata": {},
   "outputs": [
    {
     "name": "stderr",
     "output_type": "stream",
     "text": [
      "***** Running Evaluation *****\n",
      "  Num examples = 202\n",
      "  Batch size = 48\n"
     ]
    },
    {
     "data": {
      "text/plain": [
       "{'eval_loss': 0.46156764030456543,\n",
       " 'eval_accuracy': 0.4207920792079208,\n",
       " 'eval_f1': 0.4159999999999999,\n",
       " 'eval_AUC_Atelectasis': 0.8206299212598426,\n",
       " 'eval_AUC_Cardiomegaly': 0.8019719251336899,\n",
       " 'eval_AUC_Consolidation': 0.8797794117647059,\n",
       " 'eval_AUC_Edema': 0.8944940476190476,\n",
       " 'eval_AUC_Pleural Effusion': 0.9164968297101449,\n",
       " 'eval_average_auc': 0.8626744270974862,\n",
       " 'eval_runtime': 2.3178,\n",
       " 'eval_samples_per_second': 87.152,\n",
       " 'eval_steps_per_second': 2.157,\n",
       " 'epoch': 3.0}"
      ]
     },
     "execution_count": 18,
     "metadata": {},
     "output_type": "execute_result"
    }
   ],
   "source": [
    " trainer.evaluate(eval_dataset=valid_dataset)"
   ]
  },
  {
   "cell_type": "code",
   "execution_count": null,
   "metadata": {},
   "outputs": [],
   "source": []
  }
 ],
 "metadata": {
  "interpreter": {
   "hash": "e074c076b93983c67b0af1c746f3e6f6f1b7be7d64e3d1f6abea4edae919787d"
  },
  "kernelspec": {
   "display_name": "Python 3.7.12 ('chexpert')",
   "language": "python",
   "name": "python3"
  },
  "language_info": {
   "codemirror_mode": {
    "name": "ipython",
    "version": 3
   },
   "file_extension": ".py",
   "mimetype": "text/x-python",
   "name": "python",
   "nbconvert_exporter": "python",
   "pygments_lexer": "ipython3",
   "version": "3.7.12"
  },
  "orig_nbformat": 4
 },
 "nbformat": 4,
 "nbformat_minor": 2
}

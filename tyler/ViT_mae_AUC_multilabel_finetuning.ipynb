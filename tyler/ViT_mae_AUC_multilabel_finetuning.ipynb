{
 "cells": [
  {
   "cell_type": "markdown",
   "metadata": {},
   "source": [
    "# ViT 2: Electric Transformaroo\n",
    "We learned a few lessons from the previous experiment. First, and primarily, a larger model doesn't always mean better. We used the large imageNet transformer model, but that didn't actually lead to good predictions. Also, I think I screwed up a bunch of stuff, and the large model is taking way too long to train for me to iterate at all. We are going to switch to a smaller model. We are going to follow the ViTMAE method, use masked auto encodings for pretraining in a self-supervised manner on the entire training set, then fine tune on the prediction task. Guide found here: https://github.com/huggingface/transformers/blob/main/examples/pytorch/image-pretraining/run_mae.py \n",
    "\n",
    "This notebook has the fine-tuning process, fine tuning on Binary CE Loss."
   ]
  },
  {
   "cell_type": "code",
   "execution_count": 2,
   "metadata": {},
   "outputs": [
    {
     "name": "stdout",
     "output_type": "stream",
     "text": [
      "True\n"
     ]
    }
   ],
   "source": [
    "# imports\n",
    "import numpy as np\n",
    "import pandas as pd\n",
    "\n",
    "%load_ext autoreload\n",
    "%autoreload 2\n",
    "\n",
    "import torch\n",
    "print(torch.cuda.is_available())\n",
    "\n",
    "from transformers import ViTFeatureExtractor, ViTForImageClassification, ViTMAEForPreTraining, ViTMAEConfig\n",
    "from transformers import TrainingArguments, Trainer\n",
    "from torchvision.transforms import RandomHorizontalFlip, RandomResizedCrop\n",
    "from torchvision.transforms.functional import InterpolationMode\n",
    "\n",
    "from sklearn.model_selection import train_test_split"
   ]
  },
  {
   "cell_type": "code",
   "execution_count": 3,
   "metadata": {},
   "outputs": [],
   "source": [
    "from dataloader import *\n",
    "from utils import *\n",
    "from trainer import *"
   ]
  },
  {
   "cell_type": "code",
   "execution_count": 4,
   "metadata": {},
   "outputs": [],
   "source": [
    "# CONSTANTS\n",
    "FEATURE_EXTRACTOR_NAME = 'facebook/vit-mae-base'\n",
    "VIT_MODEL_NAME = 'vit-mae-chexpert/'\n",
    "TRAIN_SPLIT = 0.8\n",
    "BATCH_SIZE = 48\n",
    "LEARNING_RATE = 1.5e-2\n",
    "LR_SCHEDULER_TYPE = \"cosine\"\n",
    "WEIGHT_DECAY = 1e-5\n",
    "WARMUP_RATIO = 0.05\n",
    "LOGGING_STRATEGY = \"steps\"\n",
    "LOGGING_STEPS = 10\n",
    "FP16 = True\n",
    "EPOCHS = 10\n",
    "EVALUATION_STRATEGY = \"steps\"\n",
    "EVAL_STEPS = 500\n",
    "OUTPUT_DIR = './vit-mae-chexpert-auc-fine-tuned-1'\n",
    "REMOVE_UNUSED_COLUMNS = False\n",
    "GRAD_ACCUM_STEPS = 5\n",
    "DATALOADER_NUM_WORKERS = 4\n",
    "MARGIN = 1.0\n",
    "GAMMA = 500"
   ]
  },
  {
   "cell_type": "code",
   "execution_count": 5,
   "metadata": {},
   "outputs": [],
   "source": [
    "feature_extractor = ViTFeatureExtractor.from_pretrained(FEATURE_EXTRACTOR_NAME, image_mean=[0.485, 0.456, 0.406], image_std=[0.229, 0.224, 0.225])"
   ]
  },
  {
   "cell_type": "code",
   "execution_count": 6,
   "metadata": {},
   "outputs": [],
   "source": [
    "# set up our transforms\n",
    "transforms = [\n",
    "    RandomResizedCrop(feature_extractor.size, scale=(0.2, 1.0), interpolation=InterpolationMode.BICUBIC),\n",
    "    RandomHorizontalFlip(),\n",
    "]"
   ]
  },
  {
   "cell_type": "code",
   "execution_count": 7,
   "metadata": {},
   "outputs": [],
   "source": [
    "np.random.seed(42)\n",
    "train_df = pd.read_csv(\"ChexPert/train.csv\")\n",
    "train_df, eval_df = train_test_split(train_df, train_size=TRAIN_SPLIT)\n",
    "\n",
    "train_dataset = ChexpertViTDataset(\"ChexPert/data\", train_df, feature_extractor, transforms=transforms, classes=COMPETITION_TASKS,\n",
    "    uncertainty_method=\"smooth\", smoothing_lower_bound=0.55, smoothing_upper_bound=0.85)\n",
    "eval_dataset = ChexpertViTDataset(\"ChexPert/data\", eval_df, feature_extractor, classes=COMPETITION_TASKS,\n",
    "    uncertainty_method=\"smooth\", smoothing_lower_bound=0.55, smoothing_upper_bound=0.85)"
   ]
  },
  {
   "cell_type": "code",
   "execution_count": 8,
   "metadata": {},
   "outputs": [],
   "source": [
    "imratio=[0.1497333982353369,\n",
    " 0.12095831165270714,\n",
    " 0.0663119436471569,\n",
    " 0.2344081328924473,\n",
    " 0.3860606162333339]"
   ]
  },
  {
   "cell_type": "code",
   "execution_count": 9,
   "metadata": {},
   "outputs": [
    {
     "name": "stderr",
     "output_type": "stream",
     "text": [
      "You are using a model of type vit_mae to instantiate a model of type vit. This is not supported for all configurations of models and can yield errors.\n",
      "Some weights of the model checkpoint at vit-mae-chexpert/ were not used when initializing ViTForImageClassification: ['decoder.decoder_layers.2.intermediate.dense.weight', 'decoder.decoder_layers.3.attention.attention.key.weight', 'decoder.decoder_layers.2.attention.attention.value.bias', 'decoder.decoder_layers.7.layernorm_before.weight', 'decoder.decoder_layers.2.output.dense.bias', 'decoder.decoder_embed.weight', 'decoder.decoder_layers.1.intermediate.dense.weight', 'decoder.decoder_layers.6.intermediate.dense.bias', 'decoder.decoder_layers.7.output.dense.bias', 'decoder.decoder_layers.6.layernorm_before.bias', 'decoder.decoder_layers.0.intermediate.dense.weight', 'decoder.decoder_layers.6.layernorm_after.weight', 'decoder.decoder_layers.5.attention.attention.value.bias', 'decoder.decoder_layers.3.attention.attention.query.bias', 'decoder.decoder_layers.2.layernorm_after.weight', 'decoder.decoder_layers.7.attention.attention.value.weight', 'decoder.decoder_layers.5.attention.attention.key.bias', 'decoder.decoder_layers.7.intermediate.dense.weight', 'decoder.decoder_layers.7.intermediate.dense.bias', 'decoder.decoder_layers.7.attention.attention.key.bias', 'decoder.decoder_layers.3.attention.attention.value.bias', 'decoder.decoder_layers.5.attention.attention.query.bias', 'decoder.decoder_layers.5.intermediate.dense.weight', 'decoder.decoder_layers.0.layernorm_before.bias', 'decoder.decoder_layers.4.output.dense.bias', 'decoder.decoder_layers.3.attention.output.dense.bias', 'decoder.decoder_layers.2.intermediate.dense.bias', 'decoder.decoder_layers.3.layernorm_after.bias', 'decoder.decoder_layers.6.intermediate.dense.weight', 'decoder.decoder_layers.0.attention.output.dense.weight', 'decoder.decoder_layers.1.attention.attention.key.bias', 'decoder.decoder_layers.6.attention.attention.key.bias', 'decoder.decoder_layers.4.attention.output.dense.weight', 'decoder.decoder_layers.6.output.dense.bias', 'decoder.decoder_layers.0.intermediate.dense.bias', 'decoder.decoder_layers.3.layernorm_before.weight', 'decoder.decoder_pos_embed', 'decoder.decoder_layers.2.attention.output.dense.weight', 'decoder.decoder_layers.7.attention.attention.value.bias', 'decoder.decoder_layers.4.layernorm_before.bias', 'decoder.decoder_layers.0.output.dense.weight', 'decoder.decoder_layers.1.attention.output.dense.bias', 'decoder.decoder_layers.2.layernorm_before.weight', 'decoder.decoder_layers.3.attention.attention.query.weight', 'decoder.decoder_layers.1.output.dense.bias', 'decoder.decoder_layers.4.attention.attention.key.bias', 'decoder.decoder_layers.5.layernorm_after.bias', 'decoder.decoder_layers.4.layernorm_before.weight', 'decoder.decoder_layers.1.attention.attention.value.weight', 'decoder.decoder_layers.3.attention.attention.value.weight', 'decoder.decoder_layers.0.attention.attention.key.weight', 'decoder.decoder_layers.5.attention.attention.key.weight', 'decoder.mask_token', 'decoder.decoder_layers.4.layernorm_after.weight', 'decoder.decoder_layers.2.layernorm_after.bias', 'decoder.decoder_layers.1.layernorm_before.weight', 'decoder.decoder_layers.3.intermediate.dense.bias', 'decoder.decoder_layers.4.attention.attention.query.bias', 'decoder.decoder_layers.6.attention.output.dense.bias', 'decoder.decoder_layers.0.layernorm_after.weight', 'decoder.decoder_layers.6.attention.attention.value.bias', 'decoder.decoder_layers.6.attention.output.dense.weight', 'decoder.decoder_layers.2.attention.attention.query.bias', 'decoder.decoder_layers.7.attention.attention.key.weight', 'decoder.decoder_layers.0.attention.attention.value.bias', 'decoder.decoder_layers.5.attention.output.dense.bias', 'decoder.decoder_layers.0.output.dense.bias', 'decoder.decoder_layers.0.attention.output.dense.bias', 'decoder.decoder_layers.3.intermediate.dense.weight', 'decoder.decoder_layers.6.attention.attention.query.weight', 'decoder.decoder_layers.4.layernorm_after.bias', 'decoder.decoder_layers.3.attention.attention.key.bias', 'decoder.decoder_layers.2.attention.output.dense.bias', 'decoder.decoder_layers.5.layernorm_before.bias', 'decoder.decoder_layers.2.attention.attention.key.weight', 'decoder.decoder_layers.7.attention.output.dense.weight', 'decoder.decoder_layers.7.output.dense.weight', 'decoder.decoder_layers.7.attention.attention.query.weight', 'decoder.decoder_norm.bias', 'decoder.decoder_pred.weight', 'decoder.decoder_layers.6.attention.attention.key.weight', 'decoder.decoder_layers.0.attention.attention.query.bias', 'decoder.decoder_layers.5.layernorm_before.weight', 'decoder.decoder_layers.1.attention.attention.query.weight', 'decoder.decoder_layers.1.intermediate.dense.bias', 'decoder.decoder_layers.5.output.dense.bias', 'decoder.decoder_layers.3.output.dense.bias', 'decoder.decoder_layers.1.attention.attention.query.bias', 'decoder.decoder_layers.7.layernorm_before.bias', 'decoder.decoder_layers.6.attention.attention.value.weight', 'decoder.decoder_layers.1.attention.output.dense.weight', 'decoder.decoder_layers.6.layernorm_after.bias', 'decoder.decoder_layers.7.layernorm_after.bias', 'decoder.decoder_layers.5.layernorm_after.weight', 'decoder.decoder_layers.4.intermediate.dense.weight', 'decoder.decoder_layers.3.output.dense.weight', 'decoder.decoder_layers.0.attention.attention.value.weight', 'decoder.decoder_norm.weight', 'decoder.decoder_layers.5.intermediate.dense.bias', 'decoder.decoder_embed.bias', 'decoder.decoder_layers.4.intermediate.dense.bias', 'decoder.decoder_layers.5.attention.output.dense.weight', 'decoder.decoder_layers.4.attention.output.dense.bias', 'decoder.decoder_pred.bias', 'decoder.decoder_layers.6.layernorm_before.weight', 'decoder.decoder_layers.4.attention.attention.query.weight', 'decoder.decoder_layers.5.attention.attention.query.weight', 'decoder.decoder_layers.3.attention.output.dense.weight', 'decoder.decoder_layers.0.layernorm_before.weight', 'decoder.decoder_layers.6.output.dense.weight', 'decoder.decoder_layers.1.layernorm_after.bias', 'decoder.decoder_layers.0.layernorm_after.bias', 'decoder.decoder_layers.7.attention.output.dense.bias', 'decoder.decoder_layers.1.attention.attention.key.weight', 'decoder.decoder_layers.6.attention.attention.query.bias', 'decoder.decoder_layers.2.attention.attention.query.weight', 'decoder.decoder_layers.2.output.dense.weight', 'decoder.decoder_layers.3.layernorm_before.bias', 'decoder.decoder_layers.0.attention.attention.key.bias', 'decoder.decoder_layers.2.attention.attention.key.bias', 'decoder.decoder_layers.1.attention.attention.value.bias', 'decoder.decoder_layers.7.attention.attention.query.bias', 'decoder.decoder_layers.0.attention.attention.query.weight', 'decoder.decoder_layers.2.attention.attention.value.weight', 'decoder.decoder_layers.1.layernorm_before.bias', 'decoder.decoder_layers.4.attention.attention.key.weight', 'decoder.decoder_layers.5.output.dense.weight', 'decoder.decoder_layers.1.output.dense.weight', 'decoder.decoder_layers.4.attention.attention.value.bias', 'decoder.decoder_layers.5.attention.attention.value.weight', 'decoder.decoder_layers.2.layernorm_before.bias', 'decoder.decoder_layers.1.layernorm_after.weight', 'decoder.decoder_layers.3.layernorm_after.weight', 'decoder.decoder_layers.7.layernorm_after.weight', 'decoder.decoder_layers.4.output.dense.weight', 'decoder.decoder_layers.4.attention.attention.value.weight']\n",
      "- This IS expected if you are initializing ViTForImageClassification from the checkpoint of a model trained on another task or with another architecture (e.g. initializing a BertForSequenceClassification model from a BertForPreTraining model).\n",
      "- This IS NOT expected if you are initializing ViTForImageClassification from the checkpoint of a model that you expect to be exactly identical (initializing a BertForSequenceClassification model from a BertForSequenceClassification model).\n",
      "Some weights of ViTForImageClassification were not initialized from the model checkpoint at vit-mae-chexpert/ and are newly initialized: ['classifier.bias', 'classifier.weight']\n",
      "You should probably TRAIN this model on a down-stream task to be able to use it for predictions and inference.\n"
     ]
    }
   ],
   "source": [
    "model = ViTForImageClassification.from_pretrained(\n",
    "    VIT_MODEL_NAME,\n",
    "    num_labels=len(train_dataset.labels)\n",
    ").to(\"cuda\")"
   ]
  },
  {
   "cell_type": "code",
   "execution_count": 10,
   "metadata": {},
   "outputs": [],
   "source": [
    "# set up training arguments\n",
    "training_args = TrainingArguments(\n",
    "    output_dir=OUTPUT_DIR,\n",
    "    per_device_train_batch_size=BATCH_SIZE,\n",
    "    per_device_eval_batch_size=BATCH_SIZE,\n",
    "    evaluation_strategy=EVALUATION_STRATEGY,\n",
    "    num_train_epochs=EPOCHS,\n",
    "    fp16=FP16,\n",
    "    eval_steps = EVAL_STEPS,\n",
    "    learning_rate=LEARNING_RATE,\n",
    "    remove_unused_columns=REMOVE_UNUSED_COLUMNS,\n",
    "    report_to=\"tensorboard\",\n",
    "    gradient_accumulation_steps=GRAD_ACCUM_STEPS,\n",
    "    lr_scheduler_type=LR_SCHEDULER_TYPE,\n",
    "    weight_decay=WEIGHT_DECAY,\n",
    "    warmup_ratio=WARMUP_RATIO,\n",
    "    logging_strategy=LOGGING_STRATEGY,\n",
    "    logging_steps=LOGGING_STEPS,\n",
    "    dataloader_num_workers=DATALOADER_NUM_WORKERS\n",
    ")"
   ]
  },
  {
   "cell_type": "code",
   "execution_count": 11,
   "metadata": {},
   "outputs": [
    {
     "name": "stderr",
     "output_type": "stream",
     "text": [
      "Using amp half precision backend\n"
     ]
    }
   ],
   "source": [
    "trainer = AUCTrainer(\n",
    "    imratio=imratio,\n",
    "    margin=MARGIN,\n",
    "    gamma=GAMMA,\n",
    "    model=model,\n",
    "    args=training_args,\n",
    "    compute_metrics=compute_metrics,\n",
    "    data_collator=collate_fn,\n",
    "    train_dataset=train_dataset,\n",
    "    eval_dataset=eval_dataset,\n",
    ")"
   ]
  },
  {
   "cell_type": "code",
   "execution_count": 12,
   "metadata": {},
   "outputs": [
    {
     "name": "stderr",
     "output_type": "stream",
     "text": [
      "***** Running training *****\n",
      "  Num examples = 152878\n",
      "  Num Epochs = 10\n",
      "  Instantaneous batch size per device = 48\n",
      "  Total train batch size (w. parallel, distributed & accumulation) = 240\n",
      "  Gradient Accumulation steps = 5\n",
      "  Total optimization steps = 6370\n"
     ]
    },
    {
     "data": {
      "text/html": [
       "\n",
       "    <div>\n",
       "      \n",
       "      <progress value='6370' max='6370' style='width:300px; height:20px; vertical-align: middle;'></progress>\n",
       "      [6370/6370 6:28:09, Epoch 10/10]\n",
       "    </div>\n",
       "    <table border=\"1\" class=\"dataframe\">\n",
       "  <thead>\n",
       " <tr style=\"text-align: left;\">\n",
       "      <th>Step</th>\n",
       "      <th>Training Loss</th>\n",
       "      <th>Validation Loss</th>\n",
       "      <th>Accuracy</th>\n",
       "      <th>F1</th>\n",
       "      <th>Auc Atelectasis</th>\n",
       "      <th>Auc Cardiomegaly</th>\n",
       "      <th>Auc Consolidation</th>\n",
       "      <th>Auc Edema</th>\n",
       "      <th>Auc Pleural effusion</th>\n",
       "      <th>Average Auc</th>\n",
       "    </tr>\n",
       "  </thead>\n",
       "  <tbody>\n",
       "    <tr>\n",
       "      <td>500</td>\n",
       "      <td>0.608200</td>\n",
       "      <td>0.607641</td>\n",
       "      <td>0.241238</td>\n",
       "      <td>0.061366</td>\n",
       "      <td>0.576434</td>\n",
       "      <td>0.581649</td>\n",
       "      <td>0.586836</td>\n",
       "      <td>0.718703</td>\n",
       "      <td>0.665067</td>\n",
       "      <td>0.625738</td>\n",
       "    </tr>\n",
       "    <tr>\n",
       "      <td>1000</td>\n",
       "      <td>0.485300</td>\n",
       "      <td>0.482056</td>\n",
       "      <td>0.208577</td>\n",
       "      <td>0.500868</td>\n",
       "      <td>0.585232</td>\n",
       "      <td>0.581121</td>\n",
       "      <td>0.615586</td>\n",
       "      <td>0.738934</td>\n",
       "      <td>0.738449</td>\n",
       "      <td>0.651864</td>\n",
       "    </tr>\n",
       "    <tr>\n",
       "      <td>1500</td>\n",
       "      <td>0.407800</td>\n",
       "      <td>0.438065</td>\n",
       "      <td>0.158641</td>\n",
       "      <td>0.525277</td>\n",
       "      <td>0.601730</td>\n",
       "      <td>0.600357</td>\n",
       "      <td>0.625187</td>\n",
       "      <td>0.735529</td>\n",
       "      <td>0.769881</td>\n",
       "      <td>0.666537</td>\n",
       "    </tr>\n",
       "    <tr>\n",
       "      <td>2000</td>\n",
       "      <td>0.422700</td>\n",
       "      <td>0.411660</td>\n",
       "      <td>0.126006</td>\n",
       "      <td>0.531817</td>\n",
       "      <td>0.608557</td>\n",
       "      <td>0.623940</td>\n",
       "      <td>0.629073</td>\n",
       "      <td>0.745386</td>\n",
       "      <td>0.789054</td>\n",
       "      <td>0.679202</td>\n",
       "    </tr>\n",
       "    <tr>\n",
       "      <td>2500</td>\n",
       "      <td>0.372700</td>\n",
       "      <td>0.384966</td>\n",
       "      <td>0.101025</td>\n",
       "      <td>0.530692</td>\n",
       "      <td>0.613929</td>\n",
       "      <td>0.660903</td>\n",
       "      <td>0.632036</td>\n",
       "      <td>0.759810</td>\n",
       "      <td>0.802452</td>\n",
       "      <td>0.693826</td>\n",
       "    </tr>\n",
       "    <tr>\n",
       "      <td>3000</td>\n",
       "      <td>0.346600</td>\n",
       "      <td>0.372426</td>\n",
       "      <td>0.083384</td>\n",
       "      <td>0.532476</td>\n",
       "      <td>0.616916</td>\n",
       "      <td>0.704875</td>\n",
       "      <td>0.631378</td>\n",
       "      <td>0.769393</td>\n",
       "      <td>0.804579</td>\n",
       "      <td>0.705428</td>\n",
       "    </tr>\n",
       "    <tr>\n",
       "      <td>3500</td>\n",
       "      <td>0.352700</td>\n",
       "      <td>0.369217</td>\n",
       "      <td>0.069281</td>\n",
       "      <td>0.523450</td>\n",
       "      <td>0.620489</td>\n",
       "      <td>0.718184</td>\n",
       "      <td>0.631955</td>\n",
       "      <td>0.770395</td>\n",
       "      <td>0.809541</td>\n",
       "      <td>0.710113</td>\n",
       "    </tr>\n",
       "    <tr>\n",
       "      <td>4000</td>\n",
       "      <td>0.352300</td>\n",
       "      <td>0.357970</td>\n",
       "      <td>0.087499</td>\n",
       "      <td>0.537406</td>\n",
       "      <td>0.615384</td>\n",
       "      <td>0.733095</td>\n",
       "      <td>0.631420</td>\n",
       "      <td>0.780168</td>\n",
       "      <td>0.809193</td>\n",
       "      <td>0.713852</td>\n",
       "    </tr>\n",
       "    <tr>\n",
       "      <td>4500</td>\n",
       "      <td>0.345700</td>\n",
       "      <td>0.353422</td>\n",
       "      <td>0.086949</td>\n",
       "      <td>0.535176</td>\n",
       "      <td>0.617588</td>\n",
       "      <td>0.741457</td>\n",
       "      <td>0.631986</td>\n",
       "      <td>0.781762</td>\n",
       "      <td>0.813627</td>\n",
       "      <td>0.717284</td>\n",
       "    </tr>\n",
       "    <tr>\n",
       "      <td>5000</td>\n",
       "      <td>0.314300</td>\n",
       "      <td>0.351640</td>\n",
       "      <td>0.084170</td>\n",
       "      <td>0.539178</td>\n",
       "      <td>0.617582</td>\n",
       "      <td>0.746607</td>\n",
       "      <td>0.631828</td>\n",
       "      <td>0.784467</td>\n",
       "      <td>0.813474</td>\n",
       "      <td>0.718791</td>\n",
       "    </tr>\n",
       "    <tr>\n",
       "      <td>5500</td>\n",
       "      <td>0.335100</td>\n",
       "      <td>0.349991</td>\n",
       "      <td>0.087578</td>\n",
       "      <td>0.537162</td>\n",
       "      <td>0.619270</td>\n",
       "      <td>0.749318</td>\n",
       "      <td>0.632281</td>\n",
       "      <td>0.785254</td>\n",
       "      <td>0.814622</td>\n",
       "      <td>0.720149</td>\n",
       "    </tr>\n",
       "    <tr>\n",
       "      <td>6000</td>\n",
       "      <td>0.316500</td>\n",
       "      <td>0.349520</td>\n",
       "      <td>0.087420</td>\n",
       "      <td>0.538021</td>\n",
       "      <td>0.618562</td>\n",
       "      <td>0.749261</td>\n",
       "      <td>0.632138</td>\n",
       "      <td>0.785914</td>\n",
       "      <td>0.814489</td>\n",
       "      <td>0.720073</td>\n",
       "    </tr>\n",
       "  </tbody>\n",
       "</table><p>"
      ],
      "text/plain": [
       "<IPython.core.display.HTML object>"
      ]
     },
     "metadata": {},
     "output_type": "display_data"
    },
    {
     "name": "stderr",
     "output_type": "stream",
     "text": [
      "***** Running Evaluation *****\n",
      "  Num examples = 38149\n",
      "  Batch size = 48\n",
      "Saving model checkpoint to ./vit-mae-chexpert-auc-fine-tuned-1/checkpoint-500\n",
      "Configuration saved in ./vit-mae-chexpert-auc-fine-tuned-1/checkpoint-500/config.json\n",
      "Model weights saved in ./vit-mae-chexpert-auc-fine-tuned-1/checkpoint-500/pytorch_model.bin\n",
      "***** Running Evaluation *****\n",
      "  Num examples = 38149\n",
      "  Batch size = 48\n",
      "Saving model checkpoint to ./vit-mae-chexpert-auc-fine-tuned-1/checkpoint-1000\n",
      "Configuration saved in ./vit-mae-chexpert-auc-fine-tuned-1/checkpoint-1000/config.json\n",
      "Model weights saved in ./vit-mae-chexpert-auc-fine-tuned-1/checkpoint-1000/pytorch_model.bin\n",
      "***** Running Evaluation *****\n",
      "  Num examples = 38149\n",
      "  Batch size = 48\n",
      "Saving model checkpoint to ./vit-mae-chexpert-auc-fine-tuned-1/checkpoint-1500\n",
      "Configuration saved in ./vit-mae-chexpert-auc-fine-tuned-1/checkpoint-1500/config.json\n",
      "Model weights saved in ./vit-mae-chexpert-auc-fine-tuned-1/checkpoint-1500/pytorch_model.bin\n",
      "***** Running Evaluation *****\n",
      "  Num examples = 38149\n",
      "  Batch size = 48\n",
      "Saving model checkpoint to ./vit-mae-chexpert-auc-fine-tuned-1/checkpoint-2000\n",
      "Configuration saved in ./vit-mae-chexpert-auc-fine-tuned-1/checkpoint-2000/config.json\n",
      "Model weights saved in ./vit-mae-chexpert-auc-fine-tuned-1/checkpoint-2000/pytorch_model.bin\n",
      "***** Running Evaluation *****\n",
      "  Num examples = 38149\n",
      "  Batch size = 48\n",
      "Saving model checkpoint to ./vit-mae-chexpert-auc-fine-tuned-1/checkpoint-2500\n",
      "Configuration saved in ./vit-mae-chexpert-auc-fine-tuned-1/checkpoint-2500/config.json\n",
      "Model weights saved in ./vit-mae-chexpert-auc-fine-tuned-1/checkpoint-2500/pytorch_model.bin\n",
      "***** Running Evaluation *****\n",
      "  Num examples = 38149\n",
      "  Batch size = 48\n",
      "Saving model checkpoint to ./vit-mae-chexpert-auc-fine-tuned-1/checkpoint-3000\n",
      "Configuration saved in ./vit-mae-chexpert-auc-fine-tuned-1/checkpoint-3000/config.json\n",
      "Model weights saved in ./vit-mae-chexpert-auc-fine-tuned-1/checkpoint-3000/pytorch_model.bin\n",
      "***** Running Evaluation *****\n",
      "  Num examples = 38149\n",
      "  Batch size = 48\n",
      "Saving model checkpoint to ./vit-mae-chexpert-auc-fine-tuned-1/checkpoint-3500\n",
      "Configuration saved in ./vit-mae-chexpert-auc-fine-tuned-1/checkpoint-3500/config.json\n",
      "Model weights saved in ./vit-mae-chexpert-auc-fine-tuned-1/checkpoint-3500/pytorch_model.bin\n",
      "***** Running Evaluation *****\n",
      "  Num examples = 38149\n",
      "  Batch size = 48\n",
      "Saving model checkpoint to ./vit-mae-chexpert-auc-fine-tuned-1/checkpoint-4000\n",
      "Configuration saved in ./vit-mae-chexpert-auc-fine-tuned-1/checkpoint-4000/config.json\n",
      "Model weights saved in ./vit-mae-chexpert-auc-fine-tuned-1/checkpoint-4000/pytorch_model.bin\n",
      "***** Running Evaluation *****\n",
      "  Num examples = 38149\n",
      "  Batch size = 48\n",
      "Saving model checkpoint to ./vit-mae-chexpert-auc-fine-tuned-1/checkpoint-4500\n",
      "Configuration saved in ./vit-mae-chexpert-auc-fine-tuned-1/checkpoint-4500/config.json\n",
      "Model weights saved in ./vit-mae-chexpert-auc-fine-tuned-1/checkpoint-4500/pytorch_model.bin\n",
      "***** Running Evaluation *****\n",
      "  Num examples = 38149\n",
      "  Batch size = 48\n",
      "Saving model checkpoint to ./vit-mae-chexpert-auc-fine-tuned-1/checkpoint-5000\n",
      "Configuration saved in ./vit-mae-chexpert-auc-fine-tuned-1/checkpoint-5000/config.json\n",
      "Model weights saved in ./vit-mae-chexpert-auc-fine-tuned-1/checkpoint-5000/pytorch_model.bin\n",
      "***** Running Evaluation *****\n",
      "  Num examples = 38149\n",
      "  Batch size = 48\n",
      "Saving model checkpoint to ./vit-mae-chexpert-auc-fine-tuned-1/checkpoint-5500\n",
      "Configuration saved in ./vit-mae-chexpert-auc-fine-tuned-1/checkpoint-5500/config.json\n",
      "Model weights saved in ./vit-mae-chexpert-auc-fine-tuned-1/checkpoint-5500/pytorch_model.bin\n",
      "***** Running Evaluation *****\n",
      "  Num examples = 38149\n",
      "  Batch size = 48\n",
      "Saving model checkpoint to ./vit-mae-chexpert-auc-fine-tuned-1/checkpoint-6000\n",
      "Configuration saved in ./vit-mae-chexpert-auc-fine-tuned-1/checkpoint-6000/config.json\n",
      "Model weights saved in ./vit-mae-chexpert-auc-fine-tuned-1/checkpoint-6000/pytorch_model.bin\n",
      "\n",
      "\n",
      "Training completed. Do not forget to share your model on huggingface.co/models =)\n",
      "\n",
      "\n"
     ]
    },
    {
     "data": {
      "text/plain": [
       "TrainOutput(global_step=6370, training_loss=0.40268597415702495, metrics={'train_runtime': 23295.034, 'train_samples_per_second': 65.627, 'train_steps_per_second': 0.273, 'total_flos': 1.184713892621148e+20, 'train_loss': 0.40268597415702495, 'epoch': 10.0})"
      ]
     },
     "execution_count": 12,
     "metadata": {},
     "output_type": "execute_result"
    }
   ],
   "source": [
    "trainer.train()"
   ]
  },
  {
   "cell_type": "code",
   "execution_count": 13,
   "metadata": {},
   "outputs": [
    {
     "name": "stderr",
     "output_type": "stream",
     "text": [
      "Saving model checkpoint to ./vit-mae-chexpert-auc-fine-tuned-1\n",
      "Configuration saved in ./vit-mae-chexpert-auc-fine-tuned-1/config.json\n",
      "Model weights saved in ./vit-mae-chexpert-auc-fine-tuned-1/pytorch_model.bin\n"
     ]
    }
   ],
   "source": [
    "trainer.save_model()"
   ]
  },
  {
   "cell_type": "code",
   "execution_count": 14,
   "metadata": {},
   "outputs": [],
   "source": [
    "validation_df = pd.read_csv(\"ChexPert/valid.csv\")\n",
    "valid_dataset = ChexpertViTDataset(\"ChexPert/data\", validation_df, feature_extractor, classes=COMPETITION_TASKS,\n",
    "    uncertainty_method=\"smooth\", smoothing_lower_bound=0.55, smoothing_upper_bound=0.85)"
   ]
  },
  {
   "cell_type": "code",
   "execution_count": 15,
   "metadata": {},
   "outputs": [
    {
     "name": "stderr",
     "output_type": "stream",
     "text": [
      "***** Running Evaluation *****\n",
      "  Num examples = 202\n",
      "  Batch size = 48\n"
     ]
    },
    {
     "data": {
      "text/html": [
       "\n",
       "    <div>\n",
       "      \n",
       "      <progress value='5' max='5' style='width:300px; height:20px; vertical-align: middle;'></progress>\n",
       "      [5/5 00:00]\n",
       "    </div>\n",
       "    "
      ],
      "text/plain": [
       "<IPython.core.display.HTML object>"
      ]
     },
     "metadata": {},
     "output_type": "display_data"
    },
    {
     "data": {
      "text/plain": [
       "{'eval_loss': -0.1631758064031601,\n",
       " 'eval_accuracy': 0.15346534653465346,\n",
       " 'eval_f1': 0.585427135678392,\n",
       " 'eval_AUC_Atelectasis': 0.8475590551181102,\n",
       " 'eval_AUC_Cardiomegaly': 0.7463235294117646,\n",
       " 'eval_AUC_Consolidation': 0.9041360294117646,\n",
       " 'eval_AUC_Edema': 0.8631696428571429,\n",
       " 'eval_AUC_Pleural Effusion': 0.8650928442028987,\n",
       " 'eval_average_auc': 0.8452562202003362,\n",
       " 'eval_runtime': 1.9885,\n",
       " 'eval_samples_per_second': 101.583,\n",
       " 'eval_steps_per_second': 2.514,\n",
       " 'epoch': 10.0}"
      ]
     },
     "execution_count": 15,
     "metadata": {},
     "output_type": "execute_result"
    }
   ],
   "source": [
    "trainer.evaluate(eval_dataset=valid_dataset)"
   ]
  },
  {
   "cell_type": "code",
   "execution_count": null,
   "metadata": {},
   "outputs": [],
   "source": []
  }
 ],
 "metadata": {
  "interpreter": {
   "hash": "e074c076b93983c67b0af1c746f3e6f6f1b7be7d64e3d1f6abea4edae919787d"
  },
  "kernelspec": {
   "display_name": "Python 3.7.12 ('chexpert')",
   "language": "python",
   "name": "python3"
  },
  "language_info": {
   "codemirror_mode": {
    "name": "ipython",
    "version": 3
   },
   "file_extension": ".py",
   "mimetype": "text/x-python",
   "name": "python",
   "nbconvert_exporter": "python",
   "pygments_lexer": "ipython3",
   "version": "3.7.12"
  },
  "orig_nbformat": 4
 },
 "nbformat": 4,
 "nbformat_minor": 2
}

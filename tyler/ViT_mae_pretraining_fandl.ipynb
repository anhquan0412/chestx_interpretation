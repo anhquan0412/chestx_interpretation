{
 "cells": [
  {
   "cell_type": "markdown",
   "metadata": {},
   "source": [
    "# ViT 2: Electric Transformaroo\n",
    "We learned a few lessons from the previous experiment. First, and primarily, a larger model doesn't always mean better. We used the large imageNet transformer model, but that didn't actually lead to good predictions. Also, I think I screwed up a bunch of stuff, and the large model is taking way too long to train for me to iterate at all. We are going to switch to a smaller model. We are going to follow the ViTMAE method, use masked auto encodings for pretraining in a self-supervised manner on the entire training set, then fine tune on the prediction task. Guide found here: https://github.com/huggingface/transformers/blob/main/examples/pytorch/image-pretraining/run_mae.py\n",
    "\n",
    "This notebook includes the lateral images when pretraining and runs for a longer period of time."
   ]
  },
  {
   "cell_type": "code",
   "execution_count": 2,
   "metadata": {},
   "outputs": [
    {
     "name": "stdout",
     "output_type": "stream",
     "text": [
      "True\n"
     ]
    }
   ],
   "source": [
    "# imports\n",
    "import numpy as np\n",
    "import pandas as pd\n",
    "\n",
    "%load_ext autoreload\n",
    "%autoreload 2\n",
    "\n",
    "import torch\n",
    "print(torch.cuda.is_available())\n",
    "\n",
    "from transformers import ViTFeatureExtractor, ViTForImageClassification, ViTMAEForPreTraining, ViTMAEConfig\n",
    "from transformers import TrainingArguments, Trainer\n",
    "from torchvision.transforms import RandomHorizontalFlip, RandomResizedCrop\n",
    "from torchvision.transforms.functional import InterpolationMode\n",
    "\n",
    "from sklearn.model_selection import train_test_split"
   ]
  },
  {
   "cell_type": "code",
   "execution_count": 3,
   "metadata": {},
   "outputs": [],
   "source": [
    "from dataloader import *\n",
    "from utils import *\n",
    "from trainer import *"
   ]
  },
  {
   "cell_type": "code",
   "execution_count": 4,
   "metadata": {},
   "outputs": [],
   "source": [
    "# CONSTANTS\n",
    "VIT_MODEL_NAME = 'facebook/vit-mae-base'\n",
    "TRAIN_SPLIT = 0.8\n",
    "BATCH_SIZE = 48\n",
    "LEARNING_RATE = 1.5e-4\n",
    "LR_SCHEDULER_TYPE = \"cosine\"\n",
    "WEIGHT_DECAY = 0.05\n",
    "WARMUP_RATIO = 0.05\n",
    "LOGGING_STRATEGY = \"steps\"\n",
    "LOGGING_STEPS = 10\n",
    "FP16 = True\n",
    "EPOCHS = 10\n",
    "EVALUATION_STRATEGY = \"epoch\"\n",
    "EVAL_STEPS = 500\n",
    "OUTPUT_DIR = './vit-mae-chexpert-fandl-pretrain'\n",
    "REMOVE_UNUSED_COLUMNS = False\n",
    "GRAD_ACCUM_STEPS = 5\n",
    "MASK_RATIO = 0.75\n",
    "NORM_PIX_LOSS = True\n",
    "DATALOADER_NUM_WORKERS = 4"
   ]
  },
  {
   "cell_type": "code",
   "execution_count": 5,
   "metadata": {},
   "outputs": [],
   "source": [
    "feature_extractor = ViTFeatureExtractor.from_pretrained(VIT_MODEL_NAME, image_mean=[0.485, 0.456, 0.406], image_std=[0.229, 0.224, 0.225])"
   ]
  },
  {
   "cell_type": "code",
   "execution_count": 6,
   "metadata": {},
   "outputs": [],
   "source": [
    "# set up our transforms\n",
    "transforms = [\n",
    "    RandomResizedCrop(feature_extractor.size, scale=(0.2, 1.0), interpolation=InterpolationMode.BICUBIC),\n",
    "    RandomHorizontalFlip(),\n",
    "]"
   ]
  },
  {
   "cell_type": "code",
   "execution_count": 7,
   "metadata": {},
   "outputs": [],
   "source": [
    "# set up the dataset\n",
    "np.random.seed(42)\n",
    "train_df = pd.read_csv(\"ChexPert/train.csv\")\n",
    "train_df, eval_df = train_test_split(train_df, train_size=TRAIN_SPLIT)\n",
    "\n",
    "train_dataset = ChexpertViTDataset(\"ChexPert/data\", train_df, feature_extractor, use_frontal=False, include_labels=False, transforms=transforms, classes=COMPETITION_TASKS,\n",
    "    uncertainty_method=\"smooth\", smoothing_lower_bound=0.55, smoothing_upper_bound=0.85)\n",
    "eval_dataset = ChexpertViTDataset(\"ChexPert/data\", eval_df, feature_extractor, use_frontal=False, include_labels=False, transforms=transforms, classes=COMPETITION_TASKS,\n",
    "    uncertainty_method=\"smooth\", smoothing_lower_bound=0.55, smoothing_upper_bound=0.85)"
   ]
  },
  {
   "cell_type": "code",
   "execution_count": 8,
   "metadata": {},
   "outputs": [
    {
     "data": {
      "text/plain": [
       "['Atelectasis', 'Cardiomegaly', 'Consolidation', 'Edema', 'Pleural Effusion']"
      ]
     },
     "execution_count": 8,
     "metadata": {},
     "output_type": "execute_result"
    }
   ],
   "source": [
    "train_dataset.labels"
   ]
  },
  {
   "cell_type": "code",
   "execution_count": 9,
   "metadata": {},
   "outputs": [],
   "source": [
    "config = ViTMAEConfig.from_pretrained(VIT_MODEL_NAME)\n",
    "config.update({\n",
    "    \"mask_ratio\": MASK_RATIO,\n",
    "    \"norm_pix_ratio\": NORM_PIX_LOSS\n",
    "})"
   ]
  },
  {
   "cell_type": "code",
   "execution_count": 10,
   "metadata": {},
   "outputs": [],
   "source": [
    "model = ViTMAEForPreTraining.from_pretrained(\n",
    "    VIT_MODEL_NAME,\n",
    "    config=config\n",
    ").to(\"cuda\")"
   ]
  },
  {
   "cell_type": "code",
   "execution_count": 11,
   "metadata": {},
   "outputs": [],
   "source": [
    "# set up training arguments\n",
    "training_args = TrainingArguments(\n",
    "    output_dir=OUTPUT_DIR,\n",
    "    per_device_train_batch_size=BATCH_SIZE,\n",
    "    per_device_eval_batch_size=BATCH_SIZE,\n",
    "    evaluation_strategy=EVALUATION_STRATEGY,\n",
    "    num_train_epochs=EPOCHS,\n",
    "    fp16=FP16,\n",
    "    eval_steps = EVAL_STEPS,\n",
    "    learning_rate=LEARNING_RATE,\n",
    "    remove_unused_columns=REMOVE_UNUSED_COLUMNS,\n",
    "    report_to=\"tensorboard\",\n",
    "    gradient_accumulation_steps=GRAD_ACCUM_STEPS,\n",
    "    lr_scheduler_type=LR_SCHEDULER_TYPE,\n",
    "    weight_decay=WEIGHT_DECAY,\n",
    "    warmup_ratio=WARMUP_RATIO,\n",
    "    logging_strategy=LOGGING_STRATEGY,\n",
    "    logging_steps=LOGGING_STEPS,\n",
    "    dataloader_num_workers=DATALOADER_NUM_WORKERS\n",
    ")"
   ]
  },
  {
   "cell_type": "code",
   "execution_count": 12,
   "metadata": {},
   "outputs": [
    {
     "name": "stderr",
     "output_type": "stream",
     "text": [
      "Using amp half precision backend\n"
     ]
    }
   ],
   "source": [
    "trainer = Trainer(\n",
    "    model=model,\n",
    "    args=training_args,\n",
    "    data_collator=collate_fn,\n",
    "    train_dataset=train_dataset,\n",
    "    eval_dataset=eval_dataset,\n",
    ")"
   ]
  },
  {
   "cell_type": "code",
   "execution_count": 13,
   "metadata": {},
   "outputs": [
    {
     "name": "stderr",
     "output_type": "stream",
     "text": [
      "/opt/conda/envs/chexpert/lib/python3.7/site-packages/transformers/optimization.py:309: FutureWarning: This implementation of AdamW is deprecated and will be removed in a future version. Use the PyTorch implementation torch.optim.AdamW instead, or set `no_deprecation_warning=True` to disable this warning\n",
      "  FutureWarning,\n",
      "***** Running training *****\n",
      "  Num examples = 178731\n",
      "  Num Epochs = 10\n",
      "  Instantaneous batch size per device = 48\n",
      "  Total train batch size (w. parallel, distributed & accumulation) = 240\n",
      "  Gradient Accumulation steps = 5\n",
      "  Total optimization steps = 7440\n"
     ]
    },
    {
     "data": {
      "text/html": [
       "\n",
       "    <div>\n",
       "      \n",
       "      <progress value='7440' max='7440' style='width:300px; height:20px; vertical-align: middle;'></progress>\n",
       "      [7440/7440 4:45:51, Epoch 9/10]\n",
       "    </div>\n",
       "    <table border=\"1\" class=\"dataframe\">\n",
       "  <thead>\n",
       " <tr style=\"text-align: left;\">\n",
       "      <th>Epoch</th>\n",
       "      <th>Training Loss</th>\n",
       "      <th>Validation Loss</th>\n",
       "    </tr>\n",
       "  </thead>\n",
       "  <tbody>\n",
       "    <tr>\n",
       "      <td>0</td>\n",
       "      <td>0.076100</td>\n",
       "      <td>0.076363</td>\n",
       "    </tr>\n",
       "    <tr>\n",
       "      <td>1</td>\n",
       "      <td>0.075500</td>\n",
       "      <td>0.073526</td>\n",
       "    </tr>\n",
       "    <tr>\n",
       "      <td>2</td>\n",
       "      <td>0.071200</td>\n",
       "      <td>0.071471</td>\n",
       "    </tr>\n",
       "    <tr>\n",
       "      <td>3</td>\n",
       "      <td>0.070200</td>\n",
       "      <td>0.070160</td>\n",
       "    </tr>\n",
       "    <tr>\n",
       "      <td>4</td>\n",
       "      <td>0.067500</td>\n",
       "      <td>0.068938</td>\n",
       "    </tr>\n",
       "    <tr>\n",
       "      <td>5</td>\n",
       "      <td>0.069000</td>\n",
       "      <td>0.068073</td>\n",
       "    </tr>\n",
       "    <tr>\n",
       "      <td>6</td>\n",
       "      <td>0.065900</td>\n",
       "      <td>0.067092</td>\n",
       "    </tr>\n",
       "    <tr>\n",
       "      <td>7</td>\n",
       "      <td>0.067000</td>\n",
       "      <td>0.066298</td>\n",
       "    </tr>\n",
       "    <tr>\n",
       "      <td>8</td>\n",
       "      <td>0.066000</td>\n",
       "      <td>0.065961</td>\n",
       "    </tr>\n",
       "    <tr>\n",
       "      <td>9</td>\n",
       "      <td>0.067000</td>\n",
       "      <td>0.065884</td>\n",
       "    </tr>\n",
       "  </tbody>\n",
       "</table><p>"
      ],
      "text/plain": [
       "<IPython.core.display.HTML object>"
      ]
     },
     "metadata": {},
     "output_type": "display_data"
    },
    {
     "name": "stderr",
     "output_type": "stream",
     "text": [
      "Saving model checkpoint to ./vit-mae-chexpert-fandl-pretrain/checkpoint-500\n",
      "Configuration saved in ./vit-mae-chexpert-fandl-pretrain/checkpoint-500/config.json\n",
      "Model weights saved in ./vit-mae-chexpert-fandl-pretrain/checkpoint-500/pytorch_model.bin\n",
      "***** Running Evaluation *****\n",
      "  Num examples = 44683\n",
      "  Batch size = 48\n",
      "Saving model checkpoint to ./vit-mae-chexpert-fandl-pretrain/checkpoint-1000\n",
      "Configuration saved in ./vit-mae-chexpert-fandl-pretrain/checkpoint-1000/config.json\n",
      "Model weights saved in ./vit-mae-chexpert-fandl-pretrain/checkpoint-1000/pytorch_model.bin\n",
      "***** Running Evaluation *****\n",
      "  Num examples = 44683\n",
      "  Batch size = 48\n",
      "Saving model checkpoint to ./vit-mae-chexpert-fandl-pretrain/checkpoint-1500\n",
      "Configuration saved in ./vit-mae-chexpert-fandl-pretrain/checkpoint-1500/config.json\n",
      "Model weights saved in ./vit-mae-chexpert-fandl-pretrain/checkpoint-1500/pytorch_model.bin\n",
      "Saving model checkpoint to ./vit-mae-chexpert-fandl-pretrain/checkpoint-2000\n",
      "Configuration saved in ./vit-mae-chexpert-fandl-pretrain/checkpoint-2000/config.json\n",
      "Model weights saved in ./vit-mae-chexpert-fandl-pretrain/checkpoint-2000/pytorch_model.bin\n",
      "***** Running Evaluation *****\n",
      "  Num examples = 44683\n",
      "  Batch size = 48\n",
      "Saving model checkpoint to ./vit-mae-chexpert-fandl-pretrain/checkpoint-2500\n",
      "Configuration saved in ./vit-mae-chexpert-fandl-pretrain/checkpoint-2500/config.json\n",
      "Model weights saved in ./vit-mae-chexpert-fandl-pretrain/checkpoint-2500/pytorch_model.bin\n",
      "***** Running Evaluation *****\n",
      "  Num examples = 44683\n",
      "  Batch size = 48\n",
      "Saving model checkpoint to ./vit-mae-chexpert-fandl-pretrain/checkpoint-3000\n",
      "Configuration saved in ./vit-mae-chexpert-fandl-pretrain/checkpoint-3000/config.json\n",
      "Model weights saved in ./vit-mae-chexpert-fandl-pretrain/checkpoint-3000/pytorch_model.bin\n",
      "Saving model checkpoint to ./vit-mae-chexpert-fandl-pretrain/checkpoint-3500\n",
      "Configuration saved in ./vit-mae-chexpert-fandl-pretrain/checkpoint-3500/config.json\n",
      "Model weights saved in ./vit-mae-chexpert-fandl-pretrain/checkpoint-3500/pytorch_model.bin\n",
      "***** Running Evaluation *****\n",
      "  Num examples = 44683\n",
      "  Batch size = 48\n",
      "Saving model checkpoint to ./vit-mae-chexpert-fandl-pretrain/checkpoint-4000\n",
      "Configuration saved in ./vit-mae-chexpert-fandl-pretrain/checkpoint-4000/config.json\n",
      "Model weights saved in ./vit-mae-chexpert-fandl-pretrain/checkpoint-4000/pytorch_model.bin\n",
      "***** Running Evaluation *****\n",
      "  Num examples = 44683\n",
      "  Batch size = 48\n",
      "Saving model checkpoint to ./vit-mae-chexpert-fandl-pretrain/checkpoint-4500\n",
      "Configuration saved in ./vit-mae-chexpert-fandl-pretrain/checkpoint-4500/config.json\n",
      "Model weights saved in ./vit-mae-chexpert-fandl-pretrain/checkpoint-4500/pytorch_model.bin\n",
      "Saving model checkpoint to ./vit-mae-chexpert-fandl-pretrain/checkpoint-5000\n",
      "Configuration saved in ./vit-mae-chexpert-fandl-pretrain/checkpoint-5000/config.json\n",
      "Model weights saved in ./vit-mae-chexpert-fandl-pretrain/checkpoint-5000/pytorch_model.bin\n",
      "***** Running Evaluation *****\n",
      "  Num examples = 44683\n",
      "  Batch size = 48\n",
      "Saving model checkpoint to ./vit-mae-chexpert-fandl-pretrain/checkpoint-5500\n",
      "Configuration saved in ./vit-mae-chexpert-fandl-pretrain/checkpoint-5500/config.json\n",
      "Model weights saved in ./vit-mae-chexpert-fandl-pretrain/checkpoint-5500/pytorch_model.bin\n",
      "***** Running Evaluation *****\n",
      "  Num examples = 44683\n",
      "  Batch size = 48\n",
      "Saving model checkpoint to ./vit-mae-chexpert-fandl-pretrain/checkpoint-6000\n",
      "Configuration saved in ./vit-mae-chexpert-fandl-pretrain/checkpoint-6000/config.json\n",
      "Model weights saved in ./vit-mae-chexpert-fandl-pretrain/checkpoint-6000/pytorch_model.bin\n",
      "Saving model checkpoint to ./vit-mae-chexpert-fandl-pretrain/checkpoint-6500\n",
      "Configuration saved in ./vit-mae-chexpert-fandl-pretrain/checkpoint-6500/config.json\n",
      "Model weights saved in ./vit-mae-chexpert-fandl-pretrain/checkpoint-6500/pytorch_model.bin\n",
      "***** Running Evaluation *****\n",
      "  Num examples = 44683\n",
      "  Batch size = 48\n",
      "Saving model checkpoint to ./vit-mae-chexpert-fandl-pretrain/checkpoint-7000\n",
      "Configuration saved in ./vit-mae-chexpert-fandl-pretrain/checkpoint-7000/config.json\n",
      "Model weights saved in ./vit-mae-chexpert-fandl-pretrain/checkpoint-7000/pytorch_model.bin\n",
      "***** Running Evaluation *****\n",
      "  Num examples = 44683\n",
      "  Batch size = 48\n",
      "\n",
      "\n",
      "Training completed. Do not forget to share your model on huggingface.co/models =)\n",
      "\n",
      "\n"
     ]
    },
    {
     "data": {
      "text/plain": [
       "TrainOutput(global_step=7440, training_loss=0.07047540057570703, metrics={'train_runtime': 17155.7803, 'train_samples_per_second': 104.181, 'train_steps_per_second': 0.434, 'total_flos': 1.806289624759586e+20, 'train_loss': 0.07047540057570703, 'epoch': 10.0})"
      ]
     },
     "execution_count": 13,
     "metadata": {},
     "output_type": "execute_result"
    }
   ],
   "source": [
    "trainer.train()"
   ]
  },
  {
   "cell_type": "code",
   "execution_count": 14,
   "metadata": {},
   "outputs": [
    {
     "name": "stderr",
     "output_type": "stream",
     "text": [
      "Saving model checkpoint to ./vit-mae-chexpert-fandl-pretrain\n",
      "Configuration saved in ./vit-mae-chexpert-fandl-pretrain/config.json\n",
      "Model weights saved in ./vit-mae-chexpert-fandl-pretrain/pytorch_model.bin\n"
     ]
    }
   ],
   "source": [
    "trainer.save_model()"
   ]
  },
  {
   "cell_type": "markdown",
   "metadata": {},
   "source": [
    "I confirmed in another notebook that it worked fairly well! Now let's load that model and fine tune it (in another notebook)."
   ]
  },
  {
   "cell_type": "markdown",
   "metadata": {},
   "source": []
  }
 ],
 "metadata": {
  "interpreter": {
   "hash": "e074c076b93983c67b0af1c746f3e6f6f1b7be7d64e3d1f6abea4edae919787d"
  },
  "kernelspec": {
   "display_name": "Python 3.7.12 ('chexpert')",
   "language": "python",
   "name": "python3"
  },
  "language_info": {
   "codemirror_mode": {
    "name": "ipython",
    "version": 3
   },
   "file_extension": ".py",
   "mimetype": "text/x-python",
   "name": "python",
   "nbconvert_exporter": "python",
   "pygments_lexer": "ipython3",
   "version": "3.7.12"
  },
  "orig_nbformat": 4
 },
 "nbformat": 4,
 "nbformat_minor": 2
}

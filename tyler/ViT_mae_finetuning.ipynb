{
 "cells": [
  {
   "cell_type": "markdown",
   "metadata": {},
   "source": [
    "# ViT 2: Electric Transformaroo\n",
    "We learned a few lessons from the previous experiment. First, and primarily, a larger model doesn't always mean better. We used the large imageNet transformer model, but that didn't actually lead to good predictions. Also, I think I screwed up a bunch of stuff, and the large model is taking way too long to train for me to iterate at all. We are going to switch to a smaller model. We are going to follow the ViTMAE method, use masked auto encodings for pretraining in a self-supervised manner on the entire training set, then fine tune on the prediction task. Guide found here: https://github.com/huggingface/transformers/blob/main/examples/pytorch/image-pretraining/run_mae.py \n",
    "\n",
    "This notebook has the fine-tuning process."
   ]
  },
  {
   "cell_type": "code",
   "execution_count": 2,
   "metadata": {},
   "outputs": [
    {
     "name": "stdout",
     "output_type": "stream",
     "text": [
      "True\n"
     ]
    }
   ],
   "source": [
    "# imports\n",
    "import numpy as np\n",
    "import pandas as pd\n",
    "\n",
    "%load_ext autoreload\n",
    "%autoreload 2\n",
    "\n",
    "import torch\n",
    "print(torch.cuda.is_available())\n",
    "\n",
    "from transformers import ViTFeatureExtractor, ViTForImageClassification, ViTMAEForPreTraining, ViTMAEConfig\n",
    "from transformers import TrainingArguments, Trainer\n",
    "from torchvision.transforms import RandomHorizontalFlip, RandomResizedCrop\n",
    "from torchvision.transforms.functional import InterpolationMode\n",
    "\n",
    "from sklearn.model_selection import train_test_split"
   ]
  },
  {
   "cell_type": "code",
   "execution_count": 3,
   "metadata": {},
   "outputs": [],
   "source": [
    "from dataloader import *\n",
    "from utils import *\n",
    "from trainer import *"
   ]
  },
  {
   "cell_type": "code",
   "execution_count": 9,
   "metadata": {},
   "outputs": [],
   "source": [
    "# CONSTANTS\n",
    "FEATURE_EXTRACTOR_NAME = 'facebook/vit-mae-base'\n",
    "VIT_MODEL_NAME = 'vit-mae-chexpert/'\n",
    "TRAIN_SPLIT = 0.8\n",
    "BATCH_SIZE = 48\n",
    "LEARNING_RATE = 1.5e-3\n",
    "LR_SCHEDULER_TYPE = \"cosine\"\n",
    "WEIGHT_DECAY = 0.05\n",
    "WARMUP_RATIO = 0.05\n",
    "LOGGING_STRATEGY = \"steps\"\n",
    "LOGGING_STEPS = 10\n",
    "FP16 = True\n",
    "EPOCHS = 10\n",
    "EVALUATION_STRATEGY = \"steps\"\n",
    "EVAL_STEPS = 200\n",
    "OUTPUT_DIR = './vit-mae-chexpert-fine-tuned-3'\n",
    "REMOVE_UNUSED_COLUMNS = False\n",
    "GRAD_ACCUM_STEPS = 5\n",
    "DATALOADER_NUM_WORKERS = 4"
   ]
  },
  {
   "cell_type": "code",
   "execution_count": 10,
   "metadata": {},
   "outputs": [],
   "source": [
    "feature_extractor = ViTFeatureExtractor.from_pretrained(FEATURE_EXTRACTOR_NAME, image_mean=[0.485, 0.456, 0.406], image_std=[0.229, 0.224, 0.225])"
   ]
  },
  {
   "cell_type": "code",
   "execution_count": 11,
   "metadata": {},
   "outputs": [],
   "source": [
    "# set up our transforms\n",
    "transforms = [\n",
    "    RandomResizedCrop(feature_extractor.size, scale=(0.2, 1.0), interpolation=InterpolationMode.BICUBIC),\n",
    "    RandomHorizontalFlip(),\n",
    "]"
   ]
  },
  {
   "cell_type": "code",
   "execution_count": 17,
   "metadata": {},
   "outputs": [],
   "source": [
    "np.random.seed(42)\n",
    "train_df = pd.read_csv(\"ChexPert/train.csv\")\n",
    "train_df, eval_df = train_test_split(train_df, train_size=TRAIN_SPLIT)\n",
    "\n",
    "train_dataset = ChexpertViTDataset(\"ChexPert/data\", train_df, feature_extractor, transforms=transforms, classes=COMPETITION_TASKS,\n",
    "    uncertainty_method=\"smooth\", smoothing_lower_bound=0.55, smoothing_upper_bound=0.85)\n",
    "eval_dataset = ChexpertViTDataset(\"ChexPert/data\", eval_df, feature_extractor, classes=COMPETITION_TASKS,\n",
    "    uncertainty_method=\"smooth\", smoothing_lower_bound=0.55, smoothing_upper_bound=0.85)"
   ]
  },
  {
   "cell_type": "code",
   "execution_count": 7,
   "metadata": {},
   "outputs": [
    {
     "data": {
      "text/plain": [
       "{'pixel_values': tensor([[[-0.8335, -0.8678, -0.8678,  ..., -0.2856,  0.0569,  0.1768],\n",
       "         [-0.7137, -0.8335, -0.8849,  ..., -0.6794, -0.6109, -0.4054],\n",
       "         [-0.7993, -0.8164, -0.6965,  ..., -0.6452, -0.5082, -0.6281],\n",
       "         ...,\n",
       "         [ 0.8276,  0.8618,  0.8447,  ...,  1.6667,  1.7009,  1.6838],\n",
       "         [ 0.7248,  0.8276,  0.8789,  ...,  1.7352,  1.6153,  1.7352],\n",
       "         [ 0.7419,  0.7933,  0.8104,  ...,  1.8208,  1.7009,  1.7352]],\n",
       "\n",
       "        [[-0.7227, -0.7577, -0.7577,  ..., -0.1625,  0.1877,  0.3102],\n",
       "         [-0.6001, -0.7227, -0.7752,  ..., -0.5651, -0.4951, -0.2850],\n",
       "         [-0.6877, -0.7052, -0.5826,  ..., -0.5301, -0.3901, -0.5126],\n",
       "         ...,\n",
       "         [ 0.9755,  1.0105,  0.9930,  ...,  1.8333,  1.8683,  1.8508],\n",
       "         [ 0.8704,  0.9755,  1.0280,  ...,  1.9034,  1.7808,  1.9034],\n",
       "         [ 0.8880,  0.9405,  0.9580,  ...,  1.9909,  1.8683,  1.9034]],\n",
       "\n",
       "        [[-0.4973, -0.5321, -0.5321,  ...,  0.0605,  0.4091,  0.5311],\n",
       "         [-0.3753, -0.4973, -0.5495,  ..., -0.3404, -0.2707, -0.0615],\n",
       "         [-0.4624, -0.4798, -0.3578,  ..., -0.3055, -0.1661, -0.2881],\n",
       "         ...,\n",
       "         [ 1.1934,  1.2282,  1.2108,  ...,  2.0474,  2.0823,  2.0648],\n",
       "         [ 1.0888,  1.1934,  1.2457,  ...,  2.1171,  1.9951,  2.1171],\n",
       "         [ 1.1062,  1.1585,  1.1759,  ...,  2.2043,  2.0823,  2.1171]]]), 'labels': tensor([0., 0., 0., 0., 1.])}"
      ]
     },
     "execution_count": 7,
     "metadata": {},
     "output_type": "execute_result"
    }
   ],
   "source": [
    "train_dataset[0]"
   ]
  },
  {
   "cell_type": "code",
   "execution_count": null,
   "metadata": {},
   "outputs": [],
   "source": [
    "model = ViTForImageClassification.from_pretrained(\n",
    "    VIT_MODEL_NAME,\n",
    "    num_labels=len(train_dataset.labels)\n",
    ").to(\"cuda\")"
   ]
  },
  {
   "cell_type": "code",
   "execution_count": 18,
   "metadata": {},
   "outputs": [
    {
     "name": "stderr",
     "output_type": "stream",
     "text": [
      "PyTorch: setting up devices\n"
     ]
    }
   ],
   "source": [
    "# set up training arguments\n",
    "training_args = TrainingArguments(\n",
    "    output_dir=OUTPUT_DIR,\n",
    "    per_device_train_batch_size=BATCH_SIZE,\n",
    "    per_device_eval_batch_size=BATCH_SIZE,\n",
    "    evaluation_strategy=EVALUATION_STRATEGY,\n",
    "    num_train_epochs=EPOCHS,\n",
    "    fp16=FP16,\n",
    "    eval_steps = EVAL_STEPS,\n",
    "    learning_rate=LEARNING_RATE,\n",
    "    remove_unused_columns=REMOVE_UNUSED_COLUMNS,\n",
    "    report_to=\"tensorboard\",\n",
    "    gradient_accumulation_steps=GRAD_ACCUM_STEPS,\n",
    "    lr_scheduler_type=LR_SCHEDULER_TYPE,\n",
    "    weight_decay=WEIGHT_DECAY,\n",
    "    warmup_ratio=WARMUP_RATIO,\n",
    "    logging_strategy=LOGGING_STRATEGY,\n",
    "    logging_steps=LOGGING_STEPS,\n",
    "    dataloader_num_workers=DATALOADER_NUM_WORKERS\n",
    ")"
   ]
  },
  {
   "cell_type": "code",
   "execution_count": 19,
   "metadata": {},
   "outputs": [
    {
     "name": "stderr",
     "output_type": "stream",
     "text": [
      "Using amp half precision backend\n"
     ]
    }
   ],
   "source": [
    "trainer = Trainer(\n",
    "    model=model,\n",
    "    args=training_args,\n",
    "    compute_metrics=compute_metrics,\n",
    "    data_collator=collate_fn,\n",
    "    train_dataset=train_dataset,\n",
    "    eval_dataset=eval_dataset,\n",
    ")"
   ]
  },
  {
   "cell_type": "code",
   "execution_count": 20,
   "metadata": {},
   "outputs": [
    {
     "name": "stderr",
     "output_type": "stream",
     "text": [
      "***** Running training *****\n",
      "  Num examples = 152878\n",
      "  Num Epochs = 10\n",
      "  Instantaneous batch size per device = 48\n",
      "  Total train batch size (w. parallel, distributed & accumulation) = 240\n",
      "  Gradient Accumulation steps = 5\n",
      "  Total optimization steps = 6370\n"
     ]
    },
    {
     "data": {
      "text/html": [
       "\n",
       "    <div>\n",
       "      \n",
       "      <progress value='14' max='6370' style='width:300px; height:20px; vertical-align: middle;'></progress>\n",
       "      [  14/6370 03:54 < 34:33:01, 0.05 it/s, Epoch 0.02/10]\n",
       "    </div>\n",
       "    <table border=\"1\" class=\"dataframe\">\n",
       "  <thead>\n",
       " <tr style=\"text-align: left;\">\n",
       "      <th>Step</th>\n",
       "      <th>Training Loss</th>\n",
       "      <th>Validation Loss</th>\n",
       "      <th>Accuracy</th>\n",
       "      <th>F1</th>\n",
       "      <th>Auc Atelectasis</th>\n",
       "      <th>Auc Cardiomegaly</th>\n",
       "      <th>Auc Consolidation</th>\n",
       "      <th>Auc Edema</th>\n",
       "      <th>Auc Pleural effusion</th>\n",
       "    </tr>\n",
       "  </thead>\n",
       "  <tbody>\n",
       "    <tr>\n",
       "      <td>10</td>\n",
       "      <td>0.552000</td>\n",
       "      <td>0.534397</td>\n",
       "      <td>0.236179</td>\n",
       "      <td>0.000697</td>\n",
       "      <td>0.563012</td>\n",
       "      <td>0.589833</td>\n",
       "      <td>0.583948</td>\n",
       "      <td>0.715736</td>\n",
       "      <td>0.669734</td>\n",
       "    </tr>\n",
       "  </tbody>\n",
       "</table><p>"
      ],
      "text/plain": [
       "<IPython.core.display.HTML object>"
      ]
     },
     "metadata": {},
     "output_type": "display_data"
    },
    {
     "name": "stderr",
     "output_type": "stream",
     "text": [
      "***** Running Evaluation *****\n",
      "  Num examples = 38149\n",
      "  Batch size = 48\n"
     ]
    },
    {
     "ename": "KeyboardInterrupt",
     "evalue": "",
     "output_type": "error",
     "traceback": [
      "\u001b[0;31m---------------------------------------------------------------------------\u001b[0m",
      "\u001b[0;31mKeyboardInterrupt\u001b[0m                         Traceback (most recent call last)",
      "\u001b[0;32m/tmp/ipykernel_25383/4032920361.py\u001b[0m in \u001b[0;36m<module>\u001b[0;34m\u001b[0m\n\u001b[0;32m----> 1\u001b[0;31m \u001b[0mtrainer\u001b[0m\u001b[0;34m.\u001b[0m\u001b[0mtrain\u001b[0m\u001b[0;34m(\u001b[0m\u001b[0;34m)\u001b[0m\u001b[0;34m\u001b[0m\u001b[0;34m\u001b[0m\u001b[0m\n\u001b[0m",
      "\u001b[0;32m/opt/conda/envs/chexpert/lib/python3.7/site-packages/transformers/trainer.py\u001b[0m in \u001b[0;36mtrain\u001b[0;34m(self, resume_from_checkpoint, trial, ignore_keys_for_eval, **kwargs)\u001b[0m\n\u001b[1;32m   1425\u001b[0m                     \u001b[0margs\u001b[0m\u001b[0;34m.\u001b[0m\u001b[0mlogging_nan_inf_filter\u001b[0m\u001b[0;34m\u001b[0m\u001b[0;34m\u001b[0m\u001b[0m\n\u001b[1;32m   1426\u001b[0m                     \u001b[0;32mand\u001b[0m \u001b[0;32mnot\u001b[0m \u001b[0mis_torch_tpu_available\u001b[0m\u001b[0;34m(\u001b[0m\u001b[0;34m)\u001b[0m\u001b[0;34m\u001b[0m\u001b[0;34m\u001b[0m\u001b[0m\n\u001b[0;32m-> 1427\u001b[0;31m                     \u001b[0;32mand\u001b[0m \u001b[0;34m(\u001b[0m\u001b[0mtorch\u001b[0m\u001b[0;34m.\u001b[0m\u001b[0misnan\u001b[0m\u001b[0;34m(\u001b[0m\u001b[0mtr_loss_step\u001b[0m\u001b[0;34m)\u001b[0m \u001b[0;32mor\u001b[0m \u001b[0mtorch\u001b[0m\u001b[0;34m.\u001b[0m\u001b[0misinf\u001b[0m\u001b[0;34m(\u001b[0m\u001b[0mtr_loss_step\u001b[0m\u001b[0;34m)\u001b[0m\u001b[0;34m)\u001b[0m\u001b[0;34m\u001b[0m\u001b[0;34m\u001b[0m\u001b[0m\n\u001b[0m\u001b[1;32m   1428\u001b[0m                 ):\n\u001b[1;32m   1429\u001b[0m                     \u001b[0;31m# if loss is nan or inf simply add the average of previous logged losses\u001b[0m\u001b[0;34m\u001b[0m\u001b[0;34m\u001b[0m\u001b[0;34m\u001b[0m\u001b[0m\n",
      "\u001b[0;31mKeyboardInterrupt\u001b[0m: "
     ]
    }
   ],
   "source": [
    "trainer.train()"
   ]
  },
  {
   "cell_type": "code",
   "execution_count": 17,
   "metadata": {},
   "outputs": [
    {
     "name": "stderr",
     "output_type": "stream",
     "text": [
      "***** Running Evaluation *****\n",
      "  Num examples = 38149\n",
      "  Batch size = 48\n"
     ]
    },
    {
     "data": {
      "text/html": [
       "\n",
       "    <div>\n",
       "      \n",
       "      <progress value='795' max='795' style='width:300px; height:20px; vertical-align: middle;'></progress>\n",
       "      [795/795 03:14]\n",
       "    </div>\n",
       "    "
      ],
      "text/plain": [
       "<IPython.core.display.HTML object>"
      ]
     },
     "metadata": {},
     "output_type": "display_data"
    },
    {
     "data": {
      "text/plain": [
       "{'eval_loss': 0.40164998173713684,\n",
       " 'eval_accuracy': 0.3934310204723584,\n",
       " 'eval_runtime': 196.3203,\n",
       " 'eval_samples_per_second': 194.32,\n",
       " 'eval_steps_per_second': 4.05,\n",
       " 'epoch': 3.0}"
      ]
     },
     "execution_count": 17,
     "metadata": {},
     "output_type": "execute_result"
    }
   ],
   "source": [
    "trainer.evaluate()"
   ]
  },
  {
   "cell_type": "code",
   "execution_count": 18,
   "metadata": {},
   "outputs": [],
   "source": [
    "trainer.save_state()"
   ]
  },
  {
   "cell_type": "code",
   "execution_count": 19,
   "metadata": {},
   "outputs": [
    {
     "name": "stderr",
     "output_type": "stream",
     "text": [
      "Saving model checkpoint to ./vit-mae-chexpert-fine-tuned\n",
      "Configuration saved in ./vit-mae-chexpert-fine-tuned/config.json\n",
      "Model weights saved in ./vit-mae-chexpert-fine-tuned/pytorch_model.bin\n"
     ]
    },
    {
     "ename": "TypeError",
     "evalue": "save_metrics() missing 2 required positional arguments: 'split' and 'metrics'",
     "output_type": "error",
     "traceback": [
      "\u001b[0;31m---------------------------------------------------------------------------\u001b[0m",
      "\u001b[0;31mTypeError\u001b[0m                                 Traceback (most recent call last)",
      "\u001b[0;32m/tmp/ipykernel_9202/4064588253.py\u001b[0m in \u001b[0;36m<module>\u001b[0;34m\u001b[0m\n\u001b[1;32m      1\u001b[0m \u001b[0mtrainer\u001b[0m\u001b[0;34m.\u001b[0m\u001b[0msave_model\u001b[0m\u001b[0;34m(\u001b[0m\u001b[0;34m)\u001b[0m\u001b[0;34m\u001b[0m\u001b[0;34m\u001b[0m\u001b[0m\n\u001b[0;32m----> 2\u001b[0;31m \u001b[0mtrainer\u001b[0m\u001b[0;34m.\u001b[0m\u001b[0msave_metrics\u001b[0m\u001b[0;34m(\u001b[0m\u001b[0;34m)\u001b[0m\u001b[0;34m\u001b[0m\u001b[0;34m\u001b[0m\u001b[0m\n\u001b[0m",
      "\u001b[0;31mTypeError\u001b[0m: save_metrics() missing 2 required positional arguments: 'split' and 'metrics'"
     ]
    }
   ],
   "source": [
    "trainer.save_model()"
   ]
  },
  {
   "cell_type": "code",
   "execution_count": null,
   "metadata": {},
   "outputs": [],
   "source": []
  }
 ],
 "metadata": {
  "interpreter": {
   "hash": "e074c076b93983c67b0af1c746f3e6f6f1b7be7d64e3d1f6abea4edae919787d"
  },
  "kernelspec": {
   "display_name": "Python 3.7.12 ('chexpert')",
   "language": "python",
   "name": "python3"
  },
  "language_info": {
   "codemirror_mode": {
    "name": "ipython",
    "version": 3
   },
   "file_extension": ".py",
   "mimetype": "text/x-python",
   "name": "python",
   "nbconvert_exporter": "python",
   "pygments_lexer": "ipython3",
   "version": "3.7.12"
  },
  "orig_nbformat": 4
 },
 "nbformat": 4,
 "nbformat_minor": 2
}

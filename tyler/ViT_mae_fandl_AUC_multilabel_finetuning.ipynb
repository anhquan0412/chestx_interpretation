{
 "cells": [
  {
   "cell_type": "markdown",
   "metadata": {},
   "source": [
    "# ViT 2: Electric Transformaroo\n",
    "We learned a few lessons from the previous experiment. First, and primarily, a larger model doesn't always mean better. We used the large imageNet transformer model, but that didn't actually lead to good predictions. Also, I think I screwed up a bunch of stuff, and the large model is taking way too long to train for me to iterate at all. We are going to switch to a smaller model. We are going to follow the ViTMAE method, use masked auto encodings for pretraining in a self-supervised manner on the entire training set, then fine tune on the prediction task. Guide found here: https://github.com/huggingface/transformers/blob/main/examples/pytorch/image-pretraining/run_mae.py \n",
    "\n",
    "This notebook has the fine-tuning process, fine tuning on Binary CE Loss."
   ]
  },
  {
   "cell_type": "code",
   "execution_count": 1,
   "metadata": {},
   "outputs": [
    {
     "name": "stdout",
     "output_type": "stream",
     "text": [
      "True\n"
     ]
    }
   ],
   "source": [
    "# imports\n",
    "import numpy as np\n",
    "import pandas as pd\n",
    "\n",
    "%load_ext autoreload\n",
    "%autoreload 2\n",
    "\n",
    "import torch\n",
    "print(torch.cuda.is_available())\n",
    "\n",
    "from transformers import ViTFeatureExtractor, ViTForImageClassification, ViTMAEForPreTraining, ViTMAEConfig\n",
    "from transformers import TrainingArguments, Trainer\n",
    "from torchvision.transforms import RandomHorizontalFlip, RandomResizedCrop\n",
    "from torchvision.transforms.functional import InterpolationMode\n",
    "\n",
    "from sklearn.model_selection import train_test_split"
   ]
  },
  {
   "cell_type": "code",
   "execution_count": 2,
   "metadata": {},
   "outputs": [],
   "source": [
    "from dataloader import *\n",
    "from utils import *\n",
    "from trainer import *"
   ]
  },
  {
   "cell_type": "code",
   "execution_count": 10,
   "metadata": {},
   "outputs": [],
   "source": [
    "# CONSTANTS\n",
    "FEATURE_EXTRACTOR_NAME = 'facebook/vit-mae-base'\n",
    "VIT_MODEL_NAME = 'vit-mae-chexpert-fandl-pretrain/'\n",
    "TRAIN_SPLIT = 0.8\n",
    "BATCH_SIZE = 48\n",
    "LEARNING_RATE = 1.5e-2\n",
    "LR_SCHEDULER_TYPE = \"cosine\"\n",
    "WEIGHT_DECAY = 1e-5\n",
    "WARMUP_RATIO = 0.05\n",
    "LOGGING_STRATEGY = \"steps\"\n",
    "LOGGING_STEPS = 10\n",
    "FP16 = True\n",
    "EPOCHS = 15\n",
    "EVALUATION_STRATEGY = \"epoch\"\n",
    "EVAL_STEPS = 200\n",
    "OUTPUT_DIR = './vit-mae-chexpert-auc-fine-tuned-fandl-1'\n",
    "REMOVE_UNUSED_COLUMNS = False\n",
    "GRAD_ACCUM_STEPS = 5\n",
    "DATALOADER_NUM_WORKERS = 4\n",
    "MARGIN = 1.0\n",
    "GAMMA = 500"
   ]
  },
  {
   "cell_type": "code",
   "execution_count": 4,
   "metadata": {},
   "outputs": [],
   "source": [
    "feature_extractor = ViTFeatureExtractor.from_pretrained(FEATURE_EXTRACTOR_NAME, image_mean=[0.485, 0.456, 0.406], image_std=[0.229, 0.224, 0.225])"
   ]
  },
  {
   "cell_type": "code",
   "execution_count": 5,
   "metadata": {},
   "outputs": [],
   "source": [
    "# set up our transforms\n",
    "transforms = [\n",
    "    RandomResizedCrop(feature_extractor.size, scale=(0.2, 1.0), interpolation=InterpolationMode.BICUBIC),\n",
    "    RandomHorizontalFlip(),\n",
    "]"
   ]
  },
  {
   "cell_type": "code",
   "execution_count": 6,
   "metadata": {},
   "outputs": [],
   "source": [
    "np.random.seed(42)\n",
    "train_df = pd.read_csv(\"ChexPert/train.csv\")\n",
    "train_df, eval_df = train_test_split(train_df, train_size=TRAIN_SPLIT)\n",
    "\n",
    "train_dataset = ChexpertViTDataset(\"ChexPert/data\", train_df, feature_extractor, transforms=transforms, classes=COMPETITION_TASKS,\n",
    "    uncertainty_method=\"smooth\", smoothing_lower_bound=0.55, smoothing_upper_bound=0.85)\n",
    "eval_dataset = ChexpertViTDataset(\"ChexPert/data\", eval_df, feature_extractor, classes=COMPETITION_TASKS,\n",
    "    uncertainty_method=\"smooth\", smoothing_lower_bound=0.55, smoothing_upper_bound=0.85)"
   ]
  },
  {
   "cell_type": "code",
   "execution_count": 7,
   "metadata": {},
   "outputs": [],
   "source": [
    "imratio=[0.1497333982353369,\n",
    " 0.12095831165270714,\n",
    " 0.0663119436471569,\n",
    " 0.2344081328924473,\n",
    " 0.3860606162333339]"
   ]
  },
  {
   "cell_type": "code",
   "execution_count": 8,
   "metadata": {},
   "outputs": [
    {
     "name": "stderr",
     "output_type": "stream",
     "text": [
      "You are using a model of type vit_mae to instantiate a model of type vit. This is not supported for all configurations of models and can yield errors.\n",
      "Some weights of the model checkpoint at vit-mae-chexpert-fandl-pretrain/ were not used when initializing ViTForImageClassification: ['decoder.decoder_pred.weight', 'decoder.decoder_layers.2.attention.output.dense.weight', 'decoder.decoder_layers.4.attention.output.dense.weight', 'decoder.decoder_layers.1.intermediate.dense.bias', 'decoder.decoder_layers.4.attention.attention.query.weight', 'decoder.decoder_layers.3.output.dense.bias', 'decoder.decoder_layers.5.layernorm_before.bias', 'decoder.decoder_layers.3.layernorm_after.bias', 'decoder.decoder_layers.7.output.dense.weight', 'decoder.decoder_layers.3.attention.attention.key.bias', 'decoder.decoder_layers.6.attention.output.dense.weight', 'decoder.decoder_layers.6.attention.attention.query.weight', 'decoder.decoder_layers.4.layernorm_before.weight', 'decoder.decoder_layers.0.intermediate.dense.weight', 'decoder.decoder_layers.6.layernorm_after.bias', 'decoder.decoder_layers.1.attention.attention.value.weight', 'decoder.decoder_layers.1.layernorm_after.weight', 'decoder.decoder_layers.1.attention.attention.key.bias', 'decoder.decoder_layers.2.layernorm_before.bias', 'decoder.decoder_layers.0.attention.attention.value.bias', 'decoder.decoder_layers.7.attention.attention.value.bias', 'decoder.decoder_layers.6.attention.attention.key.weight', 'decoder.decoder_layers.0.output.dense.weight', 'decoder.decoder_layers.2.attention.attention.key.bias', 'decoder.decoder_layers.6.layernorm_before.weight', 'decoder.decoder_layers.5.attention.output.dense.weight', 'decoder.decoder_layers.3.attention.attention.query.weight', 'decoder.decoder_layers.0.attention.attention.query.weight', 'decoder.decoder_layers.7.output.dense.bias', 'decoder.decoder_layers.4.attention.output.dense.bias', 'decoder.decoder_layers.2.attention.attention.query.weight', 'decoder.decoder_layers.5.attention.output.dense.bias', 'decoder.decoder_layers.2.layernorm_before.weight', 'decoder.decoder_layers.6.intermediate.dense.weight', 'decoder.decoder_embed.weight', 'decoder.decoder_layers.4.intermediate.dense.weight', 'decoder.decoder_layers.0.attention.output.dense.bias', 'decoder.decoder_layers.2.attention.attention.query.bias', 'decoder.decoder_layers.7.layernorm_before.weight', 'decoder.decoder_layers.0.attention.attention.query.bias', 'decoder.decoder_layers.5.layernorm_after.weight', 'decoder.decoder_layers.4.attention.attention.value.weight', 'decoder.decoder_layers.3.attention.attention.value.weight', 'decoder.decoder_layers.2.output.dense.weight', 'decoder.decoder_layers.0.layernorm_after.weight', 'decoder.decoder_layers.3.layernorm_before.bias', 'decoder.decoder_layers.1.layernorm_after.bias', 'decoder.decoder_layers.6.output.dense.weight', 'decoder.decoder_layers.7.intermediate.dense.bias', 'decoder.decoder_layers.1.attention.output.dense.bias', 'decoder.decoder_layers.1.attention.attention.query.bias', 'decoder.decoder_layers.5.attention.attention.key.weight', 'decoder.decoder_embed.bias', 'decoder.decoder_layers.0.attention.output.dense.weight', 'decoder.decoder_layers.5.attention.attention.value.weight', 'decoder.decoder_layers.0.attention.attention.key.bias', 'decoder.decoder_layers.2.layernorm_after.weight', 'decoder.decoder_layers.6.attention.attention.key.bias', 'decoder.decoder_layers.5.intermediate.dense.bias', 'decoder.decoder_layers.3.intermediate.dense.weight', 'decoder.decoder_layers.7.layernorm_before.bias', 'decoder.decoder_layers.6.layernorm_after.weight', 'decoder.decoder_layers.7.layernorm_after.bias', 'decoder.decoder_layers.4.layernorm_after.bias', 'decoder.decoder_layers.5.layernorm_after.bias', 'decoder.decoder_norm.bias', 'decoder.decoder_layers.6.output.dense.bias', 'decoder.decoder_layers.3.attention.attention.key.weight', 'decoder.decoder_layers.3.attention.attention.value.bias', 'decoder.decoder_layers.5.intermediate.dense.weight', 'decoder.decoder_layers.3.attention.output.dense.bias', 'decoder.decoder_layers.2.attention.attention.key.weight', 'decoder.decoder_layers.4.attention.attention.key.bias', 'decoder.decoder_layers.0.layernorm_after.bias', 'decoder.decoder_layers.4.output.dense.bias', 'decoder.decoder_layers.7.attention.output.dense.weight', 'decoder.decoder_layers.2.layernorm_after.bias', 'decoder.decoder_layers.4.intermediate.dense.bias', 'decoder.decoder_layers.2.attention.output.dense.bias', 'decoder.decoder_layers.6.attention.attention.value.weight', 'decoder.decoder_layers.5.attention.attention.query.bias', 'decoder.decoder_layers.2.output.dense.bias', 'decoder.decoder_layers.1.attention.attention.key.weight', 'decoder.decoder_layers.5.layernorm_before.weight', 'decoder.decoder_layers.0.output.dense.bias', 'decoder.decoder_layers.6.attention.output.dense.bias', 'decoder.decoder_norm.weight', 'decoder.decoder_layers.7.attention.attention.query.weight', 'decoder.decoder_layers.7.attention.attention.key.weight', 'decoder.decoder_layers.6.attention.attention.query.bias', 'decoder.decoder_layers.0.layernorm_before.bias', 'decoder.decoder_layers.3.layernorm_before.weight', 'decoder.decoder_layers.1.attention.attention.value.bias', 'decoder.decoder_layers.2.intermediate.dense.bias', 'decoder.decoder_layers.7.attention.attention.key.bias', 'decoder.decoder_layers.7.intermediate.dense.weight', 'decoder.decoder_layers.5.attention.attention.query.weight', 'decoder.mask_token', 'decoder.decoder_layers.3.intermediate.dense.bias', 'decoder.decoder_layers.1.output.dense.weight', 'decoder.decoder_layers.4.attention.attention.key.weight', 'decoder.decoder_layers.1.attention.output.dense.weight', 'decoder.decoder_layers.1.layernorm_before.bias', 'decoder.decoder_layers.1.output.dense.bias', 'decoder.decoder_layers.3.attention.attention.query.bias', 'decoder.decoder_layers.7.layernorm_after.weight', 'decoder.decoder_layers.6.layernorm_before.bias', 'decoder.decoder_layers.0.attention.attention.key.weight', 'decoder.decoder_layers.1.intermediate.dense.weight', 'decoder.decoder_layers.4.attention.attention.value.bias', 'decoder.decoder_layers.1.layernorm_before.weight', 'decoder.decoder_layers.5.output.dense.weight', 'decoder.decoder_layers.7.attention.output.dense.bias', 'decoder.decoder_layers.3.layernorm_after.weight', 'decoder.decoder_layers.6.attention.attention.value.bias', 'decoder.decoder_layers.5.output.dense.bias', 'decoder.decoder_layers.4.attention.attention.query.bias', 'decoder.decoder_layers.5.attention.attention.key.bias', 'decoder.decoder_layers.4.layernorm_before.bias', 'decoder.decoder_pos_embed', 'decoder.decoder_layers.4.layernorm_after.weight', 'decoder.decoder_layers.0.layernorm_before.weight', 'decoder.decoder_layers.0.intermediate.dense.bias', 'decoder.decoder_layers.0.attention.attention.value.weight', 'decoder.decoder_layers.7.attention.attention.query.bias', 'decoder.decoder_layers.4.output.dense.weight', 'decoder.decoder_layers.1.attention.attention.query.weight', 'decoder.decoder_layers.5.attention.attention.value.bias', 'decoder.decoder_layers.6.intermediate.dense.bias', 'decoder.decoder_pred.bias', 'decoder.decoder_layers.2.intermediate.dense.weight', 'decoder.decoder_layers.2.attention.attention.value.weight', 'decoder.decoder_layers.7.attention.attention.value.weight', 'decoder.decoder_layers.2.attention.attention.value.bias', 'decoder.decoder_layers.3.output.dense.weight', 'decoder.decoder_layers.3.attention.output.dense.weight']\n",
      "- This IS expected if you are initializing ViTForImageClassification from the checkpoint of a model trained on another task or with another architecture (e.g. initializing a BertForSequenceClassification model from a BertForPreTraining model).\n",
      "- This IS NOT expected if you are initializing ViTForImageClassification from the checkpoint of a model that you expect to be exactly identical (initializing a BertForSequenceClassification model from a BertForSequenceClassification model).\n",
      "Some weights of ViTForImageClassification were not initialized from the model checkpoint at vit-mae-chexpert-fandl-pretrain/ and are newly initialized: ['classifier.weight', 'classifier.bias']\n",
      "You should probably TRAIN this model on a down-stream task to be able to use it for predictions and inference.\n"
     ]
    }
   ],
   "source": [
    "model = ViTForImageClassification.from_pretrained(\n",
    "    VIT_MODEL_NAME,\n",
    "    num_labels=len(train_dataset.labels)\n",
    ").to(\"cuda\")"
   ]
  },
  {
   "cell_type": "code",
   "execution_count": 11,
   "metadata": {},
   "outputs": [],
   "source": [
    "# set up training arguments\n",
    "training_args = TrainingArguments(\n",
    "    output_dir=OUTPUT_DIR,\n",
    "    per_device_train_batch_size=BATCH_SIZE,\n",
    "    per_device_eval_batch_size=BATCH_SIZE,\n",
    "    evaluation_strategy=EVALUATION_STRATEGY,\n",
    "    num_train_epochs=EPOCHS,\n",
    "    fp16=FP16,\n",
    "    eval_steps = EVAL_STEPS,\n",
    "    learning_rate=LEARNING_RATE,\n",
    "    remove_unused_columns=REMOVE_UNUSED_COLUMNS,\n",
    "    report_to=\"tensorboard\",\n",
    "    gradient_accumulation_steps=GRAD_ACCUM_STEPS,\n",
    "    lr_scheduler_type=LR_SCHEDULER_TYPE,\n",
    "    weight_decay=WEIGHT_DECAY,\n",
    "    warmup_ratio=WARMUP_RATIO,\n",
    "    logging_strategy=LOGGING_STRATEGY,\n",
    "    logging_steps=LOGGING_STEPS,\n",
    "    dataloader_num_workers=DATALOADER_NUM_WORKERS\n",
    ")"
   ]
  },
  {
   "cell_type": "code",
   "execution_count": 12,
   "metadata": {},
   "outputs": [
    {
     "name": "stderr",
     "output_type": "stream",
     "text": [
      "Using amp half precision backend\n"
     ]
    }
   ],
   "source": [
    "trainer = AUCTrainer(\n",
    "    imratio=imratio,\n",
    "    margin=MARGIN,\n",
    "    gamma=GAMMA,\n",
    "    model=model,\n",
    "    args=training_args,\n",
    "    compute_metrics=compute_metrics,\n",
    "    data_collator=collate_fn,\n",
    "    train_dataset=train_dataset,\n",
    "    eval_dataset=eval_dataset,\n",
    ")"
   ]
  },
  {
   "cell_type": "code",
   "execution_count": 13,
   "metadata": {},
   "outputs": [
    {
     "name": "stderr",
     "output_type": "stream",
     "text": [
      "***** Running training *****\n",
      "  Num examples = 152878\n",
      "  Num Epochs = 15\n",
      "  Instantaneous batch size per device = 48\n",
      "  Total train batch size (w. parallel, distributed & accumulation) = 240\n",
      "  Gradient Accumulation steps = 5\n",
      "  Total optimization steps = 9555\n"
     ]
    },
    {
     "data": {
      "text/html": [
       "\n",
       "    <div>\n",
       "      \n",
       "      <progress value='8501' max='9555' style='width:300px; height:20px; vertical-align: middle;'></progress>\n",
       "      [8501/9555 8:28:28 < 1:03:03, 0.28 it/s, Epoch 13.34/15]\n",
       "    </div>\n",
       "    <table border=\"1\" class=\"dataframe\">\n",
       "  <thead>\n",
       " <tr style=\"text-align: left;\">\n",
       "      <th>Epoch</th>\n",
       "      <th>Training Loss</th>\n",
       "      <th>Validation Loss</th>\n",
       "      <th>Accuracy</th>\n",
       "      <th>F1</th>\n",
       "      <th>Auc Atelectasis</th>\n",
       "      <th>Auc Cardiomegaly</th>\n",
       "      <th>Auc Consolidation</th>\n",
       "      <th>Auc Edema</th>\n",
       "      <th>Auc Pleural effusion</th>\n",
       "      <th>Average Auc</th>\n",
       "    </tr>\n",
       "  </thead>\n",
       "  <tbody>\n",
       "    <tr>\n",
       "      <td>1</td>\n",
       "      <td>0.579400</td>\n",
       "      <td>0.571600</td>\n",
       "      <td>0.254161</td>\n",
       "      <td>0.294534</td>\n",
       "      <td>0.579493</td>\n",
       "      <td>0.585555</td>\n",
       "      <td>0.580639</td>\n",
       "      <td>0.724000</td>\n",
       "      <td>0.671271</td>\n",
       "      <td>0.628192</td>\n",
       "    </tr>\n",
       "    <tr>\n",
       "      <td>2</td>\n",
       "      <td>0.417800</td>\n",
       "      <td>0.452843</td>\n",
       "      <td>0.196440</td>\n",
       "      <td>0.524550</td>\n",
       "      <td>0.597232</td>\n",
       "      <td>0.614923</td>\n",
       "      <td>0.622189</td>\n",
       "      <td>0.746396</td>\n",
       "      <td>0.752835</td>\n",
       "      <td>0.666715</td>\n",
       "    </tr>\n",
       "    <tr>\n",
       "      <td>3</td>\n",
       "      <td>0.398900</td>\n",
       "      <td>0.408223</td>\n",
       "      <td>0.100789</td>\n",
       "      <td>0.533448</td>\n",
       "      <td>0.605006</td>\n",
       "      <td>0.662061</td>\n",
       "      <td>0.629376</td>\n",
       "      <td>0.751060</td>\n",
       "      <td>0.782794</td>\n",
       "      <td>0.686060</td>\n",
       "    </tr>\n",
       "    <tr>\n",
       "      <td>4</td>\n",
       "      <td>0.365000</td>\n",
       "      <td>0.368000</td>\n",
       "      <td>0.098613</td>\n",
       "      <td>0.545097</td>\n",
       "      <td>0.606642</td>\n",
       "      <td>0.750744</td>\n",
       "      <td>0.633435</td>\n",
       "      <td>0.771743</td>\n",
       "      <td>0.801871</td>\n",
       "      <td>0.712887</td>\n",
       "    </tr>\n",
       "    <tr>\n",
       "      <td>5</td>\n",
       "      <td>0.341600</td>\n",
       "      <td>0.344932</td>\n",
       "      <td>0.082125</td>\n",
       "      <td>0.539775</td>\n",
       "      <td>0.615015</td>\n",
       "      <td>0.778127</td>\n",
       "      <td>0.638374</td>\n",
       "      <td>0.786769</td>\n",
       "      <td>0.812897</td>\n",
       "      <td>0.726237</td>\n",
       "    </tr>\n",
       "    <tr>\n",
       "      <td>6</td>\n",
       "      <td>0.337100</td>\n",
       "      <td>0.336182</td>\n",
       "      <td>0.106713</td>\n",
       "      <td>0.547382</td>\n",
       "      <td>0.617072</td>\n",
       "      <td>0.786406</td>\n",
       "      <td>0.638981</td>\n",
       "      <td>0.795993</td>\n",
       "      <td>0.816964</td>\n",
       "      <td>0.731083</td>\n",
       "    </tr>\n",
       "    <tr>\n",
       "      <td>7</td>\n",
       "      <td>0.292500</td>\n",
       "      <td>0.332017</td>\n",
       "      <td>0.111484</td>\n",
       "      <td>0.548983</td>\n",
       "      <td>0.616372</td>\n",
       "      <td>0.791806</td>\n",
       "      <td>0.637332</td>\n",
       "      <td>0.801679</td>\n",
       "      <td>0.819330</td>\n",
       "      <td>0.733304</td>\n",
       "    </tr>\n",
       "    <tr>\n",
       "      <td>8</td>\n",
       "      <td>0.321300</td>\n",
       "      <td>0.328121</td>\n",
       "      <td>0.089701</td>\n",
       "      <td>0.545831</td>\n",
       "      <td>0.621864</td>\n",
       "      <td>0.796869</td>\n",
       "      <td>0.639855</td>\n",
       "      <td>0.805032</td>\n",
       "      <td>0.823059</td>\n",
       "      <td>0.737335</td>\n",
       "    </tr>\n",
       "    <tr>\n",
       "      <td>9</td>\n",
       "      <td>0.348000</td>\n",
       "      <td>0.327259</td>\n",
       "      <td>0.103358</td>\n",
       "      <td>0.541047</td>\n",
       "      <td>0.623173</td>\n",
       "      <td>0.796248</td>\n",
       "      <td>0.639191</td>\n",
       "      <td>0.806344</td>\n",
       "      <td>0.823748</td>\n",
       "      <td>0.737741</td>\n",
       "    </tr>\n",
       "    <tr>\n",
       "      <td>10</td>\n",
       "      <td>0.303000</td>\n",
       "      <td>0.325687</td>\n",
       "      <td>0.106818</td>\n",
       "      <td>0.545543</td>\n",
       "      <td>0.622052</td>\n",
       "      <td>0.798303</td>\n",
       "      <td>0.638295</td>\n",
       "      <td>0.809131</td>\n",
       "      <td>0.821890</td>\n",
       "      <td>0.737934</td>\n",
       "    </tr>\n",
       "    <tr>\n",
       "      <td>11</td>\n",
       "      <td>0.307200</td>\n",
       "      <td>0.323206</td>\n",
       "      <td>0.105193</td>\n",
       "      <td>0.548353</td>\n",
       "      <td>0.625776</td>\n",
       "      <td>0.800252</td>\n",
       "      <td>0.639105</td>\n",
       "      <td>0.809832</td>\n",
       "      <td>0.826203</td>\n",
       "      <td>0.740234</td>\n",
       "    </tr>\n",
       "    <tr>\n",
       "      <td>12</td>\n",
       "      <td>0.324300</td>\n",
       "      <td>0.322500</td>\n",
       "      <td>0.103122</td>\n",
       "      <td>0.547028</td>\n",
       "      <td>0.626001</td>\n",
       "      <td>0.800148</td>\n",
       "      <td>0.638780</td>\n",
       "      <td>0.810022</td>\n",
       "      <td>0.825626</td>\n",
       "      <td>0.740115</td>\n",
       "    </tr>\n",
       "    <tr>\n",
       "      <td>13</td>\n",
       "      <td>0.352800</td>\n",
       "      <td>0.324046</td>\n",
       "      <td>0.115049</td>\n",
       "      <td>0.548630</td>\n",
       "      <td>0.626771</td>\n",
       "      <td>0.801064</td>\n",
       "      <td>0.639401</td>\n",
       "      <td>0.810700</td>\n",
       "      <td>0.826670</td>\n",
       "      <td>0.740921</td>\n",
       "    </tr>\n",
       "    <tr>\n",
       "      <td>13</td>\n",
       "      <td>0.351200</td>\n",
       "      <td>-0.169191</td>\n",
       "      <td>0.168317</td>\n",
       "      <td>0.571429</td>\n",
       "      <td>0.864987</td>\n",
       "      <td>0.806930</td>\n",
       "      <td>0.909743</td>\n",
       "      <td>0.893527</td>\n",
       "      <td>0.894928</td>\n",
       "      <td>0.874023</td>\n",
       "    </tr>\n",
       "    <tr>\n",
       "      <td>13</td>\n",
       "      <td>0.351200</td>\n",
       "      <td>0.322690</td>\n",
       "      <td>0.108155</td>\n",
       "      <td>0.549044</td>\n",
       "      <td>0.626969</td>\n",
       "      <td>0.801791</td>\n",
       "      <td>0.639467</td>\n",
       "      <td>0.811239</td>\n",
       "      <td>0.826578</td>\n",
       "      <td>0.741209</td>\n",
       "    </tr>\n",
       "    <tr>\n",
       "      <td>13</td>\n",
       "      <td>0.351200</td>\n",
       "      <td>0.004169</td>\n",
       "      <td>0.149573</td>\n",
       "      <td>0.515987</td>\n",
       "      <td>0.862054</td>\n",
       "      <td>0.773919</td>\n",
       "      <td>0.901930</td>\n",
       "      <td>0.876720</td>\n",
       "      <td>0.856466</td>\n",
       "      <td>0.854218</td>\n",
       "    </tr>\n",
       "  </tbody>\n",
       "</table><p>"
      ],
      "text/plain": [
       "<IPython.core.display.HTML object>"
      ]
     },
     "metadata": {},
     "output_type": "display_data"
    },
    {
     "name": "stderr",
     "output_type": "stream",
     "text": [
      "Saving model checkpoint to ./vit-mae-chexpert-auc-fine-tuned-fandl-1/checkpoint-500\n",
      "Configuration saved in ./vit-mae-chexpert-auc-fine-tuned-fandl-1/checkpoint-500/config.json\n",
      "Model weights saved in ./vit-mae-chexpert-auc-fine-tuned-fandl-1/checkpoint-500/pytorch_model.bin\n",
      "***** Running Evaluation *****\n",
      "  Num examples = 38149\n",
      "  Batch size = 48\n",
      "Saving model checkpoint to ./vit-mae-chexpert-auc-fine-tuned-fandl-1/checkpoint-1000\n",
      "Configuration saved in ./vit-mae-chexpert-auc-fine-tuned-fandl-1/checkpoint-1000/config.json\n",
      "Model weights saved in ./vit-mae-chexpert-auc-fine-tuned-fandl-1/checkpoint-1000/pytorch_model.bin\n",
      "***** Running Evaluation *****\n",
      "  Num examples = 38149\n",
      "  Batch size = 48\n",
      "Saving model checkpoint to ./vit-mae-chexpert-auc-fine-tuned-fandl-1/checkpoint-1500\n",
      "Configuration saved in ./vit-mae-chexpert-auc-fine-tuned-fandl-1/checkpoint-1500/config.json\n",
      "Model weights saved in ./vit-mae-chexpert-auc-fine-tuned-fandl-1/checkpoint-1500/pytorch_model.bin\n",
      "***** Running Evaluation *****\n",
      "  Num examples = 38149\n",
      "  Batch size = 48\n",
      "Saving model checkpoint to ./vit-mae-chexpert-auc-fine-tuned-fandl-1/checkpoint-2000\n",
      "Configuration saved in ./vit-mae-chexpert-auc-fine-tuned-fandl-1/checkpoint-2000/config.json\n",
      "Model weights saved in ./vit-mae-chexpert-auc-fine-tuned-fandl-1/checkpoint-2000/pytorch_model.bin\n",
      "Saving model checkpoint to ./vit-mae-chexpert-auc-fine-tuned-fandl-1/checkpoint-2500\n",
      "Configuration saved in ./vit-mae-chexpert-auc-fine-tuned-fandl-1/checkpoint-2500/config.json\n",
      "Model weights saved in ./vit-mae-chexpert-auc-fine-tuned-fandl-1/checkpoint-2500/pytorch_model.bin\n",
      "***** Running Evaluation *****\n",
      "  Num examples = 38149\n",
      "  Batch size = 48\n",
      "Saving model checkpoint to ./vit-mae-chexpert-auc-fine-tuned-fandl-1/checkpoint-3000\n",
      "Configuration saved in ./vit-mae-chexpert-auc-fine-tuned-fandl-1/checkpoint-3000/config.json\n",
      "Model weights saved in ./vit-mae-chexpert-auc-fine-tuned-fandl-1/checkpoint-3000/pytorch_model.bin\n",
      "***** Running Evaluation *****\n",
      "  Num examples = 38149\n",
      "  Batch size = 48\n",
      "Saving model checkpoint to ./vit-mae-chexpert-auc-fine-tuned-fandl-1/checkpoint-3500\n",
      "Configuration saved in ./vit-mae-chexpert-auc-fine-tuned-fandl-1/checkpoint-3500/config.json\n",
      "Model weights saved in ./vit-mae-chexpert-auc-fine-tuned-fandl-1/checkpoint-3500/pytorch_model.bin\n",
      "***** Running Evaluation *****\n",
      "  Num examples = 38149\n",
      "  Batch size = 48\n",
      "Saving model checkpoint to ./vit-mae-chexpert-auc-fine-tuned-fandl-1/checkpoint-4000\n",
      "Configuration saved in ./vit-mae-chexpert-auc-fine-tuned-fandl-1/checkpoint-4000/config.json\n",
      "Model weights saved in ./vit-mae-chexpert-auc-fine-tuned-fandl-1/checkpoint-4000/pytorch_model.bin\n",
      "***** Running Evaluation *****\n",
      "  Num examples = 38149\n",
      "  Batch size = 48\n",
      "Saving model checkpoint to ./vit-mae-chexpert-auc-fine-tuned-fandl-1/checkpoint-4500\n",
      "Configuration saved in ./vit-mae-chexpert-auc-fine-tuned-fandl-1/checkpoint-4500/config.json\n",
      "Model weights saved in ./vit-mae-chexpert-auc-fine-tuned-fandl-1/checkpoint-4500/pytorch_model.bin\n",
      "Saving model checkpoint to ./vit-mae-chexpert-auc-fine-tuned-fandl-1/checkpoint-5000\n",
      "Configuration saved in ./vit-mae-chexpert-auc-fine-tuned-fandl-1/checkpoint-5000/config.json\n",
      "Model weights saved in ./vit-mae-chexpert-auc-fine-tuned-fandl-1/checkpoint-5000/pytorch_model.bin\n",
      "***** Running Evaluation *****\n",
      "  Num examples = 38149\n",
      "  Batch size = 48\n",
      "Saving model checkpoint to ./vit-mae-chexpert-auc-fine-tuned-fandl-1/checkpoint-5500\n",
      "Configuration saved in ./vit-mae-chexpert-auc-fine-tuned-fandl-1/checkpoint-5500/config.json\n",
      "Model weights saved in ./vit-mae-chexpert-auc-fine-tuned-fandl-1/checkpoint-5500/pytorch_model.bin\n",
      "***** Running Evaluation *****\n",
      "  Num examples = 38149\n",
      "  Batch size = 48\n",
      "Saving model checkpoint to ./vit-mae-chexpert-auc-fine-tuned-fandl-1/checkpoint-6000\n",
      "Configuration saved in ./vit-mae-chexpert-auc-fine-tuned-fandl-1/checkpoint-6000/config.json\n",
      "Model weights saved in ./vit-mae-chexpert-auc-fine-tuned-fandl-1/checkpoint-6000/pytorch_model.bin\n",
      "***** Running Evaluation *****\n",
      "  Num examples = 38149\n",
      "  Batch size = 48\n",
      "Saving model checkpoint to ./vit-mae-chexpert-auc-fine-tuned-fandl-1/checkpoint-6500\n",
      "Configuration saved in ./vit-mae-chexpert-auc-fine-tuned-fandl-1/checkpoint-6500/config.json\n",
      "Model weights saved in ./vit-mae-chexpert-auc-fine-tuned-fandl-1/checkpoint-6500/pytorch_model.bin\n",
      "Saving model checkpoint to ./vit-mae-chexpert-auc-fine-tuned-fandl-1/checkpoint-7000\n",
      "Configuration saved in ./vit-mae-chexpert-auc-fine-tuned-fandl-1/checkpoint-7000/config.json\n",
      "Model weights saved in ./vit-mae-chexpert-auc-fine-tuned-fandl-1/checkpoint-7000/pytorch_model.bin\n",
      "***** Running Evaluation *****\n",
      "  Num examples = 38149\n",
      "  Batch size = 48\n",
      "Saving model checkpoint to ./vit-mae-chexpert-auc-fine-tuned-fandl-1/checkpoint-7500\n",
      "Configuration saved in ./vit-mae-chexpert-auc-fine-tuned-fandl-1/checkpoint-7500/config.json\n",
      "Model weights saved in ./vit-mae-chexpert-auc-fine-tuned-fandl-1/checkpoint-7500/pytorch_model.bin\n",
      "***** Running Evaluation *****\n",
      "  Num examples = 38149\n",
      "  Batch size = 48\n",
      "Saving model checkpoint to ./vit-mae-chexpert-auc-fine-tuned-fandl-1/checkpoint-8000\n",
      "Configuration saved in ./vit-mae-chexpert-auc-fine-tuned-fandl-1/checkpoint-8000/config.json\n",
      "Model weights saved in ./vit-mae-chexpert-auc-fine-tuned-fandl-1/checkpoint-8000/pytorch_model.bin\n",
      "***** Running Evaluation *****\n",
      "  Num examples = 38149\n",
      "  Batch size = 48\n",
      "Saving model checkpoint to ./vit-mae-chexpert-auc-fine-tuned-fandl-1/checkpoint-8500\n",
      "Configuration saved in ./vit-mae-chexpert-auc-fine-tuned-fandl-1/checkpoint-8500/config.json\n",
      "Model weights saved in ./vit-mae-chexpert-auc-fine-tuned-fandl-1/checkpoint-8500/pytorch_model.bin\n"
     ]
    },
    {
     "ename": "RuntimeError",
     "evalue": "[enforce fail at inline_container.cc:300] . unexpected pos 40216896 vs 40216784",
     "output_type": "error",
     "traceback": [
      "\u001b[0;31m---------------------------------------------------------------------------\u001b[0m",
      "\u001b[0;31mOSError\u001b[0m                                   Traceback (most recent call last)",
      "\u001b[0;32m/opt/conda/envs/chexpert/lib/python3.7/site-packages/torch/serialization.py\u001b[0m in \u001b[0;36msave\u001b[0;34m(obj, f, pickle_module, pickle_protocol, _use_new_zipfile_serialization)\u001b[0m\n\u001b[1;32m    379\u001b[0m             \u001b[0;32mwith\u001b[0m \u001b[0m_open_zipfile_writer\u001b[0m\u001b[0;34m(\u001b[0m\u001b[0mopened_file\u001b[0m\u001b[0;34m)\u001b[0m \u001b[0;32mas\u001b[0m \u001b[0mopened_zipfile\u001b[0m\u001b[0;34m:\u001b[0m\u001b[0;34m\u001b[0m\u001b[0;34m\u001b[0m\u001b[0m\n\u001b[0;32m--> 380\u001b[0;31m                 \u001b[0m_save\u001b[0m\u001b[0;34m(\u001b[0m\u001b[0mobj\u001b[0m\u001b[0;34m,\u001b[0m \u001b[0mopened_zipfile\u001b[0m\u001b[0;34m,\u001b[0m \u001b[0mpickle_module\u001b[0m\u001b[0;34m,\u001b[0m \u001b[0mpickle_protocol\u001b[0m\u001b[0;34m)\u001b[0m\u001b[0;34m\u001b[0m\u001b[0;34m\u001b[0m\u001b[0m\n\u001b[0m\u001b[1;32m    381\u001b[0m                 \u001b[0;32mreturn\u001b[0m\u001b[0;34m\u001b[0m\u001b[0;34m\u001b[0m\u001b[0m\n",
      "\u001b[0;32m/opt/conda/envs/chexpert/lib/python3.7/site-packages/torch/serialization.py\u001b[0m in \u001b[0;36m_save\u001b[0;34m(obj, zip_file, pickle_module, pickle_protocol)\u001b[0m\n\u001b[1;32m    603\u001b[0m         \u001b[0mnum_bytes\u001b[0m \u001b[0;34m=\u001b[0m \u001b[0mstorage\u001b[0m\u001b[0;34m.\u001b[0m\u001b[0mnbytes\u001b[0m\u001b[0;34m(\u001b[0m\u001b[0;34m)\u001b[0m\u001b[0;34m\u001b[0m\u001b[0;34m\u001b[0m\u001b[0m\n\u001b[0;32m--> 604\u001b[0;31m         \u001b[0mzip_file\u001b[0m\u001b[0;34m.\u001b[0m\u001b[0mwrite_record\u001b[0m\u001b[0;34m(\u001b[0m\u001b[0mname\u001b[0m\u001b[0;34m,\u001b[0m \u001b[0mstorage\u001b[0m\u001b[0;34m.\u001b[0m\u001b[0mdata_ptr\u001b[0m\u001b[0;34m(\u001b[0m\u001b[0;34m)\u001b[0m\u001b[0;34m,\u001b[0m \u001b[0mnum_bytes\u001b[0m\u001b[0;34m)\u001b[0m\u001b[0;34m\u001b[0m\u001b[0;34m\u001b[0m\u001b[0m\n\u001b[0m\u001b[1;32m    605\u001b[0m \u001b[0;34m\u001b[0m\u001b[0m\n",
      "\u001b[0;31mOSError\u001b[0m: [Errno 28] No space left on device",
      "\nDuring handling of the above exception, another exception occurred:\n",
      "\u001b[0;31mRuntimeError\u001b[0m                              Traceback (most recent call last)",
      "\u001b[0;32m/tmp/ipykernel_7884/4032920361.py\u001b[0m in \u001b[0;36m<module>\u001b[0;34m\u001b[0m\n\u001b[0;32m----> 1\u001b[0;31m \u001b[0mtrainer\u001b[0m\u001b[0;34m.\u001b[0m\u001b[0mtrain\u001b[0m\u001b[0;34m(\u001b[0m\u001b[0;34m)\u001b[0m\u001b[0;34m\u001b[0m\u001b[0;34m\u001b[0m\u001b[0m\n\u001b[0m",
      "\u001b[0;32m/opt/conda/envs/chexpert/lib/python3.7/site-packages/transformers/trainer.py\u001b[0m in \u001b[0;36mtrain\u001b[0;34m(self, resume_from_checkpoint, trial, ignore_keys_for_eval, **kwargs)\u001b[0m\n\u001b[1;32m   1495\u001b[0m                     \u001b[0mself\u001b[0m\u001b[0;34m.\u001b[0m\u001b[0mcontrol\u001b[0m \u001b[0;34m=\u001b[0m \u001b[0mself\u001b[0m\u001b[0;34m.\u001b[0m\u001b[0mcallback_handler\u001b[0m\u001b[0;34m.\u001b[0m\u001b[0mon_step_end\u001b[0m\u001b[0;34m(\u001b[0m\u001b[0margs\u001b[0m\u001b[0;34m,\u001b[0m \u001b[0mself\u001b[0m\u001b[0;34m.\u001b[0m\u001b[0mstate\u001b[0m\u001b[0;34m,\u001b[0m \u001b[0mself\u001b[0m\u001b[0;34m.\u001b[0m\u001b[0mcontrol\u001b[0m\u001b[0;34m)\u001b[0m\u001b[0;34m\u001b[0m\u001b[0;34m\u001b[0m\u001b[0m\n\u001b[1;32m   1496\u001b[0m \u001b[0;34m\u001b[0m\u001b[0m\n\u001b[0;32m-> 1497\u001b[0;31m                     \u001b[0mself\u001b[0m\u001b[0;34m.\u001b[0m\u001b[0m_maybe_log_save_evaluate\u001b[0m\u001b[0;34m(\u001b[0m\u001b[0mtr_loss\u001b[0m\u001b[0;34m,\u001b[0m \u001b[0mmodel\u001b[0m\u001b[0;34m,\u001b[0m \u001b[0mtrial\u001b[0m\u001b[0;34m,\u001b[0m \u001b[0mepoch\u001b[0m\u001b[0;34m,\u001b[0m \u001b[0mignore_keys_for_eval\u001b[0m\u001b[0;34m)\u001b[0m\u001b[0;34m\u001b[0m\u001b[0;34m\u001b[0m\u001b[0m\n\u001b[0m\u001b[1;32m   1498\u001b[0m                 \u001b[0;32melse\u001b[0m\u001b[0;34m:\u001b[0m\u001b[0;34m\u001b[0m\u001b[0;34m\u001b[0m\u001b[0m\n\u001b[1;32m   1499\u001b[0m                     \u001b[0mself\u001b[0m\u001b[0;34m.\u001b[0m\u001b[0mcontrol\u001b[0m \u001b[0;34m=\u001b[0m \u001b[0mself\u001b[0m\u001b[0;34m.\u001b[0m\u001b[0mcallback_handler\u001b[0m\u001b[0;34m.\u001b[0m\u001b[0mon_substep_end\u001b[0m\u001b[0;34m(\u001b[0m\u001b[0margs\u001b[0m\u001b[0;34m,\u001b[0m \u001b[0mself\u001b[0m\u001b[0;34m.\u001b[0m\u001b[0mstate\u001b[0m\u001b[0;34m,\u001b[0m \u001b[0mself\u001b[0m\u001b[0;34m.\u001b[0m\u001b[0mcontrol\u001b[0m\u001b[0;34m)\u001b[0m\u001b[0;34m\u001b[0m\u001b[0;34m\u001b[0m\u001b[0m\n",
      "\u001b[0;32m/opt/conda/envs/chexpert/lib/python3.7/site-packages/transformers/trainer.py\u001b[0m in \u001b[0;36m_maybe_log_save_evaluate\u001b[0;34m(self, tr_loss, model, trial, epoch, ignore_keys_for_eval)\u001b[0m\n\u001b[1;32m   1626\u001b[0m \u001b[0;34m\u001b[0m\u001b[0m\n\u001b[1;32m   1627\u001b[0m         \u001b[0;32mif\u001b[0m \u001b[0mself\u001b[0m\u001b[0;34m.\u001b[0m\u001b[0mcontrol\u001b[0m\u001b[0;34m.\u001b[0m\u001b[0mshould_save\u001b[0m\u001b[0;34m:\u001b[0m\u001b[0;34m\u001b[0m\u001b[0;34m\u001b[0m\u001b[0m\n\u001b[0;32m-> 1628\u001b[0;31m             \u001b[0mself\u001b[0m\u001b[0;34m.\u001b[0m\u001b[0m_save_checkpoint\u001b[0m\u001b[0;34m(\u001b[0m\u001b[0mmodel\u001b[0m\u001b[0;34m,\u001b[0m \u001b[0mtrial\u001b[0m\u001b[0;34m,\u001b[0m \u001b[0mmetrics\u001b[0m\u001b[0;34m=\u001b[0m\u001b[0mmetrics\u001b[0m\u001b[0;34m)\u001b[0m\u001b[0;34m\u001b[0m\u001b[0;34m\u001b[0m\u001b[0m\n\u001b[0m\u001b[1;32m   1629\u001b[0m             \u001b[0mself\u001b[0m\u001b[0;34m.\u001b[0m\u001b[0mcontrol\u001b[0m \u001b[0;34m=\u001b[0m \u001b[0mself\u001b[0m\u001b[0;34m.\u001b[0m\u001b[0mcallback_handler\u001b[0m\u001b[0;34m.\u001b[0m\u001b[0mon_save\u001b[0m\u001b[0;34m(\u001b[0m\u001b[0mself\u001b[0m\u001b[0;34m.\u001b[0m\u001b[0margs\u001b[0m\u001b[0;34m,\u001b[0m \u001b[0mself\u001b[0m\u001b[0;34m.\u001b[0m\u001b[0mstate\u001b[0m\u001b[0;34m,\u001b[0m \u001b[0mself\u001b[0m\u001b[0;34m.\u001b[0m\u001b[0mcontrol\u001b[0m\u001b[0;34m)\u001b[0m\u001b[0;34m\u001b[0m\u001b[0;34m\u001b[0m\u001b[0m\n\u001b[1;32m   1630\u001b[0m \u001b[0;34m\u001b[0m\u001b[0m\n",
      "\u001b[0;32m/opt/conda/envs/chexpert/lib/python3.7/site-packages/transformers/trainer.py\u001b[0m in \u001b[0;36m_save_checkpoint\u001b[0;34m(self, model, trial, metrics)\u001b[0m\n\u001b[1;32m   1728\u001b[0m         \u001b[0;32melif\u001b[0m \u001b[0mself\u001b[0m\u001b[0;34m.\u001b[0m\u001b[0margs\u001b[0m\u001b[0;34m.\u001b[0m\u001b[0mshould_save\u001b[0m \u001b[0;32mand\u001b[0m \u001b[0;32mnot\u001b[0m \u001b[0mself\u001b[0m\u001b[0;34m.\u001b[0m\u001b[0mdeepspeed\u001b[0m\u001b[0;34m:\u001b[0m\u001b[0;34m\u001b[0m\u001b[0;34m\u001b[0m\u001b[0m\n\u001b[1;32m   1729\u001b[0m             \u001b[0;31m# deepspeed.save_checkpoint above saves model/optim/sched\u001b[0m\u001b[0;34m\u001b[0m\u001b[0;34m\u001b[0m\u001b[0;34m\u001b[0m\u001b[0m\n\u001b[0;32m-> 1730\u001b[0;31m             \u001b[0mtorch\u001b[0m\u001b[0;34m.\u001b[0m\u001b[0msave\u001b[0m\u001b[0;34m(\u001b[0m\u001b[0mself\u001b[0m\u001b[0;34m.\u001b[0m\u001b[0moptimizer\u001b[0m\u001b[0;34m.\u001b[0m\u001b[0mstate_dict\u001b[0m\u001b[0;34m(\u001b[0m\u001b[0;34m)\u001b[0m\u001b[0;34m,\u001b[0m \u001b[0mos\u001b[0m\u001b[0;34m.\u001b[0m\u001b[0mpath\u001b[0m\u001b[0;34m.\u001b[0m\u001b[0mjoin\u001b[0m\u001b[0;34m(\u001b[0m\u001b[0moutput_dir\u001b[0m\u001b[0;34m,\u001b[0m \u001b[0mOPTIMIZER_NAME\u001b[0m\u001b[0;34m)\u001b[0m\u001b[0;34m)\u001b[0m\u001b[0;34m\u001b[0m\u001b[0;34m\u001b[0m\u001b[0m\n\u001b[0m\u001b[1;32m   1731\u001b[0m             \u001b[0;32mwith\u001b[0m \u001b[0mwarnings\u001b[0m\u001b[0;34m.\u001b[0m\u001b[0mcatch_warnings\u001b[0m\u001b[0;34m(\u001b[0m\u001b[0mrecord\u001b[0m\u001b[0;34m=\u001b[0m\u001b[0;32mTrue\u001b[0m\u001b[0;34m)\u001b[0m \u001b[0;32mas\u001b[0m \u001b[0mcaught_warnings\u001b[0m\u001b[0;34m:\u001b[0m\u001b[0;34m\u001b[0m\u001b[0;34m\u001b[0m\u001b[0m\n\u001b[1;32m   1732\u001b[0m                 \u001b[0mtorch\u001b[0m\u001b[0;34m.\u001b[0m\u001b[0msave\u001b[0m\u001b[0;34m(\u001b[0m\u001b[0mself\u001b[0m\u001b[0;34m.\u001b[0m\u001b[0mlr_scheduler\u001b[0m\u001b[0;34m.\u001b[0m\u001b[0mstate_dict\u001b[0m\u001b[0;34m(\u001b[0m\u001b[0;34m)\u001b[0m\u001b[0;34m,\u001b[0m \u001b[0mos\u001b[0m\u001b[0;34m.\u001b[0m\u001b[0mpath\u001b[0m\u001b[0;34m.\u001b[0m\u001b[0mjoin\u001b[0m\u001b[0;34m(\u001b[0m\u001b[0moutput_dir\u001b[0m\u001b[0;34m,\u001b[0m \u001b[0mSCHEDULER_NAME\u001b[0m\u001b[0;34m)\u001b[0m\u001b[0;34m)\u001b[0m\u001b[0;34m\u001b[0m\u001b[0;34m\u001b[0m\u001b[0m\n",
      "\u001b[0;32m/opt/conda/envs/chexpert/lib/python3.7/site-packages/torch/serialization.py\u001b[0m in \u001b[0;36msave\u001b[0;34m(obj, f, pickle_module, pickle_protocol, _use_new_zipfile_serialization)\u001b[0m\n\u001b[1;32m    379\u001b[0m             \u001b[0;32mwith\u001b[0m \u001b[0m_open_zipfile_writer\u001b[0m\u001b[0;34m(\u001b[0m\u001b[0mopened_file\u001b[0m\u001b[0;34m)\u001b[0m \u001b[0;32mas\u001b[0m \u001b[0mopened_zipfile\u001b[0m\u001b[0;34m:\u001b[0m\u001b[0;34m\u001b[0m\u001b[0;34m\u001b[0m\u001b[0m\n\u001b[1;32m    380\u001b[0m                 \u001b[0m_save\u001b[0m\u001b[0;34m(\u001b[0m\u001b[0mobj\u001b[0m\u001b[0;34m,\u001b[0m \u001b[0mopened_zipfile\u001b[0m\u001b[0;34m,\u001b[0m \u001b[0mpickle_module\u001b[0m\u001b[0;34m,\u001b[0m \u001b[0mpickle_protocol\u001b[0m\u001b[0;34m)\u001b[0m\u001b[0;34m\u001b[0m\u001b[0;34m\u001b[0m\u001b[0m\n\u001b[0;32m--> 381\u001b[0;31m                 \u001b[0;32mreturn\u001b[0m\u001b[0;34m\u001b[0m\u001b[0;34m\u001b[0m\u001b[0m\n\u001b[0m\u001b[1;32m    382\u001b[0m         \u001b[0m_legacy_save\u001b[0m\u001b[0;34m(\u001b[0m\u001b[0mobj\u001b[0m\u001b[0;34m,\u001b[0m \u001b[0mopened_file\u001b[0m\u001b[0;34m,\u001b[0m \u001b[0mpickle_module\u001b[0m\u001b[0;34m,\u001b[0m \u001b[0mpickle_protocol\u001b[0m\u001b[0;34m)\u001b[0m\u001b[0;34m\u001b[0m\u001b[0;34m\u001b[0m\u001b[0m\n\u001b[1;32m    383\u001b[0m \u001b[0;34m\u001b[0m\u001b[0m\n",
      "\u001b[0;32m/opt/conda/envs/chexpert/lib/python3.7/site-packages/torch/serialization.py\u001b[0m in \u001b[0;36m__exit__\u001b[0;34m(self, *args)\u001b[0m\n\u001b[1;32m    258\u001b[0m \u001b[0;34m\u001b[0m\u001b[0m\n\u001b[1;32m    259\u001b[0m     \u001b[0;32mdef\u001b[0m \u001b[0m__exit__\u001b[0m\u001b[0;34m(\u001b[0m\u001b[0mself\u001b[0m\u001b[0;34m,\u001b[0m \u001b[0;34m*\u001b[0m\u001b[0margs\u001b[0m\u001b[0;34m)\u001b[0m \u001b[0;34m->\u001b[0m \u001b[0;32mNone\u001b[0m\u001b[0;34m:\u001b[0m\u001b[0;34m\u001b[0m\u001b[0;34m\u001b[0m\u001b[0m\n\u001b[0;32m--> 260\u001b[0;31m         \u001b[0mself\u001b[0m\u001b[0;34m.\u001b[0m\u001b[0mfile_like\u001b[0m\u001b[0;34m.\u001b[0m\u001b[0mwrite_end_of_file\u001b[0m\u001b[0;34m(\u001b[0m\u001b[0;34m)\u001b[0m\u001b[0;34m\u001b[0m\u001b[0;34m\u001b[0m\u001b[0m\n\u001b[0m\u001b[1;32m    261\u001b[0m         \u001b[0mself\u001b[0m\u001b[0;34m.\u001b[0m\u001b[0mbuffer\u001b[0m\u001b[0;34m.\u001b[0m\u001b[0mflush\u001b[0m\u001b[0;34m(\u001b[0m\u001b[0;34m)\u001b[0m\u001b[0;34m\u001b[0m\u001b[0;34m\u001b[0m\u001b[0m\n\u001b[1;32m    262\u001b[0m \u001b[0;34m\u001b[0m\u001b[0m\n",
      "\u001b[0;31mRuntimeError\u001b[0m: [enforce fail at inline_container.cc:300] . unexpected pos 40216896 vs 40216784"
     ]
    }
   ],
   "source": [
    "trainer.train()"
   ]
  },
  {
   "cell_type": "code",
   "execution_count": 14,
   "metadata": {},
   "outputs": [
    {
     "name": "stderr",
     "output_type": "stream",
     "text": [
      "Saving model checkpoint to ./vit-mae-chexpert-auc-fine-tuned-fandl-1\n",
      "Configuration saved in ./vit-mae-chexpert-auc-fine-tuned-fandl-1/config.json\n",
      "Model weights saved in ./vit-mae-chexpert-auc-fine-tuned-fandl-1/pytorch_model.bin\n"
     ]
    }
   ],
   "source": [
    "trainer.save_model()"
   ]
  },
  {
   "cell_type": "code",
   "execution_count": 18,
   "metadata": {},
   "outputs": [],
   "source": [
    "validation_df = pd.read_csv(\"ChexPert/valid.csv\")\n",
    "valid_dataset = ChexpertViTDataset(\"ChexPert/data\", validation_df, feature_extractor, use_frontal=False, classes=COMPETITION_TASKS,\n",
    "    uncertainty_method=\"smooth\", smoothing_lower_bound=0.55, smoothing_upper_bound=0.85)"
   ]
  },
  {
   "cell_type": "code",
   "execution_count": 19,
   "metadata": {},
   "outputs": [
    {
     "name": "stderr",
     "output_type": "stream",
     "text": [
      "***** Running Evaluation *****\n",
      "  Num examples = 234\n",
      "  Batch size = 48\n"
     ]
    },
    {
     "data": {
      "text/plain": [
       "{'eval_loss': 0.0041694967076182365,\n",
       " 'eval_accuracy': 0.14957264957264957,\n",
       " 'eval_f1': 0.515986769570011,\n",
       " 'eval_AUC_Atelectasis': 0.8620535714285715,\n",
       " 'eval_AUC_Cardiomegaly': 0.7739192062367115,\n",
       " 'eval_AUC_Consolidation': 0.9019297452133272,\n",
       " 'eval_AUC_Edema': 0.8767195767195767,\n",
       " 'eval_AUC_Pleural Effusion': 0.8564661721333452,\n",
       " 'eval_average_auc': 0.8542176543463065}"
      ]
     },
     "execution_count": 19,
     "metadata": {},
     "output_type": "execute_result"
    }
   ],
   "source": [
    "trainer.evaluate(eval_dataset=valid_dataset)"
   ]
  },
  {
   "cell_type": "code",
   "execution_count": 17,
   "metadata": {},
   "outputs": [
    {
     "name": "stderr",
     "output_type": "stream",
     "text": [
      "***** Running Evaluation *****\n",
      "  Num examples = 38149\n",
      "  Batch size = 48\n"
     ]
    },
    {
     "data": {
      "text/plain": [
       "{'eval_loss': 0.322690486907959,\n",
       " 'eval_accuracy': 0.10815486644472988,\n",
       " 'eval_f1': 0.5490435037351692,\n",
       " 'eval_AUC_Atelectasis': 0.6269687181902108,\n",
       " 'eval_AUC_Cardiomegaly': 0.801791253731213,\n",
       " 'eval_AUC_Consolidation': 0.6394674828343314,\n",
       " 'eval_AUC_Edema': 0.811238557111992,\n",
       " 'eval_AUC_Pleural Effusion': 0.8265778366669982,\n",
       " 'eval_average_auc': 0.741208769706949}"
      ]
     },
     "execution_count": 17,
     "metadata": {},
     "output_type": "execute_result"
    }
   ],
   "source": [
    "trainer.evaluate()"
   ]
  },
  {
   "cell_type": "code",
   "execution_count": null,
   "metadata": {},
   "outputs": [],
   "source": []
  }
 ],
 "metadata": {
  "interpreter": {
   "hash": "e074c076b93983c67b0af1c746f3e6f6f1b7be7d64e3d1f6abea4edae919787d"
  },
  "kernelspec": {
   "display_name": "Python 3.7.12 ('chexpert')",
   "language": "python",
   "name": "python3"
  },
  "language_info": {
   "codemirror_mode": {
    "name": "ipython",
    "version": 3
   },
   "file_extension": ".py",
   "mimetype": "text/x-python",
   "name": "python",
   "nbconvert_exporter": "python",
   "pygments_lexer": "ipython3",
   "version": "3.7.12"
  },
  "orig_nbformat": 4
 },
 "nbformat": 4,
 "nbformat_minor": 2
}

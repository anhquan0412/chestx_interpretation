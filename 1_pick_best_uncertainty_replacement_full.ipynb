{
 "cells": [
  {
   "cell_type": "markdown",
   "metadata": {
    "toc": true
   },
   "source": [
    "<h1>Table of Contents<span class=\"tocSkip\"></span></h1>\n",
    "<div class=\"toc\"><ul class=\"toc-item\"><li><span><a href=\"#Load-lib-and-define-helper-functions\" data-toc-modified-id=\"Load-lib-and-define-helper-functions-1\"><span class=\"toc-item-num\">1&nbsp;&nbsp;</span>Load lib and define helper functions</a></span></li><li><span><a href=\"#Step-1:-Training-with-BCE-loss\" data-toc-modified-id=\"Step-1:-Training-with-BCE-loss-2\"><span class=\"toc-item-num\">2&nbsp;&nbsp;</span>Step 1: Training with BCE loss</a></span><ul class=\"toc-item\"><li><span><a href=\"#U-ones\" data-toc-modified-id=\"U-ones-2.1\"><span class=\"toc-item-num\">2.1&nbsp;&nbsp;</span>U-ones</a></span></li><li><span><a href=\"#U-zeros\" data-toc-modified-id=\"U-zeros-2.2\"><span class=\"toc-item-num\">2.2&nbsp;&nbsp;</span>U-zeros</a></span></li><li><span><a href=\"#U-defaults\" data-toc-modified-id=\"U-defaults-2.3\"><span class=\"toc-item-num\">2.3&nbsp;&nbsp;</span>U-defaults</a></span></li><li><span><a href=\"#U-one-Smooth\" data-toc-modified-id=\"U-one-Smooth-2.4\"><span class=\"toc-item-num\">2.4&nbsp;&nbsp;</span>U-one Smooth</a></span></li><li><span><a href=\"#U-default-smooth\" data-toc-modified-id=\"U-default-smooth-2.5\"><span class=\"toc-item-num\">2.5&nbsp;&nbsp;</span>U-default smooth</a></span></li></ul></li></ul></div>"
   ]
  },
  {
   "cell_type": "markdown",
   "metadata": {},
   "source": [
    "# Load lib and define helper functions"
   ]
  },
  {
   "cell_type": "code",
   "execution_count": 1,
   "metadata": {},
   "outputs": [],
   "source": [
    "%reload_ext autoreload\n",
    "%autoreload 2\n",
    "\n",
    "from pathlib import Path\n",
    "\n",
    "# from libauc.losses import AUCMLoss, CrossEntropyLoss, AUCM_MultiLabel\n",
    "# from libauc.optimizers import PESG, Adam\n",
    "# from libauc.models import DenseNet121, DenseNet169\n",
    "# import torch \n",
    "# from PIL import Image\n",
    "# import numpy as np\n",
    "# import torchvision.transforms as transforms\n",
    "# from torch.utils.data import Dataset\n",
    "# from sklearn.metrics import roc_auc_score\n",
    "# import pandas as pd\n",
    "# from tqdm import tqdm\n",
    "# from tqdm import tqdm_notebook\n",
    "\n",
    "from dataloader import *\n",
    "from trainer import *\n",
    "import AUCMMS\n",
    "from fastai.vision.all import *\n",
    "\n",
    "DATA = '/media/samsung/chexpert/CheXpert-v1.0-small/'\n"
   ]
  },
  {
   "cell_type": "markdown",
   "metadata": {},
   "source": [
    "# Step 1: Training with BCE loss"
   ]
  },
  {
   "cell_type": "markdown",
   "metadata": {},
   "source": [
    "## U-ones"
   ]
  },
  {
   "cell_type": "code",
   "execution_count": 2,
   "metadata": {},
   "outputs": [],
   "source": [
    "data_params={\n",
    "    'uncertainty_method':'one',\n",
    "    'use_frontal':True,\n",
    "    'image_size':224,\n",
    "    'sample_frac':1,\n",
    "    'sample_seed':123,\n",
    "    'batch_size': 128,\n",
    "}\n",
    "SEED = 123\n",
    "WEIGHT_DECAY = 1e-5\n",
    "LR = 3.3e-4\n",
    "N_EPOCHS=4"
   ]
  },
  {
   "cell_type": "code",
   "execution_count": 3,
   "metadata": {},
   "outputs": [
    {
     "name": "stderr",
     "output_type": "stream",
     "text": [
      "/home/quan/kwon/OMSCS/deep_learning/chestx_interpretation/dataloader.py:51: FutureWarning: The default value of regex will change from True to False in a future version.\n",
      "  self.df['Path'] = self.df['Path'].str.replace('CheXpert-v1.0-small/', '')\n",
      "/home/quan/kwon/OMSCS/deep_learning/chestx_interpretation/dataloader.py:52: FutureWarning: The default value of regex will change from True to False in a future version.\n",
      "  self.df['Path'] = self.df['Path'].str.replace('CheXpert-v1.0/', '')\n"
     ]
    },
    {
     "name": "stdout",
     "output_type": "stream",
     "text": [
      "Multi-label mode: True, Number of classes: [5]\n",
      "Multi-label mode: True, Number of classes: [5]\n"
     ]
    },
    {
     "name": "stderr",
     "output_type": "stream",
     "text": [
      "/home/quan/kwon/OMSCS/deep_learning/chestx_interpretation/dataloader.py:51: FutureWarning: The default value of regex will change from True to False in a future version.\n",
      "  self.df['Path'] = self.df['Path'].str.replace('CheXpert-v1.0-small/', '')\n",
      "/home/quan/kwon/OMSCS/deep_learning/chestx_interpretation/dataloader.py:52: FutureWarning: The default value of regex will change from True to False in a future version.\n",
      "  self.df['Path'] = self.df['Path'].str.replace('CheXpert-v1.0/', '')\n"
     ]
    }
   ],
   "source": [
    "trainloader,testloader,_ = create_loaders(**data_params)\n",
    "fastai_loader = DataLoaders(trainloader,testloader)"
   ]
  },
  {
   "cell_type": "code",
   "execution_count": 4,
   "metadata": {},
   "outputs": [
    {
     "data": {
      "text/html": [
       "<table border=\"1\" class=\"dataframe\">\n",
       "  <thead>\n",
       "    <tr style=\"text-align: left;\">\n",
       "      <th>epoch</th>\n",
       "      <th>train_loss</th>\n",
       "      <th>valid_loss</th>\n",
       "      <th>roc_auc_score</th>\n",
       "      <th>roc_auc_score</th>\n",
       "      <th>time</th>\n",
       "    </tr>\n",
       "  </thead>\n",
       "  <tbody>\n",
       "    <tr>\n",
       "      <td>0</td>\n",
       "      <td>0.457755</td>\n",
       "      <td>0.418379</td>\n",
       "      <td>0.862960</td>\n",
       "      <td>[0.8423622  0.77640374 0.84255515 0.92232143 0.93115942]</td>\n",
       "      <td>06:29</td>\n",
       "    </tr>\n",
       "    <tr>\n",
       "      <td>1</td>\n",
       "      <td>0.448690</td>\n",
       "      <td>0.433264</td>\n",
       "      <td>0.859331</td>\n",
       "      <td>[0.79805774 0.7635361  0.86663603 0.94077381 0.92764946]</td>\n",
       "      <td>06:28</td>\n",
       "    </tr>\n",
       "    <tr>\n",
       "      <td>2</td>\n",
       "      <td>0.434820</td>\n",
       "      <td>0.441966</td>\n",
       "      <td>0.880719</td>\n",
       "      <td>[0.83811024 0.81227718 0.88419118 0.9389881  0.93002717]</td>\n",
       "      <td>06:28</td>\n",
       "    </tr>\n",
       "    <tr>\n",
       "      <td>3</td>\n",
       "      <td>0.427990</td>\n",
       "      <td>0.428777</td>\n",
       "      <td>0.876429</td>\n",
       "      <td>[0.82729659 0.81645499 0.87242647 0.93571429 0.93025362]</td>\n",
       "      <td>06:28</td>\n",
       "    </tr>\n",
       "  </tbody>\n",
       "</table>"
      ],
      "text/plain": [
       "<IPython.core.display.HTML object>"
      ]
     },
     "metadata": {},
     "output_type": "display_data"
    },
    {
     "name": "stderr",
     "output_type": "stream",
     "text": [
      "/home/quan/anaconda3/envs/fastai_v2/lib/python3.8/site-packages/torch/nn/functional.py:718: UserWarning: Named tensors and all their associated APIs are an experimental feature and subject to change. Please do not use them for anything important until they are released as stable. (Triggered internally at  /pytorch/c10/core/TensorImpl.h:1156.)\n",
      "  return torch.max_pool2d(input, kernel_size, stride, padding, dilation, ceil_mode)\n"
     ]
    },
    {
     "name": "stdout",
     "output_type": "stream",
     "text": [
      "Better model found at epoch 0 with roc_auc_score value: 0.862960388792005.\n"
     ]
    },
    {
     "data": {
      "image/png": "[encoded data removed]",
      "text/plain": [
       "<Figure size 432x288 with 1 Axes>"
      ]
     },
     "metadata": {},
     "output_type": "display_data"
    },
    {
     "name": "stdout",
     "output_type": "stream",
     "text": [
      "Better model found at epoch 2 with roc_auc_score value: 0.8807187730885826.\n"
     ]
    }
   ],
   "source": [
    "WEIGHT_NAME='densenet_bce_uone_fit'\n",
    "model = get_densenet_model(SEED)\n",
    "loss,opt = get_loss_and_optimizer(model,LR,loss_type='bce',use_fastai=True,weight_decay=WEIGHT_DECAY)\n",
    "train_fastai_learner(fastai_loader,model,loss,opt,LR,n_epochs=N_EPOCHS,weight_name=WEIGHT_NAME,use_1cycle=False)"
   ]
  },
  {
   "cell_type": "code",
   "execution_count": 5,
   "metadata": {},
   "outputs": [
    {
     "data": {
      "text/html": [
       "<table border=\"1\" class=\"dataframe\">\n",
       "  <thead>\n",
       "    <tr style=\"text-align: left;\">\n",
       "      <th>epoch</th>\n",
       "      <th>train_loss</th>\n",
       "      <th>valid_loss</th>\n",
       "      <th>roc_auc_score</th>\n",
       "      <th>roc_auc_score</th>\n",
       "      <th>time</th>\n",
       "    </tr>\n",
       "  </thead>\n",
       "  <tbody>\n",
       "    <tr>\n",
       "      <td>0</td>\n",
       "      <td>0.460212</td>\n",
       "      <td>0.459149</td>\n",
       "      <td>0.838582</td>\n",
       "      <td>[0.77469816 0.79857398 0.78207721 0.90379464 0.93376359]</td>\n",
       "      <td>06:37</td>\n",
       "    </tr>\n",
       "    <tr>\n",
       "      <td>1</td>\n",
       "      <td>0.450632</td>\n",
       "      <td>0.427710</td>\n",
       "      <td>0.865195</td>\n",
       "      <td>[0.80220472 0.76659982 0.88290441 0.94129464 0.93297101]</td>\n",
       "      <td>06:38</td>\n",
       "    </tr>\n",
       "    <tr>\n",
       "      <td>2</td>\n",
       "      <td>0.435858</td>\n",
       "      <td>0.436454</td>\n",
       "      <td>0.879204</td>\n",
       "      <td>[0.82976378 0.81567513 0.88474265 0.94084821 0.92498868]</td>\n",
       "      <td>06:37</td>\n",
       "    </tr>\n",
       "    <tr>\n",
       "      <td>3</td>\n",
       "      <td>0.427966</td>\n",
       "      <td>0.432725</td>\n",
       "      <td>0.875689</td>\n",
       "      <td>[0.81832021 0.81361408 0.87931985 0.93988095 0.92730978]</td>\n",
       "      <td>06:38</td>\n",
       "    </tr>\n",
       "  </tbody>\n",
       "</table>"
      ],
      "text/plain": [
       "<IPython.core.display.HTML object>"
      ]
     },
     "metadata": {},
     "output_type": "display_data"
    },
    {
     "name": "stdout",
     "output_type": "stream",
     "text": [
      "Better model found at epoch 0 with roc_auc_score value: 0.8385815146940478.\n"
     ]
    },
    {
     "data": {
      "image/png": "[encoded data removed]",
      "text/plain": [
       "<Figure size 432x288 with 1 Axes>"
      ]
     },
     "metadata": {},
     "output_type": "display_data"
    },
    {
     "name": "stdout",
     "output_type": "stream",
     "text": [
      "Better model found at epoch 1 with roc_auc_score value: 0.8651949230541863.\n",
      "Better model found at epoch 2 with roc_auc_score value: 0.8792036904196336.\n"
     ]
    }
   ],
   "source": [
    "WEIGHT_NAME='densenet_bce_uone_fit_1cycle'\n",
    "model = get_densenet_model(SEED)\n",
    "loss,opt = get_loss_and_optimizer(model,LR,loss_type='bce',use_fastai=True,weight_decay=WEIGHT_DECAY)\n",
    "train_fastai_learner(fastai_loader,model,loss,opt,LR,n_epochs=N_EPOCHS,weight_name=WEIGHT_NAME,use_1cycle=True)"
   ]
  },
  {
   "cell_type": "markdown",
   "metadata": {},
   "source": [
    "## U-zeros"
   ]
  },
  {
   "cell_type": "code",
   "execution_count": 6,
   "metadata": {},
   "outputs": [],
   "source": [
    "data_params={\n",
    "    'uncertainty_method':'zero',\n",
    "    'use_frontal':True,\n",
    "    'image_size':224,\n",
    "    'sample_frac':1,\n",
    "    'sample_seed':123,\n",
    "    'batch_size': 128,\n",
    "}\n",
    "SEED = 123\n",
    "WEIGHT_DECAY = 1e-5\n",
    "LR = 3.3e-4\n",
    "N_EPOCHS=4"
   ]
  },
  {
   "cell_type": "code",
   "execution_count": 7,
   "metadata": {},
   "outputs": [
    {
     "name": "stderr",
     "output_type": "stream",
     "text": [
      "/home/quan/kwon/OMSCS/deep_learning/chestx_interpretation/dataloader.py:51: FutureWarning: The default value of regex will change from True to False in a future version.\n",
      "  self.df['Path'] = self.df['Path'].str.replace('CheXpert-v1.0-small/', '')\n",
      "/home/quan/kwon/OMSCS/deep_learning/chestx_interpretation/dataloader.py:52: FutureWarning: The default value of regex will change from True to False in a future version.\n",
      "  self.df['Path'] = self.df['Path'].str.replace('CheXpert-v1.0/', '')\n"
     ]
    },
    {
     "name": "stdout",
     "output_type": "stream",
     "text": [
      "Multi-label mode: True, Number of classes: [5]\n",
      "Multi-label mode: True, Number of classes: [5]\n"
     ]
    },
    {
     "name": "stderr",
     "output_type": "stream",
     "text": [
      "/home/quan/kwon/OMSCS/deep_learning/chestx_interpretation/dataloader.py:51: FutureWarning: The default value of regex will change from True to False in a future version.\n",
      "  self.df['Path'] = self.df['Path'].str.replace('CheXpert-v1.0-small/', '')\n",
      "/home/quan/kwon/OMSCS/deep_learning/chestx_interpretation/dataloader.py:52: FutureWarning: The default value of regex will change from True to False in a future version.\n",
      "  self.df['Path'] = self.df['Path'].str.replace('CheXpert-v1.0/', '')\n"
     ]
    }
   ],
   "source": [
    "trainloader,testloader,_ = create_loaders(**data_params)\n",
    "fastai_loader = DataLoaders(trainloader,testloader)"
   ]
  },
  {
   "cell_type": "code",
   "execution_count": 8,
   "metadata": {},
   "outputs": [
    {
     "data": {
      "text/html": [
       "<table border=\"1\" class=\"dataframe\">\n",
       "  <thead>\n",
       "    <tr style=\"text-align: left;\">\n",
       "      <th>epoch</th>\n",
       "      <th>train_loss</th>\n",
       "      <th>valid_loss</th>\n",
       "      <th>roc_auc_score</th>\n",
       "      <th>roc_auc_score</th>\n",
       "      <th>time</th>\n",
       "    </tr>\n",
       "  </thead>\n",
       "  <tbody>\n",
       "    <tr>\n",
       "      <td>0</td>\n",
       "      <td>0.358812</td>\n",
       "      <td>0.489028</td>\n",
       "      <td>0.850485</td>\n",
       "      <td>[0.75501312 0.77657086 0.91764706 0.87633929 0.92685688]</td>\n",
       "      <td>06:30</td>\n",
       "    </tr>\n",
       "    <tr>\n",
       "      <td>1</td>\n",
       "      <td>0.353288</td>\n",
       "      <td>0.476679</td>\n",
       "      <td>0.855261</td>\n",
       "      <td>[0.69795276 0.81082888 0.92454044 0.92269345 0.92028986]</td>\n",
       "      <td>06:30</td>\n",
       "    </tr>\n",
       "    <tr>\n",
       "      <td>2</td>\n",
       "      <td>0.339237</td>\n",
       "      <td>0.512388</td>\n",
       "      <td>0.882627</td>\n",
       "      <td>[0.81312336 0.8192402  0.91691176 0.93258929 0.93127264]</td>\n",
       "      <td>06:29</td>\n",
       "    </tr>\n",
       "    <tr>\n",
       "      <td>3</td>\n",
       "      <td>0.333483</td>\n",
       "      <td>0.503471</td>\n",
       "      <td>0.877355</td>\n",
       "      <td>[0.79333333 0.81077317 0.91544118 0.93720238 0.93002717]</td>\n",
       "      <td>06:30</td>\n",
       "    </tr>\n",
       "  </tbody>\n",
       "</table>"
      ],
      "text/plain": [
       "<IPython.core.display.HTML object>"
      ]
     },
     "metadata": {},
     "output_type": "display_data"
    },
    {
     "name": "stdout",
     "output_type": "stream",
     "text": [
      "Better model found at epoch 0 with roc_auc_score value: 0.8504854415140679.\n"
     ]
    },
    {
     "data": {
      "image/png": "[encoded data removed]",
      "text/plain": [
       "<Figure size 432x288 with 1 Axes>"
      ]
     },
     "metadata": {},
     "output_type": "display_data"
    },
    {
     "name": "stdout",
     "output_type": "stream",
     "text": [
      "Better model found at epoch 1 with roc_auc_score value: 0.8552610763081493.\n",
      "Better model found at epoch 2 with roc_auc_score value: 0.8826274502012377.\n"
     ]
    }
   ],
   "source": [
    "WEIGHT_NAME='densenet_bce_uzero_fit'\n",
    "model = get_densenet_model(SEED)\n",
    "loss,opt = get_loss_and_optimizer(model,LR,loss_type='bce',use_fastai=True,weight_decay=WEIGHT_DECAY)\n",
    "train_fastai_learner(fastai_loader,model,loss,opt,LR,n_epochs=N_EPOCHS,weight_name=WEIGHT_NAME,use_1cycle=False)"
   ]
  },
  {
   "cell_type": "code",
   "execution_count": 9,
   "metadata": {},
   "outputs": [
    {
     "data": {
      "text/html": [
       "<table border=\"1\" class=\"dataframe\">\n",
       "  <thead>\n",
       "    <tr style=\"text-align: left;\">\n",
       "      <th>epoch</th>\n",
       "      <th>train_loss</th>\n",
       "      <th>valid_loss</th>\n",
       "      <th>roc_auc_score</th>\n",
       "      <th>roc_auc_score</th>\n",
       "      <th>time</th>\n",
       "    </tr>\n",
       "  </thead>\n",
       "  <tbody>\n",
       "    <tr>\n",
       "      <td>0</td>\n",
       "      <td>0.360663</td>\n",
       "      <td>0.451587</td>\n",
       "      <td>0.868891</td>\n",
       "      <td>[0.7807874  0.80408868 0.92610294 0.90825893 0.92521513]</td>\n",
       "      <td>06:39</td>\n",
       "    </tr>\n",
       "    <tr>\n",
       "      <td>1</td>\n",
       "      <td>0.354826</td>\n",
       "      <td>0.494089</td>\n",
       "      <td>0.848523</td>\n",
       "      <td>[0.65086614 0.8233066  0.92922794 0.92232143 0.91689312]</td>\n",
       "      <td>06:39</td>\n",
       "    </tr>\n",
       "    <tr>\n",
       "      <td>2</td>\n",
       "      <td>0.340752</td>\n",
       "      <td>0.512151</td>\n",
       "      <td>0.870817</td>\n",
       "      <td>[0.80330709 0.8152852  0.88299632 0.92529762 0.92719656]</td>\n",
       "      <td>06:38</td>\n",
       "    </tr>\n",
       "    <tr>\n",
       "      <td>3</td>\n",
       "      <td>0.333808</td>\n",
       "      <td>0.507299</td>\n",
       "      <td>0.869113</td>\n",
       "      <td>[0.7887664  0.80353164 0.90386029 0.92611607 0.92329031]</td>\n",
       "      <td>06:38</td>\n",
       "    </tr>\n",
       "  </tbody>\n",
       "</table>"
      ],
      "text/plain": [
       "<IPython.core.display.HTML object>"
      ]
     },
     "metadata": {},
     "output_type": "display_data"
    },
    {
     "name": "stdout",
     "output_type": "stream",
     "text": [
      "Better model found at epoch 0 with roc_auc_score value: 0.8688906158122425.\n"
     ]
    },
    {
     "data": {
      "image/png": "[encoded data removed]",
      "text/plain": [
       "<Figure size 432x288 with 1 Axes>"
      ]
     },
     "metadata": {},
     "output_type": "display_data"
    },
    {
     "name": "stdout",
     "output_type": "stream",
     "text": [
      "Better model found at epoch 2 with roc_auc_score value: 0.8708165584306611.\n"
     ]
    }
   ],
   "source": [
    "WEIGHT_NAME='densenet_bce_uzero_fit_1cycle'\n",
    "model = get_densenet_model(SEED)\n",
    "loss,opt = get_loss_and_optimizer(model,LR,loss_type='bce',use_fastai=True,weight_decay=WEIGHT_DECAY)\n",
    "train_fastai_learner(fastai_loader,model,loss,opt,LR,n_epochs=N_EPOCHS,weight_name=WEIGHT_NAME,use_1cycle=True)"
   ]
  },
  {
   "cell_type": "markdown",
   "metadata": {},
   "source": [
    "## U-defaults"
   ]
  },
  {
   "cell_type": "code",
   "execution_count": 10,
   "metadata": {},
   "outputs": [
    {
     "name": "stderr",
     "output_type": "stream",
     "text": [
      "/home/quan/kwon/OMSCS/deep_learning/chestx_interpretation/dataloader.py:51: FutureWarning: The default value of regex will change from True to False in a future version.\n",
      "  self.df['Path'] = self.df['Path'].str.replace('CheXpert-v1.0-small/', '')\n",
      "/home/quan/kwon/OMSCS/deep_learning/chestx_interpretation/dataloader.py:52: FutureWarning: The default value of regex will change from True to False in a future version.\n",
      "  self.df['Path'] = self.df['Path'].str.replace('CheXpert-v1.0/', '')\n"
     ]
    },
    {
     "name": "stdout",
     "output_type": "stream",
     "text": [
      "Multi-label mode: True, Number of classes: [5]\n",
      "Multi-label mode: True, Number of classes: [5]\n"
     ]
    },
    {
     "name": "stderr",
     "output_type": "stream",
     "text": [
      "/home/quan/kwon/OMSCS/deep_learning/chestx_interpretation/dataloader.py:51: FutureWarning: The default value of regex will change from True to False in a future version.\n",
      "  self.df['Path'] = self.df['Path'].str.replace('CheXpert-v1.0-small/', '')\n",
      "/home/quan/kwon/OMSCS/deep_learning/chestx_interpretation/dataloader.py:52: FutureWarning: The default value of regex will change from True to False in a future version.\n",
      "  self.df['Path'] = self.df['Path'].str.replace('CheXpert-v1.0/', '')\n"
     ]
    }
   ],
   "source": [
    "data_params={\n",
    "    'uncertainty_method':'default',\n",
    "    'use_frontal':True,\n",
    "    'image_size':224,\n",
    "    'sample_frac':1,\n",
    "    'sample_seed':123,\n",
    "    'batch_size': 128,\n",
    "}\n",
    "SEED = 123\n",
    "WEIGHT_DECAY = 1e-5\n",
    "LR = 3.3e-4\n",
    "N_EPOCHS=4\n",
    "\n",
    "trainloader,testloader,_ = create_loaders(**data_params)\n",
    "fastai_loader = DataLoaders(trainloader,testloader)"
   ]
  },
  {
   "cell_type": "code",
   "execution_count": 11,
   "metadata": {},
   "outputs": [
    {
     "data": {
      "text/html": [
       "<table border=\"1\" class=\"dataframe\">\n",
       "  <thead>\n",
       "    <tr style=\"text-align: left;\">\n",
       "      <th>epoch</th>\n",
       "      <th>train_loss</th>\n",
       "      <th>valid_loss</th>\n",
       "      <th>roc_auc_score</th>\n",
       "      <th>roc_auc_score</th>\n",
       "      <th>time</th>\n",
       "    </tr>\n",
       "  </thead>\n",
       "  <tbody>\n",
       "    <tr>\n",
       "      <td>0</td>\n",
       "      <td>0.396240</td>\n",
       "      <td>0.449033</td>\n",
       "      <td>0.873425</td>\n",
       "      <td>[0.85511811 0.75985963 0.92977941 0.89330357 0.92906476]</td>\n",
       "      <td>06:30</td>\n",
       "    </tr>\n",
       "    <tr>\n",
       "      <td>1</td>\n",
       "      <td>0.391320</td>\n",
       "      <td>0.455970</td>\n",
       "      <td>0.878527</td>\n",
       "      <td>[0.77826772 0.83004679 0.91764706 0.9469494  0.91972373]</td>\n",
       "      <td>06:30</td>\n",
       "    </tr>\n",
       "    <tr>\n",
       "      <td>2</td>\n",
       "      <td>0.375397</td>\n",
       "      <td>0.476733</td>\n",
       "      <td>0.888771</td>\n",
       "      <td>[0.84409449 0.80993761 0.92113971 0.93973214 0.92895154]</td>\n",
       "      <td>06:29</td>\n",
       "    </tr>\n",
       "    <tr>\n",
       "      <td>3</td>\n",
       "      <td>0.368624</td>\n",
       "      <td>0.470325</td>\n",
       "      <td>0.880596</td>\n",
       "      <td>[0.82041995 0.79846257 0.9203125  0.93794643 0.92583786]</td>\n",
       "      <td>06:30</td>\n",
       "    </tr>\n",
       "  </tbody>\n",
       "</table>"
      ],
      "text/plain": [
       "<IPython.core.display.HTML object>"
      ]
     },
     "metadata": {},
     "output_type": "display_data"
    },
    {
     "name": "stdout",
     "output_type": "stream",
     "text": [
      "Better model found at epoch 0 with roc_auc_score value: 0.8734250967181401.\n"
     ]
    },
    {
     "data": {
      "image/png": "[encoded data removed]",
      "text/plain": [
       "<Figure size 432x288 with 1 Axes>"
      ]
     },
     "metadata": {},
     "output_type": "display_data"
    },
    {
     "name": "stdout",
     "output_type": "stream",
     "text": [
      "Better model found at epoch 1 with roc_auc_score value: 0.8785269406897551.\n",
      "Better model found at epoch 2 with roc_auc_score value: 0.8887710976383488.\n"
     ]
    }
   ],
   "source": [
    "WEIGHT_NAME='densenet_bce_udefault_fit'\n",
    "model = get_densenet_model(SEED)\n",
    "loss,opt = get_loss_and_optimizer(model,LR,loss_type='bce',use_fastai=True,weight_decay=WEIGHT_DECAY)\n",
    "train_fastai_learner(fastai_loader,model,loss,opt,LR,n_epochs=N_EPOCHS,weight_name=WEIGHT_NAME,use_1cycle=False)"
   ]
  },
  {
   "cell_type": "code",
   "execution_count": 12,
   "metadata": {},
   "outputs": [
    {
     "data": {
      "text/html": [
       "<table border=\"1\" class=\"dataframe\">\n",
       "  <thead>\n",
       "    <tr style=\"text-align: left;\">\n",
       "      <th>epoch</th>\n",
       "      <th>train_loss</th>\n",
       "      <th>valid_loss</th>\n",
       "      <th>roc_auc_score</th>\n",
       "      <th>roc_auc_score</th>\n",
       "      <th>time</th>\n",
       "    </tr>\n",
       "  </thead>\n",
       "  <tbody>\n",
       "    <tr>\n",
       "      <td>0</td>\n",
       "      <td>0.398994</td>\n",
       "      <td>0.461040</td>\n",
       "      <td>0.853998</td>\n",
       "      <td>[0.76251969 0.77590241 0.90275735 0.9031994  0.92561141]</td>\n",
       "      <td>06:38</td>\n",
       "    </tr>\n",
       "    <tr>\n",
       "      <td>1</td>\n",
       "      <td>0.393510</td>\n",
       "      <td>0.447538</td>\n",
       "      <td>0.866860</td>\n",
       "      <td>[0.75905512 0.8084336  0.90588235 0.93690476 0.92402627]</td>\n",
       "      <td>06:38</td>\n",
       "    </tr>\n",
       "    <tr>\n",
       "      <td>2</td>\n",
       "      <td>0.376544</td>\n",
       "      <td>0.463086</td>\n",
       "      <td>0.895661</td>\n",
       "      <td>[0.85002625 0.81879456 0.94053309 0.9422619  0.92668705]</td>\n",
       "      <td>06:39</td>\n",
       "    </tr>\n",
       "    <tr>\n",
       "      <td>3</td>\n",
       "      <td>0.368690</td>\n",
       "      <td>0.467616</td>\n",
       "      <td>0.884668</td>\n",
       "      <td>[0.82740157 0.80247326 0.93125    0.93943452 0.9227808 ]</td>\n",
       "      <td>06:39</td>\n",
       "    </tr>\n",
       "  </tbody>\n",
       "</table>"
      ],
      "text/plain": [
       "<IPython.core.display.HTML object>"
      ]
     },
     "metadata": {},
     "output_type": "display_data"
    },
    {
     "name": "stdout",
     "output_type": "stream",
     "text": [
      "Better model found at epoch 0 with roc_auc_score value: 0.8539980524406084.\n"
     ]
    },
    {
     "data": {
      "image/png": "[encoded data removed]",
      "text/plain": [
       "<Figure size 432x288 with 1 Axes>"
      ]
     },
     "metadata": {},
     "output_type": "display_data"
    },
    {
     "name": "stdout",
     "output_type": "stream",
     "text": [
      "Better model found at epoch 1 with roc_auc_score value: 0.8668604203570258.\n",
      "Better model found at epoch 2 with roc_auc_score value: 0.895660570019533.\n"
     ]
    }
   ],
   "source": [
    "WEIGHT_NAME='densenet_bce_udefault_fit_1cycle'\n",
    "model = get_densenet_model(SEED)\n",
    "loss,opt = get_loss_and_optimizer(model,LR,loss_type='bce',use_fastai=True,weight_decay=WEIGHT_DECAY)\n",
    "train_fastai_learner(fastai_loader,model,loss,opt,LR,n_epochs=N_EPOCHS,weight_name=WEIGHT_NAME,use_1cycle=True)"
   ]
  },
  {
   "cell_type": "markdown",
   "metadata": {},
   "source": [
    "## U-one Smooth"
   ]
  },
  {
   "cell_type": "code",
   "execution_count": 13,
   "metadata": {},
   "outputs": [],
   "source": [
    "data_params={\n",
    "    'uncertainty_method':'smoothing',\n",
    "    'use_frontal':True,\n",
    "    'image_size':224,\n",
    "    'sample_frac':1,\n",
    "    'sample_seed':123,\n",
    "    'batch_size': 128,\n",
    "    'smooth_lower': 0.55,\n",
    "    'smooth_upper': 0.85\n",
    "}\n",
    "SEED = 123\n",
    "WEIGHT_DECAY = 1e-5\n",
    "LR = 3.3e-4\n",
    "N_EPOCHS=4"
   ]
  },
  {
   "cell_type": "code",
   "execution_count": 14,
   "metadata": {},
   "outputs": [
    {
     "name": "stderr",
     "output_type": "stream",
     "text": [
      "/home/quan/kwon/OMSCS/deep_learning/chestx_interpretation/dataloader.py:51: FutureWarning: The default value of regex will change from True to False in a future version.\n",
      "  self.df['Path'] = self.df['Path'].str.replace('CheXpert-v1.0-small/', '')\n",
      "/home/quan/kwon/OMSCS/deep_learning/chestx_interpretation/dataloader.py:52: FutureWarning: The default value of regex will change from True to False in a future version.\n",
      "  self.df['Path'] = self.df['Path'].str.replace('CheXpert-v1.0/', '')\n"
     ]
    },
    {
     "name": "stdout",
     "output_type": "stream",
     "text": [
      "Multi-label mode: True, Number of classes: [5]\n",
      "Multi-label mode: True, Number of classes: [5]\n"
     ]
    },
    {
     "name": "stderr",
     "output_type": "stream",
     "text": [
      "/home/quan/kwon/OMSCS/deep_learning/chestx_interpretation/dataloader.py:51: FutureWarning: The default value of regex will change from True to False in a future version.\n",
      "  self.df['Path'] = self.df['Path'].str.replace('CheXpert-v1.0-small/', '')\n",
      "/home/quan/kwon/OMSCS/deep_learning/chestx_interpretation/dataloader.py:52: FutureWarning: The default value of regex will change from True to False in a future version.\n",
      "  self.df['Path'] = self.df['Path'].str.replace('CheXpert-v1.0/', '')\n"
     ]
    }
   ],
   "source": [
    "trainloader,testloader,_ = create_loaders(**data_params)\n",
    "fastai_loader = DataLoaders(trainloader,testloader)"
   ]
  },
  {
   "cell_type": "code",
   "execution_count": 15,
   "metadata": {},
   "outputs": [
    {
     "data": {
      "text/html": [
       "<table border=\"1\" class=\"dataframe\">\n",
       "  <thead>\n",
       "    <tr style=\"text-align: left;\">\n",
       "      <th>epoch</th>\n",
       "      <th>train_loss</th>\n",
       "      <th>valid_loss</th>\n",
       "      <th>roc_auc_score</th>\n",
       "      <th>roc_auc_score</th>\n",
       "      <th>time</th>\n",
       "    </tr>\n",
       "  </thead>\n",
       "  <tbody>\n",
       "    <tr>\n",
       "      <td>0</td>\n",
       "      <td>0.434904</td>\n",
       "      <td>0.422995</td>\n",
       "      <td>0.863481</td>\n",
       "      <td>[0.79506562 0.78743316 0.87224265 0.9266369  0.93602808]</td>\n",
       "      <td>06:29</td>\n",
       "    </tr>\n",
       "    <tr>\n",
       "      <td>1</td>\n",
       "      <td>0.427336</td>\n",
       "      <td>0.465570</td>\n",
       "      <td>0.868459</td>\n",
       "      <td>[0.7967979  0.79395053 0.89172794 0.93556548 0.92425272]</td>\n",
       "      <td>06:29</td>\n",
       "    </tr>\n",
       "    <tr>\n",
       "      <td>2</td>\n",
       "      <td>0.414236</td>\n",
       "      <td>0.461230</td>\n",
       "      <td>0.877706</td>\n",
       "      <td>[0.82782152 0.80486854 0.88529412 0.94136905 0.92917799]</td>\n",
       "      <td>06:29</td>\n",
       "    </tr>\n",
       "    <tr>\n",
       "      <td>3</td>\n",
       "      <td>0.408411</td>\n",
       "      <td>0.441661</td>\n",
       "      <td>0.876728</td>\n",
       "      <td>[0.81496063 0.81422683 0.88327206 0.94568452 0.92549819]</td>\n",
       "      <td>06:30</td>\n",
       "    </tr>\n",
       "  </tbody>\n",
       "</table>"
      ],
      "text/plain": [
       "<IPython.core.display.HTML object>"
      ]
     },
     "metadata": {},
     "output_type": "display_data"
    },
    {
     "name": "stdout",
     "output_type": "stream",
     "text": [
      "Better model found at epoch 0 with roc_auc_score value: 0.8634812806817974.\n"
     ]
    },
    {
     "data": {
      "image/png": "[encoded data removed]",
      "text/plain": [
       "<Figure size 432x288 with 1 Axes>"
      ]
     },
     "metadata": {},
     "output_type": "display_data"
    },
    {
     "name": "stdout",
     "output_type": "stream",
     "text": [
      "Better model found at epoch 1 with roc_auc_score value: 0.8684589139560155.\n",
      "Better model found at epoch 2 with roc_auc_score value: 0.8777062430061348.\n"
     ]
    }
   ],
   "source": [
    "WEIGHT_NAME='densenet_bce_u1smooth_fit'\n",
    "model = get_densenet_model(SEED)\n",
    "loss,opt = get_loss_and_optimizer(model,LR,loss_type='bce',use_fastai=True,weight_decay=WEIGHT_DECAY)\n",
    "train_fastai_learner(fastai_loader,model,loss,opt,LR,n_epochs=N_EPOCHS,weight_name=WEIGHT_NAME,use_1cycle=False)"
   ]
  },
  {
   "cell_type": "code",
   "execution_count": 16,
   "metadata": {},
   "outputs": [
    {
     "data": {
      "text/html": [
       "<table border=\"1\" class=\"dataframe\">\n",
       "  <thead>\n",
       "    <tr style=\"text-align: left;\">\n",
       "      <th>epoch</th>\n",
       "      <th>train_loss</th>\n",
       "      <th>valid_loss</th>\n",
       "      <th>roc_auc_score</th>\n",
       "      <th>roc_auc_score</th>\n",
       "      <th>time</th>\n",
       "    </tr>\n",
       "  </thead>\n",
       "  <tbody>\n",
       "    <tr>\n",
       "      <td>0</td>\n",
       "      <td>0.437878</td>\n",
       "      <td>0.448176</td>\n",
       "      <td>0.837703</td>\n",
       "      <td>[0.75396325 0.80252897 0.80597426 0.8985119  0.92753623]</td>\n",
       "      <td>06:38</td>\n",
       "    </tr>\n",
       "    <tr>\n",
       "      <td>1</td>\n",
       "      <td>0.428957</td>\n",
       "      <td>0.449863</td>\n",
       "      <td>0.855105</td>\n",
       "      <td>[0.74005249 0.7526738  0.91672794 0.94017857 0.92589447]</td>\n",
       "      <td>06:38</td>\n",
       "    </tr>\n",
       "    <tr>\n",
       "      <td>2</td>\n",
       "      <td>0.415848</td>\n",
       "      <td>0.453349</td>\n",
       "      <td>0.885309</td>\n",
       "      <td>[0.83821522 0.82269385 0.90386029 0.93452381 0.92725317]</td>\n",
       "      <td>06:38</td>\n",
       "    </tr>\n",
       "    <tr>\n",
       "      <td>3</td>\n",
       "      <td>0.408408</td>\n",
       "      <td>0.440951</td>\n",
       "      <td>0.878017</td>\n",
       "      <td>[0.82104987 0.8125557  0.89273897 0.93563988 0.92810236]</td>\n",
       "      <td>06:39</td>\n",
       "    </tr>\n",
       "  </tbody>\n",
       "</table>"
      ],
      "text/plain": [
       "<IPython.core.display.HTML object>"
      ]
     },
     "metadata": {},
     "output_type": "display_data"
    },
    {
     "name": "stdout",
     "output_type": "stream",
     "text": [
      "Better model found at epoch 0 with roc_auc_score value: 0.8377029244153855.\n"
     ]
    },
    {
     "data": {
      "image/png": "[encoded data removed]",
      "text/plain": [
       "<Figure size 432x288 with 1 Axes>"
      ]
     },
     "metadata": {},
     "output_type": "display_data"
    },
    {
     "name": "stdout",
     "output_type": "stream",
     "text": [
      "Better model found at epoch 1 with roc_auc_score value: 0.8551054554944975.\n",
      "Better model found at epoch 2 with roc_auc_score value: 0.8853092694591609.\n"
     ]
    }
   ],
   "source": [
    "WEIGHT_NAME='densenet_bce_u1smooth_fit_1cycle'\n",
    "model = get_densenet_model(SEED)\n",
    "loss,opt = get_loss_and_optimizer(model,LR,loss_type='bce',use_fastai=True,weight_decay=WEIGHT_DECAY)\n",
    "train_fastai_learner(fastai_loader,model,loss,opt,LR,n_epochs=N_EPOCHS,weight_name=WEIGHT_NAME,use_1cycle=True)"
   ]
  },
  {
   "cell_type": "markdown",
   "metadata": {},
   "source": [
    "## U-default smooth"
   ]
  },
  {
   "cell_type": "code",
   "execution_count": 17,
   "metadata": {},
   "outputs": [],
   "source": [
    "data_params={\n",
    "    'uncertainty_method':'default-smoothing',\n",
    "    'use_frontal':True,\n",
    "    'image_size':224,\n",
    "    'sample_frac':1,\n",
    "    'sample_seed':123,\n",
    "    'batch_size': 128\n",
    "}\n",
    "SEED = 123\n",
    "WEIGHT_DECAY = 1e-5\n",
    "LR = 3.3e-4\n",
    "N_EPOCHS=4"
   ]
  },
  {
   "cell_type": "code",
   "execution_count": 18,
   "metadata": {},
   "outputs": [
    {
     "name": "stderr",
     "output_type": "stream",
     "text": [
      "/home/quan/kwon/OMSCS/deep_learning/chestx_interpretation/dataloader.py:51: FutureWarning: The default value of regex will change from True to False in a future version.\n",
      "  self.df['Path'] = self.df['Path'].str.replace('CheXpert-v1.0-small/', '')\n",
      "/home/quan/kwon/OMSCS/deep_learning/chestx_interpretation/dataloader.py:52: FutureWarning: The default value of regex will change from True to False in a future version.\n",
      "  self.df['Path'] = self.df['Path'].str.replace('CheXpert-v1.0/', '')\n"
     ]
    },
    {
     "name": "stdout",
     "output_type": "stream",
     "text": [
      "Multi-label mode: True, Number of classes: [5]\n",
      "Multi-label mode: True, Number of classes: [5]\n"
     ]
    },
    {
     "name": "stderr",
     "output_type": "stream",
     "text": [
      "/home/quan/kwon/OMSCS/deep_learning/chestx_interpretation/dataloader.py:51: FutureWarning: The default value of regex will change from True to False in a future version.\n",
      "  self.df['Path'] = self.df['Path'].str.replace('CheXpert-v1.0-small/', '')\n",
      "/home/quan/kwon/OMSCS/deep_learning/chestx_interpretation/dataloader.py:52: FutureWarning: The default value of regex will change from True to False in a future version.\n",
      "  self.df['Path'] = self.df['Path'].str.replace('CheXpert-v1.0/', '')\n"
     ]
    }
   ],
   "source": [
    "trainloader,testloader,_ = create_loaders(**data_params)\n",
    "fastai_loader = DataLoaders(trainloader,testloader)"
   ]
  },
  {
   "cell_type": "code",
   "execution_count": 19,
   "metadata": {},
   "outputs": [
    {
     "data": {
      "text/html": [
       "<table border=\"1\" class=\"dataframe\">\n",
       "  <thead>\n",
       "    <tr style=\"text-align: left;\">\n",
       "      <th>epoch</th>\n",
       "      <th>train_loss</th>\n",
       "      <th>valid_loss</th>\n",
       "      <th>roc_auc_score</th>\n",
       "      <th>roc_auc_score</th>\n",
       "      <th>time</th>\n",
       "    </tr>\n",
       "  </thead>\n",
       "  <tbody>\n",
       "    <tr>\n",
       "      <td>0</td>\n",
       "      <td>0.400862</td>\n",
       "      <td>0.448828</td>\n",
       "      <td>0.859549</td>\n",
       "      <td>[0.78010499 0.78197415 0.89466912 0.91651786 0.92447917]</td>\n",
       "      <td>06:29</td>\n",
       "    </tr>\n",
       "    <tr>\n",
       "      <td>1</td>\n",
       "      <td>0.395840</td>\n",
       "      <td>0.450080</td>\n",
       "      <td>0.862031</td>\n",
       "      <td>[0.73790026 0.79383913 0.92242647 0.93541667 0.92057292]</td>\n",
       "      <td>06:29</td>\n",
       "    </tr>\n",
       "    <tr>\n",
       "      <td>2</td>\n",
       "      <td>0.380689</td>\n",
       "      <td>0.472823</td>\n",
       "      <td>0.889583</td>\n",
       "      <td>[0.83706037 0.80932487 0.92693015 0.94412202 0.93048007]</td>\n",
       "      <td>06:29</td>\n",
       "    </tr>\n",
       "    <tr>\n",
       "      <td>3</td>\n",
       "      <td>0.375204</td>\n",
       "      <td>0.464375</td>\n",
       "      <td>0.883163</td>\n",
       "      <td>[0.81847769 0.80258467 0.9234375  0.94434524 0.92697011]</td>\n",
       "      <td>06:29</td>\n",
       "    </tr>\n",
       "  </tbody>\n",
       "</table>"
      ],
      "text/plain": [
       "<IPython.core.display.HTML object>"
      ]
     },
     "metadata": {},
     "output_type": "display_data"
    },
    {
     "name": "stdout",
     "output_type": "stream",
     "text": [
      "Better model found at epoch 0 with roc_auc_score value: 0.8595490563261811.\n"
     ]
    },
    {
     "data": {
      "image/png": "[encoded data removed]",
      "text/plain": [
       "<Figure size 432x288 with 1 Axes>"
      ]
     },
     "metadata": {},
     "output_type": "display_data"
    },
    {
     "name": "stdout",
     "output_type": "stream",
     "text": [
      "Better model found at epoch 1 with roc_auc_score value: 0.862031088589695.\n",
      "Better model found at epoch 2 with roc_auc_score value: 0.8895834954192688.\n"
     ]
    }
   ],
   "source": [
    "WEIGHT_NAME='densenet_bce_udefaultsmooth_fit'\n",
    "model = get_densenet_model(SEED)\n",
    "loss,opt = get_loss_and_optimizer(model,LR,loss_type='bce',use_fastai=True,weight_decay=WEIGHT_DECAY)\n",
    "train_fastai_learner(fastai_loader,model,loss,opt,LR,n_epochs=N_EPOCHS,weight_name=WEIGHT_NAME,use_1cycle=False)"
   ]
  },
  {
   "cell_type": "code",
   "execution_count": 20,
   "metadata": {},
   "outputs": [
    {
     "data": {
      "text/html": [
       "<table border=\"1\" class=\"dataframe\">\n",
       "  <thead>\n",
       "    <tr style=\"text-align: left;\">\n",
       "      <th>epoch</th>\n",
       "      <th>train_loss</th>\n",
       "      <th>valid_loss</th>\n",
       "      <th>roc_auc_score</th>\n",
       "      <th>roc_auc_score</th>\n",
       "      <th>time</th>\n",
       "    </tr>\n",
       "  </thead>\n",
       "  <tbody>\n",
       "    <tr>\n",
       "      <td>0</td>\n",
       "      <td>0.402988</td>\n",
       "      <td>0.445839</td>\n",
       "      <td>0.862999</td>\n",
       "      <td>[0.79727034 0.79305927 0.90229779 0.89970238 0.92266757]</td>\n",
       "      <td>06:46</td>\n",
       "    </tr>\n",
       "    <tr>\n",
       "      <td>1</td>\n",
       "      <td>0.396651</td>\n",
       "      <td>0.445796</td>\n",
       "      <td>0.866077</td>\n",
       "      <td>[0.75322835 0.80342023 0.91277574 0.94010417 0.92085598]</td>\n",
       "      <td>06:52</td>\n",
       "    </tr>\n",
       "    <tr>\n",
       "      <td>2</td>\n",
       "      <td>0.381816</td>\n",
       "      <td>0.466384</td>\n",
       "      <td>0.886990</td>\n",
       "      <td>[0.83060367 0.81756907 0.91194853 0.94151786 0.93331069]</td>\n",
       "      <td>06:50</td>\n",
       "    </tr>\n",
       "    <tr>\n",
       "      <td>3</td>\n",
       "      <td>0.374761</td>\n",
       "      <td>0.465676</td>\n",
       "      <td>0.874969</td>\n",
       "      <td>[0.80908136 0.80174911 0.89549632 0.93809524 0.93042346]</td>\n",
       "      <td>06:50</td>\n",
       "    </tr>\n",
       "  </tbody>\n",
       "</table>"
      ],
      "text/plain": [
       "<IPython.core.display.HTML object>"
      ]
     },
     "metadata": {},
     "output_type": "display_data"
    },
    {
     "name": "stdout",
     "output_type": "stream",
     "text": [
      "Better model found at epoch 0 with roc_auc_score value: 0.8629994715806711.\n"
     ]
    },
    {
     "data": {
      "image/png": "[encoded data removed]",
      "text/plain": [
       "<Figure size 432x288 with 1 Axes>"
      ]
     },
     "metadata": {},
     "output_type": "display_data"
    },
    {
     "name": "stdout",
     "output_type": "stream",
     "text": [
      "Better model found at epoch 1 with roc_auc_score value: 0.8660768916814803.\n",
      "Better model found at epoch 2 with roc_auc_score value: 0.8869899645169761.\n"
     ]
    }
   ],
   "source": [
    "WEIGHT_NAME='densenet_bce_udefaultsmooth_fit_1cycle'\n",
    "model = get_densenet_model(SEED)\n",
    "loss,opt = get_loss_and_optimizer(model,LR,loss_type='bce',use_fastai=True,weight_decay=WEIGHT_DECAY)\n",
    "train_fastai_learner(fastai_loader,model,loss,opt,LR,n_epochs=N_EPOCHS,weight_name=WEIGHT_NAME,use_1cycle=True)"
   ]
  },
  {
   "cell_type": "markdown",
   "metadata": {},
   "source": [
    "TODO: try upsampling on low AUC + frontal/lateral on this"
   ]
  }
 ],
 "metadata": {
  "kernelspec": {
   "display_name": "Python 3",
   "language": "python",
   "name": "python3"
  },
  "language_info": {
   "codemirror_mode": {
    "name": "ipython",
    "version": 3
   },
   "file_extension": ".py",
   "mimetype": "text/x-python",
   "name": "python",
   "nbconvert_exporter": "python",
   "pygments_lexer": "ipython3",
   "version": "3.8.5"
  },
  "toc": {
   "base_numbering": 1,
   "nav_menu": {},
   "number_sections": true,
   "sideBar": true,
   "skip_h1_title": false,
   "title_cell": "Table of Contents",
   "title_sidebar": "Contents",
   "toc_cell": true,
   "toc_position": {
    "height": "866.4px",
    "left": "10px",
    "top": "150px",
    "width": "274.95px"
   },
   "toc_section_display": true,
   "toc_window_display": false
  }
 },
 "nbformat": 4,
 "nbformat_minor": 4
}

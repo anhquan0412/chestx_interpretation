{
 "cells": [
  {
   "cell_type": "markdown",
   "metadata": {
    "toc": true
   },
   "source": [
    "<h1>Table of Contents<span class=\"tocSkip\"></span></h1>\n",
    "<div class=\"toc\"><ul class=\"toc-item\"><li><span><a href=\"#U-default\" data-toc-modified-id=\"U-default-1\"><span class=\"toc-item-num\">1&nbsp;&nbsp;</span>U-default</a></span><ul class=\"toc-item\"><li><span><a href=\"#Full-dataset\" data-toc-modified-id=\"Full-dataset-1.1\"><span class=\"toc-item-num\">1.1&nbsp;&nbsp;</span>Full dataset</a></span></li><li><span><a href=\"#Sample\" data-toc-modified-id=\"Sample-1.2\"><span class=\"toc-item-num\">1.2&nbsp;&nbsp;</span>Sample</a></span></li></ul></li><li><span><a href=\"#U-default-smoothing-one\" data-toc-modified-id=\"U-default-smoothing-one-2\"><span class=\"toc-item-num\">2&nbsp;&nbsp;</span>U-default-smoothing-one</a></span><ul class=\"toc-item\"><li><span><a href=\"#Full-dataset\" data-toc-modified-id=\"Full-dataset-2.1\"><span class=\"toc-item-num\">2.1&nbsp;&nbsp;</span>Full dataset</a></span></li><li><span><a href=\"#Sample\" data-toc-modified-id=\"Sample-2.2\"><span class=\"toc-item-num\">2.2&nbsp;&nbsp;</span>Sample</a></span></li></ul></li></ul></div>"
   ]
  },
  {
   "cell_type": "code",
   "execution_count": 1,
   "metadata": {},
   "outputs": [],
   "source": [
    "# Load lib and define helper functions\n",
    "\n",
    "%reload_ext autoreload\n",
    "%autoreload 2"
   ]
  },
  {
   "cell_type": "code",
   "execution_count": 2,
   "metadata": {},
   "outputs": [],
   "source": [
    "from dataloader import *\n",
    "from trainer import *\n",
    "import AUCMMS\n",
    "from fastai.vision.all import *\n",
    "\n",
    "DATA = '/media/samsung/chexpert/CheXpert-v1.0-small/'"
   ]
  },
  {
   "cell_type": "markdown",
   "metadata": {},
   "source": [
    "# U-default"
   ]
  },
  {
   "cell_type": "code",
   "execution_count": 3,
   "metadata": {},
   "outputs": [
    {
     "name": "stderr",
     "output_type": "stream",
     "text": [
      "/home/quan/kwon/OMSCS/deep_learning/chestx_interpretation/dataloader.py:52: FutureWarning: The default value of regex will change from True to False in a future version.\n",
      "  self.df['Path'] = self.df['Path'].str.replace('CheXpert-v1.0-small/', '')\n",
      "/home/quan/kwon/OMSCS/deep_learning/chestx_interpretation/dataloader.py:53: FutureWarning: The default value of regex will change from True to False in a future version.\n",
      "  self.df['Path'] = self.df['Path'].str.replace('CheXpert-v1.0/', '')\n"
     ]
    },
    {
     "name": "stdout",
     "output_type": "stream",
     "text": [
      "Multi-label mode: True, Number of classes: [5]\n",
      "Multi-label mode: True, Number of classes: [5]\n"
     ]
    },
    {
     "name": "stderr",
     "output_type": "stream",
     "text": [
      "/home/quan/kwon/OMSCS/deep_learning/chestx_interpretation/dataloader.py:52: FutureWarning: The default value of regex will change from True to False in a future version.\n",
      "  self.df['Path'] = self.df['Path'].str.replace('CheXpert-v1.0-small/', '')\n",
      "/home/quan/kwon/OMSCS/deep_learning/chestx_interpretation/dataloader.py:53: FutureWarning: The default value of regex will change from True to False in a future version.\n",
      "  self.df['Path'] = self.df['Path'].str.replace('CheXpert-v1.0/', '')\n"
     ]
    }
   ],
   "source": [
    "data_params={\n",
    "    'uncertainty_method':'default',\n",
    "    'use_frontal':False,\n",
    "    'image_size':224,\n",
    "    'sample_frac':1,\n",
    "    'sample_seed':123,\n",
    "    'batch_size': 128,\n",
    "#     'use_upsampling': True,\n",
    "#     'upsampling_cols':['Cardiomegaly'],\n",
    "}\n",
    "SEED = 123\n",
    "WEIGHT_DECAY = 1e-5\n",
    "LR = 3.3e-4\n",
    "N_EPOCHS=5\n",
    "\n",
    "trainloader,testloader,_ = create_loaders(**data_params)\n",
    "fastai_loader = DataLoaders(trainloader,testloader)"
   ]
  },
  {
   "cell_type": "markdown",
   "metadata": {},
   "source": [
    "## Full dataset"
   ]
  },
  {
   "cell_type": "code",
   "execution_count": 4,
   "metadata": {},
   "outputs": [
    {
     "data": {
      "text/html": [
       "<table border=\"1\" class=\"dataframe\">\n",
       "  <thead>\n",
       "    <tr style=\"text-align: left;\">\n",
       "      <th>epoch</th>\n",
       "      <th>train_loss</th>\n",
       "      <th>valid_loss</th>\n",
       "      <th>roc_auc_score</th>\n",
       "      <th>roc_auc_score</th>\n",
       "      <th>time</th>\n",
       "    </tr>\n",
       "  </thead>\n",
       "  <tbody>\n",
       "    <tr>\n",
       "      <td>0</td>\n",
       "      <td>0.421652</td>\n",
       "      <td>0.458725</td>\n",
       "      <td>0.868076</td>\n",
       "      <td>[0.82788149 0.83792523 0.86212875 0.90534979 0.90709626]</td>\n",
       "      <td>13:34</td>\n",
       "    </tr>\n",
       "    <tr>\n",
       "      <td>1</td>\n",
       "      <td>0.417750</td>\n",
       "      <td>0.469564</td>\n",
       "      <td>0.866336</td>\n",
       "      <td>[0.8679789  0.74065379 0.90592492 0.89429747 0.92282599]</td>\n",
       "      <td>13:28</td>\n",
       "    </tr>\n",
       "    <tr>\n",
       "      <td>2</td>\n",
       "      <td>0.408842</td>\n",
       "      <td>0.433132</td>\n",
       "      <td>0.884319</td>\n",
       "      <td>[0.84066558 0.8261871  0.92167948 0.90840682 0.92465815]</td>\n",
       "      <td>07:42</td>\n",
       "    </tr>\n",
       "    <tr>\n",
       "      <td>3</td>\n",
       "      <td>0.403709</td>\n",
       "      <td>0.426248</td>\n",
       "      <td>0.883570</td>\n",
       "      <td>[0.84719968 0.79859142 0.91210614 0.93162845 0.92832246]</td>\n",
       "      <td>07:41</td>\n",
       "    </tr>\n",
       "    <tr>\n",
       "      <td>4</td>\n",
       "      <td>0.401038</td>\n",
       "      <td>0.422073</td>\n",
       "      <td>0.887063</td>\n",
       "      <td>[0.83952922 0.79974309 0.92665461 0.94191652 0.92747341]</td>\n",
       "      <td>07:39</td>\n",
       "    </tr>\n",
       "  </tbody>\n",
       "</table>"
      ],
      "text/plain": [
       "<IPython.core.display.HTML object>"
      ]
     },
     "metadata": {},
     "output_type": "display_data"
    },
    {
     "name": "stderr",
     "output_type": "stream",
     "text": [
      "/home/quan/anaconda3/envs/fastai_v2/lib/python3.8/site-packages/torch/nn/functional.py:718: UserWarning: Named tensors and all their associated APIs are an experimental feature and subject to change. Please do not use them for anything important until they are released as stable. (Triggered internally at  /pytorch/c10/core/TensorImpl.h:1156.)\n",
      "  return torch.max_pool2d(input, kernel_size, stride, padding, dilation, ceil_mode)\n"
     ]
    },
    {
     "name": "stdout",
     "output_type": "stream",
     "text": [
      "Better model found at epoch 0 with roc_auc_score value: 0.8680763047034837.\n"
     ]
    },
    {
     "data": {
      "image/png": "[encoded data removed]",
      "text/plain": [
       "<Figure size 432x288 with 1 Axes>"
      ]
     },
     "metadata": {},
     "output_type": "display_data"
    },
    {
     "name": "stdout",
     "output_type": "stream",
     "text": [
      "Better model found at epoch 2 with roc_auc_score value: 0.8843194266109663.\n",
      "Better model found at epoch 4 with roc_auc_score value: 0.8870633695251744.\n"
     ]
    }
   ],
   "source": [
    "WEIGHT_NAME='densenet_bce_udefault_fit_mixup'\n",
    "LR = 3.3e-4\n",
    "model = get_densenet_model(SEED)\n",
    "loss,opt = get_loss_and_optimizer(model,LR,loss_type='bce',use_fastai=True,weight_decay=WEIGHT_DECAY)\n",
    "train_fastai_learner(fastai_loader,model,loss,opt,LR,n_epochs=N_EPOCHS,\n",
    "                     weight_name=WEIGHT_NAME,lr_scheduler='flat_cos',\n",
    "                    mixup_alpha=0.4\n",
    "                    )"
   ]
  },
  {
   "cell_type": "code",
   "execution_count": 5,
   "metadata": {},
   "outputs": [
    {
     "data": {
      "text/html": [
       "<table border=\"1\" class=\"dataframe\">\n",
       "  <thead>\n",
       "    <tr style=\"text-align: left;\">\n",
       "      <th>epoch</th>\n",
       "      <th>train_loss</th>\n",
       "      <th>valid_loss</th>\n",
       "      <th>roc_auc_score</th>\n",
       "      <th>roc_auc_score</th>\n",
       "      <th>time</th>\n",
       "    </tr>\n",
       "  </thead>\n",
       "  <tbody>\n",
       "    <tr>\n",
       "      <td>0</td>\n",
       "      <td>0.424509</td>\n",
       "      <td>0.440100</td>\n",
       "      <td>0.864093</td>\n",
       "      <td>[0.72540584 0.84576541 0.91157847 0.91922399 0.91849138]</td>\n",
       "      <td>13:34</td>\n",
       "    </tr>\n",
       "    <tr>\n",
       "      <td>1</td>\n",
       "      <td>0.415776</td>\n",
       "      <td>0.459458</td>\n",
       "      <td>0.873045</td>\n",
       "      <td>[0.82033279 0.77502658 0.93833861 0.91634333 0.91518456]</td>\n",
       "      <td>13:27</td>\n",
       "    </tr>\n",
       "    <tr>\n",
       "      <td>2</td>\n",
       "      <td>0.405219</td>\n",
       "      <td>0.437842</td>\n",
       "      <td>0.880581</td>\n",
       "      <td>[0.81428571 0.80421687 0.9262777  0.92792475 0.9301993 ]</td>\n",
       "      <td>13:22</td>\n",
       "    </tr>\n",
       "    <tr>\n",
       "      <td>3</td>\n",
       "      <td>0.404441</td>\n",
       "      <td>0.429187</td>\n",
       "      <td>0.884753</td>\n",
       "      <td>[0.82775974 0.80851347 0.92801146 0.93209877 0.92738404]</td>\n",
       "      <td>13:39</td>\n",
       "    </tr>\n",
       "  </tbody>\n",
       "</table>"
      ],
      "text/plain": [
       "<IPython.core.display.HTML object>"
      ]
     },
     "metadata": {},
     "output_type": "display_data"
    },
    {
     "name": "stdout",
     "output_type": "stream",
     "text": [
      "Better model found at epoch 0 with roc_auc_score value: 0.864093018276815.\n"
     ]
    },
    {
     "data": {
      "image/png": "[encoded data removed]",
      "text/plain": [
       "<Figure size 432x288 with 1 Axes>"
      ]
     },
     "metadata": {},
     "output_type": "display_data"
    },
    {
     "name": "stdout",
     "output_type": "stream",
     "text": [
      "Better model found at epoch 1 with roc_auc_score value: 0.8730451725598126.\n",
      "Better model found at epoch 2 with roc_auc_score value: 0.8805808674372869.\n",
      "Better model found at epoch 3 with roc_auc_score value: 0.8847534934151238.\n"
     ]
    }
   ],
   "source": [
    "WEIGHT_NAME='densenet_bce_udefault_fit_mixup'\n",
    "LR = 3.3e-4\n",
    "model = get_densenet_model(234)\n",
    "loss,opt = get_loss_and_optimizer(model,LR,loss_type='bce',use_fastai=True,weight_decay=WEIGHT_DECAY)\n",
    "train_fastai_learner(fastai_loader,model,loss,opt,LR,n_epochs=N_EPOCHS,\n",
    "                     weight_name=WEIGHT_NAME,lr_scheduler='flat_cos',\n",
    "                    mixup_alpha=0.4\n",
    "                    )"
   ]
  }
 ],
 "metadata": {
  "kernelspec": {
   "display_name": "Python 3",
   "language": "python",
   "name": "python3"
  },
  "language_info": {
   "codemirror_mode": {
    "name": "ipython",
    "version": 3
   },
   "file_extension": ".py",
   "mimetype": "text/x-python",
   "name": "python",
   "nbconvert_exporter": "python",
   "pygments_lexer": "ipython3",
   "version": "3.8.5"
  },
  "toc": {
   "base_numbering": 1,
   "nav_menu": {},
   "number_sections": true,
   "sideBar": true,
   "skip_h1_title": false,
   "title_cell": "Table of Contents",
   "title_sidebar": "Contents",
   "toc_cell": true,
   "toc_position": {
    "height": "calc(100% - 180px)",
    "left": "10px",
    "top": "150px",
    "width": "400.95px"
   },
   "toc_section_display": true,
   "toc_window_display": false
  }
 },
 "nbformat": 4,
 "nbformat_minor": 4
}

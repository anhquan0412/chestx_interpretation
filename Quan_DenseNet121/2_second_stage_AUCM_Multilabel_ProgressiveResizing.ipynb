{
 "cells": [
  {
   "cell_type": "markdown",
   "metadata": {
    "toc": true
   },
   "source": [
    "<h1>Table of Contents<span class=\"tocSkip\"></span></h1>\n",
    "<div class=\"toc\"><ul class=\"toc-item\"><li><span><a href=\"#Second-stage\" data-toc-modified-id=\"Second-stage-1\"><span class=\"toc-item-num\">1&nbsp;&nbsp;</span>Second stage</a></span><ul class=\"toc-item\"><li><span><a href=\"#With-u-default-(best-results)\" data-toc-modified-id=\"With-u-default-(best-results)-1.1\"><span class=\"toc-item-num\">1.1&nbsp;&nbsp;</span>With u-default (best results)</a></span></li><li><span><a href=\"#With-U-one-smooth\" data-toc-modified-id=\"With-U-one-smooth-1.2\"><span class=\"toc-item-num\">1.2&nbsp;&nbsp;</span>With U-one smooth</a></span></li></ul></li></ul></div>"
   ]
  },
  {
   "cell_type": "code",
   "execution_count": 1,
   "metadata": {},
   "outputs": [],
   "source": [
    "# Load lib and define helper functions\n",
    "\n",
    "%reload_ext autoreload\n",
    "%autoreload 2"
   ]
  },
  {
   "cell_type": "code",
   "execution_count": 2,
   "metadata": {},
   "outputs": [],
   "source": [
    "from dataloader import *\n",
    "from trainer import *\n",
    "import AUCMMS\n",
    "from fastai.vision.all import *\n",
    "\n",
    "DATA = '/media/samsung/chexpert/CheXpert-v1.0-small/'"
   ]
  },
  {
   "cell_type": "markdown",
   "metadata": {},
   "source": [
    "# Second stage"
   ]
  },
  {
   "cell_type": "markdown",
   "metadata": {},
   "source": [
    "## With u-default (best results)"
   ]
  },
  {
   "cell_type": "code",
   "execution_count": 3,
   "metadata": {},
   "outputs": [
    {
     "name": "stderr",
     "output_type": "stream",
     "text": [
      "/home/quan/kwon/OMSCS/deep_learning/chestx_interpretation/dataloader.py:52: FutureWarning: The default value of regex will change from True to False in a future version.\n",
      "  self.df['Path'] = self.df['Path'].str.replace('CheXpert-v1.0-small/', '')\n",
      "/home/quan/kwon/OMSCS/deep_learning/chestx_interpretation/dataloader.py:53: FutureWarning: The default value of regex will change from True to False in a future version.\n",
      "  self.df['Path'] = self.df['Path'].str.replace('CheXpert-v1.0/', '')\n"
     ]
    },
    {
     "name": "stdout",
     "output_type": "stream",
     "text": [
      "Multi-label mode: True, Number of classes: [5]\n",
      "Multi-label mode: True, Number of classes: [5]\n"
     ]
    },
    {
     "name": "stderr",
     "output_type": "stream",
     "text": [
      "/home/quan/kwon/OMSCS/deep_learning/chestx_interpretation/dataloader.py:52: FutureWarning: The default value of regex will change from True to False in a future version.\n",
      "  self.df['Path'] = self.df['Path'].str.replace('CheXpert-v1.0-small/', '')\n",
      "/home/quan/kwon/OMSCS/deep_learning/chestx_interpretation/dataloader.py:53: FutureWarning: The default value of regex will change from True to False in a future version.\n",
      "  self.df['Path'] = self.df['Path'].str.replace('CheXpert-v1.0/', '')\n"
     ]
    }
   ],
   "source": [
    "data_params={\n",
    "    'uncertainty_method':'default',\n",
    "    'use_frontal':False,\n",
    "    'image_size': 320,\n",
    "    'sample_frac':1,\n",
    "    'sample_seed':123,\n",
    "    'batch_size': 128,\n",
    "}\n",
    "SEED = 123\n",
    "WEIGHT_DECAY = 0\n",
    "N_EPOCHS=3\n",
    "\n",
    "trainloader,testloader,imratio = create_loaders(**data_params)\n",
    "fastai_loader = DataLoaders(trainloader,testloader)"
   ]
  },
  {
   "cell_type": "code",
   "execution_count": 4,
   "metadata": {},
   "outputs": [
    {
     "data": {
      "text/html": [
       "<table border=\"1\" class=\"dataframe\">\n",
       "  <thead>\n",
       "    <tr style=\"text-align: left;\">\n",
       "      <th>epoch</th>\n",
       "      <th>train_loss</th>\n",
       "      <th>valid_loss</th>\n",
       "      <th>roc_auc_score</th>\n",
       "      <th>roc_auc_score</th>\n",
       "      <th>time</th>\n",
       "    </tr>\n",
       "  </thead>\n",
       "  <tbody>\n",
       "    <tr>\n",
       "      <td>0</td>\n",
       "      <td>0.469920</td>\n",
       "      <td>0.319699</td>\n",
       "      <td>0.895767</td>\n",
       "      <td>[0.84886364 0.86795712 0.9188904  0.92239859 0.92072571]</td>\n",
       "      <td>14:11</td>\n",
       "    </tr>\n",
       "    <tr>\n",
       "      <td>1</td>\n",
       "      <td>0.443437</td>\n",
       "      <td>0.298660</td>\n",
       "      <td>0.897936</td>\n",
       "      <td>[0.85271916 0.86348335 0.92017187 0.92833627 0.92497095]</td>\n",
       "      <td>14:20</td>\n",
       "    </tr>\n",
       "    <tr>\n",
       "      <td>2</td>\n",
       "      <td>0.447723</td>\n",
       "      <td>0.291991</td>\n",
       "      <td>0.898781</td>\n",
       "      <td>[0.8481737  0.86366052 0.92446857 0.93004115 0.92756278]</td>\n",
       "      <td>13:53</td>\n",
       "    </tr>\n",
       "    <tr>\n",
       "      <td>3</td>\n",
       "      <td>0.434525</td>\n",
       "      <td>0.284345</td>\n",
       "      <td>0.898813</td>\n",
       "      <td>[0.84622565 0.8621545  0.92597618 0.9319224  0.92778622]</td>\n",
       "      <td>13:52</td>\n",
       "    </tr>\n",
       "    <tr>\n",
       "      <td>4</td>\n",
       "      <td>0.432175</td>\n",
       "      <td>0.280843</td>\n",
       "      <td>0.898763</td>\n",
       "      <td>[0.84683442 0.86024982 0.92642846 0.93215755 0.92814371]</td>\n",
       "      <td>13:37</td>\n",
       "    </tr>\n",
       "  </tbody>\n",
       "</table>"
      ],
      "text/plain": [
       "<IPython.core.display.HTML object>"
      ]
     },
     "metadata": {},
     "output_type": "display_data"
    },
    {
     "name": "stderr",
     "output_type": "stream",
     "text": [
      "/home/quan/anaconda3/envs/fastai_v2/lib/python3.8/site-packages/torch/nn/functional.py:718: UserWarning: Named tensors and all their associated APIs are an experimental feature and subject to change. Please do not use them for anything important until they are released as stable. (Triggered internally at  /pytorch/c10/core/TensorImpl.h:1156.)\n",
      "  return torch.max_pool2d(input, kernel_size, stride, padding, dilation, ceil_mode)\n"
     ]
    },
    {
     "name": "stdout",
     "output_type": "stream",
     "text": [
      "Better model found at epoch 0 with roc_auc_score value: 0.8957670914585811.\n"
     ]
    },
    {
     "data": {
      "image/png": "[encoded data removed]",
      "text/plain": [
       "<Figure size 432x288 with 1 Axes>"
      ]
     },
     "metadata": {},
     "output_type": "display_data"
    },
    {
     "name": "stdout",
     "output_type": "stream",
     "text": [
      "Better model found at epoch 1 with roc_auc_score value: 0.8979363190636761.\n",
      "Better model found at epoch 2 with roc_auc_score value: 0.8987813458300872.\n",
      "Better model found at epoch 3 with roc_auc_score value: 0.8988129893218314.\n"
     ]
    }
   ],
   "source": [
    "LR=1e-2\n",
    "PRETRAIN_WEIGHT_NAME='model_weights/densenet_bce_udefault_fit_1cycle_highlr_2.pth' \n",
    "WEIGHT_NAME='densenet_bce_udefault_fit_pr320_aucm'\n",
    "model = get_densenet_model(SEED)\n",
    "state_dict = torch.load(PRETRAIN_WEIGHT_NAME)\n",
    "state_dict.pop('classifier.weight', None)\n",
    "state_dict.pop('classifier.bias', None) \n",
    "model.load_state_dict(state_dict, strict=False)\n",
    "N_EPOCHS=5\n",
    "loss,opt = get_loss_and_optimizer(model,LR,loss_type='aucm',imratio=imratio,\n",
    "                                  use_fastai=True,\n",
    "                                  weight_decay=WEIGHT_DECAY)\n",
    "\n",
    "train_fastai_learner(fastai_loader,model,loss,opt,LR,n_epochs=N_EPOCHS,\n",
    "                     weight_name=WEIGHT_NAME,lr_scheduler='flat_cos',\n",
    "#                     mixup_alpha=0.4\n",
    "                    )"
   ]
  },
  {
   "cell_type": "code",
   "execution_count": 5,
   "metadata": {},
   "outputs": [
    {
     "data": {
      "text/html": [
       "<table border=\"1\" class=\"dataframe\">\n",
       "  <thead>\n",
       "    <tr style=\"text-align: left;\">\n",
       "      <th>epoch</th>\n",
       "      <th>train_loss</th>\n",
       "      <th>valid_loss</th>\n",
       "      <th>roc_auc_score</th>\n",
       "      <th>roc_auc_score</th>\n",
       "      <th>time</th>\n",
       "    </tr>\n",
       "  </thead>\n",
       "  <tbody>\n",
       "    <tr>\n",
       "      <td>0</td>\n",
       "      <td>0.475961</td>\n",
       "      <td>0.320244</td>\n",
       "      <td>0.895933</td>\n",
       "      <td>[0.85117695 0.8698618  0.91489522 0.92380952 0.91992135]</td>\n",
       "      <td>13:37</td>\n",
       "    </tr>\n",
       "    <tr>\n",
       "      <td>1</td>\n",
       "      <td>0.456460</td>\n",
       "      <td>0.301883</td>\n",
       "      <td>0.896788</td>\n",
       "      <td>[0.84553571 0.86826719 0.91919192 0.92557319 0.92537313]</td>\n",
       "      <td>13:39</td>\n",
       "    </tr>\n",
       "    <tr>\n",
       "      <td>2</td>\n",
       "      <td>0.441144</td>\n",
       "      <td>0.290689</td>\n",
       "      <td>0.898066</td>\n",
       "      <td>[0.85146104 0.86392629 0.92085029 0.92863022 0.92546251]</td>\n",
       "      <td>13:38</td>\n",
       "    </tr>\n",
       "    <tr>\n",
       "      <td>3</td>\n",
       "      <td>0.439820</td>\n",
       "      <td>0.281781</td>\n",
       "      <td>0.898651</td>\n",
       "      <td>[0.84882305 0.86357193 0.92145334 0.93215755 0.92724998]</td>\n",
       "      <td>13:37</td>\n",
       "    </tr>\n",
       "    <tr>\n",
       "      <td>4</td>\n",
       "      <td>0.446298</td>\n",
       "      <td>0.281805</td>\n",
       "      <td>0.898292</td>\n",
       "      <td>[0.84797078 0.86255315 0.92235791 0.93168724 0.92689248]</td>\n",
       "      <td>13:37</td>\n",
       "    </tr>\n",
       "  </tbody>\n",
       "</table>"
      ],
      "text/plain": [
       "<IPython.core.display.HTML object>"
      ]
     },
     "metadata": {},
     "output_type": "display_data"
    },
    {
     "name": "stdout",
     "output_type": "stream",
     "text": [
      "Better model found at epoch 0 with roc_auc_score value: 0.8959329688391563.\n"
     ]
    },
    {
     "data": {
      "image/png": "[encoded data removed]",
      "text/plain": [
       "<Figure size 432x288 with 1 Axes>"
      ]
     },
     "metadata": {},
     "output_type": "display_data"
    },
    {
     "name": "stdout",
     "output_type": "stream",
     "text": [
      "Better model found at epoch 1 with roc_auc_score value: 0.8967882292876961.\n",
      "Better model found at epoch 2 with roc_auc_score value: 0.8980660703387755.\n",
      "Better model found at epoch 3 with roc_auc_score value: 0.8986511716292519.\n"
     ]
    }
   ],
   "source": [
    "LR=1e-2\n",
    "PRETRAIN_WEIGHT_NAME='model_weights/densenet_bce_udefault_fit_1cycle_highlr_2.pth' \n",
    "WEIGHT_NAME='densenet_bce_udefault_fit_pr320_aucm_2'\n",
    "model = get_densenet_model(345)\n",
    "state_dict = torch.load(PRETRAIN_WEIGHT_NAME)\n",
    "state_dict.pop('classifier.weight', None)\n",
    "state_dict.pop('classifier.bias', None) \n",
    "model.load_state_dict(state_dict, strict=False)\n",
    "N_EPOCHS=5\n",
    "loss,opt = get_loss_and_optimizer(model,LR,loss_type='aucm',imratio=imratio,\n",
    "                                  use_fastai=True,\n",
    "                                  weight_decay=WEIGHT_DECAY)\n",
    "\n",
    "train_fastai_learner(fastai_loader,model,loss,opt,LR,n_epochs=N_EPOCHS,\n",
    "                     weight_name=WEIGHT_NAME,lr_scheduler='flat_cos',\n",
    "#                     mixup_alpha=0.4\n",
    "                    )"
   ]
  },
  {
   "cell_type": "code",
   "execution_count": 4,
   "metadata": {},
   "outputs": [
    {
     "data": {
      "text/html": [
       "<table border=\"1\" class=\"dataframe\">\n",
       "  <thead>\n",
       "    <tr style=\"text-align: left;\">\n",
       "      <th>epoch</th>\n",
       "      <th>train_loss</th>\n",
       "      <th>valid_loss</th>\n",
       "      <th>roc_auc_score</th>\n",
       "      <th>roc_auc_score</th>\n",
       "      <th>time</th>\n",
       "    </tr>\n",
       "  </thead>\n",
       "  <tbody>\n",
       "    <tr>\n",
       "      <td>0</td>\n",
       "      <td>0.469918</td>\n",
       "      <td>0.319652</td>\n",
       "      <td>0.895751</td>\n",
       "      <td>[0.84857955 0.8681343  0.91881502 0.92245738 0.9207704 ]</td>\n",
       "      <td>14:01</td>\n",
       "    </tr>\n",
       "    <tr>\n",
       "      <td>1</td>\n",
       "      <td>0.443451</td>\n",
       "      <td>0.298947</td>\n",
       "      <td>0.898040</td>\n",
       "      <td>[0.85292208 0.86339476 0.92024725 0.92839506 0.92523907]</td>\n",
       "      <td>13:41</td>\n",
       "    </tr>\n",
       "    <tr>\n",
       "      <td>2</td>\n",
       "      <td>0.447731</td>\n",
       "      <td>0.291998</td>\n",
       "      <td>0.898778</td>\n",
       "      <td>[0.84845779 0.86352764 0.9243178  0.93015873 0.92742872]</td>\n",
       "      <td>13:40</td>\n",
       "    </tr>\n",
       "    <tr>\n",
       "      <td>3</td>\n",
       "      <td>0.434544</td>\n",
       "      <td>0.284291</td>\n",
       "      <td>0.898755</td>\n",
       "      <td>[0.84594156 0.86224309 0.92567466 0.93203998 0.92787559]</td>\n",
       "      <td>14:01</td>\n",
       "    </tr>\n",
       "    <tr>\n",
       "      <td>4</td>\n",
       "      <td>0.432190</td>\n",
       "      <td>0.280871</td>\n",
       "      <td>0.898735</td>\n",
       "      <td>[0.84675325 0.86029412 0.92650384 0.93198119 0.92814371]</td>\n",
       "      <td>14:22</td>\n",
       "    </tr>\n",
       "  </tbody>\n",
       "</table>"
      ],
      "text/plain": [
       "<IPython.core.display.HTML object>"
      ]
     },
     "metadata": {},
     "output_type": "display_data"
    },
    {
     "name": "stderr",
     "output_type": "stream",
     "text": [
      "/home/quan/anaconda3/envs/fastai_v2/lib/python3.8/site-packages/torch/nn/functional.py:718: UserWarning: Named tensors and all their associated APIs are an experimental feature and subject to change. Please do not use them for anything important until they are released as stable. (Triggered internally at  /pytorch/c10/core/TensorImpl.h:1156.)\n",
      "  return torch.max_pool2d(input, kernel_size, stride, padding, dilation, ceil_mode)\n"
     ]
    },
    {
     "name": "stdout",
     "output_type": "stream",
     "text": [
      "Better model found at epoch 0 with roc_auc_score value: 0.895751328142093.\n"
     ]
    },
    {
     "data": {
      "image/png": "[encoded data removed]",
      "text/plain": [
       "<Figure size 432x288 with 1 Axes>"
      ]
     },
     "metadata": {},
     "output_type": "display_data"
    },
    {
     "name": "stdout",
     "output_type": "stream",
     "text": [
      "Better model found at epoch 1 with roc_auc_score value: 0.8980396435678226.\n",
      "Better model found at epoch 2 with roc_auc_score value: 0.898778138378653.\n"
     ]
    }
   ],
   "source": [
    "# Increasing weight decay by a bit doesn't affect final AUC that much\n",
    "LR=1e-2\n",
    "PRETRAIN_WEIGHT_NAME='model_weights/densenet_bce_udefault_fit_1cycle_highlr_2.pth' \n",
    "WEIGHT_NAME='densenet_bce_udefault_fit_pr320_aucm_wd'\n",
    "WEIGHT_DECAY = 1e-5\n",
    "model = get_densenet_model(SEED)\n",
    "state_dict = torch.load(PRETRAIN_WEIGHT_NAME)\n",
    "state_dict.pop('classifier.weight', None)\n",
    "state_dict.pop('classifier.bias', None) \n",
    "model.load_state_dict(state_dict, strict=False)\n",
    "N_EPOCHS=5\n",
    "loss,opt = get_loss_and_optimizer(model,LR,loss_type='aucm',imratio=imratio,\n",
    "                                  use_fastai=True,\n",
    "                                  weight_decay=WEIGHT_DECAY)\n",
    "\n",
    "train_fastai_learner(fastai_loader,model,loss,opt,LR,n_epochs=N_EPOCHS,\n",
    "                     weight_name=WEIGHT_NAME,lr_scheduler='flat_cos',\n",
    "#                     mixup_alpha=0.4\n",
    "                    )"
   ]
  },
  {
   "cell_type": "code",
   "execution_count": null,
   "metadata": {},
   "outputs": [],
   "source": []
  },
  {
   "cell_type": "markdown",
   "metadata": {},
   "source": [
    "## With U-one smooth"
   ]
  },
  {
   "cell_type": "code",
   "execution_count": 3,
   "metadata": {},
   "outputs": [
    {
     "name": "stderr",
     "output_type": "stream",
     "text": [
      "/home/quan/kwon/OMSCS/deep_learning/chestx_interpretation/Quan_DenseNet121/dataloader.py:52: FutureWarning: The default value of regex will change from True to False in a future version.\n",
      "  self.df['Path'] = self.df['Path'].str.replace('CheXpert-v1.0-small/', '')\n",
      "/home/quan/kwon/OMSCS/deep_learning/chestx_interpretation/Quan_DenseNet121/dataloader.py:53: FutureWarning: The default value of regex will change from True to False in a future version.\n",
      "  self.df['Path'] = self.df['Path'].str.replace('CheXpert-v1.0/', '')\n"
     ]
    },
    {
     "name": "stdout",
     "output_type": "stream",
     "text": [
      "Multi-label mode: True, Number of classes: [5]\n",
      "Multi-label mode: True, Number of classes: [5]\n"
     ]
    },
    {
     "name": "stderr",
     "output_type": "stream",
     "text": [
      "/home/quan/kwon/OMSCS/deep_learning/chestx_interpretation/Quan_DenseNet121/dataloader.py:52: FutureWarning: The default value of regex will change from True to False in a future version.\n",
      "  self.df['Path'] = self.df['Path'].str.replace('CheXpert-v1.0-small/', '')\n",
      "/home/quan/kwon/OMSCS/deep_learning/chestx_interpretation/Quan_DenseNet121/dataloader.py:53: FutureWarning: The default value of regex will change from True to False in a future version.\n",
      "  self.df['Path'] = self.df['Path'].str.replace('CheXpert-v1.0/', '')\n"
     ]
    }
   ],
   "source": [
    "data_params={\n",
    "    'uncertainty_method':'smoothing',\n",
    "    'use_frontal':False,\n",
    "    'image_size': 320,\n",
    "    'sample_frac':1,\n",
    "    'sample_seed':123,\n",
    "    'batch_size': 128,\n",
    "    'smooth_lower': 0.55,\n",
    "    'smooth_upper': 0.85\n",
    "}\n",
    "SEED = 123\n",
    "WEIGHT_DECAY = 0\n",
    "N_EPOCHS=3\n",
    "\n",
    "trainloader,testloader,imratio = create_loaders(**data_params)\n",
    "fastai_loader = DataLoaders(trainloader,testloader)"
   ]
  },
  {
   "cell_type": "code",
   "execution_count": 5,
   "metadata": {},
   "outputs": [
    {
     "data": {
      "text/html": [
       "<table border=\"1\" class=\"dataframe\">\n",
       "  <thead>\n",
       "    <tr style=\"text-align: left;\">\n",
       "      <th>epoch</th>\n",
       "      <th>train_loss</th>\n",
       "      <th>valid_loss</th>\n",
       "      <th>roc_auc_score</th>\n",
       "      <th>roc_auc_score</th>\n",
       "      <th>time</th>\n",
       "    </tr>\n",
       "  </thead>\n",
       "  <tbody>\n",
       "    <tr>\n",
       "      <td>0</td>\n",
       "      <td>0.422245</td>\n",
       "      <td>0.184552</td>\n",
       "      <td>0.892048</td>\n",
       "      <td>[0.82236201 0.8536056  0.92424242 0.92786596 0.93216552]</td>\n",
       "      <td>14:12</td>\n",
       "    </tr>\n",
       "    <tr>\n",
       "      <td>1</td>\n",
       "      <td>0.396157</td>\n",
       "      <td>0.156728</td>\n",
       "      <td>0.892049</td>\n",
       "      <td>[0.82946429 0.84222183 0.93034826 0.92475015 0.93346144]</td>\n",
       "      <td>14:01</td>\n",
       "    </tr>\n",
       "    <tr>\n",
       "      <td>2</td>\n",
       "      <td>0.398812</td>\n",
       "      <td>0.133545</td>\n",
       "      <td>0.892348</td>\n",
       "      <td>[0.81793831 0.84049433 0.93381577 0.93339212 0.93609795]</td>\n",
       "      <td>13:59</td>\n",
       "    </tr>\n",
       "    <tr>\n",
       "      <td>3</td>\n",
       "      <td>0.380292</td>\n",
       "      <td>0.128851</td>\n",
       "      <td>0.891062</td>\n",
       "      <td>[0.81241883 0.83925408 0.93411729 0.93445032 0.93507016]</td>\n",
       "      <td>13:41</td>\n",
       "    </tr>\n",
       "    <tr>\n",
       "      <td>4</td>\n",
       "      <td>0.388564</td>\n",
       "      <td>0.123820</td>\n",
       "      <td>0.891138</td>\n",
       "      <td>[0.81176948 0.83898831 0.93464496 0.93486185 0.93542765]</td>\n",
       "      <td>13:41</td>\n",
       "    </tr>\n",
       "  </tbody>\n",
       "</table>"
      ],
      "text/plain": [
       "<IPython.core.display.HTML object>"
      ]
     },
     "metadata": {},
     "output_type": "display_data"
    },
    {
     "name": "stderr",
     "output_type": "stream",
     "text": [
      "/home/quan/anaconda3/envs/fastai_v2/lib/python3.8/site-packages/torch/nn/functional.py:718: UserWarning: Named tensors and all their associated APIs are an experimental feature and subject to change. Please do not use them for anything important until they are released as stable. (Triggered internally at  /pytorch/c10/core/TensorImpl.h:1156.)\n",
      "  return torch.max_pool2d(input, kernel_size, stride, padding, dilation, ceil_mode)\n"
     ]
    },
    {
     "name": "stdout",
     "output_type": "stream",
     "text": [
      "Better model found at epoch 0 with roc_auc_score value: 0.8920483034003279.\n"
     ]
    },
    {
     "data": {
      "image/png": "[encoded data removed]",
      "text/plain": [
       "<Figure size 432x288 with 1 Axes>"
      ]
     },
     "metadata": {},
     "output_type": "display_data"
    },
    {
     "name": "stdout",
     "output_type": "stream",
     "text": [
      "Better model found at epoch 1 with roc_auc_score value: 0.8920491910443668.\n",
      "Better model found at epoch 2 with roc_auc_score value: 0.8923476974430502.\n"
     ]
    }
   ],
   "source": [
    "LR=1e-2\n",
    "PRETRAIN_WEIGHT_NAME='model_weights/densenet_bce_uonesmooth_fit1cycle_highlr_2.pth' \n",
    "WEIGHT_NAME='densenet_bce_uonesmooth_fit_pr320_aucm_wd'\n",
    "WEIGHT_DECAY = 1e-5\n",
    "model = get_densenet_model(SEED)\n",
    "state_dict = torch.load(PRETRAIN_WEIGHT_NAME)\n",
    "state_dict.pop('classifier.weight', None)\n",
    "state_dict.pop('classifier.bias', None) \n",
    "model.load_state_dict(state_dict, strict=False)\n",
    "N_EPOCHS=5\n",
    "loss,opt = get_loss_and_optimizer(model,LR,loss_type='aucm',imratio=imratio,\n",
    "                                  use_fastai=True,\n",
    "                                  weight_decay=WEIGHT_DECAY)\n",
    "\n",
    "train_fastai_learner(fastai_loader,model,loss,opt,LR,n_epochs=N_EPOCHS,\n",
    "                     weight_name=WEIGHT_NAME,lr_scheduler='flat_cos')"
   ]
  }
 ],
 "metadata": {
  "kernelspec": {
   "display_name": "Python 3",
   "language": "python",
   "name": "python3"
  },
  "language_info": {
   "codemirror_mode": {
    "name": "ipython",
    "version": 3
   },
   "file_extension": ".py",
   "mimetype": "text/x-python",
   "name": "python",
   "nbconvert_exporter": "python",
   "pygments_lexer": "ipython3",
   "version": "3.8.5"
  },
  "toc": {
   "base_numbering": 1,
   "nav_menu": {},
   "number_sections": true,
   "sideBar": false,
   "skip_h1_title": false,
   "title_cell": "Table of Contents",
   "title_sidebar": "Contents",
   "toc_cell": true,
   "toc_position": {},
   "toc_section_display": true,
   "toc_window_display": false
  }
 },
 "nbformat": 4,
 "nbformat_minor": 4
}

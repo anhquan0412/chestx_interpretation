{
 "cells": [
  {
   "cell_type": "markdown",
   "metadata": {
    "toc": true
   },
   "source": [
    "<h1>Table of Contents<span class=\"tocSkip\"></span></h1>\n",
    "<div class=\"toc\"><ul class=\"toc-item\"><li><span><a href=\"#U-default\" data-toc-modified-id=\"U-default-1\"><span class=\"toc-item-num\">1&nbsp;&nbsp;</span>U-default</a></span><ul class=\"toc-item\"><li><span><a href=\"#Second-stage\" data-toc-modified-id=\"Second-stage-1.1\"><span class=\"toc-item-num\">1.1&nbsp;&nbsp;</span>Second stage</a></span></li><li><span><a href=\"#default-smoothing-one\" data-toc-modified-id=\"default-smoothing-one-1.2\"><span class=\"toc-item-num\">1.2&nbsp;&nbsp;</span>default smoothing one</a></span></li><li><span><a href=\"#something\" data-toc-modified-id=\"something-1.3\"><span class=\"toc-item-num\">1.3&nbsp;&nbsp;</span>something</a></span></li></ul></li></ul></div>"
   ]
  },
  {
   "cell_type": "code",
   "execution_count": 1,
   "metadata": {},
   "outputs": [],
   "source": [
    "# Load lib and define helper functions\n",
    "\n",
    "%reload_ext autoreload\n",
    "%autoreload 2"
   ]
  },
  {
   "cell_type": "code",
   "execution_count": 2,
   "metadata": {},
   "outputs": [],
   "source": [
    "from dataloader import *\n",
    "from trainer import *\n",
    "import AUCMMS\n",
    "from fastai.vision.all import *\n",
    "\n",
    "DATA = '/media/samsung/chexpert/CheXpert-v1.0-small/'"
   ]
  },
  {
   "cell_type": "markdown",
   "metadata": {},
   "source": [
    "# U-default"
   ]
  },
  {
   "cell_type": "code",
   "execution_count": 3,
   "metadata": {},
   "outputs": [
    {
     "name": "stderr",
     "output_type": "stream",
     "text": [
      "/home/quan/kwon/OMSCS/deep_learning/chestx_interpretation/dataloader.py:52: FutureWarning: The default value of regex will change from True to False in a future version.\n",
      "  self.df['Path'] = self.df['Path'].str.replace('CheXpert-v1.0-small/', '')\n",
      "/home/quan/kwon/OMSCS/deep_learning/chestx_interpretation/dataloader.py:53: FutureWarning: The default value of regex will change from True to False in a future version.\n",
      "  self.df['Path'] = self.df['Path'].str.replace('CheXpert-v1.0/', '')\n"
     ]
    },
    {
     "name": "stdout",
     "output_type": "stream",
     "text": [
      "Multi-label mode: True, Number of classes: [5]\n",
      "Multi-label mode: True, Number of classes: [5]\n"
     ]
    },
    {
     "name": "stderr",
     "output_type": "stream",
     "text": [
      "/home/quan/kwon/OMSCS/deep_learning/chestx_interpretation/dataloader.py:52: FutureWarning: The default value of regex will change from True to False in a future version.\n",
      "  self.df['Path'] = self.df['Path'].str.replace('CheXpert-v1.0-small/', '')\n",
      "/home/quan/kwon/OMSCS/deep_learning/chestx_interpretation/dataloader.py:53: FutureWarning: The default value of regex will change from True to False in a future version.\n",
      "  self.df['Path'] = self.df['Path'].str.replace('CheXpert-v1.0/', '')\n"
     ]
    }
   ],
   "source": [
    "data_params={\n",
    "    'uncertainty_method':'default',\n",
    "    'use_frontal':False,\n",
    "    'image_size': 224,\n",
    "    'sample_frac':0.1,\n",
    "    'sample_seed':123,\n",
    "    'batch_size': 128,\n",
    "}\n",
    "SEED = 123\n",
    "WEIGHT_DECAY = 1e-5\n",
    "N_EPOCHS=6\n",
    "\n",
    "trainloader,testloader,_ = create_loaders(**data_params)\n",
    "fastai_loader = DataLoaders(trainloader,testloader)"
   ]
  },
  {
   "cell_type": "code",
   "execution_count": 6,
   "metadata": {},
   "outputs": [
    {
     "data": {
      "text/html": [
       "<table border=\"1\" class=\"dataframe\">\n",
       "  <thead>\n",
       "    <tr style=\"text-align: left;\">\n",
       "      <th>epoch</th>\n",
       "      <th>train_loss</th>\n",
       "      <th>valid_loss</th>\n",
       "      <th>roc_auc_score</th>\n",
       "      <th>roc_auc_score</th>\n",
       "      <th>time</th>\n",
       "    </tr>\n",
       "  </thead>\n",
       "  <tbody>\n",
       "    <tr>\n",
       "      <td>0</td>\n",
       "      <td>0.445668</td>\n",
       "      <td>0.540940</td>\n",
       "      <td>0.826539</td>\n",
       "      <td>[0.81700487 0.7277197  0.84660033 0.86072898 0.8806417 ]</td>\n",
       "      <td>00:52</td>\n",
       "    </tr>\n",
       "    <tr>\n",
       "      <td>1</td>\n",
       "      <td>0.440470</td>\n",
       "      <td>0.499885</td>\n",
       "      <td>0.852797</td>\n",
       "      <td>[0.86477273 0.79150425 0.86657621 0.86531452 0.87581553]</td>\n",
       "      <td>00:53</td>\n",
       "    </tr>\n",
       "    <tr>\n",
       "      <td>2</td>\n",
       "      <td>0.429383</td>\n",
       "      <td>0.477144</td>\n",
       "      <td>0.870826</td>\n",
       "      <td>[0.8692776  0.83597626 0.88971808 0.87489712 0.88426133]</td>\n",
       "      <td>00:50</td>\n",
       "    </tr>\n",
       "    <tr>\n",
       "      <td>3</td>\n",
       "      <td>0.422264</td>\n",
       "      <td>0.474144</td>\n",
       "      <td>0.858298</td>\n",
       "      <td>[0.85450487 0.7602321  0.88692899 0.87865961 0.91116275]</td>\n",
       "      <td>00:55</td>\n",
       "    </tr>\n",
       "    <tr>\n",
       "      <td>4</td>\n",
       "      <td>0.415070</td>\n",
       "      <td>0.449675</td>\n",
       "      <td>0.870404</td>\n",
       "      <td>[0.81225649 0.80554571 0.89974371 0.91111111 0.92336223]</td>\n",
       "      <td>00:56</td>\n",
       "    </tr>\n",
       "    <tr>\n",
       "      <td>5</td>\n",
       "      <td>0.406367</td>\n",
       "      <td>0.441835</td>\n",
       "      <td>0.874195</td>\n",
       "      <td>[0.83319805 0.79695252 0.89944218 0.92016461 0.92121727]</td>\n",
       "      <td>00:50</td>\n",
       "    </tr>\n",
       "  </tbody>\n",
       "</table>"
      ],
      "text/plain": [
       "<IPython.core.display.HTML object>"
      ]
     },
     "metadata": {},
     "output_type": "display_data"
    },
    {
     "name": "stderr",
     "output_type": "stream",
     "text": [
      "/home/quan/anaconda3/envs/fastai_v2/lib/python3.8/site-packages/torch/nn/functional.py:718: UserWarning: Named tensors and all their associated APIs are an experimental feature and subject to change. Please do not use them for anything important until they are released as stable. (Triggered internally at  /pytorch/c10/core/TensorImpl.h:1156.)\n",
      "  return torch.max_pool2d(input, kernel_size, stride, padding, dilation, ceil_mode)\n"
     ]
    },
    {
     "name": "stdout",
     "output_type": "stream",
     "text": [
      "Better model found at epoch 0 with roc_auc_score value: 0.826539117753217.\n"
     ]
    },
    {
     "data": {
      "image/png": "[encoded data removed]",
      "text/plain": [
       "<Figure size 432x288 with 1 Axes>"
      ]
     },
     "metadata": {},
     "output_type": "display_data"
    },
    {
     "name": "stdout",
     "output_type": "stream",
     "text": [
      "Better model found at epoch 1 with roc_auc_score value: 0.8527966486837611.\n",
      "Better model found at epoch 2 with roc_auc_score value: 0.8708260758185119.\n",
      "Better model found at epoch 5 with roc_auc_score value: 0.8741949253861161.\n"
     ]
    }
   ],
   "source": [
    "WEIGHT_NAME='densenet_bce_udefault_fit_mixup_sample'\n",
    "LR = 1e-3\n",
    "model = get_densenet_model(SEED)\n",
    "loss,opt = get_loss_and_optimizer(model,LR,loss_type='bce',use_fastai=True,weight_decay=WEIGHT_DECAY)\n",
    "train_fastai_learner(fastai_loader,model,loss,opt,LR,n_epochs=N_EPOCHS,\n",
    "                     weight_name=WEIGHT_NAME,lr_scheduler='flat_cos',\n",
    "                    mixup_alpha=0.4\n",
    "                    )"
   ]
  },
  {
   "cell_type": "code",
   "execution_count": 7,
   "metadata": {},
   "outputs": [
    {
     "data": {
      "text/html": [
       "<table border=\"1\" class=\"dataframe\">\n",
       "  <thead>\n",
       "    <tr style=\"text-align: left;\">\n",
       "      <th>epoch</th>\n",
       "      <th>train_loss</th>\n",
       "      <th>valid_loss</th>\n",
       "      <th>roc_auc_score</th>\n",
       "      <th>roc_auc_score</th>\n",
       "      <th>time</th>\n",
       "    </tr>\n",
       "  </thead>\n",
       "  <tbody>\n",
       "    <tr>\n",
       "      <td>0</td>\n",
       "      <td>0.449412</td>\n",
       "      <td>1.035302</td>\n",
       "      <td>0.812931</td>\n",
       "      <td>[0.76237825 0.75265769 0.85240464 0.85008818 0.84712664]</td>\n",
       "      <td>00:50</td>\n",
       "    </tr>\n",
       "    <tr>\n",
       "      <td>1</td>\n",
       "      <td>0.441237</td>\n",
       "      <td>0.531806</td>\n",
       "      <td>0.845131</td>\n",
       "      <td>[0.86306818 0.75296775 0.88014473 0.88453851 0.84493699]</td>\n",
       "      <td>00:50</td>\n",
       "    </tr>\n",
       "    <tr>\n",
       "      <td>2</td>\n",
       "      <td>0.432985</td>\n",
       "      <td>0.520890</td>\n",
       "      <td>0.833541</td>\n",
       "      <td>[0.834375   0.7611623  0.83348409 0.87207525 0.86661006]</td>\n",
       "      <td>00:50</td>\n",
       "    </tr>\n",
       "    <tr>\n",
       "      <td>3</td>\n",
       "      <td>0.425446</td>\n",
       "      <td>0.482778</td>\n",
       "      <td>0.847125</td>\n",
       "      <td>[0.79310065 0.79181432 0.87690336 0.87542622 0.89838234]</td>\n",
       "      <td>00:50</td>\n",
       "    </tr>\n",
       "    <tr>\n",
       "      <td>4</td>\n",
       "      <td>0.415279</td>\n",
       "      <td>0.462105</td>\n",
       "      <td>0.872125</td>\n",
       "      <td>[0.83453734 0.78472714 0.91165385 0.91992945 0.90977746]</td>\n",
       "      <td>00:52</td>\n",
       "    </tr>\n",
       "    <tr>\n",
       "      <td>5</td>\n",
       "      <td>0.409531</td>\n",
       "      <td>0.448909</td>\n",
       "      <td>0.867275</td>\n",
       "      <td>[0.82597403 0.76700921 0.90358812 0.92569077 0.91411207]</td>\n",
       "      <td>00:55</td>\n",
       "    </tr>\n",
       "  </tbody>\n",
       "</table>"
      ],
      "text/plain": [
       "<IPython.core.display.HTML object>"
      ]
     },
     "metadata": {},
     "output_type": "display_data"
    },
    {
     "name": "stdout",
     "output_type": "stream",
     "text": [
      "Better model found at epoch 0 with roc_auc_score value: 0.8129310810887903.\n"
     ]
    },
    {
     "data": {
      "image/png": "[encoded data removed]",
      "text/plain": [
       "<Figure size 432x288 with 1 Axes>"
      ]
     },
     "metadata": {},
     "output_type": "display_data"
    },
    {
     "name": "stdout",
     "output_type": "stream",
     "text": [
      "Better model found at epoch 1 with roc_auc_score value: 0.8451312329049164.\n",
      "Better model found at epoch 3 with roc_auc_score value: 0.8471253774170397.\n",
      "Better model found at epoch 4 with roc_auc_score value: 0.8721250493504884.\n"
     ]
    }
   ],
   "source": [
    "WEIGHT_NAME='densenet_bce_udefault_fit_mixup_sample'\n",
    "LR = 1e-3\n",
    "model = get_densenet_model(234)\n",
    "loss,opt = get_loss_and_optimizer(model,LR,loss_type='bce',use_fastai=True,weight_decay=WEIGHT_DECAY)\n",
    "train_fastai_learner(fastai_loader,model,loss,opt,LR,n_epochs=N_EPOCHS,\n",
    "                     weight_name=WEIGHT_NAME,lr_scheduler='flat_cos',\n",
    "                    mixup_alpha=0.4\n",
    "                    )"
   ]
  },
  {
   "cell_type": "code",
   "execution_count": null,
   "metadata": {},
   "outputs": [],
   "source": []
  },
  {
   "cell_type": "code",
   "execution_count": 12,
   "metadata": {},
   "outputs": [
    {
     "data": {
      "text/html": [
       "<table border=\"1\" class=\"dataframe\">\n",
       "  <thead>\n",
       "    <tr style=\"text-align: left;\">\n",
       "      <th>epoch</th>\n",
       "      <th>train_loss</th>\n",
       "      <th>valid_loss</th>\n",
       "      <th>roc_auc_score</th>\n",
       "      <th>roc_auc_score</th>\n",
       "      <th>time</th>\n",
       "    </tr>\n",
       "  </thead>\n",
       "  <tbody>\n",
       "    <tr>\n",
       "      <td>0</td>\n",
       "      <td>0.449552</td>\n",
       "      <td>0.867928</td>\n",
       "      <td>0.793172</td>\n",
       "      <td>[0.82670455 0.65950567 0.74400724 0.85379189 0.88184824]</td>\n",
       "      <td>00:57</td>\n",
       "    </tr>\n",
       "    <tr>\n",
       "      <td>1</td>\n",
       "      <td>0.437417</td>\n",
       "      <td>0.528809</td>\n",
       "      <td>0.865474</td>\n",
       "      <td>[0.87788149 0.81617647 0.88738128 0.85496767 0.89096434]</td>\n",
       "      <td>00:53</td>\n",
       "    </tr>\n",
       "    <tr>\n",
       "      <td>2</td>\n",
       "      <td>0.426628</td>\n",
       "      <td>0.453196</td>\n",
       "      <td>0.876739</td>\n",
       "      <td>[0.87081981 0.85657335 0.89725614 0.88765432 0.87139155]</td>\n",
       "      <td>00:53</td>\n",
       "    </tr>\n",
       "    <tr>\n",
       "      <td>3</td>\n",
       "      <td>0.418240</td>\n",
       "      <td>0.442228</td>\n",
       "      <td>0.868400</td>\n",
       "      <td>[0.84521104 0.7919472  0.88858737 0.90911229 0.90714094]</td>\n",
       "      <td>00:53</td>\n",
       "    </tr>\n",
       "    <tr>\n",
       "      <td>4</td>\n",
       "      <td>0.408776</td>\n",
       "      <td>0.424452</td>\n",
       "      <td>0.866337</td>\n",
       "      <td>[0.80056818 0.75952339 0.91632745 0.92569077 0.92957369]</td>\n",
       "      <td>00:53</td>\n",
       "    </tr>\n",
       "    <tr>\n",
       "      <td>5</td>\n",
       "      <td>0.397149</td>\n",
       "      <td>0.451930</td>\n",
       "      <td>0.859390</td>\n",
       "      <td>[0.81440747 0.74769667 0.89145183 0.92463257 0.9187595 ]</td>\n",
       "      <td>00:53</td>\n",
       "    </tr>\n",
       "  </tbody>\n",
       "</table>"
      ],
      "text/plain": [
       "<IPython.core.display.HTML object>"
      ]
     },
     "metadata": {},
     "output_type": "display_data"
    },
    {
     "name": "stdout",
     "output_type": "stream",
     "text": [
      "Better model found at epoch 0 with roc_auc_score value: 0.7931715165345951.\n"
     ]
    },
    {
     "data": {
      "image/png": "[encoded data removed]",
      "text/plain": [
       "<Figure size 432x288 with 1 Axes>"
      ]
     },
     "metadata": {},
     "output_type": "display_data"
    },
    {
     "name": "stdout",
     "output_type": "stream",
     "text": [
      "Better model found at epoch 1 with roc_auc_score value: 0.8654742491182491.\n",
      "Better model found at epoch 2 with roc_auc_score value: 0.8767390334414784.\n"
     ]
    }
   ],
   "source": [
    "WEIGHT_NAME='densenet_bce_udefault_fit_mixup_sample'\n",
    "LR = 1e-3\n",
    "model = get_densenet_model(SEED)\n",
    "loss,opt = get_loss_and_optimizer(model,LR,loss_type='bce',use_fastai=True,weight_decay=WEIGHT_DECAY)\n",
    "train_fastai_learner(fastai_loader,model,loss,opt,LR,n_epochs=N_EPOCHS,\n",
    "                     weight_name=WEIGHT_NAME,lr_scheduler='1cycle',\n",
    "                    mixup_alpha=0.4\n",
    "                    )"
   ]
  },
  {
   "cell_type": "code",
   "execution_count": 13,
   "metadata": {},
   "outputs": [
    {
     "data": {
      "text/html": [
       "<table border=\"1\" class=\"dataframe\">\n",
       "  <thead>\n",
       "    <tr style=\"text-align: left;\">\n",
       "      <th>epoch</th>\n",
       "      <th>train_loss</th>\n",
       "      <th>valid_loss</th>\n",
       "      <th>roc_auc_score</th>\n",
       "      <th>roc_auc_score</th>\n",
       "      <th>time</th>\n",
       "    </tr>\n",
       "  </thead>\n",
       "  <tbody>\n",
       "    <tr>\n",
       "      <td>0</td>\n",
       "      <td>0.455398</td>\n",
       "      <td>0.765804</td>\n",
       "      <td>0.808108</td>\n",
       "      <td>[0.79176136 0.76262403 0.78644656 0.84967666 0.85003128]</td>\n",
       "      <td>00:52</td>\n",
       "    </tr>\n",
       "    <tr>\n",
       "      <td>1</td>\n",
       "      <td>0.440224</td>\n",
       "      <td>0.470354</td>\n",
       "      <td>0.856106</td>\n",
       "      <td>[0.84541396 0.80368533 0.91022162 0.86572604 0.85548306]</td>\n",
       "      <td>00:57</td>\n",
       "    </tr>\n",
       "    <tr>\n",
       "      <td>2</td>\n",
       "      <td>0.431077</td>\n",
       "      <td>0.492529</td>\n",
       "      <td>0.832818</td>\n",
       "      <td>[0.80564123 0.75017718 0.84426353 0.87648442 0.88752346]</td>\n",
       "      <td>00:53</td>\n",
       "    </tr>\n",
       "    <tr>\n",
       "      <td>3</td>\n",
       "      <td>0.422329</td>\n",
       "      <td>0.468151</td>\n",
       "      <td>0.860161</td>\n",
       "      <td>[0.81972403 0.78911233 0.89800995 0.89012346 0.90383412]</td>\n",
       "      <td>00:56</td>\n",
       "    </tr>\n",
       "    <tr>\n",
       "      <td>4</td>\n",
       "      <td>0.410336</td>\n",
       "      <td>0.451466</td>\n",
       "      <td>0.884448</td>\n",
       "      <td>[0.84078734 0.81378455 0.93155435 0.91216931 0.92394316]</td>\n",
       "      <td>00:55</td>\n",
       "    </tr>\n",
       "    <tr>\n",
       "      <td>5</td>\n",
       "      <td>0.401358</td>\n",
       "      <td>0.448543</td>\n",
       "      <td>0.870429</td>\n",
       "      <td>[0.82402597 0.76328845 0.92899141 0.91046443 0.92537313]</td>\n",
       "      <td>00:53</td>\n",
       "    </tr>\n",
       "  </tbody>\n",
       "</table>"
      ],
      "text/plain": [
       "<IPython.core.display.HTML object>"
      ]
     },
     "metadata": {},
     "output_type": "display_data"
    },
    {
     "name": "stdout",
     "output_type": "stream",
     "text": [
      "Better model found at epoch 0 with roc_auc_score value: 0.8081079771526729.\n"
     ]
    },
    {
     "data": {
      "image/png": "[encoded data removed]",
      "text/plain": [
       "<Figure size 432x288 with 1 Axes>"
      ]
     },
     "metadata": {},
     "output_type": "display_data"
    },
    {
     "name": "stdout",
     "output_type": "stream",
     "text": [
      "Better model found at epoch 1 with roc_auc_score value: 0.8561060033992867.\n",
      "Better model found at epoch 3 with roc_auc_score value: 0.8601607774983486.\n",
      "Better model found at epoch 4 with roc_auc_score value: 0.8844477415440425.\n"
     ]
    }
   ],
   "source": [
    "WEIGHT_NAME='densenet_bce_udefault_fit_mixup_sample'\n",
    "LR = 1e-3\n",
    "model = get_densenet_model(234)\n",
    "loss,opt = get_loss_and_optimizer(model,LR,loss_type='bce',use_fastai=True,weight_decay=WEIGHT_DECAY)\n",
    "train_fastai_learner(fastai_loader,model,loss,opt,LR,n_epochs=N_EPOCHS,\n",
    "                     weight_name=WEIGHT_NAME,lr_scheduler='1cycle',\n",
    "                    mixup_alpha=0.4\n",
    "                    )"
   ]
  },
  {
   "cell_type": "markdown",
   "metadata": {},
   "source": [
    "## Second stage"
   ]
  },
  {
   "cell_type": "code",
   "execution_count": 8,
   "metadata": {},
   "outputs": [
    {
     "name": "stderr",
     "output_type": "stream",
     "text": [
      "/home/quan/kwon/OMSCS/deep_learning/chestx_interpretation/dataloader.py:52: FutureWarning: The default value of regex will change from True to False in a future version.\n",
      "  self.df['Path'] = self.df['Path'].str.replace('CheXpert-v1.0-small/', '')\n",
      "/home/quan/kwon/OMSCS/deep_learning/chestx_interpretation/dataloader.py:53: FutureWarning: The default value of regex will change from True to False in a future version.\n",
      "  self.df['Path'] = self.df['Path'].str.replace('CheXpert-v1.0/', '')\n"
     ]
    },
    {
     "name": "stdout",
     "output_type": "stream",
     "text": [
      "Multi-label mode: True, Number of classes: [5]\n",
      "Multi-label mode: True, Number of classes: [5]\n"
     ]
    },
    {
     "name": "stderr",
     "output_type": "stream",
     "text": [
      "/home/quan/kwon/OMSCS/deep_learning/chestx_interpretation/dataloader.py:52: FutureWarning: The default value of regex will change from True to False in a future version.\n",
      "  self.df['Path'] = self.df['Path'].str.replace('CheXpert-v1.0-small/', '')\n",
      "/home/quan/kwon/OMSCS/deep_learning/chestx_interpretation/dataloader.py:53: FutureWarning: The default value of regex will change from True to False in a future version.\n",
      "  self.df['Path'] = self.df['Path'].str.replace('CheXpert-v1.0/', '')\n"
     ]
    }
   ],
   "source": [
    "data_params={\n",
    "    'uncertainty_method':'default',\n",
    "    'use_frontal':False,\n",
    "    'image_size': 320,\n",
    "    'sample_frac':0.1,\n",
    "    'sample_seed':123,\n",
    "    'batch_size': 128,\n",
    "}\n",
    "SEED = 123\n",
    "WEIGHT_DECAY = 0\n",
    "N_EPOCHS=3\n",
    "\n",
    "trainloader,testloader,imratio = create_loaders(**data_params)\n",
    "fastai_loader = DataLoaders(trainloader,testloader)"
   ]
  },
  {
   "cell_type": "code",
   "execution_count": 4,
   "metadata": {},
   "outputs": [
    {
     "data": {
      "text/html": [
       "<table border=\"1\" class=\"dataframe\">\n",
       "  <thead>\n",
       "    <tr style=\"text-align: left;\">\n",
       "      <th>epoch</th>\n",
       "      <th>train_loss</th>\n",
       "      <th>valid_loss</th>\n",
       "      <th>roc_auc_score</th>\n",
       "      <th>roc_auc_score</th>\n",
       "      <th>time</th>\n",
       "    </tr>\n",
       "  </thead>\n",
       "  <tbody>\n",
       "    <tr>\n",
       "      <td>0</td>\n",
       "      <td>0.695886</td>\n",
       "      <td>0.657160</td>\n",
       "      <td>0.857641</td>\n",
       "      <td>[0.81274351 0.80718462 0.86981758 0.89547325 0.90298507]</td>\n",
       "      <td>01:31</td>\n",
       "    </tr>\n",
       "    <tr>\n",
       "      <td>1</td>\n",
       "      <td>0.604676</td>\n",
       "      <td>0.539117</td>\n",
       "      <td>0.879062</td>\n",
       "      <td>[0.86079545 0.83030652 0.89107493 0.90205761 0.91107338]</td>\n",
       "      <td>01:37</td>\n",
       "    </tr>\n",
       "    <tr>\n",
       "      <td>2</td>\n",
       "      <td>0.578389</td>\n",
       "      <td>0.517307</td>\n",
       "      <td>0.880313</td>\n",
       "      <td>[0.86404221 0.83141389 0.8923564  0.90335097 0.91040307]</td>\n",
       "      <td>01:34</td>\n",
       "    </tr>\n",
       "  </tbody>\n",
       "</table>"
      ],
      "text/plain": [
       "<IPython.core.display.HTML object>"
      ]
     },
     "metadata": {},
     "output_type": "display_data"
    },
    {
     "name": "stderr",
     "output_type": "stream",
     "text": [
      "/home/quan/anaconda3/envs/fastai_v2/lib/python3.8/site-packages/torch/nn/functional.py:718: UserWarning: Named tensors and all their associated APIs are an experimental feature and subject to change. Please do not use them for anything important until they are released as stable. (Triggered internally at  /pytorch/c10/core/TensorImpl.h:1156.)\n",
      "  return torch.max_pool2d(input, kernel_size, stride, padding, dilation, ceil_mode)\n"
     ]
    },
    {
     "name": "stdout",
     "output_type": "stream",
     "text": [
      "Better model found at epoch 0 with roc_auc_score value: 0.8576408063516535.\n"
     ]
    },
    {
     "data": {
      "image/png": "[encoded data removed]",
      "text/plain": [
       "<Figure size 432x288 with 1 Axes>"
      ]
     },
     "metadata": {},
     "output_type": "display_data"
    },
    {
     "name": "stdout",
     "output_type": "stream",
     "text": [
      "Better model found at epoch 1 with roc_auc_score value: 0.8790615783875534.\n",
      "Better model found at epoch 2 with roc_auc_score value: 0.8803133085869194.\n"
     ]
    }
   ],
   "source": [
    "LR=1e-2\n",
    "PRETRAIN_WEIGHT_NAME='model_weights/densenet_bce_udefault_fit_mixup_sample.pth' \n",
    "WEIGHT_NAME='densenet_bce_udefault_fit_pr320_aucm_sample'\n",
    "model = get_densenet_model(SEED)\n",
    "state_dict = torch.load(PRETRAIN_WEIGHT_NAME)\n",
    "state_dict.pop('classifier.weight', None)\n",
    "state_dict.pop('classifier.bias', None) \n",
    "model.load_state_dict(state_dict, strict=False)\n",
    "\n",
    "loss,opt = get_loss_and_optimizer(model,LR,loss_type='aucm',imratio=imratio,\n",
    "                                  use_fastai=True,\n",
    "                                  weight_decay=WEIGHT_DECAY)\n",
    "\n",
    "train_fastai_learner(fastai_loader,model,loss,opt,LR,n_epochs=N_EPOCHS,\n",
    "                     weight_name=WEIGHT_NAME,lr_scheduler='flat_cos',\n",
    "#                     mixup_alpha=0.4\n",
    "                    )"
   ]
  },
  {
   "cell_type": "code",
   "execution_count": 5,
   "metadata": {},
   "outputs": [
    {
     "data": {
      "text/html": [
       "<table border=\"1\" class=\"dataframe\">\n",
       "  <thead>\n",
       "    <tr style=\"text-align: left;\">\n",
       "      <th>epoch</th>\n",
       "      <th>train_loss</th>\n",
       "      <th>valid_loss</th>\n",
       "      <th>roc_auc_score</th>\n",
       "      <th>roc_auc_score</th>\n",
       "      <th>time</th>\n",
       "    </tr>\n",
       "  </thead>\n",
       "  <tbody>\n",
       "    <tr>\n",
       "      <td>0</td>\n",
       "      <td>0.695430</td>\n",
       "      <td>0.655140</td>\n",
       "      <td>0.858210</td>\n",
       "      <td>[0.81392045 0.80767186 0.87042062 0.89547325 0.903566  ]</td>\n",
       "      <td>01:30</td>\n",
       "    </tr>\n",
       "    <tr>\n",
       "      <td>1</td>\n",
       "      <td>0.590502</td>\n",
       "      <td>0.505639</td>\n",
       "      <td>0.882725</td>\n",
       "      <td>[0.86716721 0.82946492 0.90102518 0.90382128 0.91214586]</td>\n",
       "      <td>01:28</td>\n",
       "    </tr>\n",
       "    <tr>\n",
       "      <td>2</td>\n",
       "      <td>0.539386</td>\n",
       "      <td>0.449834</td>\n",
       "      <td>0.884264</td>\n",
       "      <td>[0.86948052 0.8244596  0.90743253 0.90681952 0.91312897]</td>\n",
       "      <td>01:28</td>\n",
       "    </tr>\n",
       "    <tr>\n",
       "      <td>3</td>\n",
       "      <td>0.523890</td>\n",
       "      <td>0.425695</td>\n",
       "      <td>0.885270</td>\n",
       "      <td>[0.86854708 0.8262314  0.90999548 0.90858319 0.91299491]</td>\n",
       "      <td>01:30</td>\n",
       "    </tr>\n",
       "    <tr>\n",
       "      <td>4</td>\n",
       "      <td>0.516725</td>\n",
       "      <td>0.419615</td>\n",
       "      <td>0.885282</td>\n",
       "      <td>[0.86879058 0.82614281 0.910297   0.90840682 0.91277147]</td>\n",
       "      <td>01:29</td>\n",
       "    </tr>\n",
       "  </tbody>\n",
       "</table>"
      ],
      "text/plain": [
       "<IPython.core.display.HTML object>"
      ]
     },
     "metadata": {},
     "output_type": "display_data"
    },
    {
     "name": "stdout",
     "output_type": "stream",
     "text": [
      "Better model found at epoch 0 with roc_auc_score value: 0.8582104391952466.\n"
     ]
    },
    {
     "data": {
      "image/png": "[encoded data removed]",
      "text/plain": [
       "<Figure size 432x288 with 1 Axes>"
      ]
     },
     "metadata": {},
     "output_type": "display_data"
    },
    {
     "name": "stdout",
     "output_type": "stream",
     "text": [
      "Better model found at epoch 1 with roc_auc_score value: 0.8827248885144041.\n",
      "Better model found at epoch 2 with roc_auc_score value: 0.8842642281552819.\n",
      "Better model found at epoch 3 with roc_auc_score value: 0.8852704086653184.\n",
      "Better model found at epoch 4 with roc_auc_score value: 0.8852817364568726.\n"
     ]
    }
   ],
   "source": [
    "LR=1e-2\n",
    "PRETRAIN_WEIGHT_NAME='model_weights/densenet_bce_udefault_fit_mixup_sample.pth' \n",
    "WEIGHT_NAME='densenet_bce_udefault_fit_pr320_aucm_sample'\n",
    "model = get_densenet_model(SEED)\n",
    "state_dict = torch.load(PRETRAIN_WEIGHT_NAME)\n",
    "state_dict.pop('classifier.weight', None)\n",
    "state_dict.pop('classifier.bias', None) \n",
    "model.load_state_dict(state_dict, strict=False)\n",
    "N_EPOCHS=5\n",
    "loss,opt = get_loss_and_optimizer(model,LR,loss_type='aucm',imratio=imratio,\n",
    "                                  use_fastai=True,\n",
    "                                  weight_decay=WEIGHT_DECAY)\n",
    "\n",
    "train_fastai_learner(fastai_loader,model,loss,opt,LR,n_epochs=N_EPOCHS,\n",
    "                     weight_name=WEIGHT_NAME,lr_scheduler='flat_cos',\n",
    "#                     mixup_alpha=0.4\n",
    "                    )"
   ]
  },
  {
   "cell_type": "code",
   "execution_count": 6,
   "metadata": {},
   "outputs": [
    {
     "data": {
      "text/html": [
       "<table border=\"1\" class=\"dataframe\">\n",
       "  <thead>\n",
       "    <tr style=\"text-align: left;\">\n",
       "      <th>epoch</th>\n",
       "      <th>train_loss</th>\n",
       "      <th>valid_loss</th>\n",
       "      <th>roc_auc_score</th>\n",
       "      <th>roc_auc_score</th>\n",
       "      <th>time</th>\n",
       "    </tr>\n",
       "  </thead>\n",
       "  <tbody>\n",
       "    <tr>\n",
       "      <td>0</td>\n",
       "      <td>0.618592</td>\n",
       "      <td>0.537991</td>\n",
       "      <td>0.873715</td>\n",
       "      <td>[0.84650974 0.80984231 0.89243178 0.90840682 0.91138618]</td>\n",
       "      <td>01:29</td>\n",
       "    </tr>\n",
       "    <tr>\n",
       "      <td>1</td>\n",
       "      <td>0.531293</td>\n",
       "      <td>0.424422</td>\n",
       "      <td>0.880196</td>\n",
       "      <td>[0.85409903 0.80922218 0.91285994 0.91158142 0.91321834]</td>\n",
       "      <td>01:31</td>\n",
       "    </tr>\n",
       "    <tr>\n",
       "      <td>2</td>\n",
       "      <td>0.498645</td>\n",
       "      <td>0.392309</td>\n",
       "      <td>0.879631</td>\n",
       "      <td>[0.85040584 0.80594437 0.91474446 0.91393298 0.91312897]</td>\n",
       "      <td>01:32</td>\n",
       "    </tr>\n",
       "    <tr>\n",
       "      <td>3</td>\n",
       "      <td>0.486171</td>\n",
       "      <td>0.376921</td>\n",
       "      <td>0.880228</td>\n",
       "      <td>[0.84979708 0.80718462 0.91760893 0.91310994 0.91344177]</td>\n",
       "      <td>01:30</td>\n",
       "    </tr>\n",
       "    <tr>\n",
       "      <td>4</td>\n",
       "      <td>0.485444</td>\n",
       "      <td>0.370818</td>\n",
       "      <td>0.879918</td>\n",
       "      <td>[0.84955357 0.80656449 0.91715664 0.91287478 0.91344177]</td>\n",
       "      <td>01:29</td>\n",
       "    </tr>\n",
       "  </tbody>\n",
       "</table>"
      ],
      "text/plain": [
       "<IPython.core.display.HTML object>"
      ]
     },
     "metadata": {},
     "output_type": "display_data"
    },
    {
     "name": "stdout",
     "output_type": "stream",
     "text": [
      "Better model found at epoch 0 with roc_auc_score value: 0.873715366709092.\n"
     ]
    },
    {
     "data": {
      "image/png": "[encoded data removed]",
      "text/plain": [
       "<Figure size 432x288 with 1 Axes>"
      ]
     },
     "metadata": {},
     "output_type": "display_data"
    },
    {
     "name": "stdout",
     "output_type": "stream",
     "text": [
      "Better model found at epoch 1 with roc_auc_score value: 0.8801961827333628.\n",
      "Better model found at epoch 3 with roc_auc_score value: 0.8802284664664421.\n"
     ]
    }
   ],
   "source": [
    "LR=1e-2\n",
    "PRETRAIN_WEIGHT_NAME='model_weights/densenet_bce_udefault_fit_mixup_sample.pth' \n",
    "WEIGHT_NAME='densenet_bce_udefault_fit_pr320_aucm_sample'\n",
    "model = get_densenet_model(234)\n",
    "state_dict = torch.load(PRETRAIN_WEIGHT_NAME)\n",
    "state_dict.pop('classifier.weight', None)\n",
    "state_dict.pop('classifier.bias', None) \n",
    "model.load_state_dict(state_dict, strict=False)\n",
    "N_EPOCHS=5\n",
    "loss,opt = get_loss_and_optimizer(model,LR,loss_type='aucm',imratio=imratio,\n",
    "                                  use_fastai=True,\n",
    "                                  weight_decay=WEIGHT_DECAY)\n",
    "\n",
    "train_fastai_learner(fastai_loader,model,loss,opt,LR,n_epochs=N_EPOCHS,\n",
    "                     weight_name=WEIGHT_NAME,lr_scheduler='flat_cos',\n",
    "#                     mixup_alpha=0.4\n",
    "                    )"
   ]
  },
  {
   "cell_type": "code",
   "execution_count": 5,
   "metadata": {},
   "outputs": [
    {
     "data": {
      "text/html": [
       "<table border=\"1\" class=\"dataframe\">\n",
       "  <thead>\n",
       "    <tr style=\"text-align: left;\">\n",
       "      <th>epoch</th>\n",
       "      <th>train_loss</th>\n",
       "      <th>valid_loss</th>\n",
       "      <th>roc_auc_score</th>\n",
       "      <th>roc_auc_score</th>\n",
       "      <th>time</th>\n",
       "    </tr>\n",
       "  </thead>\n",
       "  <tbody>\n",
       "    <tr>\n",
       "      <td>0</td>\n",
       "      <td>0.703676</td>\n",
       "      <td>0.656207</td>\n",
       "      <td>0.862685</td>\n",
       "      <td>[0.83725649 0.80935507 0.88519524 0.87742504 0.90419162]</td>\n",
       "      <td>01:29</td>\n",
       "    </tr>\n",
       "    <tr>\n",
       "      <td>1</td>\n",
       "      <td>0.594460</td>\n",
       "      <td>0.497365</td>\n",
       "      <td>0.885243</td>\n",
       "      <td>[0.87094156 0.83004075 0.91255842 0.89829512 0.91438019]</td>\n",
       "      <td>01:33</td>\n",
       "    </tr>\n",
       "    <tr>\n",
       "      <td>2</td>\n",
       "      <td>0.539140</td>\n",
       "      <td>0.437050</td>\n",
       "      <td>0.887528</td>\n",
       "      <td>[0.87459416 0.82676293 0.91858887 0.90393886 0.91375458]</td>\n",
       "      <td>01:31</td>\n",
       "    </tr>\n",
       "    <tr>\n",
       "      <td>3</td>\n",
       "      <td>0.519118</td>\n",
       "      <td>0.410657</td>\n",
       "      <td>0.887494</td>\n",
       "      <td>[0.87313312 0.82459249 0.9196442  0.90540858 0.914693  ]</td>\n",
       "      <td>01:30</td>\n",
       "    </tr>\n",
       "    <tr>\n",
       "      <td>4</td>\n",
       "      <td>0.516269</td>\n",
       "      <td>0.409161</td>\n",
       "      <td>0.887325</td>\n",
       "      <td>[0.87268669 0.82494685 0.92039801 0.90470312 0.91388864]</td>\n",
       "      <td>01:28</td>\n",
       "    </tr>\n",
       "  </tbody>\n",
       "</table>"
      ],
      "text/plain": [
       "<IPython.core.display.HTML object>"
      ]
     },
     "metadata": {},
     "output_type": "display_data"
    },
    {
     "name": "stderr",
     "output_type": "stream",
     "text": [
      "/home/quan/anaconda3/envs/fastai_v2/lib/python3.8/site-packages/torch/nn/functional.py:718: UserWarning: Named tensors and all their associated APIs are an experimental feature and subject to change. Please do not use them for anything important until they are released as stable. (Triggered internally at  /pytorch/c10/core/TensorImpl.h:1156.)\n",
      "  return torch.max_pool2d(input, kernel_size, stride, padding, dilation, ceil_mode)\n"
     ]
    },
    {
     "name": "stdout",
     "output_type": "stream",
     "text": [
      "Better model found at epoch 0 with roc_auc_score value: 0.8626846915268624.\n"
     ]
    },
    {
     "data": {
      "image/png": "[encoded data removed]",
      "text/plain": [
       "<Figure size 432x288 with 1 Axes>"
      ]
     },
     "metadata": {},
     "output_type": "display_data"
    },
    {
     "name": "stdout",
     "output_type": "stream",
     "text": [
      "Better model found at epoch 1 with roc_auc_score value: 0.8852432090108951.\n",
      "Better model found at epoch 2 with roc_auc_score value: 0.887527880726416.\n"
     ]
    }
   ],
   "source": [
    "LR=1e-2\n",
    "PRETRAIN_WEIGHT_NAME='model_weights/densenet_bce_udefault_fit_mixup_sample.pth' \n",
    "WEIGHT_NAME='tmp'\n",
    "model = get_densenet_model(345)\n",
    "state_dict = torch.load(PRETRAIN_WEIGHT_NAME)\n",
    "state_dict.pop('classifier.weight', None)\n",
    "state_dict.pop('classifier.bias', None) \n",
    "model.load_state_dict(state_dict, strict=False)\n",
    "N_EPOCHS=5\n",
    "loss,opt = get_loss_and_optimizer(model,LR,loss_type='aucm',imratio=imratio,\n",
    "                                  use_fastai=True,\n",
    "                                  weight_decay=WEIGHT_DECAY)\n",
    "\n",
    "train_fastai_learner(fastai_loader,model,loss,opt,LR,n_epochs=N_EPOCHS,\n",
    "                     weight_name=WEIGHT_NAME,lr_scheduler='flat_cos',\n",
    "#                     mixup_alpha=0.4\n",
    "                    )"
   ]
  },
  {
   "cell_type": "code",
   "execution_count": 9,
   "metadata": {},
   "outputs": [
    {
     "data": {
      "text/html": [
       "<table border=\"1\" class=\"dataframe\">\n",
       "  <thead>\n",
       "    <tr style=\"text-align: left;\">\n",
       "      <th>epoch</th>\n",
       "      <th>train_loss</th>\n",
       "      <th>valid_loss</th>\n",
       "      <th>roc_auc_score</th>\n",
       "      <th>roc_auc_score</th>\n",
       "      <th>time</th>\n",
       "    </tr>\n",
       "  </thead>\n",
       "  <tbody>\n",
       "    <tr>\n",
       "      <td>0</td>\n",
       "      <td>0.814296</td>\n",
       "      <td>0.798796</td>\n",
       "      <td>0.788589</td>\n",
       "      <td>[0.77345779 0.71252658 0.81644806 0.78806584 0.85244437]</td>\n",
       "      <td>01:29</td>\n",
       "    </tr>\n",
       "    <tr>\n",
       "      <td>1</td>\n",
       "      <td>0.818043</td>\n",
       "      <td>0.788188</td>\n",
       "      <td>0.801689</td>\n",
       "      <td>[0.7849026  0.71531715 0.82195085 0.79647266 0.88980248]</td>\n",
       "      <td>01:30</td>\n",
       "    </tr>\n",
       "    <tr>\n",
       "      <td>2</td>\n",
       "      <td>0.806915</td>\n",
       "      <td>0.767234</td>\n",
       "      <td>0.804587</td>\n",
       "      <td>[0.79086851 0.71327959 0.82315694 0.79876543 0.89686299]</td>\n",
       "      <td>01:29</td>\n",
       "    </tr>\n",
       "    <tr>\n",
       "      <td>3</td>\n",
       "      <td>0.800911</td>\n",
       "      <td>0.761284</td>\n",
       "      <td>0.805428</td>\n",
       "      <td>[0.79131494 0.71310241 0.82300618 0.80164609 0.89806953]</td>\n",
       "      <td>01:31</td>\n",
       "    </tr>\n",
       "    <tr>\n",
       "      <td>4</td>\n",
       "      <td>0.799065</td>\n",
       "      <td>0.760894</td>\n",
       "      <td>0.804588</td>\n",
       "      <td>[0.78871753 0.71217222 0.82172471 0.80270429 0.89762267]</td>\n",
       "      <td>01:30</td>\n",
       "    </tr>\n",
       "  </tbody>\n",
       "</table>"
      ],
      "text/plain": [
       "<IPython.core.display.HTML object>"
      ]
     },
     "metadata": {},
     "output_type": "display_data"
    },
    {
     "name": "stdout",
     "output_type": "stream",
     "text": [
      "Better model found at epoch 0 with roc_auc_score value: 0.7885885280886139.\n"
     ]
    },
    {
     "data": {
      "image/png": "[encoded data removed]",
      "text/plain": [
       "<Figure size 432x288 with 1 Axes>"
      ]
     },
     "metadata": {},
     "output_type": "display_data"
    },
    {
     "name": "stdout",
     "output_type": "stream",
     "text": [
      "Better model found at epoch 1 with roc_auc_score value: 0.8016891495766731.\n",
      "Better model found at epoch 2 with roc_auc_score value: 0.8045866921066495.\n",
      "Better model found at epoch 3 with roc_auc_score value: 0.8054278298060484.\n"
     ]
    }
   ],
   "source": [
    "LR=1e-2\n",
    "PRETRAIN_WEIGHT_NAME='model_weights/densenet_bce_udefault_fit_mixup_sample.pth' \n",
    "WEIGHT_NAME='tmp'\n",
    "model = get_densenet_model(345)\n",
    "state_dict = torch.load(PRETRAIN_WEIGHT_NAME)\n",
    "state_dict.pop('classifier.weight', None)\n",
    "state_dict.pop('classifier.bias', None) \n",
    "model.load_state_dict(state_dict, strict=False)\n",
    "N_EPOCHS=5\n",
    "loss,opt = get_loss_and_optimizer(model,LR,loss_type='aucm',imratio=imratio,\n",
    "                                  use_fastai=True,\n",
    "                                  weight_decay=WEIGHT_DECAY)\n",
    "\n",
    "train_fastai_learner(fastai_loader,model,loss,opt,LR,n_epochs=N_EPOCHS,\n",
    "                     weight_name=WEIGHT_NAME,lr_scheduler='flat_cos',\n",
    "                    mixup_alpha=0.4\n",
    "                    )"
   ]
  },
  {
   "cell_type": "markdown",
   "metadata": {},
   "source": [
    "## default smoothing one"
   ]
  },
  {
   "cell_type": "code",
   "execution_count": 7,
   "metadata": {},
   "outputs": [
    {
     "name": "stderr",
     "output_type": "stream",
     "text": [
      "/home/quan/kwon/OMSCS/deep_learning/chestx_interpretation/dataloader.py:52: FutureWarning: The default value of regex will change from True to False in a future version.\n",
      "  self.df['Path'] = self.df['Path'].str.replace('CheXpert-v1.0-small/', '')\n",
      "/home/quan/kwon/OMSCS/deep_learning/chestx_interpretation/dataloader.py:53: FutureWarning: The default value of regex will change from True to False in a future version.\n",
      "  self.df['Path'] = self.df['Path'].str.replace('CheXpert-v1.0/', '')\n"
     ]
    },
    {
     "name": "stdout",
     "output_type": "stream",
     "text": [
      "Multi-label mode: True, Number of classes: [5]\n",
      "Multi-label mode: True, Number of classes: [5]\n"
     ]
    },
    {
     "name": "stderr",
     "output_type": "stream",
     "text": [
      "/home/quan/kwon/OMSCS/deep_learning/chestx_interpretation/dataloader.py:52: FutureWarning: The default value of regex will change from True to False in a future version.\n",
      "  self.df['Path'] = self.df['Path'].str.replace('CheXpert-v1.0-small/', '')\n",
      "/home/quan/kwon/OMSCS/deep_learning/chestx_interpretation/dataloader.py:53: FutureWarning: The default value of regex will change from True to False in a future version.\n",
      "  self.df['Path'] = self.df['Path'].str.replace('CheXpert-v1.0/', '')\n"
     ]
    },
    {
     "data": {
      "text/html": [
       "<table border=\"1\" class=\"dataframe\">\n",
       "  <thead>\n",
       "    <tr style=\"text-align: left;\">\n",
       "      <th>epoch</th>\n",
       "      <th>train_loss</th>\n",
       "      <th>valid_loss</th>\n",
       "      <th>roc_auc_score</th>\n",
       "      <th>roc_auc_score</th>\n",
       "      <th>time</th>\n",
       "    </tr>\n",
       "  </thead>\n",
       "  <tbody>\n",
       "    <tr>\n",
       "      <td>0</td>\n",
       "      <td>0.628011</td>\n",
       "      <td>0.546936</td>\n",
       "      <td>0.857466</td>\n",
       "      <td>[0.8244724  0.80939936 0.88361224 0.8654321  0.90441505]</td>\n",
       "      <td>01:28</td>\n",
       "    </tr>\n",
       "    <tr>\n",
       "      <td>1</td>\n",
       "      <td>0.530979</td>\n",
       "      <td>0.406564</td>\n",
       "      <td>0.881443</td>\n",
       "      <td>[0.85978084 0.8321669  0.91316147 0.8877719  0.91433551]</td>\n",
       "      <td>01:28</td>\n",
       "    </tr>\n",
       "    <tr>\n",
       "      <td>2</td>\n",
       "      <td>0.479841</td>\n",
       "      <td>0.343239</td>\n",
       "      <td>0.885089</td>\n",
       "      <td>[0.86875    0.82773742 0.91813659 0.89653145 0.91429082]</td>\n",
       "      <td>01:28</td>\n",
       "    </tr>\n",
       "    <tr>\n",
       "      <td>3</td>\n",
       "      <td>0.465662</td>\n",
       "      <td>0.325127</td>\n",
       "      <td>0.885312</td>\n",
       "      <td>[0.86968344 0.82596563 0.9192673  0.8973545  0.91429082]</td>\n",
       "      <td>01:28</td>\n",
       "    </tr>\n",
       "    <tr>\n",
       "      <td>4</td>\n",
       "      <td>0.463779</td>\n",
       "      <td>0.319687</td>\n",
       "      <td>0.885427</td>\n",
       "      <td>[0.86980519 0.82587704 0.91994573 0.89770723 0.91379927]</td>\n",
       "      <td>01:29</td>\n",
       "    </tr>\n",
       "  </tbody>\n",
       "</table>"
      ],
      "text/plain": [
       "<IPython.core.display.HTML object>"
      ]
     },
     "metadata": {},
     "output_type": "display_data"
    },
    {
     "name": "stdout",
     "output_type": "stream",
     "text": [
      "Better model found at epoch 0 with roc_auc_score value: 0.857466231166911.\n"
     ]
    },
    {
     "data": {
      "image/png": "[encoded data removed]",
      "text/plain": [
       "<Figure size 432x288 with 1 Axes>"
      ]
     },
     "metadata": {},
     "output_type": "display_data"
    },
    {
     "name": "stdout",
     "output_type": "stream",
     "text": [
      "Better model found at epoch 1 with roc_auc_score value: 0.8814433238866334.\n",
      "Better model found at epoch 2 with roc_auc_score value: 0.8850892566954182.\n",
      "Better model found at epoch 3 with roc_auc_score value: 0.8853123374668769.\n",
      "Better model found at epoch 4 with roc_auc_score value: 0.8854268912922029.\n"
     ]
    }
   ],
   "source": [
    "data_params={\n",
    "    'uncertainty_method':'default-smoothing-one',\n",
    "    'use_frontal':False,\n",
    "    'image_size': 320,\n",
    "    'sample_frac':0.1,\n",
    "    'sample_seed':123,\n",
    "    'batch_size': 128,\n",
    "}\n",
    "SEED = 123\n",
    "WEIGHT_DECAY = 0\n",
    "N_EPOCHS=3\n",
    "\n",
    "trainloader,testloader,imratio = create_loaders(**data_params)\n",
    "fastai_loader = DataLoaders(trainloader,testloader)\n",
    "LR=1e-2\n",
    "PRETRAIN_WEIGHT_NAME='model_weights/densenet_bce_udefault_fit_mixup_sample.pth' \n",
    "WEIGHT_NAME='tmp'\n",
    "model = get_densenet_model(345)\n",
    "state_dict = torch.load(PRETRAIN_WEIGHT_NAME)\n",
    "state_dict.pop('classifier.weight', None)\n",
    "state_dict.pop('classifier.bias', None) \n",
    "model.load_state_dict(state_dict, strict=False)\n",
    "N_EPOCHS=5\n",
    "loss,opt = get_loss_and_optimizer(model,LR,loss_type='aucm',imratio=imratio,\n",
    "                                  use_fastai=True,\n",
    "                                  weight_decay=WEIGHT_DECAY)\n",
    "\n",
    "train_fastai_learner(fastai_loader,model,loss,opt,LR,n_epochs=N_EPOCHS,\n",
    "                     weight_name=WEIGHT_NAME,lr_scheduler='flat_cos',\n",
    "#                     mixup_alpha=0.4\n",
    "                    )"
   ]
  },
  {
   "cell_type": "markdown",
   "metadata": {
    "heading_collapsed": true
   },
   "source": [
    "## something"
   ]
  },
  {
   "cell_type": "code",
   "execution_count": 7,
   "metadata": {
    "hidden": true
   },
   "outputs": [
    {
     "data": {
      "text/html": [
       "<table border=\"1\" class=\"dataframe\">\n",
       "  <thead>\n",
       "    <tr style=\"text-align: left;\">\n",
       "      <th>epoch</th>\n",
       "      <th>train_loss</th>\n",
       "      <th>valid_loss</th>\n",
       "      <th>roc_auc_score</th>\n",
       "      <th>roc_auc_score</th>\n",
       "      <th>time</th>\n",
       "    </tr>\n",
       "  </thead>\n",
       "  <tbody>\n",
       "    <tr>\n",
       "      <td>0</td>\n",
       "      <td>0.618592</td>\n",
       "      <td>0.537991</td>\n",
       "      <td>0.873715</td>\n",
       "      <td>[0.84650974 0.80984231 0.89243178 0.90840682 0.91138618]</td>\n",
       "      <td>01:30</td>\n",
       "    </tr>\n",
       "    <tr>\n",
       "      <td>1</td>\n",
       "      <td>0.530038</td>\n",
       "      <td>0.423421</td>\n",
       "      <td>0.879814</td>\n",
       "      <td>[0.85511364 0.80669738 0.91383989 0.91028807 0.91312897]</td>\n",
       "      <td>01:29</td>\n",
       "    </tr>\n",
       "    <tr>\n",
       "      <td>2</td>\n",
       "      <td>0.491500</td>\n",
       "      <td>0.383580</td>\n",
       "      <td>0.879322</td>\n",
       "      <td>[0.84724026 0.80532424 0.91504598 0.91399177 0.91500581]</td>\n",
       "      <td>01:30</td>\n",
       "    </tr>\n",
       "    <tr>\n",
       "      <td>3</td>\n",
       "      <td>0.469767</td>\n",
       "      <td>0.365857</td>\n",
       "      <td>0.880844</td>\n",
       "      <td>[0.84594156 0.80767186 0.91843811 0.91640212 0.91576548]</td>\n",
       "      <td>01:28</td>\n",
       "    </tr>\n",
       "    <tr>\n",
       "      <td>4</td>\n",
       "      <td>0.457925</td>\n",
       "      <td>0.352305</td>\n",
       "      <td>0.879517</td>\n",
       "      <td>[0.84500812 0.79863572 0.91828735 0.91845973 0.91719546]</td>\n",
       "      <td>01:29</td>\n",
       "    </tr>\n",
       "  </tbody>\n",
       "</table>"
      ],
      "text/plain": [
       "<IPython.core.display.HTML object>"
      ]
     },
     "metadata": {},
     "output_type": "display_data"
    },
    {
     "name": "stdout",
     "output_type": "stream",
     "text": [
      "Better model found at epoch 0 with roc_auc_score value: 0.873715366709092.\n"
     ]
    },
    {
     "data": {
      "image/png": "[encoded data removed]",
      "text/plain": [
       "<Figure size 432x288 with 1 Axes>"
      ]
     },
     "metadata": {},
     "output_type": "display_data"
    },
    {
     "name": "stdout",
     "output_type": "stream",
     "text": [
      "Better model found at epoch 1 with roc_auc_score value: 0.8798135874708137.\n",
      "Better model found at epoch 3 with roc_auc_score value: 0.8808438270390779.\n"
     ]
    }
   ],
   "source": [
    "LR=1e-2\n",
    "PRETRAIN_WEIGHT_NAME='model_weights/densenet_bce_udefault_fit_mixup_sample.pth' \n",
    "WEIGHT_NAME='tmp'\n",
    "model = get_densenet_model(234)\n",
    "state_dict = torch.load(PRETRAIN_WEIGHT_NAME)\n",
    "state_dict.pop('classifier.weight', None)\n",
    "state_dict.pop('classifier.bias', None) \n",
    "model.load_state_dict(state_dict, strict=False)\n",
    "N_EPOCHS=5\n",
    "loss,opt = get_loss_and_optimizer(model,LR,loss_type='aucm',imratio=imratio,\n",
    "                                  use_fastai=True,\n",
    "                                  weight_decay=WEIGHT_DECAY)\n",
    "\n",
    "train_fastai_learner(fastai_loader,model,loss,opt,LR,n_epochs=N_EPOCHS,\n",
    "                     weight_name=WEIGHT_NAME,lr_scheduler='normal',\n",
    "#                     mixup_alpha=0.4\n",
    "                    )"
   ]
  }
 ],
 "metadata": {
  "kernelspec": {
   "display_name": "Python 3",
   "language": "python",
   "name": "python3"
  },
  "language_info": {
   "codemirror_mode": {
    "name": "ipython",
    "version": 3
   },
   "file_extension": ".py",
   "mimetype": "text/x-python",
   "name": "python",
   "nbconvert_exporter": "python",
   "pygments_lexer": "ipython3",
   "version": "3.8.5"
  },
  "toc": {
   "base_numbering": 1,
   "nav_menu": {},
   "number_sections": true,
   "sideBar": false,
   "skip_h1_title": false,
   "title_cell": "Table of Contents",
   "title_sidebar": "Contents",
   "toc_cell": true,
   "toc_position": {},
   "toc_section_display": true,
   "toc_window_display": false
  }
 },
 "nbformat": 4,
 "nbformat_minor": 4
}

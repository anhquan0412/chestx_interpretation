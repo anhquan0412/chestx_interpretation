{
 "cells": [
  {
   "cell_type": "markdown",
   "metadata": {
    "toc": true
   },
   "source": [
    "<h1>Table of Contents<span class=\"tocSkip\"></span></h1>\n",
    "<div class=\"toc\"><ul class=\"toc-item\"><li><span><a href=\"#U-defaults-frontal-vs-lateral\" data-toc-modified-id=\"U-defaults-frontal-vs-lateral-1\"><span class=\"toc-item-num\">1&nbsp;&nbsp;</span>U-defaults frontal vs lateral</a></span></li><li><span><a href=\"#U-default-smoothing-frontal-and-lateral\" data-toc-modified-id=\"U-default-smoothing-frontal-and-lateral-2\"><span class=\"toc-item-num\">2&nbsp;&nbsp;</span>U-default-smoothing frontal and lateral</a></span></li><li><span><a href=\"#U-default-smoothing-one\" data-toc-modified-id=\"U-default-smoothing-one-3\"><span class=\"toc-item-num\">3&nbsp;&nbsp;</span>U-default smoothing one</a></span></li><li><span><a href=\"#U-default-smoothing-zero\" data-toc-modified-id=\"U-default-smoothing-zero-4\"><span class=\"toc-item-num\">4&nbsp;&nbsp;</span>U-default smoothing zero</a></span></li></ul></div>"
   ]
  },
  {
   "cell_type": "code",
   "execution_count": 1,
   "metadata": {},
   "outputs": [],
   "source": [
    "# Load lib and define helper functions\n",
    "\n",
    "%reload_ext autoreload\n",
    "%autoreload 2"
   ]
  },
  {
   "cell_type": "code",
   "execution_count": 2,
   "metadata": {},
   "outputs": [],
   "source": [
    "from pathlib import Path\n",
    "\n",
    "# from libauc.losses import AUCMLoss, CrossEntropyLoss, AUCM_MultiLabel\n",
    "# from libauc.optimizers import PESG, Adam\n",
    "# from libauc.models import DenseNet121, DenseNet169\n",
    "# import torch \n",
    "# from PIL import Image\n",
    "# import numpy as np\n",
    "# import torchvision.transforms as transforms\n",
    "# from torch.utils.data import Dataset\n",
    "# from sklearn.metrics import roc_auc_score\n",
    "# import pandas as pd\n",
    "# from tqdm import tqdm\n",
    "# from tqdm import tqdm_notebook\n",
    "\n",
    "from dataloader import *\n",
    "from trainer import *\n",
    "import AUCMMS\n",
    "from fastai.vision.all import *\n",
    "\n",
    "DATA = '/media/samsung/chexpert/CheXpert-v1.0-small/'"
   ]
  },
  {
   "cell_type": "markdown",
   "metadata": {},
   "source": [
    "# U-defaults frontal vs lateral"
   ]
  },
  {
   "cell_type": "code",
   "execution_count": 12,
   "metadata": {},
   "outputs": [
    {
     "name": "stderr",
     "output_type": "stream",
     "text": [
      "/home/quan/kwon/OMSCS/deep_learning/chestx_interpretation/dataloader.py:51: FutureWarning: The default value of regex will change from True to False in a future version.\n",
      "  self.df['Path'] = self.df['Path'].str.replace('CheXpert-v1.0-small/', '')\n",
      "/home/quan/kwon/OMSCS/deep_learning/chestx_interpretation/dataloader.py:52: FutureWarning: The default value of regex will change from True to False in a future version.\n",
      "  self.df['Path'] = self.df['Path'].str.replace('CheXpert-v1.0/', '')\n"
     ]
    },
    {
     "name": "stdout",
     "output_type": "stream",
     "text": [
      "Multi-label mode: True, Number of classes: [5]\n",
      "Multi-label mode: True, Number of classes: [5]\n"
     ]
    },
    {
     "name": "stderr",
     "output_type": "stream",
     "text": [
      "/home/quan/kwon/OMSCS/deep_learning/chestx_interpretation/dataloader.py:51: FutureWarning: The default value of regex will change from True to False in a future version.\n",
      "  self.df['Path'] = self.df['Path'].str.replace('CheXpert-v1.0-small/', '')\n",
      "/home/quan/kwon/OMSCS/deep_learning/chestx_interpretation/dataloader.py:52: FutureWarning: The default value of regex will change from True to False in a future version.\n",
      "  self.df['Path'] = self.df['Path'].str.replace('CheXpert-v1.0/', '')\n"
     ]
    }
   ],
   "source": [
    "data_params={\n",
    "    'uncertainty_method':'default',\n",
    "    'use_frontal':False,\n",
    "    'image_size':224,\n",
    "    'sample_frac':1,\n",
    "    'sample_seed':123,\n",
    "    'batch_size': 128,\n",
    "}\n",
    "SEED = 123\n",
    "WEIGHT_DECAY = 1e-5\n",
    "LR = 3.3e-4\n",
    "N_EPOCHS=4\n",
    "\n",
    "trainloader,testloader,_ = create_loaders(**data_params)\n",
    "fastai_loader = DataLoaders(trainloader,testloader)"
   ]
  },
  {
   "cell_type": "code",
   "execution_count": 5,
   "metadata": {},
   "outputs": [
    {
     "data": {
      "text/html": [
       "<table border=\"1\" class=\"dataframe\">\n",
       "  <thead>\n",
       "    <tr style=\"text-align: left;\">\n",
       "      <th>epoch</th>\n",
       "      <th>train_loss</th>\n",
       "      <th>valid_loss</th>\n",
       "      <th>roc_auc_score</th>\n",
       "      <th>roc_auc_score</th>\n",
       "      <th>time</th>\n",
       "    </tr>\n",
       "  </thead>\n",
       "  <tbody>\n",
       "    <tr>\n",
       "      <td>0</td>\n",
       "      <td>0.386592</td>\n",
       "      <td>0.445832</td>\n",
       "      <td>0.880140</td>\n",
       "      <td>[0.84496753 0.81560064 0.90547264 0.91263962 0.92202163]</td>\n",
       "      <td>07:49</td>\n",
       "    </tr>\n",
       "    <tr>\n",
       "      <td>1</td>\n",
       "      <td>0.381658</td>\n",
       "      <td>0.452959</td>\n",
       "      <td>0.888080</td>\n",
       "      <td>[0.85413961 0.83424876 0.92605156 0.90058789 0.92537313]</td>\n",
       "      <td>07:47</td>\n",
       "    </tr>\n",
       "    <tr>\n",
       "      <td>2</td>\n",
       "      <td>0.365032</td>\n",
       "      <td>0.423785</td>\n",
       "      <td>0.896416</td>\n",
       "      <td>[0.84261364 0.83765946 0.93102668 0.94156379 0.92921619]</td>\n",
       "      <td>07:56</td>\n",
       "    </tr>\n",
       "    <tr>\n",
       "      <td>3</td>\n",
       "      <td>0.357157</td>\n",
       "      <td>0.428209</td>\n",
       "      <td>0.885594</td>\n",
       "      <td>[0.82228084 0.8065202  0.93155435 0.93544974 0.93216552]</td>\n",
       "      <td>07:48</td>\n",
       "    </tr>\n",
       "  </tbody>\n",
       "</table>"
      ],
      "text/plain": [
       "<IPython.core.display.HTML object>"
      ]
     },
     "metadata": {},
     "output_type": "display_data"
    },
    {
     "name": "stderr",
     "output_type": "stream",
     "text": [
      "/home/quan/anaconda3/envs/fastai_v2/lib/python3.8/site-packages/torch/nn/functional.py:718: UserWarning: Named tensors and all their associated APIs are an experimental feature and subject to change. Please do not use them for anything important until they are released as stable. (Triggered internally at  /pytorch/c10/core/TensorImpl.h:1156.)\n",
      "  return torch.max_pool2d(input, kernel_size, stride, padding, dilation, ceil_mode)\n"
     ]
    },
    {
     "name": "stdout",
     "output_type": "stream",
     "text": [
      "Better model found at epoch 0 with roc_auc_score value: 0.8801404118529417.\n"
     ]
    },
    {
     "data": {
      "image/png": "[encoded data removed]",
      "text/plain": [
       "<Figure size 432x288 with 1 Axes>"
      ]
     },
     "metadata": {},
     "output_type": "display_data"
    },
    {
     "name": "stdout",
     "output_type": "stream",
     "text": [
      "Better model found at epoch 1 with roc_auc_score value: 0.8880801908639053.\n",
      "Better model found at epoch 2 with roc_auc_score value: 0.8964159525963049.\n"
     ]
    }
   ],
   "source": [
    "WEIGHT_NAME='densenet_bce_udefault_fit_fandl'\n",
    "model = get_densenet_model(SEED)\n",
    "loss,opt = get_loss_and_optimizer(model,LR,loss_type='bce',use_fastai=True,weight_decay=WEIGHT_DECAY)\n",
    "train_fastai_learner(fastai_loader,model,loss,opt,LR,n_epochs=N_EPOCHS,weight_name=WEIGHT_NAME,lr_scheduler='flat_cos')"
   ]
  },
  {
   "cell_type": "code",
   "execution_count": 6,
   "metadata": {},
   "outputs": [
    {
     "data": {
      "text/html": [
       "<table border=\"1\" class=\"dataframe\">\n",
       "  <thead>\n",
       "    <tr style=\"text-align: left;\">\n",
       "      <th>epoch</th>\n",
       "      <th>train_loss</th>\n",
       "      <th>valid_loss</th>\n",
       "      <th>roc_auc_score</th>\n",
       "      <th>roc_auc_score</th>\n",
       "      <th>time</th>\n",
       "    </tr>\n",
       "  </thead>\n",
       "  <tbody>\n",
       "    <tr>\n",
       "      <td>0</td>\n",
       "      <td>0.389514</td>\n",
       "      <td>0.540863</td>\n",
       "      <td>0.846856</td>\n",
       "      <td>[0.79784903 0.78880227 0.8361978  0.9143445  0.89708642]</td>\n",
       "      <td>08:01</td>\n",
       "    </tr>\n",
       "    <tr>\n",
       "      <td>1</td>\n",
       "      <td>0.383399</td>\n",
       "      <td>0.433810</td>\n",
       "      <td>0.887213</td>\n",
       "      <td>[0.853125   0.83566619 0.92348862 0.8984127  0.92537313]</td>\n",
       "      <td>08:11</td>\n",
       "    </tr>\n",
       "    <tr>\n",
       "      <td>2</td>\n",
       "      <td>0.366791</td>\n",
       "      <td>0.436937</td>\n",
       "      <td>0.883476</td>\n",
       "      <td>[0.83193994 0.82078313 0.90479421 0.92698413 0.93288051]</td>\n",
       "      <td>07:58</td>\n",
       "    </tr>\n",
       "    <tr>\n",
       "      <td>3</td>\n",
       "      <td>0.356672</td>\n",
       "      <td>0.431273</td>\n",
       "      <td>0.882243</td>\n",
       "      <td>[0.82804383 0.79252303 0.92303633 0.93356849 0.93404236]</td>\n",
       "      <td>08:01</td>\n",
       "    </tr>\n",
       "  </tbody>\n",
       "</table>"
      ],
      "text/plain": [
       "<IPython.core.display.HTML object>"
      ]
     },
     "metadata": {},
     "output_type": "display_data"
    },
    {
     "name": "stdout",
     "output_type": "stream",
     "text": [
      "Better model found at epoch 0 with roc_auc_score value: 0.8468560040306972.\n"
     ]
    },
    {
     "data": {
      "image/png": "[encoded data removed]",
      "text/plain": [
       "<Figure size 432x288 with 1 Axes>"
      ]
     },
     "metadata": {},
     "output_type": "display_data"
    },
    {
     "name": "stdout",
     "output_type": "stream",
     "text": [
      "Better model found at epoch 1 with roc_auc_score value: 0.8872131288896087.\n"
     ]
    }
   ],
   "source": [
    "WEIGHT_NAME='densenet_bce_udefault_fit_1cycle_fandl'\n",
    "model = get_densenet_model(SEED)\n",
    "loss,opt = get_loss_and_optimizer(model,LR,loss_type='bce',use_fastai=True,weight_decay=WEIGHT_DECAY)\n",
    "train_fastai_learner(fastai_loader,model,loss,opt,LR,n_epochs=N_EPOCHS,weight_name=WEIGHT_NAME,lr_scheduler='1cycle')"
   ]
  },
  {
   "cell_type": "code",
   "execution_count": 13,
   "metadata": {},
   "outputs": [
    {
     "data": {
      "text/html": [
       "<table border=\"1\" class=\"dataframe\">\n",
       "  <thead>\n",
       "    <tr style=\"text-align: left;\">\n",
       "      <th>epoch</th>\n",
       "      <th>train_loss</th>\n",
       "      <th>valid_loss</th>\n",
       "      <th>roc_auc_score</th>\n",
       "      <th>roc_auc_score</th>\n",
       "      <th>time</th>\n",
       "    </tr>\n",
       "  </thead>\n",
       "  <tbody>\n",
       "    <tr>\n",
       "      <td>0</td>\n",
       "      <td>0.388064</td>\n",
       "      <td>0.457314</td>\n",
       "      <td>0.885452</td>\n",
       "      <td>[0.84630682 0.84222183 0.91987035 0.91252205 0.90633658]</td>\n",
       "      <td>07:48</td>\n",
       "    </tr>\n",
       "    <tr>\n",
       "      <td>1</td>\n",
       "      <td>0.378864</td>\n",
       "      <td>0.430229</td>\n",
       "      <td>0.892057</td>\n",
       "      <td>[0.85584416 0.83314139 0.93977084 0.89864785 0.93288051]</td>\n",
       "      <td>07:46</td>\n",
       "    </tr>\n",
       "    <tr>\n",
       "      <td>2</td>\n",
       "      <td>0.360523</td>\n",
       "      <td>0.422284</td>\n",
       "      <td>0.889701</td>\n",
       "      <td>[0.8400974  0.80443834 0.93962008 0.93004115 0.93431048]</td>\n",
       "      <td>07:46</td>\n",
       "    </tr>\n",
       "  </tbody>\n",
       "</table>"
      ],
      "text/plain": [
       "<IPython.core.display.HTML object>"
      ]
     },
     "metadata": {},
     "output_type": "display_data"
    },
    {
     "name": "stdout",
     "output_type": "stream",
     "text": [
      "Better model found at epoch 0 with roc_auc_score value: 0.8854515236682625.\n"
     ]
    },
    {
     "data": {
      "image/png": "[encoded data removed]",
      "text/plain": [
       "<Figure size 432x288 with 1 Axes>"
      ]
     },
     "metadata": {},
     "output_type": "display_data"
    },
    {
     "name": "stdout",
     "output_type": "stream",
     "text": [
      "Better model found at epoch 1 with roc_auc_score value: 0.8920569499061342.\n"
     ]
    }
   ],
   "source": [
    "# WEIGHT_NAME='densenet_bce_udefault_fit_1cycle_fandl_3e'\n",
    "# model = get_densenet_model(SEED)\n",
    "# loss,opt = get_loss_and_optimizer(model,LR,loss_type='bce',use_fastai=True,weight_decay=WEIGHT_DECAY)\n",
    "# train_fastai_learner(fastai_loader,model,loss,opt,LR,n_epochs=3,weight_name=WEIGHT_NAME,lr_scheduler='1cycle')"
   ]
  },
  {
   "cell_type": "markdown",
   "metadata": {},
   "source": [
    "# U-default-smoothing frontal and lateral"
   ]
  },
  {
   "cell_type": "code",
   "execution_count": 14,
   "metadata": {},
   "outputs": [],
   "source": [
    "data_params={\n",
    "    'uncertainty_method':'default-smoothing',\n",
    "    'use_frontal':False,\n",
    "    'image_size':224,\n",
    "    'sample_frac':1,\n",
    "    'sample_seed':123,\n",
    "    'batch_size': 128\n",
    "}\n",
    "SEED = 123\n",
    "WEIGHT_DECAY = 1e-5\n",
    "LR = 3.3e-4\n",
    "N_EPOCHS=4"
   ]
  },
  {
   "cell_type": "code",
   "execution_count": 15,
   "metadata": {},
   "outputs": [
    {
     "name": "stderr",
     "output_type": "stream",
     "text": [
      "/home/quan/kwon/OMSCS/deep_learning/chestx_interpretation/dataloader.py:51: FutureWarning: The default value of regex will change from True to False in a future version.\n",
      "  self.df['Path'] = self.df['Path'].str.replace('CheXpert-v1.0-small/', '')\n",
      "/home/quan/kwon/OMSCS/deep_learning/chestx_interpretation/dataloader.py:52: FutureWarning: The default value of regex will change from True to False in a future version.\n",
      "  self.df['Path'] = self.df['Path'].str.replace('CheXpert-v1.0/', '')\n"
     ]
    },
    {
     "name": "stdout",
     "output_type": "stream",
     "text": [
      "Multi-label mode: True, Number of classes: [5]\n",
      "Multi-label mode: True, Number of classes: [5]\n"
     ]
    },
    {
     "name": "stderr",
     "output_type": "stream",
     "text": [
      "/home/quan/kwon/OMSCS/deep_learning/chestx_interpretation/dataloader.py:51: FutureWarning: The default value of regex will change from True to False in a future version.\n",
      "  self.df['Path'] = self.df['Path'].str.replace('CheXpert-v1.0-small/', '')\n",
      "/home/quan/kwon/OMSCS/deep_learning/chestx_interpretation/dataloader.py:52: FutureWarning: The default value of regex will change from True to False in a future version.\n",
      "  self.df['Path'] = self.df['Path'].str.replace('CheXpert-v1.0/', '')\n"
     ]
    }
   ],
   "source": [
    "trainloader,testloader,_ = create_loaders(**data_params)\n",
    "fastai_loader = DataLoaders(trainloader,testloader)"
   ]
  },
  {
   "cell_type": "code",
   "execution_count": 9,
   "metadata": {},
   "outputs": [
    {
     "data": {
      "text/html": [
       "<table border=\"1\" class=\"dataframe\">\n",
       "  <thead>\n",
       "    <tr style=\"text-align: left;\">\n",
       "      <th>epoch</th>\n",
       "      <th>train_loss</th>\n",
       "      <th>valid_loss</th>\n",
       "      <th>roc_auc_score</th>\n",
       "      <th>roc_auc_score</th>\n",
       "      <th>time</th>\n",
       "    </tr>\n",
       "  </thead>\n",
       "  <tbody>\n",
       "    <tr>\n",
       "      <td>0</td>\n",
       "      <td>0.390434</td>\n",
       "      <td>0.488694</td>\n",
       "      <td>0.864788</td>\n",
       "      <td>[0.82706981 0.7688253  0.88617518 0.92051734 0.92135133]</td>\n",
       "      <td>07:58</td>\n",
       "    </tr>\n",
       "    <tr>\n",
       "      <td>1</td>\n",
       "      <td>0.386926</td>\n",
       "      <td>0.439152</td>\n",
       "      <td>0.884168</td>\n",
       "      <td>[0.85170455 0.81839121 0.93630333 0.89670782 0.9177317 ]</td>\n",
       "      <td>07:55</td>\n",
       "    </tr>\n",
       "    <tr>\n",
       "      <td>2</td>\n",
       "      <td>0.370129</td>\n",
       "      <td>0.425422</td>\n",
       "      <td>0.887935</td>\n",
       "      <td>[0.82642045 0.81661942 0.92966983 0.94168136 0.92528376]</td>\n",
       "      <td>07:47</td>\n",
       "    </tr>\n",
       "    <tr>\n",
       "      <td>3</td>\n",
       "      <td>0.362933</td>\n",
       "      <td>0.424301</td>\n",
       "      <td>0.881624</td>\n",
       "      <td>[0.82284903 0.79402906 0.92477009 0.93756614 0.92890339]</td>\n",
       "      <td>07:41</td>\n",
       "    </tr>\n",
       "  </tbody>\n",
       "</table>"
      ],
      "text/plain": [
       "<IPython.core.display.HTML object>"
      ]
     },
     "metadata": {},
     "output_type": "display_data"
    },
    {
     "name": "stdout",
     "output_type": "stream",
     "text": [
      "Better model found at epoch 0 with roc_auc_score value: 0.8647877922036379.\n"
     ]
    },
    {
     "data": {
      "image/png": "[encoded data removed]",
      "text/plain": [
       "<Figure size 432x288 with 1 Axes>"
      ]
     },
     "metadata": {},
     "output_type": "display_data"
    },
    {
     "name": "stdout",
     "output_type": "stream",
     "text": [
      "Better model found at epoch 1 with roc_auc_score value: 0.884167721778861.\n",
      "Better model found at epoch 2 with roc_auc_score value: 0.8879349661584722.\n"
     ]
    }
   ],
   "source": [
    "WEIGHT_NAME='densenet_bce_udefaultsmooth_fit_fandl'\n",
    "model = get_densenet_model(SEED)\n",
    "loss,opt = get_loss_and_optimizer(model,LR,loss_type='bce',use_fastai=True,weight_decay=WEIGHT_DECAY)\n",
    "train_fastai_learner(fastai_loader,model,loss,opt,LR,n_epochs=N_EPOCHS,weight_name=WEIGHT_NAME,lr_scheduler='flat_cos')"
   ]
  },
  {
   "cell_type": "code",
   "execution_count": 10,
   "metadata": {},
   "outputs": [
    {
     "data": {
      "text/html": [
       "<table border=\"1\" class=\"dataframe\">\n",
       "  <thead>\n",
       "    <tr style=\"text-align: left;\">\n",
       "      <th>epoch</th>\n",
       "      <th>train_loss</th>\n",
       "      <th>valid_loss</th>\n",
       "      <th>roc_auc_score</th>\n",
       "      <th>roc_auc_score</th>\n",
       "      <th>time</th>\n",
       "    </tr>\n",
       "  </thead>\n",
       "  <tbody>\n",
       "    <tr>\n",
       "      <td>0</td>\n",
       "      <td>0.393684</td>\n",
       "      <td>0.520139</td>\n",
       "      <td>0.856019</td>\n",
       "      <td>[0.80255682 0.78707477 0.88511986 0.91058201 0.89476271]</td>\n",
       "      <td>07:46</td>\n",
       "    </tr>\n",
       "    <tr>\n",
       "      <td>1</td>\n",
       "      <td>0.388116</td>\n",
       "      <td>0.400715</td>\n",
       "      <td>0.884551</td>\n",
       "      <td>[0.81428571 0.84913182 0.92838836 0.911699   0.91925105]</td>\n",
       "      <td>07:46</td>\n",
       "    </tr>\n",
       "    <tr>\n",
       "      <td>2</td>\n",
       "      <td>0.371313</td>\n",
       "      <td>0.425696</td>\n",
       "      <td>0.887890</td>\n",
       "      <td>[0.82991071 0.83748228 0.91331223 0.92957084 0.92917151]</td>\n",
       "      <td>07:46</td>\n",
       "    </tr>\n",
       "    <tr>\n",
       "      <td>3</td>\n",
       "      <td>0.362445</td>\n",
       "      <td>0.428954</td>\n",
       "      <td>0.880485</td>\n",
       "      <td>[0.8226461  0.79947732 0.91987035 0.92898295 0.93145053]</td>\n",
       "      <td>07:48</td>\n",
       "    </tr>\n",
       "  </tbody>\n",
       "</table>"
      ],
      "text/plain": [
       "<IPython.core.display.HTML object>"
      ]
     },
     "metadata": {},
     "output_type": "display_data"
    },
    {
     "name": "stdout",
     "output_type": "stream",
     "text": [
      "Better model found at epoch 0 with roc_auc_score value: 0.8560192334158104.\n"
     ]
    },
    {
     "data": {
      "image/png": "[encoded data removed]",
      "text/plain": [
       "<Figure size 432x288 with 1 Axes>"
      ]
     },
     "metadata": {},
     "output_type": "display_data"
    },
    {
     "name": "stdout",
     "output_type": "stream",
     "text": [
      "Better model found at epoch 1 with roc_auc_score value: 0.884551189527915.\n",
      "Better model found at epoch 2 with roc_auc_score value: 0.887889514302598.\n"
     ]
    }
   ],
   "source": [
    "WEIGHT_NAME='densenet_bce_udefaultsmooth_fit_1cycle_fandl'\n",
    "model = get_densenet_model(SEED)\n",
    "loss,opt = get_loss_and_optimizer(model,LR,loss_type='bce',use_fastai=True,weight_decay=WEIGHT_DECAY)\n",
    "train_fastai_learner(fastai_loader,model,loss,opt,LR,n_epochs=N_EPOCHS,weight_name=WEIGHT_NAME,lr_scheduler='1cycle')"
   ]
  },
  {
   "cell_type": "code",
   "execution_count": 11,
   "metadata": {},
   "outputs": [
    {
     "data": {
      "text/html": [
       "<table border=\"1\" class=\"dataframe\">\n",
       "  <thead>\n",
       "    <tr style=\"text-align: left;\">\n",
       "      <th>epoch</th>\n",
       "      <th>train_loss</th>\n",
       "      <th>valid_loss</th>\n",
       "      <th>roc_auc_score</th>\n",
       "      <th>roc_auc_score</th>\n",
       "      <th>time</th>\n",
       "    </tr>\n",
       "  </thead>\n",
       "  <tbody>\n",
       "    <tr>\n",
       "      <td>0</td>\n",
       "      <td>0.391810</td>\n",
       "      <td>0.470891</td>\n",
       "      <td>0.877692</td>\n",
       "      <td>[0.83084416 0.83021793 0.91625207 0.90440917 0.90673876]</td>\n",
       "      <td>07:56</td>\n",
       "    </tr>\n",
       "    <tr>\n",
       "      <td>1</td>\n",
       "      <td>0.384093</td>\n",
       "      <td>0.445568</td>\n",
       "      <td>0.880814</td>\n",
       "      <td>[0.82926136 0.81409461 0.93826323 0.89564962 0.92680311]</td>\n",
       "      <td>07:57</td>\n",
       "    </tr>\n",
       "    <tr>\n",
       "      <td>2</td>\n",
       "      <td>0.366386</td>\n",
       "      <td>0.426006</td>\n",
       "      <td>0.883224</td>\n",
       "      <td>[0.83445617 0.7954022  0.93072516 0.92663139 0.92890339]</td>\n",
       "      <td>07:53</td>\n",
       "    </tr>\n",
       "  </tbody>\n",
       "</table>"
      ],
      "text/plain": [
       "<IPython.core.display.HTML object>"
      ]
     },
     "metadata": {},
     "output_type": "display_data"
    },
    {
     "name": "stdout",
     "output_type": "stream",
     "text": [
      "Better model found at epoch 0 with roc_auc_score value: 0.8776924183435201.\n"
     ]
    },
    {
     "data": {
      "image/png": "[encoded data removed]",
      "text/plain": [
       "<Figure size 432x288 with 1 Axes>"
      ]
     },
     "metadata": {},
     "output_type": "display_data"
    },
    {
     "name": "stdout",
     "output_type": "stream",
     "text": [
      "Better model found at epoch 1 with roc_auc_score value: 0.8808143869525678.\n",
      "Better model found at epoch 2 with roc_auc_score value: 0.8832236616952803.\n"
     ]
    }
   ],
   "source": [
    "# WEIGHT_NAME='densenet_bce_udefaultsmooth_fit_1cycle_fandl_3e'\n",
    "# model = get_densenet_model(SEED)\n",
    "# loss,opt = get_loss_and_optimizer(model,LR,loss_type='bce',use_fastai=True,weight_decay=WEIGHT_DECAY)\n",
    "# train_fastai_learner(fastai_loader,model,loss,opt,LR,n_epochs=3,weight_name=WEIGHT_NAME,lr_scheduler='1cycle')"
   ]
  },
  {
   "cell_type": "code",
   "execution_count": 16,
   "metadata": {},
   "outputs": [
    {
     "data": {
      "text/html": [
       "<table border=\"1\" class=\"dataframe\">\n",
       "  <thead>\n",
       "    <tr style=\"text-align: left;\">\n",
       "      <th>epoch</th>\n",
       "      <th>train_loss</th>\n",
       "      <th>valid_loss</th>\n",
       "      <th>roc_auc_score</th>\n",
       "      <th>roc_auc_score</th>\n",
       "      <th>time</th>\n",
       "    </tr>\n",
       "  </thead>\n",
       "  <tbody>\n",
       "    <tr>\n",
       "      <td>0</td>\n",
       "      <td>0.394209</td>\n",
       "      <td>0.476179</td>\n",
       "      <td>0.864712</td>\n",
       "      <td>[0.81948052 0.81839121 0.88082316 0.9106408  0.89422647]</td>\n",
       "      <td>07:58</td>\n",
       "    </tr>\n",
       "    <tr>\n",
       "      <td>1</td>\n",
       "      <td>0.389788</td>\n",
       "      <td>0.415639</td>\n",
       "      <td>0.889321</td>\n",
       "      <td>[0.84699675 0.84523388 0.9278607  0.89935332 0.9271606 ]</td>\n",
       "      <td>07:57</td>\n",
       "    </tr>\n",
       "    <tr>\n",
       "      <td>2</td>\n",
       "      <td>0.376582</td>\n",
       "      <td>0.436131</td>\n",
       "      <td>0.883917</td>\n",
       "      <td>[0.82211851 0.85316265 0.9060003  0.91534392 0.92296005]</td>\n",
       "      <td>08:02</td>\n",
       "    </tr>\n",
       "    <tr>\n",
       "      <td>3</td>\n",
       "      <td>0.368285</td>\n",
       "      <td>0.437415</td>\n",
       "      <td>0.887317</td>\n",
       "      <td>[0.85109578 0.79983168 0.92507161 0.9329806  0.92760747]</td>\n",
       "      <td>08:00</td>\n",
       "    </tr>\n",
       "    <tr>\n",
       "      <td>4</td>\n",
       "      <td>0.357967</td>\n",
       "      <td>0.426028</td>\n",
       "      <td>0.882867</td>\n",
       "      <td>[0.83644481 0.7979713  0.91647821 0.93574368 0.92769685]</td>\n",
       "      <td>08:02</td>\n",
       "    </tr>\n",
       "  </tbody>\n",
       "</table>"
      ],
      "text/plain": [
       "<IPython.core.display.HTML object>"
      ]
     },
     "metadata": {},
     "output_type": "display_data"
    },
    {
     "name": "stdout",
     "output_type": "stream",
     "text": [
      "Better model found at epoch 0 with roc_auc_score value: 0.8647124320574988.\n"
     ]
    },
    {
     "data": {
      "image/png": "[encoded data removed]",
      "text/plain": [
       "<Figure size 432x288 with 1 Axes>"
      ]
     },
     "metadata": {},
     "output_type": "display_data"
    },
    {
     "name": "stdout",
     "output_type": "stream",
     "text": [
      "Better model found at epoch 1 with roc_auc_score value: 0.8893210504375437.\n"
     ]
    }
   ],
   "source": [
    "# WEIGHT_NAME='densenet_bce_udefaultsmooth_fit_1cycle_fandl_5e'\n",
    "# model = get_densenet_model(SEED)\n",
    "# loss,opt = get_loss_and_optimizer(model,LR,loss_type='bce',use_fastai=True,weight_decay=WEIGHT_DECAY)\n",
    "# train_fastai_learner(fastai_loader,model,loss,opt,LR,n_epochs=5,weight_name=WEIGHT_NAME,lr_scheduler='1cycle')"
   ]
  },
  {
   "cell_type": "markdown",
   "metadata": {},
   "source": [
    "# U-default smoothing one"
   ]
  },
  {
   "cell_type": "code",
   "execution_count": 3,
   "metadata": {},
   "outputs": [
    {
     "name": "stderr",
     "output_type": "stream",
     "text": [
      "/home/quan/kwon/OMSCS/deep_learning/chestx_interpretation/dataloader.py:51: FutureWarning: The default value of regex will change from True to False in a future version.\n",
      "  self.df['Path'] = self.df['Path'].str.replace('CheXpert-v1.0-small/', '')\n",
      "/home/quan/kwon/OMSCS/deep_learning/chestx_interpretation/dataloader.py:52: FutureWarning: The default value of regex will change from True to False in a future version.\n",
      "  self.df['Path'] = self.df['Path'].str.replace('CheXpert-v1.0/', '')\n"
     ]
    },
    {
     "name": "stdout",
     "output_type": "stream",
     "text": [
      "Multi-label mode: True, Number of classes: [5]\n",
      "Multi-label mode: True, Number of classes: [5]\n"
     ]
    },
    {
     "name": "stderr",
     "output_type": "stream",
     "text": [
      "/home/quan/kwon/OMSCS/deep_learning/chestx_interpretation/dataloader.py:51: FutureWarning: The default value of regex will change from True to False in a future version.\n",
      "  self.df['Path'] = self.df['Path'].str.replace('CheXpert-v1.0-small/', '')\n",
      "/home/quan/kwon/OMSCS/deep_learning/chestx_interpretation/dataloader.py:52: FutureWarning: The default value of regex will change from True to False in a future version.\n",
      "  self.df['Path'] = self.df['Path'].str.replace('CheXpert-v1.0/', '')\n"
     ]
    }
   ],
   "source": [
    "data_params={\n",
    "    'uncertainty_method':'default-smoothing-one',\n",
    "    'use_frontal':False,\n",
    "    'image_size':224,\n",
    "    'sample_frac':1,\n",
    "    'sample_seed':123,\n",
    "    'batch_size': 128\n",
    "}\n",
    "SEED = 123\n",
    "WEIGHT_DECAY = 1e-5\n",
    "LR = 3.3e-4\n",
    "N_EPOCHS=4\n",
    "\n",
    "trainloader,testloader,_ = create_loaders(**data_params)\n",
    "fastai_loader = DataLoaders(trainloader,testloader)"
   ]
  },
  {
   "cell_type": "code",
   "execution_count": null,
   "metadata": {},
   "outputs": [
    {
     "data": {
      "text/html": [
       "\n",
       "    <div>\n",
       "        <style>\n",
       "            /* Turns off some styling */\n",
       "            progress {\n",
       "                /* gets rid of default border in Firefox and Opera. */\n",
       "                border: none;\n",
       "                /* Needs to be in here for Safari polyfill so background images work as expected. */\n",
       "                background-size: auto;\n",
       "            }\n",
       "            .progress-bar-interrupted, .progress-bar-interrupted::-webkit-progress-bar {\n",
       "                background: #F44336;\n",
       "            }\n",
       "        </style>\n",
       "      <progress value='0' class='' max='4' style='width:300px; height:20px; vertical-align: middle;'></progress>\n",
       "      0.00% [0/4 00:00<00:00]\n",
       "    </div>\n",
       "    \n",
       "<table border=\"1\" class=\"dataframe\">\n",
       "  <thead>\n",
       "    <tr style=\"text-align: left;\">\n",
       "      <th>epoch</th>\n",
       "      <th>train_loss</th>\n",
       "      <th>valid_loss</th>\n",
       "      <th>roc_auc_score</th>\n",
       "      <th>roc_auc_score</th>\n",
       "      <th>time</th>\n",
       "    </tr>\n",
       "  </thead>\n",
       "  <tbody>\n",
       "  </tbody>\n",
       "</table><p>\n",
       "\n",
       "    <div>\n",
       "        <style>\n",
       "            /* Turns off some styling */\n",
       "            progress {\n",
       "                /* gets rid of default border in Firefox and Opera. */\n",
       "                border: none;\n",
       "                /* Needs to be in here for Safari polyfill so background images work as expected. */\n",
       "                background-size: auto;\n",
       "            }\n",
       "            .progress-bar-interrupted, .progress-bar-interrupted::-webkit-progress-bar {\n",
       "                background: #F44336;\n",
       "            }\n",
       "        </style>\n",
       "      <progress value='232' class='' max='1746' style='width:300px; height:20px; vertical-align: middle;'></progress>\n",
       "      13.29% [232/1746 01:04<07:01 0.3959]\n",
       "    </div>\n",
       "    "
      ],
      "text/plain": [
       "<IPython.core.display.HTML object>"
      ]
     },
     "metadata": {},
     "output_type": "display_data"
    },
    {
     "name": "stderr",
     "output_type": "stream",
     "text": [
      "/home/quan/anaconda3/envs/fastai_v2/lib/python3.8/site-packages/torch/nn/functional.py:718: UserWarning: Named tensors and all their associated APIs are an experimental feature and subject to change. Please do not use them for anything important until they are released as stable. (Triggered internally at  /pytorch/c10/core/TensorImpl.h:1156.)\n",
      "  return torch.max_pool2d(input, kernel_size, stride, padding, dilation, ceil_mode)\n"
     ]
    }
   ],
   "source": [
    "WEIGHT_NAME='densenet_bce_udefaultsmoothone_fit_fandl'\n",
    "model = get_densenet_model(SEED)\n",
    "loss,opt = get_loss_and_optimizer(model,LR,loss_type='bce',use_fastai=True,weight_decay=WEIGHT_DECAY)\n",
    "train_fastai_learner(fastai_loader,model,loss,opt,LR,n_epochs=N_EPOCHS,weight_name=WEIGHT_NAME,lr_scheduler='flat_cos')"
   ]
  },
  {
   "cell_type": "code",
   "execution_count": null,
   "metadata": {},
   "outputs": [],
   "source": [
    "WEIGHT_NAME='densenet_bce_udefaultsmoothone_fit_fandl'\n",
    "model = get_densenet_model(234)\n",
    "loss,opt = get_loss_and_optimizer(model,LR,loss_type='bce',use_fastai=True,weight_decay=WEIGHT_DECAY)\n",
    "train_fastai_learner(fastai_loader,model,loss,opt,LR,n_epochs=N_EPOCHS,weight_name=WEIGHT_NAME,lr_scheduler='flat_cos')"
   ]
  },
  {
   "cell_type": "markdown",
   "metadata": {},
   "source": [
    "# U-default smoothing zero"
   ]
  },
  {
   "cell_type": "code",
   "execution_count": null,
   "metadata": {},
   "outputs": [],
   "source": [
    "data_params={\n",
    "    'uncertainty_method':'default-smoothing-zero',\n",
    "    'use_frontal':False,\n",
    "    'image_size':224,\n",
    "    'sample_frac':1,\n",
    "    'sample_seed':123,\n",
    "    'batch_size': 128\n",
    "}\n",
    "SEED = 123\n",
    "WEIGHT_DECAY = 1e-5\n",
    "LR = 3.3e-4\n",
    "N_EPOCHS=4\n",
    "\n",
    "trainloader,testloader,_ = create_loaders(**data_params)\n",
    "fastai_loader = DataLoaders(trainloader,testloader)"
   ]
  },
  {
   "cell_type": "code",
   "execution_count": null,
   "metadata": {},
   "outputs": [],
   "source": [
    "WEIGHT_NAME='densenet_bce_udefaultsmoothzero_fit_fandl'\n",
    "model = get_densenet_model(SEED)\n",
    "loss,opt = get_loss_and_optimizer(model,LR,loss_type='bce',use_fastai=True,weight_decay=WEIGHT_DECAY)\n",
    "train_fastai_learner(fastai_loader,model,loss,opt,LR,n_epochs=N_EPOCHS,weight_name=WEIGHT_NAME,lr_scheduler='flat_cos')"
   ]
  },
  {
   "cell_type": "code",
   "execution_count": null,
   "metadata": {},
   "outputs": [],
   "source": [
    "WEIGHT_NAME='densenet_bce_udefaultsmoothzero_fit_fandl'\n",
    "model = get_densenet_model(234)\n",
    "loss,opt = get_loss_and_optimizer(model,LR,loss_type='bce',use_fastai=True,weight_decay=WEIGHT_DECAY)\n",
    "train_fastai_learner(fastai_loader,model,loss,opt,LR,n_epochs=N_EPOCHS,weight_name=WEIGHT_NAME,lr_scheduler='flat_cos')"
   ]
  },
  {
   "cell_type": "code",
   "execution_count": null,
   "metadata": {},
   "outputs": [],
   "source": []
  }
 ],
 "metadata": {
  "kernelspec": {
   "display_name": "Python 3",
   "language": "python",
   "name": "python3"
  },
  "language_info": {
   "codemirror_mode": {
    "name": "ipython",
    "version": 3
   },
   "file_extension": ".py",
   "mimetype": "text/x-python",
   "name": "python",
   "nbconvert_exporter": "python",
   "pygments_lexer": "ipython3",
   "version": "3.8.5"
  },
  "toc": {
   "base_numbering": 1,
   "nav_menu": {},
   "number_sections": true,
   "sideBar": false,
   "skip_h1_title": false,
   "title_cell": "Table of Contents",
   "title_sidebar": "Contents",
   "toc_cell": true,
   "toc_position": {},
   "toc_section_display": true,
   "toc_window_display": false
  }
 },
 "nbformat": 4,
 "nbformat_minor": 4
}

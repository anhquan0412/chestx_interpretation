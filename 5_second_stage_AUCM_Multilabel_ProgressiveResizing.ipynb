{
 "cells": [
  {
   "cell_type": "markdown",
   "metadata": {
    "toc": true
   },
   "source": [
    "<h1>Table of Contents<span class=\"tocSkip\"></span></h1>\n",
    "<div class=\"toc\"><ul class=\"toc-item\"><li><span><a href=\"#U-default-first-stage-training\" data-toc-modified-id=\"U-default-first-stage-training-1\"><span class=\"toc-item-num\">1&nbsp;&nbsp;</span>U-default first stage training</a></span></li><li><span><a href=\"#Second-stage\" data-toc-modified-id=\"Second-stage-2\"><span class=\"toc-item-num\">2&nbsp;&nbsp;</span>Second stage</a></span></li><li><span><a href=\"#Train-from-scratch-using-AUCMLabel\" data-toc-modified-id=\"Train-from-scratch-using-AUCMLabel-3\"><span class=\"toc-item-num\">3&nbsp;&nbsp;</span>Train from scratch using AUCMLabel</a></span></li></ul></div>"
   ]
  },
  {
   "cell_type": "code",
   "execution_count": 1,
   "metadata": {},
   "outputs": [],
   "source": [
    "# Load lib and define helper functions\n",
    "\n",
    "%reload_ext autoreload\n",
    "%autoreload 2"
   ]
  },
  {
   "cell_type": "code",
   "execution_count": 2,
   "metadata": {},
   "outputs": [],
   "source": [
    "from dataloader import *\n",
    "from trainer import *\n",
    "import AUCMMS\n",
    "from fastai.vision.all import *\n",
    "\n",
    "DATA = '/media/samsung/chexpert/CheXpert-v1.0-small/'"
   ]
  },
  {
   "cell_type": "markdown",
   "metadata": {
    "heading_collapsed": true
   },
   "source": [
    "# U-default first stage training"
   ]
  },
  {
   "cell_type": "code",
   "execution_count": 3,
   "metadata": {
    "hidden": true
   },
   "outputs": [
    {
     "name": "stderr",
     "output_type": "stream",
     "text": [
      "/home/quan/kwon/OMSCS/deep_learning/chestx_interpretation/dataloader.py:52: FutureWarning: The default value of regex will change from True to False in a future version.\n",
      "  self.df['Path'] = self.df['Path'].str.replace('CheXpert-v1.0-small/', '')\n",
      "/home/quan/kwon/OMSCS/deep_learning/chestx_interpretation/dataloader.py:53: FutureWarning: The default value of regex will change from True to False in a future version.\n",
      "  self.df['Path'] = self.df['Path'].str.replace('CheXpert-v1.0/', '')\n"
     ]
    },
    {
     "name": "stdout",
     "output_type": "stream",
     "text": [
      "Multi-label mode: True, Number of classes: [5]\n",
      "Multi-label mode: True, Number of classes: [5]\n"
     ]
    },
    {
     "name": "stderr",
     "output_type": "stream",
     "text": [
      "/home/quan/kwon/OMSCS/deep_learning/chestx_interpretation/dataloader.py:52: FutureWarning: The default value of regex will change from True to False in a future version.\n",
      "  self.df['Path'] = self.df['Path'].str.replace('CheXpert-v1.0-small/', '')\n",
      "/home/quan/kwon/OMSCS/deep_learning/chestx_interpretation/dataloader.py:53: FutureWarning: The default value of regex will change from True to False in a future version.\n",
      "  self.df['Path'] = self.df['Path'].str.replace('CheXpert-v1.0/', '')\n"
     ]
    }
   ],
   "source": [
    "data_params={\n",
    "    'uncertainty_method':'default',\n",
    "    'use_frontal':False,\n",
    "    'image_size': 224,\n",
    "    'sample_frac':1,\n",
    "    'sample_seed':123,\n",
    "    'batch_size': 128,\n",
    "}\n",
    "SEED = 123\n",
    "WEIGHT_DECAY = 1e-5\n",
    "N_EPOCHS=6\n",
    "\n",
    "trainloader,testloader,_ = create_loaders(**data_params)\n",
    "fastai_loader = DataLoaders(trainloader,testloader)"
   ]
  },
  {
   "cell_type": "code",
   "execution_count": 4,
   "metadata": {
    "hidden": true
   },
   "outputs": [
    {
     "data": {
      "text/html": [
       "<table border=\"1\" class=\"dataframe\">\n",
       "  <thead>\n",
       "    <tr style=\"text-align: left;\">\n",
       "      <th>epoch</th>\n",
       "      <th>train_loss</th>\n",
       "      <th>valid_loss</th>\n",
       "      <th>roc_auc_score</th>\n",
       "      <th>roc_auc_score</th>\n",
       "      <th>time</th>\n",
       "    </tr>\n",
       "  </thead>\n",
       "  <tbody>\n",
       "    <tr>\n",
       "      <td>0</td>\n",
       "      <td>0.430911</td>\n",
       "      <td>0.486480</td>\n",
       "      <td>0.858488</td>\n",
       "      <td>[0.84253247 0.82605422 0.84893713 0.88171664 0.89319868]</td>\n",
       "      <td>07:55</td>\n",
       "    </tr>\n",
       "    <tr>\n",
       "      <td>1</td>\n",
       "      <td>0.426294</td>\n",
       "      <td>0.453601</td>\n",
       "      <td>0.869521</td>\n",
       "      <td>[0.87008929 0.75908044 0.91791045 0.8925338  0.90798999]</td>\n",
       "      <td>07:52</td>\n",
       "    </tr>\n",
       "    <tr>\n",
       "      <td>2</td>\n",
       "      <td>0.419627</td>\n",
       "      <td>0.456392</td>\n",
       "      <td>0.870623</td>\n",
       "      <td>[0.81972403 0.82242204 0.90072365 0.89412111 0.91612298]</td>\n",
       "      <td>07:56</td>\n",
       "    </tr>\n",
       "    <tr>\n",
       "      <td>3</td>\n",
       "      <td>0.415128</td>\n",
       "      <td>0.464405</td>\n",
       "      <td>0.882436</td>\n",
       "      <td>[0.85726461 0.83004075 0.9126338  0.8851264  0.92711592]</td>\n",
       "      <td>08:04</td>\n",
       "    </tr>\n",
       "    <tr>\n",
       "      <td>4</td>\n",
       "      <td>0.410744</td>\n",
       "      <td>0.427683</td>\n",
       "      <td>0.884706</td>\n",
       "      <td>[0.83961039 0.80607725 0.9216041  0.92639624 0.92984181]</td>\n",
       "      <td>07:54</td>\n",
       "    </tr>\n",
       "    <tr>\n",
       "      <td>5</td>\n",
       "      <td>0.408319</td>\n",
       "      <td>0.433536</td>\n",
       "      <td>0.879010</td>\n",
       "      <td>[0.8244724  0.7928331  0.91572441 0.93168724 0.93033336]</td>\n",
       "      <td>07:54</td>\n",
       "    </tr>\n",
       "  </tbody>\n",
       "</table>"
      ],
      "text/plain": [
       "<IPython.core.display.HTML object>"
      ]
     },
     "metadata": {},
     "output_type": "display_data"
    },
    {
     "name": "stderr",
     "output_type": "stream",
     "text": [
      "/home/quan/anaconda3/envs/fastai_v2/lib/python3.8/site-packages/torch/nn/functional.py:718: UserWarning: Named tensors and all their associated APIs are an experimental feature and subject to change. Please do not use them for anything important until they are released as stable. (Triggered internally at  /pytorch/c10/core/TensorImpl.h:1156.)\n",
      "  return torch.max_pool2d(input, kernel_size, stride, padding, dilation, ceil_mode)\n"
     ]
    },
    {
     "name": "stdout",
     "output_type": "stream",
     "text": [
      "Better model found at epoch 0 with roc_auc_score value: 0.8584878262927347.\n"
     ]
    },
    {
     "data": {
      "image/png": "[encoded data removed]",
      "text/plain": [
       "<Figure size 432x288 with 1 Axes>"
      ]
     },
     "metadata": {},
     "output_type": "display_data"
    },
    {
     "name": "stdout",
     "output_type": "stream",
     "text": [
      "Better model found at epoch 1 with roc_auc_score value: 0.8695207933387976.\n",
      "Better model found at epoch 2 with roc_auc_score value: 0.8706227609383174.\n",
      "Better model found at epoch 3 with roc_auc_score value: 0.8824362951959538.\n",
      "Better model found at epoch 4 with roc_auc_score value: 0.8847059573845939.\n"
     ]
    }
   ],
   "source": [
    "# WEIGHT_NAME='densenet_bce_udefault_fit_mixup_6epochs'\n",
    "# LR = 1e-3\n",
    "# model = get_densenet_model(SEED)\n",
    "# loss,opt = get_loss_and_optimizer(model,LR,loss_type='bce',use_fastai=True,weight_decay=WEIGHT_DECAY)\n",
    "# train_fastai_learner(fastai_loader,model,loss,opt,LR,n_epochs=N_EPOCHS,\n",
    "#                      weight_name=WEIGHT_NAME,lr_scheduler='flat_cos',\n",
    "#                     mixup_alpha=0.4\n",
    "#                     )"
   ]
  },
  {
   "cell_type": "code",
   "execution_count": null,
   "metadata": {
    "hidden": true
   },
   "outputs": [],
   "source": []
  },
  {
   "cell_type": "code",
   "execution_count": 4,
   "metadata": {
    "hidden": true
   },
   "outputs": [
    {
     "data": {
      "text/html": [
       "<table border=\"1\" class=\"dataframe\">\n",
       "  <thead>\n",
       "    <tr style=\"text-align: left;\">\n",
       "      <th>epoch</th>\n",
       "      <th>train_loss</th>\n",
       "      <th>valid_loss</th>\n",
       "      <th>roc_auc_score</th>\n",
       "      <th>roc_auc_score</th>\n",
       "      <th>time</th>\n",
       "    </tr>\n",
       "  </thead>\n",
       "  <tbody>\n",
       "    <tr>\n",
       "      <td>0</td>\n",
       "      <td>0.428809</td>\n",
       "      <td>0.686269</td>\n",
       "      <td>0.805434</td>\n",
       "      <td>[0.77431006 0.77870305 0.76526459 0.90734862 0.80154616]</td>\n",
       "      <td>08:03</td>\n",
       "    </tr>\n",
       "    <tr>\n",
       "      <td>1</td>\n",
       "      <td>0.425438</td>\n",
       "      <td>0.470766</td>\n",
       "      <td>0.864768</td>\n",
       "      <td>[0.84375    0.78773919 0.89356249 0.88641975 0.91236929]</td>\n",
       "      <td>08:01</td>\n",
       "    </tr>\n",
       "    <tr>\n",
       "      <td>2</td>\n",
       "      <td>0.419735</td>\n",
       "      <td>0.514946</td>\n",
       "      <td>0.864112</td>\n",
       "      <td>[0.85178571 0.79137137 0.89755767 0.85961199 0.92023416]</td>\n",
       "      <td>08:04</td>\n",
       "    </tr>\n",
       "    <tr>\n",
       "      <td>3</td>\n",
       "      <td>0.414886</td>\n",
       "      <td>0.468498</td>\n",
       "      <td>0.880116</td>\n",
       "      <td>[0.82288961 0.84749291 0.89966833 0.89747208 0.93305925]</td>\n",
       "      <td>08:00</td>\n",
       "    </tr>\n",
       "    <tr>\n",
       "      <td>4</td>\n",
       "      <td>0.408989</td>\n",
       "      <td>0.455975</td>\n",
       "      <td>0.878074</td>\n",
       "      <td>[0.81948052 0.79518072 0.91670436 0.92322163 0.93578515]</td>\n",
       "      <td>07:52</td>\n",
       "    </tr>\n",
       "    <tr>\n",
       "      <td>5</td>\n",
       "      <td>0.405460</td>\n",
       "      <td>0.428987</td>\n",
       "      <td>0.882016</td>\n",
       "      <td>[0.84172078 0.78432849 0.9149706  0.93215755 0.93690231]</td>\n",
       "      <td>07:49</td>\n",
       "    </tr>\n",
       "  </tbody>\n",
       "</table>"
      ],
      "text/plain": [
       "<IPython.core.display.HTML object>"
      ]
     },
     "metadata": {},
     "output_type": "display_data"
    },
    {
     "name": "stderr",
     "output_type": "stream",
     "text": [
      "/home/quan/anaconda3/envs/fastai_v2/lib/python3.8/site-packages/torch/nn/functional.py:718: UserWarning: Named tensors and all their associated APIs are an experimental feature and subject to change. Please do not use them for anything important until they are released as stable. (Triggered internally at  /pytorch/c10/core/TensorImpl.h:1156.)\n",
      "  return torch.max_pool2d(input, kernel_size, stride, padding, dilation, ceil_mode)\n"
     ]
    },
    {
     "name": "stdout",
     "output_type": "stream",
     "text": [
      "Better model found at epoch 0 with roc_auc_score value: 0.8054344956894965.\n"
     ]
    },
    {
     "data": {
      "image/png": "[encoded data removed]",
      "text/plain": [
       "<Figure size 432x288 with 1 Axes>"
      ]
     },
     "metadata": {},
     "output_type": "display_data"
    },
    {
     "name": "stdout",
     "output_type": "stream",
     "text": [
      "Better model found at epoch 1 with roc_auc_score value: 0.8647681453988827.\n",
      "Better model found at epoch 3 with roc_auc_score value: 0.8801164356267567.\n",
      "Better model found at epoch 5 with roc_auc_score value: 0.8820159480688154.\n"
     ]
    }
   ],
   "source": [
    "# WEIGHT_NAME='densenet_bce_udefault_fit1cycle_mixup_6epochs'\n",
    "# LR = 1e-3\n",
    "# model = get_densenet_model(SEED)\n",
    "# loss,opt = get_loss_and_optimizer(model,LR,loss_type='bce',use_fastai=True,weight_decay=WEIGHT_DECAY)\n",
    "# train_fastai_learner(fastai_loader,model,loss,opt,LR,n_epochs=N_EPOCHS,\n",
    "#                      weight_name=WEIGHT_NAME,lr_scheduler='1cycle',\n",
    "#                     mixup_alpha=0.4\n",
    "#                     )"
   ]
  },
  {
   "cell_type": "code",
   "execution_count": 5,
   "metadata": {
    "hidden": true
   },
   "outputs": [
    {
     "data": {
      "text/html": [
       "<table border=\"1\" class=\"dataframe\">\n",
       "  <thead>\n",
       "    <tr style=\"text-align: left;\">\n",
       "      <th>epoch</th>\n",
       "      <th>train_loss</th>\n",
       "      <th>valid_loss</th>\n",
       "      <th>roc_auc_score</th>\n",
       "      <th>roc_auc_score</th>\n",
       "      <th>time</th>\n",
       "    </tr>\n",
       "  </thead>\n",
       "  <tbody>\n",
       "    <tr>\n",
       "      <td>0</td>\n",
       "      <td>0.431631</td>\n",
       "      <td>0.554270</td>\n",
       "      <td>0.789056</td>\n",
       "      <td>[0.72711039 0.65219702 0.82602141 0.86431511 0.87563679]</td>\n",
       "      <td>07:50</td>\n",
       "    </tr>\n",
       "    <tr>\n",
       "      <td>1</td>\n",
       "      <td>0.425307</td>\n",
       "      <td>0.465057</td>\n",
       "      <td>0.862197</td>\n",
       "      <td>[0.84123377 0.7602764  0.92009649 0.89600235 0.89337742]</td>\n",
       "      <td>07:49</td>\n",
       "    </tr>\n",
       "    <tr>\n",
       "      <td>2</td>\n",
       "      <td>0.419737</td>\n",
       "      <td>0.464925</td>\n",
       "      <td>0.885018</td>\n",
       "      <td>[0.82305195 0.85063785 0.93396653 0.90117578 0.91625704]</td>\n",
       "      <td>07:49</td>\n",
       "    </tr>\n",
       "    <tr>\n",
       "      <td>3</td>\n",
       "      <td>0.417537</td>\n",
       "      <td>0.440390</td>\n",
       "      <td>0.871033</td>\n",
       "      <td>[0.83737825 0.79686393 0.90012061 0.89323927 0.92756278]</td>\n",
       "      <td>07:50</td>\n",
       "    </tr>\n",
       "    <tr>\n",
       "      <td>4</td>\n",
       "      <td>0.407194</td>\n",
       "      <td>0.452000</td>\n",
       "      <td>0.882299</td>\n",
       "      <td>[0.83275162 0.79677534 0.93042364 0.91781305 0.93372956]</td>\n",
       "      <td>07:49</td>\n",
       "    </tr>\n",
       "    <tr>\n",
       "      <td>5</td>\n",
       "      <td>0.405074</td>\n",
       "      <td>0.432809</td>\n",
       "      <td>0.879648</td>\n",
       "      <td>[0.82573052 0.78951099 0.92567466 0.92774838 0.92957369]</td>\n",
       "      <td>07:49</td>\n",
       "    </tr>\n",
       "  </tbody>\n",
       "</table>"
      ],
      "text/plain": [
       "<IPython.core.display.HTML object>"
      ]
     },
     "metadata": {},
     "output_type": "display_data"
    },
    {
     "name": "stdout",
     "output_type": "stream",
     "text": [
      "Better model found at epoch 0 with roc_auc_score value: 0.7890561431995612.\n"
     ]
    },
    {
     "data": {
      "image/png": "[encoded data removed]",
      "text/plain": [
       "<Figure size 432x288 with 1 Axes>"
      ]
     },
     "metadata": {},
     "output_type": "display_data"
    },
    {
     "name": "stdout",
     "output_type": "stream",
     "text": [
      "Better model found at epoch 1 with roc_auc_score value: 0.8621972858049638.\n",
      "Better model found at epoch 2 with roc_auc_score value: 0.8850178283298176.\n"
     ]
    }
   ],
   "source": [
    "# WEIGHT_NAME='densenet_bce_udefault_fit1cycle_mixup_6epochs_2'\n",
    "# LR = 1e-3\n",
    "# model = get_densenet_model(345)\n",
    "# loss,opt = get_loss_and_optimizer(model,LR,loss_type='bce',use_fastai=True,weight_decay=WEIGHT_DECAY)\n",
    "# train_fastai_learner(fastai_loader,model,loss,opt,LR,n_epochs=N_EPOCHS,\n",
    "#                      weight_name=WEIGHT_NAME,lr_scheduler='1cycle',\n",
    "#                     mixup_alpha=0.4\n",
    "#                     )"
   ]
  },
  {
   "cell_type": "markdown",
   "metadata": {
    "heading_collapsed": true
   },
   "source": [
    "# Second stage"
   ]
  },
  {
   "cell_type": "code",
   "execution_count": 3,
   "metadata": {
    "hidden": true
   },
   "outputs": [
    {
     "name": "stderr",
     "output_type": "stream",
     "text": [
      "/home/quan/kwon/OMSCS/deep_learning/chestx_interpretation/dataloader.py:52: FutureWarning: The default value of regex will change from True to False in a future version.\n",
      "  self.df['Path'] = self.df['Path'].str.replace('CheXpert-v1.0-small/', '')\n",
      "/home/quan/kwon/OMSCS/deep_learning/chestx_interpretation/dataloader.py:53: FutureWarning: The default value of regex will change from True to False in a future version.\n",
      "  self.df['Path'] = self.df['Path'].str.replace('CheXpert-v1.0/', '')\n"
     ]
    },
    {
     "name": "stdout",
     "output_type": "stream",
     "text": [
      "Multi-label mode: True, Number of classes: [5]\n",
      "Multi-label mode: True, Number of classes: [5]\n"
     ]
    },
    {
     "name": "stderr",
     "output_type": "stream",
     "text": [
      "/home/quan/kwon/OMSCS/deep_learning/chestx_interpretation/dataloader.py:52: FutureWarning: The default value of regex will change from True to False in a future version.\n",
      "  self.df['Path'] = self.df['Path'].str.replace('CheXpert-v1.0-small/', '')\n",
      "/home/quan/kwon/OMSCS/deep_learning/chestx_interpretation/dataloader.py:53: FutureWarning: The default value of regex will change from True to False in a future version.\n",
      "  self.df['Path'] = self.df['Path'].str.replace('CheXpert-v1.0/', '')\n"
     ]
    }
   ],
   "source": [
    "data_params={\n",
    "    'uncertainty_method':'default',\n",
    "    'use_frontal':False,\n",
    "    'image_size': 320,\n",
    "    'sample_frac':1,\n",
    "    'sample_seed':123,\n",
    "    'batch_size': 128,\n",
    "}\n",
    "SEED = 123\n",
    "WEIGHT_DECAY = 0\n",
    "N_EPOCHS=3\n",
    "\n",
    "trainloader,testloader,imratio = create_loaders(**data_params)\n",
    "fastai_loader = DataLoaders(trainloader,testloader)"
   ]
  },
  {
   "cell_type": "code",
   "execution_count": 4,
   "metadata": {
    "hidden": true
   },
   "outputs": [
    {
     "data": {
      "text/html": [
       "<table border=\"1\" class=\"dataframe\">\n",
       "  <thead>\n",
       "    <tr style=\"text-align: left;\">\n",
       "      <th>epoch</th>\n",
       "      <th>train_loss</th>\n",
       "      <th>valid_loss</th>\n",
       "      <th>roc_auc_score</th>\n",
       "      <th>roc_auc_score</th>\n",
       "      <th>time</th>\n",
       "    </tr>\n",
       "  </thead>\n",
       "  <tbody>\n",
       "    <tr>\n",
       "      <td>0</td>\n",
       "      <td>0.469920</td>\n",
       "      <td>0.319699</td>\n",
       "      <td>0.895767</td>\n",
       "      <td>[0.84886364 0.86795712 0.9188904  0.92239859 0.92072571]</td>\n",
       "      <td>14:11</td>\n",
       "    </tr>\n",
       "    <tr>\n",
       "      <td>1</td>\n",
       "      <td>0.443437</td>\n",
       "      <td>0.298660</td>\n",
       "      <td>0.897936</td>\n",
       "      <td>[0.85271916 0.86348335 0.92017187 0.92833627 0.92497095]</td>\n",
       "      <td>14:20</td>\n",
       "    </tr>\n",
       "    <tr>\n",
       "      <td>2</td>\n",
       "      <td>0.447723</td>\n",
       "      <td>0.291991</td>\n",
       "      <td>0.898781</td>\n",
       "      <td>[0.8481737  0.86366052 0.92446857 0.93004115 0.92756278]</td>\n",
       "      <td>13:53</td>\n",
       "    </tr>\n",
       "    <tr>\n",
       "      <td>3</td>\n",
       "      <td>0.434525</td>\n",
       "      <td>0.284345</td>\n",
       "      <td>0.898813</td>\n",
       "      <td>[0.84622565 0.8621545  0.92597618 0.9319224  0.92778622]</td>\n",
       "      <td>13:52</td>\n",
       "    </tr>\n",
       "    <tr>\n",
       "      <td>4</td>\n",
       "      <td>0.432175</td>\n",
       "      <td>0.280843</td>\n",
       "      <td>0.898763</td>\n",
       "      <td>[0.84683442 0.86024982 0.92642846 0.93215755 0.92814371]</td>\n",
       "      <td>13:37</td>\n",
       "    </tr>\n",
       "  </tbody>\n",
       "</table>"
      ],
      "text/plain": [
       "<IPython.core.display.HTML object>"
      ]
     },
     "metadata": {},
     "output_type": "display_data"
    },
    {
     "name": "stderr",
     "output_type": "stream",
     "text": [
      "/home/quan/anaconda3/envs/fastai_v2/lib/python3.8/site-packages/torch/nn/functional.py:718: UserWarning: Named tensors and all their associated APIs are an experimental feature and subject to change. Please do not use them for anything important until they are released as stable. (Triggered internally at  /pytorch/c10/core/TensorImpl.h:1156.)\n",
      "  return torch.max_pool2d(input, kernel_size, stride, padding, dilation, ceil_mode)\n"
     ]
    },
    {
     "name": "stdout",
     "output_type": "stream",
     "text": [
      "Better model found at epoch 0 with roc_auc_score value: 0.8957670914585811.\n"
     ]
    },
    {
     "data": {
      "image/png": "[encoded data removed]",
      "text/plain": [
       "<Figure size 432x288 with 1 Axes>"
      ]
     },
     "metadata": {},
     "output_type": "display_data"
    },
    {
     "name": "stdout",
     "output_type": "stream",
     "text": [
      "Better model found at epoch 1 with roc_auc_score value: 0.8979363190636761.\n",
      "Better model found at epoch 2 with roc_auc_score value: 0.8987813458300872.\n",
      "Better model found at epoch 3 with roc_auc_score value: 0.8988129893218314.\n"
     ]
    }
   ],
   "source": [
    "LR=1e-2\n",
    "PRETRAIN_WEIGHT_NAME='model_weights/densenet_bce_udefault_fit_1cycle_highlr_2.pth' \n",
    "WEIGHT_NAME='densenet_bce_udefault_fit_pr320_aucm'\n",
    "model = get_densenet_model(SEED)\n",
    "state_dict = torch.load(PRETRAIN_WEIGHT_NAME)\n",
    "state_dict.pop('classifier.weight', None)\n",
    "state_dict.pop('classifier.bias', None) \n",
    "model.load_state_dict(state_dict, strict=False)\n",
    "N_EPOCHS=5\n",
    "loss,opt = get_loss_and_optimizer(model,LR,loss_type='aucm',imratio=imratio,\n",
    "                                  use_fastai=True,\n",
    "                                  weight_decay=WEIGHT_DECAY)\n",
    "\n",
    "train_fastai_learner(fastai_loader,model,loss,opt,LR,n_epochs=N_EPOCHS,\n",
    "                     weight_name=WEIGHT_NAME,lr_scheduler='flat_cos',\n",
    "#                     mixup_alpha=0.4\n",
    "                    )"
   ]
  },
  {
   "cell_type": "code",
   "execution_count": 5,
   "metadata": {
    "hidden": true
   },
   "outputs": [
    {
     "data": {
      "text/html": [
       "<table border=\"1\" class=\"dataframe\">\n",
       "  <thead>\n",
       "    <tr style=\"text-align: left;\">\n",
       "      <th>epoch</th>\n",
       "      <th>train_loss</th>\n",
       "      <th>valid_loss</th>\n",
       "      <th>roc_auc_score</th>\n",
       "      <th>roc_auc_score</th>\n",
       "      <th>time</th>\n",
       "    </tr>\n",
       "  </thead>\n",
       "  <tbody>\n",
       "    <tr>\n",
       "      <td>0</td>\n",
       "      <td>0.475961</td>\n",
       "      <td>0.320244</td>\n",
       "      <td>0.895933</td>\n",
       "      <td>[0.85117695 0.8698618  0.91489522 0.92380952 0.91992135]</td>\n",
       "      <td>13:37</td>\n",
       "    </tr>\n",
       "    <tr>\n",
       "      <td>1</td>\n",
       "      <td>0.456460</td>\n",
       "      <td>0.301883</td>\n",
       "      <td>0.896788</td>\n",
       "      <td>[0.84553571 0.86826719 0.91919192 0.92557319 0.92537313]</td>\n",
       "      <td>13:39</td>\n",
       "    </tr>\n",
       "    <tr>\n",
       "      <td>2</td>\n",
       "      <td>0.441144</td>\n",
       "      <td>0.290689</td>\n",
       "      <td>0.898066</td>\n",
       "      <td>[0.85146104 0.86392629 0.92085029 0.92863022 0.92546251]</td>\n",
       "      <td>13:38</td>\n",
       "    </tr>\n",
       "    <tr>\n",
       "      <td>3</td>\n",
       "      <td>0.439820</td>\n",
       "      <td>0.281781</td>\n",
       "      <td>0.898651</td>\n",
       "      <td>[0.84882305 0.86357193 0.92145334 0.93215755 0.92724998]</td>\n",
       "      <td>13:37</td>\n",
       "    </tr>\n",
       "    <tr>\n",
       "      <td>4</td>\n",
       "      <td>0.446298</td>\n",
       "      <td>0.281805</td>\n",
       "      <td>0.898292</td>\n",
       "      <td>[0.84797078 0.86255315 0.92235791 0.93168724 0.92689248]</td>\n",
       "      <td>13:37</td>\n",
       "    </tr>\n",
       "  </tbody>\n",
       "</table>"
      ],
      "text/plain": [
       "<IPython.core.display.HTML object>"
      ]
     },
     "metadata": {},
     "output_type": "display_data"
    },
    {
     "name": "stdout",
     "output_type": "stream",
     "text": [
      "Better model found at epoch 0 with roc_auc_score value: 0.8959329688391563.\n"
     ]
    },
    {
     "data": {
      "image/png": "[encoded data removed]",
      "text/plain": [
       "<Figure size 432x288 with 1 Axes>"
      ]
     },
     "metadata": {},
     "output_type": "display_data"
    },
    {
     "name": "stdout",
     "output_type": "stream",
     "text": [
      "Better model found at epoch 1 with roc_auc_score value: 0.8967882292876961.\n",
      "Better model found at epoch 2 with roc_auc_score value: 0.8980660703387755.\n",
      "Better model found at epoch 3 with roc_auc_score value: 0.8986511716292519.\n"
     ]
    }
   ],
   "source": [
    "LR=1e-2\n",
    "PRETRAIN_WEIGHT_NAME='model_weights/densenet_bce_udefault_fit_1cycle_highlr_2.pth' \n",
    "WEIGHT_NAME='densenet_bce_udefault_fit_pr320_aucm_2'\n",
    "model = get_densenet_model(345)\n",
    "state_dict = torch.load(PRETRAIN_WEIGHT_NAME)\n",
    "state_dict.pop('classifier.weight', None)\n",
    "state_dict.pop('classifier.bias', None) \n",
    "model.load_state_dict(state_dict, strict=False)\n",
    "N_EPOCHS=5\n",
    "loss,opt = get_loss_and_optimizer(model,LR,loss_type='aucm',imratio=imratio,\n",
    "                                  use_fastai=True,\n",
    "                                  weight_decay=WEIGHT_DECAY)\n",
    "\n",
    "train_fastai_learner(fastai_loader,model,loss,opt,LR,n_epochs=N_EPOCHS,\n",
    "                     weight_name=WEIGHT_NAME,lr_scheduler='flat_cos',\n",
    "#                     mixup_alpha=0.4\n",
    "                    )"
   ]
  },
  {
   "cell_type": "code",
   "execution_count": null,
   "metadata": {
    "hidden": true
   },
   "outputs": [],
   "source": []
  },
  {
   "cell_type": "markdown",
   "metadata": {},
   "source": [
    "# Train from scratch using AUCMLabel"
   ]
  },
  {
   "cell_type": "code",
   "execution_count": 3,
   "metadata": {},
   "outputs": [
    {
     "name": "stderr",
     "output_type": "stream",
     "text": [
      "/home/quan/kwon/OMSCS/deep_learning/chestx_interpretation/dataloader.py:52: FutureWarning: The default value of regex will change from True to False in a future version.\n",
      "  self.df['Path'] = self.df['Path'].str.replace('CheXpert-v1.0-small/', '')\n",
      "/home/quan/kwon/OMSCS/deep_learning/chestx_interpretation/dataloader.py:53: FutureWarning: The default value of regex will change from True to False in a future version.\n",
      "  self.df['Path'] = self.df['Path'].str.replace('CheXpert-v1.0/', '')\n"
     ]
    },
    {
     "name": "stdout",
     "output_type": "stream",
     "text": [
      "Multi-label mode: True, Number of classes: [5]\n",
      "Multi-label mode: True, Number of classes: [5]\n"
     ]
    },
    {
     "name": "stderr",
     "output_type": "stream",
     "text": [
      "/home/quan/kwon/OMSCS/deep_learning/chestx_interpretation/dataloader.py:52: FutureWarning: The default value of regex will change from True to False in a future version.\n",
      "  self.df['Path'] = self.df['Path'].str.replace('CheXpert-v1.0-small/', '')\n",
      "/home/quan/kwon/OMSCS/deep_learning/chestx_interpretation/dataloader.py:53: FutureWarning: The default value of regex will change from True to False in a future version.\n",
      "  self.df['Path'] = self.df['Path'].str.replace('CheXpert-v1.0/', '')\n"
     ]
    }
   ],
   "source": [
    "data_params={\n",
    "    'uncertainty_method':'default',\n",
    "    'use_frontal':False,\n",
    "    'image_size': 320,\n",
    "    'sample_frac':1,\n",
    "    'sample_seed':123,\n",
    "    'batch_size': 128,\n",
    "}\n",
    "SEED = 123\n",
    "WEIGHT_DECAY = 0\n",
    "trainloader,testloader,imratio = create_loaders(**data_params)\n",
    "fastai_loader = DataLoaders(trainloader,testloader)"
   ]
  },
  {
   "cell_type": "code",
   "execution_count": null,
   "metadata": {},
   "outputs": [
    {
     "data": {
      "text/html": [
       "\n",
       "    <div>\n",
       "        <style>\n",
       "            /* Turns off some styling */\n",
       "            progress {\n",
       "                /* gets rid of default border in Firefox and Opera. */\n",
       "                border: none;\n",
       "                /* Needs to be in here for Safari polyfill so background images work as expected. */\n",
       "                background-size: auto;\n",
       "            }\n",
       "            .progress-bar-interrupted, .progress-bar-interrupted::-webkit-progress-bar {\n",
       "                background: #F44336;\n",
       "            }\n",
       "        </style>\n",
       "      <progress value='1' class='' max='5' style='width:300px; height:20px; vertical-align: middle;'></progress>\n",
       "      20.00% [1/5 14:05<56:20]\n",
       "    </div>\n",
       "    \n",
       "<table border=\"1\" class=\"dataframe\">\n",
       "  <thead>\n",
       "    <tr style=\"text-align: left;\">\n",
       "      <th>epoch</th>\n",
       "      <th>train_loss</th>\n",
       "      <th>valid_loss</th>\n",
       "      <th>roc_auc_score</th>\n",
       "      <th>roc_auc_score</th>\n",
       "      <th>time</th>\n",
       "    </tr>\n",
       "  </thead>\n",
       "  <tbody>\n",
       "    <tr>\n",
       "      <td>0</td>\n",
       "      <td>0.545149</td>\n",
       "      <td>0.392566</td>\n",
       "      <td>0.865830</td>\n",
       "      <td>[0.82719156 0.79810418 0.92100106 0.88947678 0.89337742]</td>\n",
       "      <td>14:04</td>\n",
       "    </tr>\n",
       "  </tbody>\n",
       "</table><p>\n",
       "\n",
       "    <div>\n",
       "        <style>\n",
       "            /* Turns off some styling */\n",
       "            progress {\n",
       "                /* gets rid of default border in Firefox and Opera. */\n",
       "                border: none;\n",
       "                /* Needs to be in here for Safari polyfill so background images work as expected. */\n",
       "                background-size: auto;\n",
       "            }\n",
       "            .progress-bar-interrupted, .progress-bar-interrupted::-webkit-progress-bar {\n",
       "                background: #F44336;\n",
       "            }\n",
       "        </style>\n",
       "      <progress value='1672' class='' max='1746' style='width:300px; height:20px; vertical-align: middle;'></progress>\n",
       "      95.76% [1672/1746 13:35<00:36 0.4934]\n",
       "    </div>\n",
       "    "
      ],
      "text/plain": [
       "<IPython.core.display.HTML object>"
      ]
     },
     "metadata": {},
     "output_type": "display_data"
    },
    {
     "name": "stderr",
     "output_type": "stream",
     "text": [
      "/home/quan/anaconda3/envs/fastai_v2/lib/python3.8/site-packages/torch/nn/functional.py:718: UserWarning: Named tensors and all their associated APIs are an experimental feature and subject to change. Please do not use them for anything important until they are released as stable. (Triggered internally at  /pytorch/c10/core/TensorImpl.h:1156.)\n",
      "  return torch.max_pool2d(input, kernel_size, stride, padding, dilation, ceil_mode)\n"
     ]
    },
    {
     "name": "stdout",
     "output_type": "stream",
     "text": [
      "Better model found at epoch 0 with roc_auc_score value: 0.8658301995648428.\n"
     ]
    },
    {
     "data": {
      "image/png": "[encoded data removed]",
      "text/plain": [
       "<Figure size 432x288 with 1 Axes>"
      ]
     },
     "metadata": {},
     "output_type": "display_data"
    }
   ],
   "source": [
    "LR=1e-2\n",
    "WEIGHT_NAME='densenet_udefault_fit_pr320_aucm_scratch'\n",
    "model = get_densenet_model(SEED)\n",
    "N_EPOCHS=5\n",
    "loss,opt = get_loss_and_optimizer(model,LR,loss_type='aucm',imratio=imratio,\n",
    "                                  use_fastai=True,\n",
    "                                  weight_decay=WEIGHT_DECAY)\n",
    "\n",
    "train_fastai_learner(fastai_loader,model,loss,opt,LR,n_epochs=N_EPOCHS,\n",
    "                     weight_name=WEIGHT_NAME,lr_scheduler='flat_cos',\n",
    "#                     mixup_alpha=0.4\n",
    "                    )"
   ]
  },
  {
   "cell_type": "code",
   "execution_count": null,
   "metadata": {},
   "outputs": [],
   "source": []
  },
  {
   "cell_type": "code",
   "execution_count": null,
   "metadata": {},
   "outputs": [],
   "source": [
    "data_params={\n",
    "    'uncertainty_method':'default',\n",
    "    'use_frontal':False,\n",
    "    'image_size': 320,\n",
    "    'sample_frac':1,\n",
    "    'sample_seed':123,\n",
    "    'batch_size': 128,\n",
    "}\n",
    "SEED = 123\n",
    "WEIGHT_DECAY = 0\n",
    "trainloader,testloader,imratio = create_loaders(**data_params)\n",
    "fastai_loader = DataLoaders(trainloader,testloader)"
   ]
  },
  {
   "cell_type": "code",
   "execution_count": null,
   "metadata": {},
   "outputs": [],
   "source": [
    "LR=1e-2\n",
    "WEIGHT_NAME='densenet_udefault_fit_pr320_aucm_scratch_mixup'\n",
    "model = get_densenet_model(SEED)\n",
    "N_EPOCHS=5\n",
    "loss,opt = get_loss_and_optimizer(model,LR,loss_type='aucm',imratio=imratio,\n",
    "                                  use_fastai=True,\n",
    "                                  weight_decay=WEIGHT_DECAY)\n",
    "\n",
    "train_fastai_learner(fastai_loader,model,loss,opt,LR,n_epochs=N_EPOCHS,\n",
    "                     weight_name=WEIGHT_NAME,lr_scheduler='flat_cos',\n",
    "                    mixup_alpha=0.4\n",
    "                    )"
   ]
  },
  {
   "cell_type": "code",
   "execution_count": null,
   "metadata": {},
   "outputs": [],
   "source": []
  },
  {
   "cell_type": "code",
   "execution_count": null,
   "metadata": {},
   "outputs": [],
   "source": [
    "data_params={\n",
    "    'uncertainty_method':'default-smoothing-one',\n",
    "    'use_frontal':False,\n",
    "    'image_size': 320,\n",
    "    'sample_frac':1,\n",
    "    'sample_seed':123,\n",
    "    'batch_size': 128,\n",
    "}\n",
    "SEED = 123\n",
    "WEIGHT_DECAY = 0\n",
    "\n",
    "trainloader,testloader,imratio = create_loaders(**data_params)\n",
    "fastai_loader = DataLoaders(trainloader,testloader)"
   ]
  },
  {
   "cell_type": "code",
   "execution_count": null,
   "metadata": {},
   "outputs": [],
   "source": [
    "LR=1e-2\n",
    "WEIGHT_NAME='densenet_udefaultso_fit_pr320_aucm_scratch'\n",
    "model = get_densenet_model(SEED)\n",
    "N_EPOCHS=5\n",
    "loss,opt = get_loss_and_optimizer(model,LR,loss_type='aucm',imratio=imratio,\n",
    "                                  use_fastai=True,\n",
    "                                  weight_decay=WEIGHT_DECAY)\n",
    "\n",
    "train_fastai_learner(fastai_loader,model,loss,opt,LR,n_epochs=N_EPOCHS,\n",
    "                     weight_name=WEIGHT_NAME,lr_scheduler='flat_cos',\n",
    "#                     mixup_alpha=0.4\n",
    "                    )"
   ]
  },
  {
   "cell_type": "code",
   "execution_count": null,
   "metadata": {},
   "outputs": [],
   "source": []
  },
  {
   "cell_type": "code",
   "execution_count": null,
   "metadata": {},
   "outputs": [],
   "source": [
    "data_params={\n",
    "    'uncertainty_method':'default',\n",
    "    'use_frontal':False,\n",
    "    'image_size': 320,\n",
    "    'sample_frac':1,\n",
    "    'sample_seed':123,\n",
    "    'batch_size': 128,\n",
    "    'use_upsampling': True,\n",
    "    'upsampling_cols':['Atelectasis','Cardiomegaly']\n",
    "}\n",
    "SEED = 123\n",
    "WEIGHT_DECAY = 0\n",
    "\n",
    "trainloader,testloader,imratio = create_loaders(**data_params)\n",
    "fastai_loader = DataLoaders(trainloader,testloader)"
   ]
  },
  {
   "cell_type": "code",
   "execution_count": null,
   "metadata": {},
   "outputs": [],
   "source": [
    "LR=1e-2\n",
    "WEIGHT_NAME='densenet_udefaultso_fit_pr320_aucm_upsampling_scratch'\n",
    "model = get_densenet_model(SEED)\n",
    "N_EPOCHS=5\n",
    "loss,opt = get_loss_and_optimizer(model,LR,loss_type='aucm',imratio=imratio,\n",
    "                                  use_fastai=True,\n",
    "                                  weight_decay=WEIGHT_DECAY)\n",
    "\n",
    "train_fastai_learner(fastai_loader,model,loss,opt,LR,n_epochs=N_EPOCHS,\n",
    "                     weight_name=WEIGHT_NAME,lr_scheduler='flat_cos',\n",
    "#                     mixup_alpha=0.4\n",
    "                    )"
   ]
  },
  {
   "cell_type": "code",
   "execution_count": null,
   "metadata": {},
   "outputs": [],
   "source": []
  }
 ],
 "metadata": {
  "kernelspec": {
   "display_name": "Python 3",
   "language": "python",
   "name": "python3"
  },
  "language_info": {
   "codemirror_mode": {
    "name": "ipython",
    "version": 3
   },
   "file_extension": ".py",
   "mimetype": "text/x-python",
   "name": "python",
   "nbconvert_exporter": "python",
   "pygments_lexer": "ipython3",
   "version": "3.8.5"
  },
  "toc": {
   "base_numbering": 1,
   "nav_menu": {},
   "number_sections": true,
   "sideBar": false,
   "skip_h1_title": false,
   "title_cell": "Table of Contents",
   "title_sidebar": "Contents",
   "toc_cell": true,
   "toc_position": {},
   "toc_section_display": true,
   "toc_window_display": false
  }
 },
 "nbformat": 4,
 "nbformat_minor": 4
}

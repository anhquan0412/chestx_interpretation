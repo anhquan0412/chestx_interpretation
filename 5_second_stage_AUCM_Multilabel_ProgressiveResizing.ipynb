{
 "cells": [
  {
   "cell_type": "markdown",
   "metadata": {
    "toc": true
   },
   "source": [
    "<h1>Table of Contents<span class=\"tocSkip\"></span></h1>\n",
    "<div class=\"toc\"><ul class=\"toc-item\"><li><span><a href=\"#U-default-first-stage-training\" data-toc-modified-id=\"U-default-first-stage-training-1\"><span class=\"toc-item-num\">1&nbsp;&nbsp;</span>U-default first stage training</a></span></li><li><span><a href=\"#Second-stage\" data-toc-modified-id=\"Second-stage-2\"><span class=\"toc-item-num\">2&nbsp;&nbsp;</span>Second stage</a></span></li><li><span><a href=\"#Train-from-scratch-using-AUCMLabel-(ignore-this)\" data-toc-modified-id=\"Train-from-scratch-using-AUCMLabel-(ignore-this)-3\"><span class=\"toc-item-num\">3&nbsp;&nbsp;</span>Train from scratch using AUCMLabel (ignore this)</a></span></li></ul></div>"
   ]
  },
  {
   "cell_type": "code",
   "execution_count": 1,
   "metadata": {},
   "outputs": [],
   "source": [
    "# Load lib and define helper functions\n",
    "\n",
    "%reload_ext autoreload\n",
    "%autoreload 2"
   ]
  },
  {
   "cell_type": "code",
   "execution_count": 2,
   "metadata": {},
   "outputs": [],
   "source": [
    "from dataloader import *\n",
    "from trainer import *\n",
    "import AUCMMS\n",
    "from fastai.vision.all import *\n",
    "\n",
    "DATA = '/media/samsung/chexpert/CheXpert-v1.0-small/'"
   ]
  },
  {
   "cell_type": "markdown",
   "metadata": {
    "heading_collapsed": true
   },
   "source": [
    "# U-default first stage training"
   ]
  },
  {
   "cell_type": "code",
   "execution_count": 3,
   "metadata": {
    "hidden": true
   },
   "outputs": [
    {
     "name": "stderr",
     "output_type": "stream",
     "text": [
      "/home/quan/kwon/OMSCS/deep_learning/chestx_interpretation/dataloader.py:52: FutureWarning: The default value of regex will change from True to False in a future version.\n",
      "  self.df['Path'] = self.df['Path'].str.replace('CheXpert-v1.0-small/', '')\n",
      "/home/quan/kwon/OMSCS/deep_learning/chestx_interpretation/dataloader.py:53: FutureWarning: The default value of regex will change from True to False in a future version.\n",
      "  self.df['Path'] = self.df['Path'].str.replace('CheXpert-v1.0/', '')\n"
     ]
    },
    {
     "name": "stdout",
     "output_type": "stream",
     "text": [
      "Multi-label mode: True, Number of classes: [5]\n",
      "Multi-label mode: True, Number of classes: [5]\n"
     ]
    },
    {
     "name": "stderr",
     "output_type": "stream",
     "text": [
      "/home/quan/kwon/OMSCS/deep_learning/chestx_interpretation/dataloader.py:52: FutureWarning: The default value of regex will change from True to False in a future version.\n",
      "  self.df['Path'] = self.df['Path'].str.replace('CheXpert-v1.0-small/', '')\n",
      "/home/quan/kwon/OMSCS/deep_learning/chestx_interpretation/dataloader.py:53: FutureWarning: The default value of regex will change from True to False in a future version.\n",
      "  self.df['Path'] = self.df['Path'].str.replace('CheXpert-v1.0/', '')\n"
     ]
    }
   ],
   "source": [
    "data_params={\n",
    "    'uncertainty_method':'default',\n",
    "    'use_frontal':False,\n",
    "    'image_size': 224,\n",
    "    'sample_frac':1,\n",
    "    'sample_seed':123,\n",
    "    'batch_size': 128,\n",
    "}\n",
    "SEED = 123\n",
    "WEIGHT_DECAY = 1e-5\n",
    "N_EPOCHS=6\n",
    "\n",
    "trainloader,testloader,_ = create_loaders(**data_params)\n",
    "fastai_loader = DataLoaders(trainloader,testloader)"
   ]
  },
  {
   "cell_type": "code",
   "execution_count": 4,
   "metadata": {
    "hidden": true
   },
   "outputs": [
    {
     "data": {
      "text/html": [
       "<table border=\"1\" class=\"dataframe\">\n",
       "  <thead>\n",
       "    <tr style=\"text-align: left;\">\n",
       "      <th>epoch</th>\n",
       "      <th>train_loss</th>\n",
       "      <th>valid_loss</th>\n",
       "      <th>roc_auc_score</th>\n",
       "      <th>roc_auc_score</th>\n",
       "      <th>time</th>\n",
       "    </tr>\n",
       "  </thead>\n",
       "  <tbody>\n",
       "    <tr>\n",
       "      <td>0</td>\n",
       "      <td>0.430911</td>\n",
       "      <td>0.486480</td>\n",
       "      <td>0.858488</td>\n",
       "      <td>[0.84253247 0.82605422 0.84893713 0.88171664 0.89319868]</td>\n",
       "      <td>07:55</td>\n",
       "    </tr>\n",
       "    <tr>\n",
       "      <td>1</td>\n",
       "      <td>0.426294</td>\n",
       "      <td>0.453601</td>\n",
       "      <td>0.869521</td>\n",
       "      <td>[0.87008929 0.75908044 0.91791045 0.8925338  0.90798999]</td>\n",
       "      <td>07:52</td>\n",
       "    </tr>\n",
       "    <tr>\n",
       "      <td>2</td>\n",
       "      <td>0.419627</td>\n",
       "      <td>0.456392</td>\n",
       "      <td>0.870623</td>\n",
       "      <td>[0.81972403 0.82242204 0.90072365 0.89412111 0.91612298]</td>\n",
       "      <td>07:56</td>\n",
       "    </tr>\n",
       "    <tr>\n",
       "      <td>3</td>\n",
       "      <td>0.415128</td>\n",
       "      <td>0.464405</td>\n",
       "      <td>0.882436</td>\n",
       "      <td>[0.85726461 0.83004075 0.9126338  0.8851264  0.92711592]</td>\n",
       "      <td>08:04</td>\n",
       "    </tr>\n",
       "    <tr>\n",
       "      <td>4</td>\n",
       "      <td>0.410744</td>\n",
       "      <td>0.427683</td>\n",
       "      <td>0.884706</td>\n",
       "      <td>[0.83961039 0.80607725 0.9216041  0.92639624 0.92984181]</td>\n",
       "      <td>07:54</td>\n",
       "    </tr>\n",
       "    <tr>\n",
       "      <td>5</td>\n",
       "      <td>0.408319</td>\n",
       "      <td>0.433536</td>\n",
       "      <td>0.879010</td>\n",
       "      <td>[0.8244724  0.7928331  0.91572441 0.93168724 0.93033336]</td>\n",
       "      <td>07:54</td>\n",
       "    </tr>\n",
       "  </tbody>\n",
       "</table>"
      ],
      "text/plain": [
       "<IPython.core.display.HTML object>"
      ]
     },
     "metadata": {},
     "output_type": "display_data"
    },
    {
     "name": "stderr",
     "output_type": "stream",
     "text": [
      "/home/quan/anaconda3/envs/fastai_v2/lib/python3.8/site-packages/torch/nn/functional.py:718: UserWarning: Named tensors and all their associated APIs are an experimental feature and subject to change. Please do not use them for anything important until they are released as stable. (Triggered internally at  /pytorch/c10/core/TensorImpl.h:1156.)\n",
      "  return torch.max_pool2d(input, kernel_size, stride, padding, dilation, ceil_mode)\n"
     ]
    },
    {
     "name": "stdout",
     "output_type": "stream",
     "text": [
      "Better model found at epoch 0 with roc_auc_score value: 0.8584878262927347.\n"
     ]
    },
    {
     "data": {
      "image/png": "[encoded data removed]",
      "text/plain": [
       "<Figure size 432x288 with 1 Axes>"
      ]
     },
     "metadata": {},
     "output_type": "display_data"
    },
    {
     "name": "stdout",
     "output_type": "stream",
     "text": [
      "Better model found at epoch 1 with roc_auc_score value: 0.8695207933387976.\n",
      "Better model found at epoch 2 with roc_auc_score value: 0.8706227609383174.\n",
      "Better model found at epoch 3 with roc_auc_score value: 0.8824362951959538.\n",
      "Better model found at epoch 4 with roc_auc_score value: 0.8847059573845939.\n"
     ]
    }
   ],
   "source": [
    "# WEIGHT_NAME='densenet_bce_udefault_fit_mixup_6epochs'\n",
    "# LR = 1e-3\n",
    "# model = get_densenet_model(SEED)\n",
    "# loss,opt = get_loss_and_optimizer(model,LR,loss_type='bce',use_fastai=True,weight_decay=WEIGHT_DECAY)\n",
    "# train_fastai_learner(fastai_loader,model,loss,opt,LR,n_epochs=N_EPOCHS,\n",
    "#                      weight_name=WEIGHT_NAME,lr_scheduler='flat_cos',\n",
    "#                     mixup_alpha=0.4\n",
    "#                     )"
   ]
  },
  {
   "cell_type": "code",
   "execution_count": null,
   "metadata": {
    "hidden": true
   },
   "outputs": [],
   "source": []
  },
  {
   "cell_type": "code",
   "execution_count": 4,
   "metadata": {
    "hidden": true
   },
   "outputs": [
    {
     "data": {
      "text/html": [
       "<table border=\"1\" class=\"dataframe\">\n",
       "  <thead>\n",
       "    <tr style=\"text-align: left;\">\n",
       "      <th>epoch</th>\n",
       "      <th>train_loss</th>\n",
       "      <th>valid_loss</th>\n",
       "      <th>roc_auc_score</th>\n",
       "      <th>roc_auc_score</th>\n",
       "      <th>time</th>\n",
       "    </tr>\n",
       "  </thead>\n",
       "  <tbody>\n",
       "    <tr>\n",
       "      <td>0</td>\n",
       "      <td>0.428809</td>\n",
       "      <td>0.686269</td>\n",
       "      <td>0.805434</td>\n",
       "      <td>[0.77431006 0.77870305 0.76526459 0.90734862 0.80154616]</td>\n",
       "      <td>08:03</td>\n",
       "    </tr>\n",
       "    <tr>\n",
       "      <td>1</td>\n",
       "      <td>0.425438</td>\n",
       "      <td>0.470766</td>\n",
       "      <td>0.864768</td>\n",
       "      <td>[0.84375    0.78773919 0.89356249 0.88641975 0.91236929]</td>\n",
       "      <td>08:01</td>\n",
       "    </tr>\n",
       "    <tr>\n",
       "      <td>2</td>\n",
       "      <td>0.419735</td>\n",
       "      <td>0.514946</td>\n",
       "      <td>0.864112</td>\n",
       "      <td>[0.85178571 0.79137137 0.89755767 0.85961199 0.92023416]</td>\n",
       "      <td>08:04</td>\n",
       "    </tr>\n",
       "    <tr>\n",
       "      <td>3</td>\n",
       "      <td>0.414886</td>\n",
       "      <td>0.468498</td>\n",
       "      <td>0.880116</td>\n",
       "      <td>[0.82288961 0.84749291 0.89966833 0.89747208 0.93305925]</td>\n",
       "      <td>08:00</td>\n",
       "    </tr>\n",
       "    <tr>\n",
       "      <td>4</td>\n",
       "      <td>0.408989</td>\n",
       "      <td>0.455975</td>\n",
       "      <td>0.878074</td>\n",
       "      <td>[0.81948052 0.79518072 0.91670436 0.92322163 0.93578515]</td>\n",
       "      <td>07:52</td>\n",
       "    </tr>\n",
       "    <tr>\n",
       "      <td>5</td>\n",
       "      <td>0.405460</td>\n",
       "      <td>0.428987</td>\n",
       "      <td>0.882016</td>\n",
       "      <td>[0.84172078 0.78432849 0.9149706  0.93215755 0.93690231]</td>\n",
       "      <td>07:49</td>\n",
       "    </tr>\n",
       "  </tbody>\n",
       "</table>"
      ],
      "text/plain": [
       "<IPython.core.display.HTML object>"
      ]
     },
     "metadata": {},
     "output_type": "display_data"
    },
    {
     "name": "stderr",
     "output_type": "stream",
     "text": [
      "/home/quan/anaconda3/envs/fastai_v2/lib/python3.8/site-packages/torch/nn/functional.py:718: UserWarning: Named tensors and all their associated APIs are an experimental feature and subject to change. Please do not use them for anything important until they are released as stable. (Triggered internally at  /pytorch/c10/core/TensorImpl.h:1156.)\n",
      "  return torch.max_pool2d(input, kernel_size, stride, padding, dilation, ceil_mode)\n"
     ]
    },
    {
     "name": "stdout",
     "output_type": "stream",
     "text": [
      "Better model found at epoch 0 with roc_auc_score value: 0.8054344956894965.\n"
     ]
    },
    {
     "data": {
      "image/png": "[encoded data removed]",
      "text/plain": [
       "<Figure size 432x288 with 1 Axes>"
      ]
     },
     "metadata": {},
     "output_type": "display_data"
    },
    {
     "name": "stdout",
     "output_type": "stream",
     "text": [
      "Better model found at epoch 1 with roc_auc_score value: 0.8647681453988827.\n",
      "Better model found at epoch 3 with roc_auc_score value: 0.8801164356267567.\n",
      "Better model found at epoch 5 with roc_auc_score value: 0.8820159480688154.\n"
     ]
    }
   ],
   "source": [
    "# WEIGHT_NAME='densenet_bce_udefault_fit1cycle_mixup_6epochs'\n",
    "# LR = 1e-3\n",
    "# model = get_densenet_model(SEED)\n",
    "# loss,opt = get_loss_and_optimizer(model,LR,loss_type='bce',use_fastai=True,weight_decay=WEIGHT_DECAY)\n",
    "# train_fastai_learner(fastai_loader,model,loss,opt,LR,n_epochs=N_EPOCHS,\n",
    "#                      weight_name=WEIGHT_NAME,lr_scheduler='1cycle',\n",
    "#                     mixup_alpha=0.4\n",
    "#                     )"
   ]
  },
  {
   "cell_type": "code",
   "execution_count": 5,
   "metadata": {
    "hidden": true
   },
   "outputs": [
    {
     "data": {
      "text/html": [
       "<table border=\"1\" class=\"dataframe\">\n",
       "  <thead>\n",
       "    <tr style=\"text-align: left;\">\n",
       "      <th>epoch</th>\n",
       "      <th>train_loss</th>\n",
       "      <th>valid_loss</th>\n",
       "      <th>roc_auc_score</th>\n",
       "      <th>roc_auc_score</th>\n",
       "      <th>time</th>\n",
       "    </tr>\n",
       "  </thead>\n",
       "  <tbody>\n",
       "    <tr>\n",
       "      <td>0</td>\n",
       "      <td>0.431631</td>\n",
       "      <td>0.554270</td>\n",
       "      <td>0.789056</td>\n",
       "      <td>[0.72711039 0.65219702 0.82602141 0.86431511 0.87563679]</td>\n",
       "      <td>07:50</td>\n",
       "    </tr>\n",
       "    <tr>\n",
       "      <td>1</td>\n",
       "      <td>0.425307</td>\n",
       "      <td>0.465057</td>\n",
       "      <td>0.862197</td>\n",
       "      <td>[0.84123377 0.7602764  0.92009649 0.89600235 0.89337742]</td>\n",
       "      <td>07:49</td>\n",
       "    </tr>\n",
       "    <tr>\n",
       "      <td>2</td>\n",
       "      <td>0.419737</td>\n",
       "      <td>0.464925</td>\n",
       "      <td>0.885018</td>\n",
       "      <td>[0.82305195 0.85063785 0.93396653 0.90117578 0.91625704]</td>\n",
       "      <td>07:49</td>\n",
       "    </tr>\n",
       "    <tr>\n",
       "      <td>3</td>\n",
       "      <td>0.417537</td>\n",
       "      <td>0.440390</td>\n",
       "      <td>0.871033</td>\n",
       "      <td>[0.83737825 0.79686393 0.90012061 0.89323927 0.92756278]</td>\n",
       "      <td>07:50</td>\n",
       "    </tr>\n",
       "    <tr>\n",
       "      <td>4</td>\n",
       "      <td>0.407194</td>\n",
       "      <td>0.452000</td>\n",
       "      <td>0.882299</td>\n",
       "      <td>[0.83275162 0.79677534 0.93042364 0.91781305 0.93372956]</td>\n",
       "      <td>07:49</td>\n",
       "    </tr>\n",
       "    <tr>\n",
       "      <td>5</td>\n",
       "      <td>0.405074</td>\n",
       "      <td>0.432809</td>\n",
       "      <td>0.879648</td>\n",
       "      <td>[0.82573052 0.78951099 0.92567466 0.92774838 0.92957369]</td>\n",
       "      <td>07:49</td>\n",
       "    </tr>\n",
       "  </tbody>\n",
       "</table>"
      ],
      "text/plain": [
       "<IPython.core.display.HTML object>"
      ]
     },
     "metadata": {},
     "output_type": "display_data"
    },
    {
     "name": "stdout",
     "output_type": "stream",
     "text": [
      "Better model found at epoch 0 with roc_auc_score value: 0.7890561431995612.\n"
     ]
    },
    {
     "data": {
      "image/png": "[encoded data removed]",
      "text/plain": [
       "<Figure size 432x288 with 1 Axes>"
      ]
     },
     "metadata": {},
     "output_type": "display_data"
    },
    {
     "name": "stdout",
     "output_type": "stream",
     "text": [
      "Better model found at epoch 1 with roc_auc_score value: 0.8621972858049638.\n",
      "Better model found at epoch 2 with roc_auc_score value: 0.8850178283298176.\n"
     ]
    }
   ],
   "source": [
    "# WEIGHT_NAME='densenet_bce_udefault_fit1cycle_mixup_6epochs_2'\n",
    "# LR = 1e-3\n",
    "# model = get_densenet_model(345)\n",
    "# loss,opt = get_loss_and_optimizer(model,LR,loss_type='bce',use_fastai=True,weight_decay=WEIGHT_DECAY)\n",
    "# train_fastai_learner(fastai_loader,model,loss,opt,LR,n_epochs=N_EPOCHS,\n",
    "#                      weight_name=WEIGHT_NAME,lr_scheduler='1cycle',\n",
    "#                     mixup_alpha=0.4\n",
    "#                     )"
   ]
  },
  {
   "cell_type": "markdown",
   "metadata": {},
   "source": [
    "# Second stage"
   ]
  },
  {
   "cell_type": "code",
   "execution_count": 3,
   "metadata": {},
   "outputs": [
    {
     "name": "stderr",
     "output_type": "stream",
     "text": [
      "/home/quan/kwon/OMSCS/deep_learning/chestx_interpretation/dataloader.py:52: FutureWarning: The default value of regex will change from True to False in a future version.\n",
      "  self.df['Path'] = self.df['Path'].str.replace('CheXpert-v1.0-small/', '')\n",
      "/home/quan/kwon/OMSCS/deep_learning/chestx_interpretation/dataloader.py:53: FutureWarning: The default value of regex will change from True to False in a future version.\n",
      "  self.df['Path'] = self.df['Path'].str.replace('CheXpert-v1.0/', '')\n"
     ]
    },
    {
     "name": "stdout",
     "output_type": "stream",
     "text": [
      "Multi-label mode: True, Number of classes: [5]\n",
      "Multi-label mode: True, Number of classes: [5]\n"
     ]
    },
    {
     "name": "stderr",
     "output_type": "stream",
     "text": [
      "/home/quan/kwon/OMSCS/deep_learning/chestx_interpretation/dataloader.py:52: FutureWarning: The default value of regex will change from True to False in a future version.\n",
      "  self.df['Path'] = self.df['Path'].str.replace('CheXpert-v1.0-small/', '')\n",
      "/home/quan/kwon/OMSCS/deep_learning/chestx_interpretation/dataloader.py:53: FutureWarning: The default value of regex will change from True to False in a future version.\n",
      "  self.df['Path'] = self.df['Path'].str.replace('CheXpert-v1.0/', '')\n"
     ]
    }
   ],
   "source": [
    "data_params={\n",
    "    'uncertainty_method':'default',\n",
    "    'use_frontal':False,\n",
    "    'image_size': 320,\n",
    "    'sample_frac':1,\n",
    "    'sample_seed':123,\n",
    "    'batch_size': 128,\n",
    "}\n",
    "SEED = 123\n",
    "WEIGHT_DECAY = 0\n",
    "N_EPOCHS=3\n",
    "\n",
    "trainloader,testloader,imratio = create_loaders(**data_params)\n",
    "fastai_loader = DataLoaders(trainloader,testloader)"
   ]
  },
  {
   "cell_type": "code",
   "execution_count": 4,
   "metadata": {},
   "outputs": [
    {
     "data": {
      "text/html": [
       "<table border=\"1\" class=\"dataframe\">\n",
       "  <thead>\n",
       "    <tr style=\"text-align: left;\">\n",
       "      <th>epoch</th>\n",
       "      <th>train_loss</th>\n",
       "      <th>valid_loss</th>\n",
       "      <th>roc_auc_score</th>\n",
       "      <th>roc_auc_score</th>\n",
       "      <th>time</th>\n",
       "    </tr>\n",
       "  </thead>\n",
       "  <tbody>\n",
       "    <tr>\n",
       "      <td>0</td>\n",
       "      <td>0.469920</td>\n",
       "      <td>0.319699</td>\n",
       "      <td>0.895767</td>\n",
       "      <td>[0.84886364 0.86795712 0.9188904  0.92239859 0.92072571]</td>\n",
       "      <td>14:11</td>\n",
       "    </tr>\n",
       "    <tr>\n",
       "      <td>1</td>\n",
       "      <td>0.443437</td>\n",
       "      <td>0.298660</td>\n",
       "      <td>0.897936</td>\n",
       "      <td>[0.85271916 0.86348335 0.92017187 0.92833627 0.92497095]</td>\n",
       "      <td>14:20</td>\n",
       "    </tr>\n",
       "    <tr>\n",
       "      <td>2</td>\n",
       "      <td>0.447723</td>\n",
       "      <td>0.291991</td>\n",
       "      <td>0.898781</td>\n",
       "      <td>[0.8481737  0.86366052 0.92446857 0.93004115 0.92756278]</td>\n",
       "      <td>13:53</td>\n",
       "    </tr>\n",
       "    <tr>\n",
       "      <td>3</td>\n",
       "      <td>0.434525</td>\n",
       "      <td>0.284345</td>\n",
       "      <td>0.898813</td>\n",
       "      <td>[0.84622565 0.8621545  0.92597618 0.9319224  0.92778622]</td>\n",
       "      <td>13:52</td>\n",
       "    </tr>\n",
       "    <tr>\n",
       "      <td>4</td>\n",
       "      <td>0.432175</td>\n",
       "      <td>0.280843</td>\n",
       "      <td>0.898763</td>\n",
       "      <td>[0.84683442 0.86024982 0.92642846 0.93215755 0.92814371]</td>\n",
       "      <td>13:37</td>\n",
       "    </tr>\n",
       "  </tbody>\n",
       "</table>"
      ],
      "text/plain": [
       "<IPython.core.display.HTML object>"
      ]
     },
     "metadata": {},
     "output_type": "display_data"
    },
    {
     "name": "stderr",
     "output_type": "stream",
     "text": [
      "/home/quan/anaconda3/envs/fastai_v2/lib/python3.8/site-packages/torch/nn/functional.py:718: UserWarning: Named tensors and all their associated APIs are an experimental feature and subject to change. Please do not use them for anything important until they are released as stable. (Triggered internally at  /pytorch/c10/core/TensorImpl.h:1156.)\n",
      "  return torch.max_pool2d(input, kernel_size, stride, padding, dilation, ceil_mode)\n"
     ]
    },
    {
     "name": "stdout",
     "output_type": "stream",
     "text": [
      "Better model found at epoch 0 with roc_auc_score value: 0.8957670914585811.\n"
     ]
    },
    {
     "data": {
      "image/png": "[encoded data removed]",
      "text/plain": [
       "<Figure size 432x288 with 1 Axes>"
      ]
     },
     "metadata": {},
     "output_type": "display_data"
    },
    {
     "name": "stdout",
     "output_type": "stream",
     "text": [
      "Better model found at epoch 1 with roc_auc_score value: 0.8979363190636761.\n",
      "Better model found at epoch 2 with roc_auc_score value: 0.8987813458300872.\n",
      "Better model found at epoch 3 with roc_auc_score value: 0.8988129893218314.\n"
     ]
    }
   ],
   "source": [
    "LR=1e-2\n",
    "PRETRAIN_WEIGHT_NAME='model_weights/densenet_bce_udefault_fit_1cycle_highlr_2.pth' \n",
    "WEIGHT_NAME='densenet_bce_udefault_fit_pr320_aucm'\n",
    "model = get_densenet_model(SEED)\n",
    "state_dict = torch.load(PRETRAIN_WEIGHT_NAME)\n",
    "state_dict.pop('classifier.weight', None)\n",
    "state_dict.pop('classifier.bias', None) \n",
    "model.load_state_dict(state_dict, strict=False)\n",
    "N_EPOCHS=5\n",
    "loss,opt = get_loss_and_optimizer(model,LR,loss_type='aucm',imratio=imratio,\n",
    "                                  use_fastai=True,\n",
    "                                  weight_decay=WEIGHT_DECAY)\n",
    "\n",
    "train_fastai_learner(fastai_loader,model,loss,opt,LR,n_epochs=N_EPOCHS,\n",
    "                     weight_name=WEIGHT_NAME,lr_scheduler='flat_cos',\n",
    "#                     mixup_alpha=0.4\n",
    "                    )"
   ]
  },
  {
   "cell_type": "code",
   "execution_count": 5,
   "metadata": {},
   "outputs": [
    {
     "data": {
      "text/html": [
       "<table border=\"1\" class=\"dataframe\">\n",
       "  <thead>\n",
       "    <tr style=\"text-align: left;\">\n",
       "      <th>epoch</th>\n",
       "      <th>train_loss</th>\n",
       "      <th>valid_loss</th>\n",
       "      <th>roc_auc_score</th>\n",
       "      <th>roc_auc_score</th>\n",
       "      <th>time</th>\n",
       "    </tr>\n",
       "  </thead>\n",
       "  <tbody>\n",
       "    <tr>\n",
       "      <td>0</td>\n",
       "      <td>0.475961</td>\n",
       "      <td>0.320244</td>\n",
       "      <td>0.895933</td>\n",
       "      <td>[0.85117695 0.8698618  0.91489522 0.92380952 0.91992135]</td>\n",
       "      <td>13:37</td>\n",
       "    </tr>\n",
       "    <tr>\n",
       "      <td>1</td>\n",
       "      <td>0.456460</td>\n",
       "      <td>0.301883</td>\n",
       "      <td>0.896788</td>\n",
       "      <td>[0.84553571 0.86826719 0.91919192 0.92557319 0.92537313]</td>\n",
       "      <td>13:39</td>\n",
       "    </tr>\n",
       "    <tr>\n",
       "      <td>2</td>\n",
       "      <td>0.441144</td>\n",
       "      <td>0.290689</td>\n",
       "      <td>0.898066</td>\n",
       "      <td>[0.85146104 0.86392629 0.92085029 0.92863022 0.92546251]</td>\n",
       "      <td>13:38</td>\n",
       "    </tr>\n",
       "    <tr>\n",
       "      <td>3</td>\n",
       "      <td>0.439820</td>\n",
       "      <td>0.281781</td>\n",
       "      <td>0.898651</td>\n",
       "      <td>[0.84882305 0.86357193 0.92145334 0.93215755 0.92724998]</td>\n",
       "      <td>13:37</td>\n",
       "    </tr>\n",
       "    <tr>\n",
       "      <td>4</td>\n",
       "      <td>0.446298</td>\n",
       "      <td>0.281805</td>\n",
       "      <td>0.898292</td>\n",
       "      <td>[0.84797078 0.86255315 0.92235791 0.93168724 0.92689248]</td>\n",
       "      <td>13:37</td>\n",
       "    </tr>\n",
       "  </tbody>\n",
       "</table>"
      ],
      "text/plain": [
       "<IPython.core.display.HTML object>"
      ]
     },
     "metadata": {},
     "output_type": "display_data"
    },
    {
     "name": "stdout",
     "output_type": "stream",
     "text": [
      "Better model found at epoch 0 with roc_auc_score value: 0.8959329688391563.\n"
     ]
    },
    {
     "data": {
      "image/png": "[encoded data removed]",
      "text/plain": [
       "<Figure size 432x288 with 1 Axes>"
      ]
     },
     "metadata": {},
     "output_type": "display_data"
    },
    {
     "name": "stdout",
     "output_type": "stream",
     "text": [
      "Better model found at epoch 1 with roc_auc_score value: 0.8967882292876961.\n",
      "Better model found at epoch 2 with roc_auc_score value: 0.8980660703387755.\n",
      "Better model found at epoch 3 with roc_auc_score value: 0.8986511716292519.\n"
     ]
    }
   ],
   "source": [
    "LR=1e-2\n",
    "PRETRAIN_WEIGHT_NAME='model_weights/densenet_bce_udefault_fit_1cycle_highlr_2.pth' \n",
    "WEIGHT_NAME='densenet_bce_udefault_fit_pr320_aucm_2'\n",
    "model = get_densenet_model(345)\n",
    "state_dict = torch.load(PRETRAIN_WEIGHT_NAME)\n",
    "state_dict.pop('classifier.weight', None)\n",
    "state_dict.pop('classifier.bias', None) \n",
    "model.load_state_dict(state_dict, strict=False)\n",
    "N_EPOCHS=5\n",
    "loss,opt = get_loss_and_optimizer(model,LR,loss_type='aucm',imratio=imratio,\n",
    "                                  use_fastai=True,\n",
    "                                  weight_decay=WEIGHT_DECAY)\n",
    "\n",
    "train_fastai_learner(fastai_loader,model,loss,opt,LR,n_epochs=N_EPOCHS,\n",
    "                     weight_name=WEIGHT_NAME,lr_scheduler='flat_cos',\n",
    "#                     mixup_alpha=0.4\n",
    "                    )"
   ]
  },
  {
   "cell_type": "code",
   "execution_count": 4,
   "metadata": {},
   "outputs": [
    {
     "data": {
      "text/html": [
       "<table border=\"1\" class=\"dataframe\">\n",
       "  <thead>\n",
       "    <tr style=\"text-align: left;\">\n",
       "      <th>epoch</th>\n",
       "      <th>train_loss</th>\n",
       "      <th>valid_loss</th>\n",
       "      <th>roc_auc_score</th>\n",
       "      <th>roc_auc_score</th>\n",
       "      <th>time</th>\n",
       "    </tr>\n",
       "  </thead>\n",
       "  <tbody>\n",
       "    <tr>\n",
       "      <td>0</td>\n",
       "      <td>0.469918</td>\n",
       "      <td>0.319652</td>\n",
       "      <td>0.895751</td>\n",
       "      <td>[0.84857955 0.8681343  0.91881502 0.92245738 0.9207704 ]</td>\n",
       "      <td>14:01</td>\n",
       "    </tr>\n",
       "    <tr>\n",
       "      <td>1</td>\n",
       "      <td>0.443451</td>\n",
       "      <td>0.298947</td>\n",
       "      <td>0.898040</td>\n",
       "      <td>[0.85292208 0.86339476 0.92024725 0.92839506 0.92523907]</td>\n",
       "      <td>13:41</td>\n",
       "    </tr>\n",
       "    <tr>\n",
       "      <td>2</td>\n",
       "      <td>0.447731</td>\n",
       "      <td>0.291998</td>\n",
       "      <td>0.898778</td>\n",
       "      <td>[0.84845779 0.86352764 0.9243178  0.93015873 0.92742872]</td>\n",
       "      <td>13:40</td>\n",
       "    </tr>\n",
       "    <tr>\n",
       "      <td>3</td>\n",
       "      <td>0.434544</td>\n",
       "      <td>0.284291</td>\n",
       "      <td>0.898755</td>\n",
       "      <td>[0.84594156 0.86224309 0.92567466 0.93203998 0.92787559]</td>\n",
       "      <td>14:01</td>\n",
       "    </tr>\n",
       "    <tr>\n",
       "      <td>4</td>\n",
       "      <td>0.432190</td>\n",
       "      <td>0.280871</td>\n",
       "      <td>0.898735</td>\n",
       "      <td>[0.84675325 0.86029412 0.92650384 0.93198119 0.92814371]</td>\n",
       "      <td>14:22</td>\n",
       "    </tr>\n",
       "  </tbody>\n",
       "</table>"
      ],
      "text/plain": [
       "<IPython.core.display.HTML object>"
      ]
     },
     "metadata": {},
     "output_type": "display_data"
    },
    {
     "name": "stderr",
     "output_type": "stream",
     "text": [
      "/home/quan/anaconda3/envs/fastai_v2/lib/python3.8/site-packages/torch/nn/functional.py:718: UserWarning: Named tensors and all their associated APIs are an experimental feature and subject to change. Please do not use them for anything important until they are released as stable. (Triggered internally at  /pytorch/c10/core/TensorImpl.h:1156.)\n",
      "  return torch.max_pool2d(input, kernel_size, stride, padding, dilation, ceil_mode)\n"
     ]
    },
    {
     "name": "stdout",
     "output_type": "stream",
     "text": [
      "Better model found at epoch 0 with roc_auc_score value: 0.895751328142093.\n"
     ]
    },
    {
     "data": {
      "image/png": "[encoded data removed]",
      "text/plain": [
       "<Figure size 432x288 with 1 Axes>"
      ]
     },
     "metadata": {},
     "output_type": "display_data"
    },
    {
     "name": "stdout",
     "output_type": "stream",
     "text": [
      "Better model found at epoch 1 with roc_auc_score value: 0.8980396435678226.\n",
      "Better model found at epoch 2 with roc_auc_score value: 0.898778138378653.\n"
     ]
    }
   ],
   "source": [
    "LR=1e-2\n",
    "PRETRAIN_WEIGHT_NAME='model_weights/densenet_bce_udefault_fit_1cycle_highlr_2.pth' \n",
    "WEIGHT_NAME='densenet_bce_udefault_fit_pr320_aucm_wd'\n",
    "WEIGHT_DECAY = 1e-5\n",
    "model = get_densenet_model(SEED)\n",
    "state_dict = torch.load(PRETRAIN_WEIGHT_NAME)\n",
    "state_dict.pop('classifier.weight', None)\n",
    "state_dict.pop('classifier.bias', None) \n",
    "model.load_state_dict(state_dict, strict=False)\n",
    "N_EPOCHS=5\n",
    "loss,opt = get_loss_and_optimizer(model,LR,loss_type='aucm',imratio=imratio,\n",
    "                                  use_fastai=True,\n",
    "                                  weight_decay=WEIGHT_DECAY)\n",
    "\n",
    "train_fastai_learner(fastai_loader,model,loss,opt,LR,n_epochs=N_EPOCHS,\n",
    "                     weight_name=WEIGHT_NAME,lr_scheduler='flat_cos',\n",
    "#                     mixup_alpha=0.4\n",
    "                    )"
   ]
  },
  {
   "cell_type": "markdown",
   "metadata": {
    "heading_collapsed": true
   },
   "source": [
    "# Train from scratch using AUCMLabel (ignore this)"
   ]
  },
  {
   "cell_type": "code",
   "execution_count": 3,
   "metadata": {
    "hidden": true
   },
   "outputs": [
    {
     "name": "stderr",
     "output_type": "stream",
     "text": [
      "/home/quan/kwon/OMSCS/deep_learning/chestx_interpretation/dataloader.py:52: FutureWarning: The default value of regex will change from True to False in a future version.\n",
      "  self.df['Path'] = self.df['Path'].str.replace('CheXpert-v1.0-small/', '')\n",
      "/home/quan/kwon/OMSCS/deep_learning/chestx_interpretation/dataloader.py:53: FutureWarning: The default value of regex will change from True to False in a future version.\n",
      "  self.df['Path'] = self.df['Path'].str.replace('CheXpert-v1.0/', '')\n"
     ]
    },
    {
     "name": "stdout",
     "output_type": "stream",
     "text": [
      "Multi-label mode: True, Number of classes: [5]\n",
      "Multi-label mode: True, Number of classes: [5]\n"
     ]
    },
    {
     "name": "stderr",
     "output_type": "stream",
     "text": [
      "/home/quan/kwon/OMSCS/deep_learning/chestx_interpretation/dataloader.py:52: FutureWarning: The default value of regex will change from True to False in a future version.\n",
      "  self.df['Path'] = self.df['Path'].str.replace('CheXpert-v1.0-small/', '')\n",
      "/home/quan/kwon/OMSCS/deep_learning/chestx_interpretation/dataloader.py:53: FutureWarning: The default value of regex will change from True to False in a future version.\n",
      "  self.df['Path'] = self.df['Path'].str.replace('CheXpert-v1.0/', '')\n"
     ]
    }
   ],
   "source": [
    "data_params={\n",
    "    'uncertainty_method':'default',\n",
    "    'use_frontal':False,\n",
    "    'image_size': 320,\n",
    "    'sample_frac':1,\n",
    "    'sample_seed':123,\n",
    "    'batch_size': 128,\n",
    "}\n",
    "SEED = 123\n",
    "WEIGHT_DECAY = 0\n",
    "trainloader,testloader,imratio = create_loaders(**data_params)\n",
    "fastai_loader = DataLoaders(trainloader,testloader)"
   ]
  },
  {
   "cell_type": "code",
   "execution_count": 4,
   "metadata": {
    "hidden": true
   },
   "outputs": [
    {
     "data": {
      "text/html": [
       "<table border=\"1\" class=\"dataframe\">\n",
       "  <thead>\n",
       "    <tr style=\"text-align: left;\">\n",
       "      <th>epoch</th>\n",
       "      <th>train_loss</th>\n",
       "      <th>valid_loss</th>\n",
       "      <th>roc_auc_score</th>\n",
       "      <th>roc_auc_score</th>\n",
       "      <th>time</th>\n",
       "    </tr>\n",
       "  </thead>\n",
       "  <tbody>\n",
       "    <tr>\n",
       "      <td>0</td>\n",
       "      <td>0.545149</td>\n",
       "      <td>0.392566</td>\n",
       "      <td>0.865830</td>\n",
       "      <td>[0.82719156 0.79810418 0.92100106 0.88947678 0.89337742]</td>\n",
       "      <td>14:04</td>\n",
       "    </tr>\n",
       "    <tr>\n",
       "      <td>1</td>\n",
       "      <td>0.482871</td>\n",
       "      <td>0.334202</td>\n",
       "      <td>0.878698</td>\n",
       "      <td>[0.83011364 0.81892275 0.91617669 0.90781893 0.92045759]</td>\n",
       "      <td>14:12</td>\n",
       "    </tr>\n",
       "    <tr>\n",
       "      <td>2</td>\n",
       "      <td>0.476822</td>\n",
       "      <td>0.341342</td>\n",
       "      <td>0.880892</td>\n",
       "      <td>[0.83043831 0.82007442 0.91677974 0.90911229 0.92805434]</td>\n",
       "      <td>14:16</td>\n",
       "    </tr>\n",
       "    <tr>\n",
       "      <td>3</td>\n",
       "      <td>0.454843</td>\n",
       "      <td>0.318826</td>\n",
       "      <td>0.881863</td>\n",
       "      <td>[0.82471591 0.82060595 0.91640283 0.918107   0.92948431]</td>\n",
       "      <td>13:53</td>\n",
       "    </tr>\n",
       "    <tr>\n",
       "      <td>4</td>\n",
       "      <td>0.452624</td>\n",
       "      <td>0.309255</td>\n",
       "      <td>0.883416</td>\n",
       "      <td>[0.83023539 0.82162473 0.91858887 0.91875367 0.92787559]</td>\n",
       "      <td>14:19</td>\n",
       "    </tr>\n",
       "  </tbody>\n",
       "</table>"
      ],
      "text/plain": [
       "<IPython.core.display.HTML object>"
      ]
     },
     "metadata": {},
     "output_type": "display_data"
    },
    {
     "name": "stderr",
     "output_type": "stream",
     "text": [
      "/home/quan/anaconda3/envs/fastai_v2/lib/python3.8/site-packages/torch/nn/functional.py:718: UserWarning: Named tensors and all their associated APIs are an experimental feature and subject to change. Please do not use them for anything important until they are released as stable. (Triggered internally at  /pytorch/c10/core/TensorImpl.h:1156.)\n",
      "  return torch.max_pool2d(input, kernel_size, stride, padding, dilation, ceil_mode)\n"
     ]
    },
    {
     "name": "stdout",
     "output_type": "stream",
     "text": [
      "Better model found at epoch 0 with roc_auc_score value: 0.8658301995648428.\n"
     ]
    },
    {
     "data": {
      "image/png": "[encoded data removed]",
      "text/plain": [
       "<Figure size 432x288 with 1 Axes>"
      ]
     },
     "metadata": {},
     "output_type": "display_data"
    },
    {
     "name": "stdout",
     "output_type": "stream",
     "text": [
      "Better model found at epoch 1 with roc_auc_score value: 0.878697920160367.\n",
      "Better model found at epoch 2 with roc_auc_score value: 0.8808918181289913.\n",
      "Better model found at epoch 3 with roc_auc_score value: 0.8818632014931627.\n",
      "Better model found at epoch 4 with roc_auc_score value: 0.8834156528125598.\n"
     ]
    }
   ],
   "source": [
    "# LR=1e-2\n",
    "# WEIGHT_NAME='densenet_udefault_fit_pr320_aucm_scratch'\n",
    "# model = get_densenet_model(SEED)\n",
    "# N_EPOCHS=5\n",
    "# loss,opt = get_loss_and_optimizer(model,LR,loss_type='aucm',imratio=imratio,\n",
    "#                                   use_fastai=True,\n",
    "#                                   weight_decay=WEIGHT_DECAY)\n",
    "\n",
    "# train_fastai_learner(fastai_loader,model,loss,opt,LR,n_epochs=N_EPOCHS,\n",
    "#                      weight_name=WEIGHT_NAME,lr_scheduler='flat_cos',\n",
    "# #                     mixup_alpha=0.4\n",
    "#                     )"
   ]
  },
  {
   "cell_type": "code",
   "execution_count": 4,
   "metadata": {
    "hidden": true
   },
   "outputs": [
    {
     "data": {
      "text/html": [
       "<table border=\"1\" class=\"dataframe\">\n",
       "  <thead>\n",
       "    <tr style=\"text-align: left;\">\n",
       "      <th>epoch</th>\n",
       "      <th>train_loss</th>\n",
       "      <th>valid_loss</th>\n",
       "      <th>roc_auc_score</th>\n",
       "      <th>roc_auc_score</th>\n",
       "      <th>time</th>\n",
       "    </tr>\n",
       "  </thead>\n",
       "  <tbody>\n",
       "    <tr>\n",
       "      <td>0</td>\n",
       "      <td>0.468616</td>\n",
       "      <td>0.422177</td>\n",
       "      <td>0.859492</td>\n",
       "      <td>[0.76984578 0.82423813 0.88481833 0.88947678 0.92908213]</td>\n",
       "      <td>14:15</td>\n",
       "    </tr>\n",
       "    <tr>\n",
       "      <td>1</td>\n",
       "      <td>0.440262</td>\n",
       "      <td>0.343150</td>\n",
       "      <td>0.879363</td>\n",
       "      <td>[0.80791396 0.8313253  0.9083371  0.90205761 0.94718027]</td>\n",
       "      <td>14:06</td>\n",
       "    </tr>\n",
       "    <tr>\n",
       "      <td>2</td>\n",
       "      <td>0.429220</td>\n",
       "      <td>0.283951</td>\n",
       "      <td>0.888320</td>\n",
       "      <td>[0.81996753 0.82034018 0.93110207 0.93015873 0.94003039]</td>\n",
       "      <td>14:03</td>\n",
       "    </tr>\n",
       "  </tbody>\n",
       "</table>"
      ],
      "text/plain": [
       "<IPython.core.display.HTML object>"
      ]
     },
     "metadata": {},
     "output_type": "display_data"
    },
    {
     "name": "stderr",
     "output_type": "stream",
     "text": [
      "/home/quan/anaconda3/envs/fastai_v2/lib/python3.8/site-packages/torch/nn/functional.py:718: UserWarning: Named tensors and all their associated APIs are an experimental feature and subject to change. Please do not use them for anything important until they are released as stable. (Triggered internally at  /pytorch/c10/core/TensorImpl.h:1156.)\n",
      "  return torch.max_pool2d(input, kernel_size, stride, padding, dilation, ceil_mode)\n"
     ]
    },
    {
     "name": "stdout",
     "output_type": "stream",
     "text": [
      "Better model found at epoch 0 with roc_auc_score value: 0.8594922306782984.\n"
     ]
    },
    {
     "data": {
      "image/png": "[encoded data removed]",
      "text/plain": [
       "<Figure size 432x288 with 1 Axes>"
      ]
     },
     "metadata": {},
     "output_type": "display_data"
    },
    {
     "name": "stdout",
     "output_type": "stream",
     "text": [
      "Better model found at epoch 1 with roc_auc_score value: 0.8793628488224927.\n",
      "Better model found at epoch 2 with roc_auc_score value: 0.8883197798620767.\n"
     ]
    }
   ],
   "source": [
    "LR=0.1\n",
    "WEIGHT_NAME='densenet_udefault_fit_pr320_aucm_scratch_0.1'\n",
    "model = get_densenet_model(SEED)\n",
    "N_EPOCHS=3\n",
    "loss,opt = get_loss_and_optimizer(model,LR,loss_type='aucm',imratio=imratio,\n",
    "                                  use_fastai=True,\n",
    "                                  weight_decay=WEIGHT_DECAY)\n",
    "\n",
    "train_fastai_learner(fastai_loader,model,loss,opt,LR,n_epochs=N_EPOCHS,\n",
    "                     weight_name=WEIGHT_NAME,lr_scheduler='flat_cos',\n",
    "#                     mixup_alpha=0.4\n",
    "                    )"
   ]
  },
  {
   "cell_type": "code",
   "execution_count": 5,
   "metadata": {
    "hidden": true
   },
   "outputs": [
    {
     "data": {
      "text/html": [
       "<table border=\"1\" class=\"dataframe\">\n",
       "  <thead>\n",
       "    <tr style=\"text-align: left;\">\n",
       "      <th>epoch</th>\n",
       "      <th>train_loss</th>\n",
       "      <th>valid_loss</th>\n",
       "      <th>roc_auc_score</th>\n",
       "      <th>roc_auc_score</th>\n",
       "      <th>time</th>\n",
       "    </tr>\n",
       "  </thead>\n",
       "  <tbody>\n",
       "    <tr>\n",
       "      <td>0</td>\n",
       "      <td>0.470047</td>\n",
       "      <td>0.362197</td>\n",
       "      <td>0.871670</td>\n",
       "      <td>[0.79419643 0.80634302 0.93049902 0.89876543 0.92854589]</td>\n",
       "      <td>14:18</td>\n",
       "    </tr>\n",
       "    <tr>\n",
       "      <td>1</td>\n",
       "      <td>0.441164</td>\n",
       "      <td>0.388606</td>\n",
       "      <td>0.879080</td>\n",
       "      <td>[0.82345779 0.83845677 0.89763305 0.89265138 0.94320315]</td>\n",
       "      <td>13:58</td>\n",
       "    </tr>\n",
       "    <tr>\n",
       "      <td>2</td>\n",
       "      <td>0.434870</td>\n",
       "      <td>0.288545</td>\n",
       "      <td>0.886405</td>\n",
       "      <td>[0.82333604 0.83376152 0.92130258 0.91569665 0.93793011]</td>\n",
       "      <td>14:15</td>\n",
       "    </tr>\n",
       "  </tbody>\n",
       "</table>"
      ],
      "text/plain": [
       "<IPython.core.display.HTML object>"
      ]
     },
     "metadata": {},
     "output_type": "display_data"
    },
    {
     "name": "stdout",
     "output_type": "stream",
     "text": [
      "Better model found at epoch 0 with roc_auc_score value: 0.8716699586289737.\n"
     ]
    },
    {
     "data": {
      "image/png": "[encoded data removed]",
      "text/plain": [
       "<Figure size 432x288 with 1 Axes>"
      ]
     },
     "metadata": {},
     "output_type": "display_data"
    },
    {
     "name": "stdout",
     "output_type": "stream",
     "text": [
      "Better model found at epoch 1 with roc_auc_score value: 0.8790804269662443.\n",
      "Better model found at epoch 2 with roc_auc_score value: 0.8864053785188533.\n"
     ]
    }
   ],
   "source": [
    "LR=0.06\n",
    "WEIGHT_NAME='densenet_udefault_fit_pr320_aucm_scratch_0.06'\n",
    "model = get_densenet_model(SEED)\n",
    "N_EPOCHS=3\n",
    "loss,opt = get_loss_and_optimizer(model,LR,loss_type='aucm',imratio=imratio,\n",
    "                                  use_fastai=True,\n",
    "                                  weight_decay=WEIGHT_DECAY)\n",
    "\n",
    "train_fastai_learner(fastai_loader,model,loss,opt,LR,n_epochs=N_EPOCHS,\n",
    "                     weight_name=WEIGHT_NAME,lr_scheduler='flat_cos',\n",
    "#                     mixup_alpha=0.4\n",
    "                    )"
   ]
  },
  {
   "cell_type": "code",
   "execution_count": null,
   "metadata": {
    "hidden": true
   },
   "outputs": [],
   "source": []
  },
  {
   "cell_type": "code",
   "execution_count": null,
   "metadata": {
    "hidden": true
   },
   "outputs": [],
   "source": []
  },
  {
   "cell_type": "code",
   "execution_count": 7,
   "metadata": {
    "hidden": true
   },
   "outputs": [
    {
     "name": "stderr",
     "output_type": "stream",
     "text": [
      "/home/quan/kwon/OMSCS/deep_learning/chestx_interpretation/dataloader.py:52: FutureWarning: The default value of regex will change from True to False in a future version.\n",
      "  self.df['Path'] = self.df['Path'].str.replace('CheXpert-v1.0-small/', '')\n",
      "/home/quan/kwon/OMSCS/deep_learning/chestx_interpretation/dataloader.py:53: FutureWarning: The default value of regex will change from True to False in a future version.\n",
      "  self.df['Path'] = self.df['Path'].str.replace('CheXpert-v1.0/', '')\n"
     ]
    },
    {
     "name": "stdout",
     "output_type": "stream",
     "text": [
      "Multi-label mode: True, Number of classes: [5]\n",
      "Multi-label mode: True, Number of classes: [5]\n"
     ]
    },
    {
     "name": "stderr",
     "output_type": "stream",
     "text": [
      "/home/quan/kwon/OMSCS/deep_learning/chestx_interpretation/dataloader.py:52: FutureWarning: The default value of regex will change from True to False in a future version.\n",
      "  self.df['Path'] = self.df['Path'].str.replace('CheXpert-v1.0-small/', '')\n",
      "/home/quan/kwon/OMSCS/deep_learning/chestx_interpretation/dataloader.py:53: FutureWarning: The default value of regex will change from True to False in a future version.\n",
      "  self.df['Path'] = self.df['Path'].str.replace('CheXpert-v1.0/', '')\n"
     ]
    }
   ],
   "source": [
    "data_params={\n",
    "    'uncertainty_method':'default',\n",
    "    'use_frontal':False,\n",
    "    'image_size': 320,\n",
    "    'sample_frac':1,\n",
    "    'sample_seed':123,\n",
    "    'batch_size': 128,\n",
    "}\n",
    "SEED = 123\n",
    "WEIGHT_DECAY = 0\n",
    "trainloader,testloader,imratio = create_loaders(**data_params)\n",
    "fastai_loader = DataLoaders(trainloader,testloader)"
   ]
  },
  {
   "cell_type": "code",
   "execution_count": 8,
   "metadata": {
    "hidden": true
   },
   "outputs": [
    {
     "data": {
      "text/html": [
       "<table border=\"1\" class=\"dataframe\">\n",
       "  <thead>\n",
       "    <tr style=\"text-align: left;\">\n",
       "      <th>epoch</th>\n",
       "      <th>train_loss</th>\n",
       "      <th>valid_loss</th>\n",
       "      <th>roc_auc_score</th>\n",
       "      <th>roc_auc_score</th>\n",
       "      <th>time</th>\n",
       "    </tr>\n",
       "  </thead>\n",
       "  <tbody>\n",
       "    <tr>\n",
       "      <td>0</td>\n",
       "      <td>0.822742</td>\n",
       "      <td>0.820466</td>\n",
       "      <td>0.744914</td>\n",
       "      <td>[0.72585227 0.67527463 0.79699985 0.73803645 0.78840826]</td>\n",
       "      <td>13:35</td>\n",
       "    </tr>\n",
       "    <tr>\n",
       "      <td>1</td>\n",
       "      <td>0.822452</td>\n",
       "      <td>0.820667</td>\n",
       "      <td>0.758868</td>\n",
       "      <td>[0.73510552 0.69742204 0.82745364 0.7399177  0.79444097]</td>\n",
       "      <td>13:36</td>\n",
       "    </tr>\n",
       "    <tr>\n",
       "      <td>2</td>\n",
       "      <td>0.822287</td>\n",
       "      <td>0.820363</td>\n",
       "      <td>0.780676</td>\n",
       "      <td>[0.76400162 0.72457477 0.84931404 0.75884774 0.80664045]</td>\n",
       "      <td>13:37</td>\n",
       "    </tr>\n",
       "    <tr>\n",
       "      <td>3</td>\n",
       "      <td>0.822109</td>\n",
       "      <td>0.820226</td>\n",
       "      <td>0.782359</td>\n",
       "      <td>[0.76777597 0.72900425 0.84735414 0.76137566 0.80628296]</td>\n",
       "      <td>13:37</td>\n",
       "    </tr>\n",
       "    <tr>\n",
       "      <td>4</td>\n",
       "      <td>0.822221</td>\n",
       "      <td>0.820205</td>\n",
       "      <td>0.783365</td>\n",
       "      <td>[0.7711039  0.72674522 0.84773104 0.76272781 0.80851729]</td>\n",
       "      <td>13:37</td>\n",
       "    </tr>\n",
       "  </tbody>\n",
       "</table>"
      ],
      "text/plain": [
       "<IPython.core.display.HTML object>"
      ]
     },
     "metadata": {},
     "output_type": "display_data"
    },
    {
     "name": "stdout",
     "output_type": "stream",
     "text": [
      "Better model found at epoch 0 with roc_auc_score value: 0.7449142914295181.\n"
     ]
    },
    {
     "data": {
      "image/png": "[encoded data removed]",
      "text/plain": [
       "<Figure size 432x288 with 1 Axes>"
      ]
     },
     "metadata": {},
     "output_type": "display_data"
    },
    {
     "name": "stdout",
     "output_type": "stream",
     "text": [
      "Better model found at epoch 1 with roc_auc_score value: 0.7588679731508995.\n",
      "Better model found at epoch 2 with roc_auc_score value: 0.7806757231985278.\n",
      "Better model found at epoch 3 with roc_auc_score value: 0.7823585965157982.\n",
      "Better model found at epoch 4 with roc_auc_score value: 0.7833650509932921.\n"
     ]
    }
   ],
   "source": [
    "LR=1e-2\n",
    "WEIGHT_NAME='densenet_udefault_fit_pr320_aucm_scratch_mixup'\n",
    "model = get_densenet_model(SEED)\n",
    "N_EPOCHS=5\n",
    "loss,opt = get_loss_and_optimizer(model,LR,loss_type='aucm',imratio=imratio,\n",
    "                                  use_fastai=True,\n",
    "                                  weight_decay=WEIGHT_DECAY)\n",
    "\n",
    "train_fastai_learner(fastai_loader,model,loss,opt,LR,n_epochs=N_EPOCHS,\n",
    "                     weight_name=WEIGHT_NAME,lr_scheduler='flat_cos',\n",
    "                    mixup_alpha=0.4\n",
    "                    )"
   ]
  },
  {
   "cell_type": "code",
   "execution_count": null,
   "metadata": {
    "hidden": true
   },
   "outputs": [],
   "source": []
  },
  {
   "cell_type": "code",
   "execution_count": 5,
   "metadata": {
    "hidden": true
   },
   "outputs": [
    {
     "name": "stderr",
     "output_type": "stream",
     "text": [
      "/home/quan/kwon/OMSCS/deep_learning/chestx_interpretation/dataloader.py:52: FutureWarning: The default value of regex will change from True to False in a future version.\n",
      "  self.df['Path'] = self.df['Path'].str.replace('CheXpert-v1.0-small/', '')\n",
      "/home/quan/kwon/OMSCS/deep_learning/chestx_interpretation/dataloader.py:53: FutureWarning: The default value of regex will change from True to False in a future version.\n",
      "  self.df['Path'] = self.df['Path'].str.replace('CheXpert-v1.0/', '')\n"
     ]
    },
    {
     "name": "stdout",
     "output_type": "stream",
     "text": [
      "Multi-label mode: True, Number of classes: [5]\n",
      "Multi-label mode: True, Number of classes: [5]\n"
     ]
    },
    {
     "name": "stderr",
     "output_type": "stream",
     "text": [
      "/home/quan/kwon/OMSCS/deep_learning/chestx_interpretation/dataloader.py:52: FutureWarning: The default value of regex will change from True to False in a future version.\n",
      "  self.df['Path'] = self.df['Path'].str.replace('CheXpert-v1.0-small/', '')\n",
      "/home/quan/kwon/OMSCS/deep_learning/chestx_interpretation/dataloader.py:53: FutureWarning: The default value of regex will change from True to False in a future version.\n",
      "  self.df['Path'] = self.df['Path'].str.replace('CheXpert-v1.0/', '')\n"
     ]
    }
   ],
   "source": [
    "data_params={\n",
    "    'uncertainty_method':'default-smoothing-one',\n",
    "    'use_frontal':False,\n",
    "    'image_size': 320,\n",
    "    'sample_frac':1,\n",
    "    'sample_seed':123,\n",
    "    'batch_size': 128,\n",
    "}\n",
    "SEED = 123\n",
    "WEIGHT_DECAY = 0\n",
    "\n",
    "trainloader,testloader,imratio = create_loaders(**data_params)\n",
    "fastai_loader = DataLoaders(trainloader,testloader)"
   ]
  },
  {
   "cell_type": "code",
   "execution_count": 6,
   "metadata": {
    "hidden": true
   },
   "outputs": [
    {
     "data": {
      "text/html": [
       "<table border=\"1\" class=\"dataframe\">\n",
       "  <thead>\n",
       "    <tr style=\"text-align: left;\">\n",
       "      <th>epoch</th>\n",
       "      <th>train_loss</th>\n",
       "      <th>valid_loss</th>\n",
       "      <th>roc_auc_score</th>\n",
       "      <th>roc_auc_score</th>\n",
       "      <th>time</th>\n",
       "    </tr>\n",
       "  </thead>\n",
       "  <tbody>\n",
       "    <tr>\n",
       "      <td>0</td>\n",
       "      <td>0.485376</td>\n",
       "      <td>0.279695</td>\n",
       "      <td>0.860750</td>\n",
       "      <td>[0.81879058 0.80612155 0.91361375 0.88677249 0.87845205]</td>\n",
       "      <td>14:05</td>\n",
       "    </tr>\n",
       "    <tr>\n",
       "      <td>1</td>\n",
       "      <td>0.428344</td>\n",
       "      <td>0.187396</td>\n",
       "      <td>0.871615</td>\n",
       "      <td>[0.80422078 0.81945429 0.91527212 0.90358613 0.91554205]</td>\n",
       "      <td>13:39</td>\n",
       "    </tr>\n",
       "    <tr>\n",
       "      <td>2</td>\n",
       "      <td>0.420479</td>\n",
       "      <td>0.177299</td>\n",
       "      <td>0.871972</td>\n",
       "      <td>[0.7942776  0.82485826 0.91866425 0.9037037  0.91835732]</td>\n",
       "      <td>13:37</td>\n",
       "    </tr>\n",
       "    <tr>\n",
       "      <td>3</td>\n",
       "      <td>0.395098</td>\n",
       "      <td>0.169133</td>\n",
       "      <td>0.871811</td>\n",
       "      <td>[0.78356331 0.8245039  0.91904116 0.90505585 0.92689248]</td>\n",
       "      <td>13:36</td>\n",
       "    </tr>\n",
       "    <tr>\n",
       "      <td>4</td>\n",
       "      <td>0.401108</td>\n",
       "      <td>0.156244</td>\n",
       "      <td>0.874380</td>\n",
       "      <td>[0.79403409 0.82499114 0.91843811 0.90817166 0.92626687]</td>\n",
       "      <td>13:36</td>\n",
       "    </tr>\n",
       "  </tbody>\n",
       "</table>"
      ],
      "text/plain": [
       "<IPython.core.display.HTML object>"
      ]
     },
     "metadata": {},
     "output_type": "display_data"
    },
    {
     "name": "stdout",
     "output_type": "stream",
     "text": [
      "Better model found at epoch 0 with roc_auc_score value: 0.8607500833495794.\n"
     ]
    },
    {
     "data": {
      "image/png": "[encoded data removed]",
      "text/plain": [
       "<Figure size 432x288 with 1 Axes>"
      ]
     },
     "metadata": {},
     "output_type": "display_data"
    },
    {
     "name": "stdout",
     "output_type": "stream",
     "text": [
      "Better model found at epoch 1 with roc_auc_score value: 0.871615073444714.\n",
      "Better model found at epoch 2 with roc_auc_score value: 0.8719722254734783.\n",
      "Better model found at epoch 4 with roc_auc_score value: 0.8743803754771164.\n"
     ]
    }
   ],
   "source": [
    "LR=1e-2\n",
    "WEIGHT_NAME='densenet_udefaultso_fit_pr320_aucm_scratch'\n",
    "model = get_densenet_model(SEED)\n",
    "N_EPOCHS=5\n",
    "loss,opt = get_loss_and_optimizer(model,LR,loss_type='aucm',imratio=imratio,\n",
    "                                  use_fastai=True,\n",
    "                                  weight_decay=WEIGHT_DECAY)\n",
    "\n",
    "train_fastai_learner(fastai_loader,model,loss,opt,LR,n_epochs=N_EPOCHS,\n",
    "                     weight_name=WEIGHT_NAME,lr_scheduler='flat_cos',\n",
    "#                     mixup_alpha=0.4\n",
    "                    )"
   ]
  },
  {
   "cell_type": "code",
   "execution_count": null,
   "metadata": {
    "hidden": true
   },
   "outputs": [],
   "source": []
  },
  {
   "cell_type": "code",
   "execution_count": 9,
   "metadata": {
    "hidden": true
   },
   "outputs": [
    {
     "name": "stderr",
     "output_type": "stream",
     "text": [
      "/home/quan/kwon/OMSCS/deep_learning/chestx_interpretation/dataloader.py:52: FutureWarning: The default value of regex will change from True to False in a future version.\n",
      "  self.df['Path'] = self.df['Path'].str.replace('CheXpert-v1.0-small/', '')\n",
      "/home/quan/kwon/OMSCS/deep_learning/chestx_interpretation/dataloader.py:53: FutureWarning: The default value of regex will change from True to False in a future version.\n",
      "  self.df['Path'] = self.df['Path'].str.replace('CheXpert-v1.0/', '')\n"
     ]
    },
    {
     "name": "stdout",
     "output_type": "stream",
     "text": [
      "Upsampling Atelectasis...\n",
      "Upsampling Cardiomegaly...\n",
      "Multi-label mode: True, Number of classes: [5]\n",
      "Multi-label mode: True, Number of classes: [5]\n"
     ]
    },
    {
     "name": "stderr",
     "output_type": "stream",
     "text": [
      "/home/quan/kwon/OMSCS/deep_learning/chestx_interpretation/dataloader.py:52: FutureWarning: The default value of regex will change from True to False in a future version.\n",
      "  self.df['Path'] = self.df['Path'].str.replace('CheXpert-v1.0-small/', '')\n",
      "/home/quan/kwon/OMSCS/deep_learning/chestx_interpretation/dataloader.py:53: FutureWarning: The default value of regex will change from True to False in a future version.\n",
      "  self.df['Path'] = self.df['Path'].str.replace('CheXpert-v1.0/', '')\n"
     ]
    }
   ],
   "source": [
    "data_params={\n",
    "    'uncertainty_method':'default',\n",
    "    'use_frontal':False,\n",
    "    'image_size': 320,\n",
    "    'sample_frac':1,\n",
    "    'sample_seed':123,\n",
    "    'batch_size': 128,\n",
    "    'use_upsampling': True,\n",
    "    'upsampling_cols':['Atelectasis','Cardiomegaly']\n",
    "}\n",
    "SEED = 123\n",
    "WEIGHT_DECAY = 0\n",
    "\n",
    "trainloader,testloader,imratio = create_loaders(**data_params)\n",
    "fastai_loader = DataLoaders(trainloader,testloader)"
   ]
  },
  {
   "cell_type": "code",
   "execution_count": 10,
   "metadata": {
    "hidden": true
   },
   "outputs": [
    {
     "data": {
      "text/html": [
       "<table border=\"1\" class=\"dataframe\">\n",
       "  <thead>\n",
       "    <tr style=\"text-align: left;\">\n",
       "      <th>epoch</th>\n",
       "      <th>train_loss</th>\n",
       "      <th>valid_loss</th>\n",
       "      <th>roc_auc_score</th>\n",
       "      <th>roc_auc_score</th>\n",
       "      <th>time</th>\n",
       "    </tr>\n",
       "  </thead>\n",
       "  <tbody>\n",
       "    <tr>\n",
       "      <td>0</td>\n",
       "      <td>0.552031</td>\n",
       "      <td>0.548407</td>\n",
       "      <td>0.873329</td>\n",
       "      <td>[0.81862825 0.81413891 0.92069953 0.9074662  0.90571097]</td>\n",
       "      <td>17:16</td>\n",
       "    </tr>\n",
       "    <tr>\n",
       "      <td>1</td>\n",
       "      <td>0.518703</td>\n",
       "      <td>0.543049</td>\n",
       "      <td>0.870925</td>\n",
       "      <td>[0.78433442 0.8219348  0.91361375 0.91205173 0.92269193]</td>\n",
       "      <td>17:17</td>\n",
       "    </tr>\n",
       "    <tr>\n",
       "      <td>2</td>\n",
       "      <td>0.516391</td>\n",
       "      <td>0.521891</td>\n",
       "      <td>0.877946</td>\n",
       "      <td>[0.80304383 0.81444897 0.91858887 0.92304527 0.93060148]</td>\n",
       "      <td>17:18</td>\n",
       "    </tr>\n",
       "    <tr>\n",
       "      <td>3</td>\n",
       "      <td>0.498715</td>\n",
       "      <td>0.495790</td>\n",
       "      <td>0.881821</td>\n",
       "      <td>[0.82654221 0.81914422 0.91587517 0.91828336 0.92926088]</td>\n",
       "      <td>17:17</td>\n",
       "    </tr>\n",
       "    <tr>\n",
       "      <td>4</td>\n",
       "      <td>0.492445</td>\n",
       "      <td>0.493244</td>\n",
       "      <td>0.882101</td>\n",
       "      <td>[0.81505682 0.82348512 0.91949344 0.92092887 0.93153991]</td>\n",
       "      <td>17:17</td>\n",
       "    </tr>\n",
       "  </tbody>\n",
       "</table>"
      ],
      "text/plain": [
       "<IPython.core.display.HTML object>"
      ]
     },
     "metadata": {},
     "output_type": "display_data"
    },
    {
     "name": "stdout",
     "output_type": "stream",
     "text": [
      "Better model found at epoch 0 with roc_auc_score value: 0.8733287700902178.\n"
     ]
    },
    {
     "data": {
      "image/png": "[encoded data removed]",
      "text/plain": [
       "<Figure size 432x288 with 1 Axes>"
      ]
     },
     "metadata": {},
     "output_type": "display_data"
    },
    {
     "name": "stdout",
     "output_type": "stream",
     "text": [
      "Better model found at epoch 2 with roc_auc_score value: 0.8779456856862581.\n",
      "Better model found at epoch 3 with roc_auc_score value: 0.8818211690607599.\n",
      "Better model found at epoch 4 with roc_auc_score value: 0.8821008295278141.\n"
     ]
    }
   ],
   "source": [
    "LR=1e-2\n",
    "WEIGHT_NAME='densenet_udefaultso_fit_pr320_aucm_upsampling_scratch'\n",
    "model = get_densenet_model(SEED)\n",
    "N_EPOCHS=5\n",
    "loss,opt = get_loss_and_optimizer(model,LR,loss_type='aucm',imratio=imratio,\n",
    "                                  use_fastai=True,\n",
    "                                  weight_decay=WEIGHT_DECAY)\n",
    "\n",
    "train_fastai_learner(fastai_loader,model,loss,opt,LR,n_epochs=N_EPOCHS,\n",
    "                     weight_name=WEIGHT_NAME,lr_scheduler='flat_cos',\n",
    "#                     mixup_alpha=0.4\n",
    "                    )"
   ]
  },
  {
   "cell_type": "code",
   "execution_count": null,
   "metadata": {
    "hidden": true
   },
   "outputs": [],
   "source": []
  }
 ],
 "metadata": {
  "kernelspec": {
   "display_name": "Python 3",
   "language": "python",
   "name": "python3"
  },
  "language_info": {
   "codemirror_mode": {
    "name": "ipython",
    "version": 3
   },
   "file_extension": ".py",
   "mimetype": "text/x-python",
   "name": "python",
   "nbconvert_exporter": "python",
   "pygments_lexer": "ipython3",
   "version": "3.8.5"
  },
  "toc": {
   "base_numbering": 1,
   "nav_menu": {},
   "number_sections": true,
   "sideBar": false,
   "skip_h1_title": false,
   "title_cell": "Table of Contents",
   "title_sidebar": "Contents",
   "toc_cell": true,
   "toc_position": {},
   "toc_section_display": true,
   "toc_window_display": false
  }
 },
 "nbformat": 4,
 "nbformat_minor": 4
}
